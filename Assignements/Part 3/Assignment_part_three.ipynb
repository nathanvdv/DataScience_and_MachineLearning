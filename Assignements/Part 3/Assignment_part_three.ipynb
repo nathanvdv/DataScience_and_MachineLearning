{
  "cells": [
    {
      "cell_type": "markdown",
      "metadata": {},
      "source": [
        "<a href=\"https://colab.research.google.com/github/michalis0/DataScience_and_MachineLearning/blob/master/Assignements/Part%203/Assignment_part_three.ipynb\" target=\"_parent\"><img src=\"https://colab.research.google.com/assets/colab-badge.svg\" alt=\"Open In Colab\"/></a>"
      ]
    },
    {
      "cell_type": "markdown",
      "metadata": {
        "id": "kZu-7QbP9muh"
      },
      "source": [
        "DSML investigation:\n",
        "\n",
        "You are part of the Suisse Impossible Mission Force, or SIMF for short. You need to uncover a rogue agent that is trying to steal sensitive information.\n",
        "\n",
        "Your mission, should you choose to accept it, is to find that agent before stealing any classified information. Good luck!"
      ]
    },
    {
      "cell_type": "markdown",
      "metadata": {
        "id": "DyL7WNdV9sWV"
      },
      "source": [
        "# Assignement part three\n",
        "### Due 15.10.2023\n",
        "\n",
        "We received new intelligence informing us that the rogue agent has a position with great responsibility.\n",
        "Use the table \"HR_Analytics.csv\" to create a classifier model that predicts the job role of a person. Use this model to predict the roles of the table of suspects \"suspect_HR_data.csv\".\n",
        "\n",
        "Retain only the list of suspects whose role indicates high responsibility.\n",
        "\n",
        "\n",
        "## Getting to know our data\n",
        "\n",
        "- BusinessTravel: The frequency of business travel for the employee. (Categorical)\n",
        "- DailyRate: The daily rate of pay for the employee. (Numerical)\n",
        "- DistanceFromHome: The distance from home in miles for the employee. (Numerical)\n",
        "- Education: The level of education achieved by the employee. (Categorical)\n",
        "- EmployeeCount: The total number of employees in the organization. (Numerical)\n",
        "- EmployeeNumber: A unique identifier for each employee profile. (Numerical)\n",
        "- EnvironmentSatisfaction: The employee's satisfaction with their work environment. (Categorical)\n",
        "- Gender: The gender of the employee. (Categorical)\n",
        "- HourlyRate: The hourly rate of pay for the employee. (Numerical)\n",
        "- JobInvolvement: The level of involvement required for the employee's job. (Categorical)\n",
        "- JobLevel: The job level of the employee. (Categorical)\n",
        "- JobSatisfaction: The employee's satisfaction with their job. (Categorical)\n",
        "- MonthlyIncome: The monthly income of the employee. (Numerical)\n",
        "- MonthlyRate: The monthly rate of pay for the employee. (Numerical)\n",
        "- NumCompaniesWorked: The number of companies the employee has worked for. (Numerical)\n",
        "- Over18: Whether or not the employee is over 18. (Categorical)\n",
        "- OverTime: Whether or not the employee works overtime. (Categorical)\n",
        "- PercentSalaryHike: The percentage of salary hike for the employee. (Numerical)\n",
        "- PerformanceRating: The performance rating of the employee. (Categorical)\n",
        "- RelationshipSatisfaction: The employee's satisfaction with their relationships. (Categorical)\n",
        "- StandardHours: The standard hours of work for the employee. (Numerical)\n",
        "- StockOptionLevel: The stock option level of the employee. (Numerical)\n",
        "- TotalWorkingYears: The total number of years the employee has worked. (Numerical)\n",
        "- TrainingTimesLastYear: The number of times the employee was taken for training in the last year. (Numerical)\n",
        "- WorkLifeBalance: The employee's perception of their work-life balance. (Categorical)\n",
        "- YearsAtCompany: The number of years the employee has been with the company. (Numerical)\n",
        "- YearsInCurrentRole: The number of years the employee has been in their current role. (Numerical)\n",
        "- YearsSinceLastPromotion: The number of years since the employee's last promotion. (Numerical)\n",
        "- YearsWithCurrManager: The number of years the employee has been with their current manager. (Numerical)"
      ]
    },
    {
      "cell_type": "code",
      "execution_count": 1,
      "metadata": {
        "id": "XHhI95r5-tyD"
      },
      "outputs": [],
      "source": [
        "# Import required packages\n",
        "# Import required packages\n",
        "import  numpy as np\n",
        "import pandas as pd\n",
        "import seaborn as sns\n",
        "import matplotlib.pyplot as plt\n",
        "from sklearn.preprocessing import LabelEncoder, OneHotEncoder , MinMaxScaler\n",
        "from sklearn.linear_model import LogisticRegression, LogisticRegressionCV\n",
        "from sklearn.tree import DecisionTreeClassifier\n",
        "from sklearn.model_selection import train_test_split, cross_val_score, StratifiedKFold\n",
        "from sklearn.metrics import confusion_matrix, accuracy_score, precision_score, recall_score, f1_score, make_scorer\n",
        "from sklearn.pipeline import Pipeline\n",
        "%matplotlib inline\n",
        "\n",
        "df = pd.read_csv(\"https://raw.githubusercontent.com/michalis0/DataScience_and_MachineLearning/master/Assignements/Part%203/data/HR_Analytics.csv\", index_col='Unnamed: 0')\n",
        "suspects = pd.read_csv(\"https://raw.githubusercontent.com/michalis0/DataScience_and_MachineLearning/master/Assignements/Part%203/data/suspects.csv\", index_col='Unnamed: 0')\n"
      ]
    },
    {
      "cell_type": "markdown",
      "metadata": {
        "id": "mg11L0cJfVM-"
      },
      "source": [
        "### Let's check the data\n"
      ]
    },
    {
      "cell_type": "code",
      "execution_count": 2,
      "metadata": {
        "colab": {
          "base_uri": "https://localhost:8080/"
        },
        "id": "N0ri776pfc3j",
        "outputId": "2b729cfc-24b5-410a-ec2d-bb922dabb66e"
      },
      "outputs": [
        {
          "name": "stdout",
          "output_type": "stream",
          "text": [
            "<class 'pandas.core.frame.DataFrame'>\n",
            "Index: 1470 entries, 0 to 1469\n",
            "Data columns (total 28 columns):\n",
            " #   Column                    Non-Null Count  Dtype \n",
            "---  ------                    --------------  ----- \n",
            " 0   BusinessTravel            1470 non-null   object\n",
            " 1   DailyRate                 1470 non-null   int64 \n",
            " 2   DistanceFromHome          1470 non-null   int64 \n",
            " 3   Education                 1470 non-null   int64 \n",
            " 4   EmployeeCount             1470 non-null   int64 \n",
            " 5   EmployeeNumber            1470 non-null   int64 \n",
            " 6   EnvironmentSatisfaction   1470 non-null   int64 \n",
            " 7   Gender                    1470 non-null   object\n",
            " 8   HourlyRate                1470 non-null   int64 \n",
            " 9   JobInvolvement            1470 non-null   int64 \n",
            " 10  JobLevel                  1470 non-null   int64 \n",
            " 11  JobSatisfaction           1470 non-null   int64 \n",
            " 12  MonthlyIncome             1470 non-null   int64 \n",
            " 13  MonthlyRate               1470 non-null   int64 \n",
            " 14  NumCompaniesWorked        1470 non-null   int64 \n",
            " 15  OverTime                  1470 non-null   object\n",
            " 16  PercentSalaryHike         1470 non-null   int64 \n",
            " 17  PerformanceRating         1470 non-null   int64 \n",
            " 18  RelationshipSatisfaction  1470 non-null   int64 \n",
            " 19  StandardHours             1470 non-null   int64 \n",
            " 20  StockOptionLevel          1470 non-null   int64 \n",
            " 21  TotalWorkingYears         1470 non-null   int64 \n",
            " 22  TrainingTimesLastYear     1470 non-null   int64 \n",
            " 23  WorkLifeBalance           1470 non-null   int64 \n",
            " 24  YearsAtCompany            1470 non-null   int64 \n",
            " 25  YearsInCurrentRole        1470 non-null   int64 \n",
            " 26  YearsSinceLastPromotion   1470 non-null   int64 \n",
            " 27  YearsWithCurrManager      1470 non-null   int64 \n",
            "dtypes: int64(25), object(3)\n",
            "memory usage: 333.0+ KB\n"
          ]
        }
      ],
      "source": [
        "df.info()"
      ]
    },
    {
      "cell_type": "markdown",
      "metadata": {
        "id": "igq5I7pOm0SW"
      },
      "source": [
        "## 1. Define a pipeline that encodes features as follows:\n",
        "\n",
        "* Use one-hot encoding for `BusinessTravel`\n",
        "* Use label encoding for `Gender` and `OverTime`\n"
      ]
    },
    {
      "cell_type": "code",
      "execution_count": 3,
      "metadata": {
        "colab": {
          "base_uri": "https://localhost:8080/",
          "height": 111
        },
        "id": "LV87NptOASo6",
        "outputId": "af8079be-c51b-4ca6-88f1-2e3da0b2f446"
      },
      "outputs": [],
      "source": [
        "def Pipeline(train: pd.DataFrame, test: pd.DataFrame):\n",
        "    # 1. One-hot encoding for BusinessTravel\n",
        "    train = pd.get_dummies(train, columns=['BusinessTravel'], prefix=['BusinessTravel'])\n",
        "    test = pd.get_dummies(test, columns=['BusinessTravel'], prefix=['BusinessTravel'])\n",
        "    #encoder = OneHotEncoder(drop='first', sparse = False)\n",
        "    #encoder.fit(train[['BusinessTravel']])\n",
        "    #train = encoder.transform(train[['BusinessTravel']])\n",
        "    #test = encoder.transform(test[['BusinessTravel']])\n",
        "    # 2. Label encoding for Gender and OverTime\n",
        "    label_encoders = {}\n",
        "    label_cols = ['Gender', 'OverTime']\n",
        "    for col in label_cols:\n",
        "        le = LabelEncoder()\n",
        "        train[col] = le.fit_transform(train[col])\n",
        "        test[col] = le.transform(test[col])\n",
        "        label_encoders[col] = le\n",
        "\n",
        "    boolean_columns = ['BusinessTravel_Non-Travel', 'BusinessTravel_Travel_Frequently', 'BusinessTravel_Travel_Rarely']\n",
        "\n",
        "    for column in boolean_columns:\n",
        "        train[column] = train[column].astype(int)\n",
        "        test[column] = test[column].astype(int)\n",
        "\n",
        "    # 3. Concatenate the datasets\n",
        "    #df_train = train.copy()\n",
        "    #df_test = test.copy()\n",
        "    combined_df = pd.concat([train, test], axis=0)\n",
        "\n",
        "    # 4. Apply Min-Max scaling fitted on the train dataset\n",
        "    numeric_cols = ['DailyRate', 'DistanceFromHome', 'HourlyRate', 'MonthlyIncome', 'MonthlyRate',\n",
        "                    'NumCompaniesWorked', 'PercentSalaryHike', 'StandardHours', 'StockOptionLevel',\n",
        "                    'TotalWorkingYears', 'TrainingTimesLastYear', 'YearsAtCompany',\n",
        "                    'YearsInCurrentRole', 'YearsSinceLastPromotion', 'YearsWithCurrManager']\n",
        "\n",
        "    #scaler = MinMaxScaler()\n",
        "    #df_train[numeric_cols] = scaler.fit_transform(df_train[numeric_cols])\n",
        "    #df_test[numeric_cols] = scaler.transform(df_test[numeric_cols])\n",
        "    scaler = MinMaxScaler()\n",
        "    combined_df[numeric_cols] = scaler.fit_transform(combined_df[numeric_cols])\n",
        "\n",
        "    # Split the concatenated dataset back into train and test sets\n",
        "    train_size = len(train)\n",
        "    df_train = combined_df[:train_size]\n",
        "    df_test = combined_df[train_size:]\n",
        "\n",
        "    return df_train, df_test\n"
      ]
    },
    {
      "cell_type": "markdown",
      "metadata": {},
      "source": [
        "### 1.1 Define your dependent variable y (\"JobLevel\") and your independent features X"
      ]
    },
    {
      "cell_type": "code",
      "execution_count": 4,
      "metadata": {},
      "outputs": [
        {
          "name": "stdout",
          "output_type": "stream",
          "text": [
            "      DailyRate  DistanceFromHome  Education  EmployeeCount  EmployeeNumber  \\\n",
            "0      0.715820          0.000000          2              1               1   \n",
            "1      0.126700          0.250000          1              1               2   \n",
            "2      0.909807          0.035714          2              1               4   \n",
            "3      0.923407          0.071429          4              1               5   \n",
            "4      0.350036          0.035714          1              1               7   \n",
            "...         ...               ...        ...            ...             ...   \n",
            "1465   0.559771          0.785714          2              1            2061   \n",
            "1466   0.365784          0.178571          1              1            2062   \n",
            "1467   0.037938          0.107143          3              1            2064   \n",
            "1468   0.659270          0.035714          3              1            2065   \n",
            "1469   0.376521          0.250000          3              1            2068   \n",
            "\n",
            "      EnvironmentSatisfaction  Gender  HourlyRate  JobInvolvement  JobLevel  \\\n",
            "0                           2       0    0.914286               3       2.0   \n",
            "1                           3       1    0.442857               2       2.0   \n",
            "2                           4       1    0.885714               2       1.0   \n",
            "3                           4       0    0.371429               3       1.0   \n",
            "4                           1       1    0.142857               3       1.0   \n",
            "...                       ...     ...         ...             ...       ...   \n",
            "1465                        3       1    0.157143               4       2.0   \n",
            "1466                        4       1    0.171429               2       3.0   \n",
            "1467                        2       1    0.814286               4       2.0   \n",
            "1468                        4       1    0.471429               2       2.0   \n",
            "1469                        2       1    0.742857               4       2.0   \n",
            "\n",
            "      ...  TotalWorkingYears  TrainingTimesLastYear  WorkLifeBalance  \\\n",
            "0     ...              0.200               0.000000                1   \n",
            "1     ...              0.250               0.500000                3   \n",
            "2     ...              0.175               0.500000                3   \n",
            "3     ...              0.200               0.500000                3   \n",
            "4     ...              0.150               0.500000                3   \n",
            "...   ...                ...                    ...              ...   \n",
            "1465  ...              0.425               0.500000                3   \n",
            "1466  ...              0.225               0.833333                3   \n",
            "1467  ...              0.150               0.000000                3   \n",
            "1468  ...              0.425               0.500000                2   \n",
            "1469  ...              0.150               0.500000                4   \n",
            "\n",
            "      YearsAtCompany  YearsInCurrentRole  YearsSinceLastPromotion  \\\n",
            "0              0.150            0.222222                 0.000000   \n",
            "1              0.250            0.388889                 0.066667   \n",
            "2              0.000            0.000000                 0.000000   \n",
            "3              0.200            0.388889                 0.200000   \n",
            "4              0.050            0.111111                 0.133333   \n",
            "...              ...                 ...                      ...   \n",
            "1465           0.125            0.111111                 0.000000   \n",
            "1466           0.175            0.388889                 0.066667   \n",
            "1467           0.150            0.111111                 0.000000   \n",
            "1468           0.225            0.333333                 0.000000   \n",
            "1469           0.100            0.166667                 0.066667   \n",
            "\n",
            "      YearsWithCurrManager  BusinessTravel_Non-Travel  \\\n",
            "0                 0.294118                          0   \n",
            "1                 0.411765                          0   \n",
            "2                 0.000000                          0   \n",
            "3                 0.000000                          0   \n",
            "4                 0.117647                          0   \n",
            "...                    ...                        ...   \n",
            "1465              0.176471                          0   \n",
            "1466              0.411765                          0   \n",
            "1467              0.176471                          0   \n",
            "1468              0.470588                          0   \n",
            "1469              0.117647                          0   \n",
            "\n",
            "      BusinessTravel_Travel_Frequently  BusinessTravel_Travel_Rarely  \n",
            "0                                    0                             1  \n",
            "1                                    1                             0  \n",
            "2                                    0                             1  \n",
            "3                                    1                             0  \n",
            "4                                    0                             1  \n",
            "...                                ...                           ...  \n",
            "1465                                 1                             0  \n",
            "1466                                 0                             1  \n",
            "1467                                 0                             1  \n",
            "1468                                 1                             0  \n",
            "1469                                 0                             1  \n",
            "\n",
            "[1470 rows x 30 columns]      DailyRate  DistanceFromHome  Education  EmployeeCount  EmployeeNumber  \\\n",
            "0     0.715820          0.000000          2              1               1   \n",
            "1     0.126700          0.250000          1              1               2   \n",
            "2     0.909807          0.035714          2              1               4   \n",
            "3     0.923407          0.071429          4              1               5   \n",
            "4     0.350036          0.035714          1              1               7   \n",
            "..         ...               ...        ...            ...             ...   \n",
            "724   0.790265          0.571429          1              1            1009   \n",
            "725   0.372226          0.464286          4              1            1010   \n",
            "726   0.537581          0.000000          1              1            1011   \n",
            "727   0.132427          0.142857          2              1            1012   \n",
            "728   0.958482          0.571429          3              1            1013   \n",
            "\n",
            "     EnvironmentSatisfaction  Gender  HourlyRate  JobInvolvement  \\\n",
            "0                          2       0    0.914286               3   \n",
            "1                          3       1    0.442857               2   \n",
            "2                          4       1    0.885714               2   \n",
            "3                          4       0    0.371429               3   \n",
            "4                          1       1    0.142857               3   \n",
            "..                       ...     ...         ...             ...   \n",
            "724                        4       0    0.157143               2   \n",
            "725                        3       1    0.128571               2   \n",
            "726                        3       0    0.942857               3   \n",
            "727                        2       1    0.614286               3   \n",
            "728                        3       0    0.371429               3   \n",
            "\n",
            "     JobSatisfaction  ...  TrainingTimesLastYear  WorkLifeBalance  \\\n",
            "0                  4  ...               0.000000                1   \n",
            "1                  2  ...               0.500000                3   \n",
            "2                  3  ...               0.500000                3   \n",
            "3                  3  ...               0.500000                3   \n",
            "4                  2  ...               0.500000                3   \n",
            "..               ...  ...                    ...              ...   \n",
            "724                3  ...               1.000000                3   \n",
            "725                2  ...               0.333333                1   \n",
            "726                1  ...               0.166667                3   \n",
            "727                4  ...               0.333333                3   \n",
            "728                3  ...               0.333333                3   \n",
            "\n",
            "     YearsAtCompany  YearsInCurrentRole  YearsSinceLastPromotion  \\\n",
            "0              0.15            0.222222                 0.000000   \n",
            "1              0.25            0.388889                 0.066667   \n",
            "2              0.00            0.000000                 0.000000   \n",
            "3              0.20            0.388889                 0.200000   \n",
            "4              0.05            0.111111                 0.133333   \n",
            "..              ...                 ...                      ...   \n",
            "724            0.10            0.111111                 0.200000   \n",
            "725            0.10            0.111111                 0.000000   \n",
            "726            0.10            0.166667                 0.000000   \n",
            "727            0.00            0.000000                 0.000000   \n",
            "728            0.25            0.388889                 0.000000   \n",
            "\n",
            "     YearsWithCurrManager  BusinessTravel_Non-Travel  \\\n",
            "0                0.294118                          0   \n",
            "1                0.411765                          0   \n",
            "2                0.000000                          0   \n",
            "3                0.000000                          0   \n",
            "4                0.117647                          0   \n",
            "..                    ...                        ...   \n",
            "724              0.117647                          0   \n",
            "725              0.117647                          0   \n",
            "726              0.176471                          0   \n",
            "727              0.000000                          1   \n",
            "728              0.470588                          0   \n",
            "\n",
            "     BusinessTravel_Travel_Frequently  BusinessTravel_Travel_Rarely    userID  \n",
            "0                                   0                             1  317991.0  \n",
            "1                                   1                             0  241892.0  \n",
            "2                                   0                             1  303376.0  \n",
            "3                                   1                             0  761992.0  \n",
            "4                                   0                             1  373318.0  \n",
            "..                                ...                           ...       ...  \n",
            "724                                 0                             1  458293.0  \n",
            "725                                 0                             1  218415.0  \n",
            "726                                 1                             0  173906.0  \n",
            "727                                 0                             0  178685.0  \n",
            "728                                 0                             1    2008.0  \n",
            "\n",
            "[729 rows x 30 columns]\n"
          ]
        }
      ],
      "source": [
        "# Your code here\n",
        "df_train_processed, df_test_processed = Pipeline(df, suspects)\n",
        "df_train_processed = df_train_processed.dropna(axis=1)\n",
        "df_test_processed = df_test_processed.dropna(axis=1)\n",
        "print(df_train_processed, df_test_processed)"
      ]
    },
    {
      "cell_type": "markdown",
      "metadata": {
        "id": "tX1tEH1j0g3R"
      },
      "source": [
        "## 2. Logistic Regression\n",
        "\n",
        "In this section we will use logistic regression to predict the JobLevel of the potential suspects.\n",
        "\n",
        "To do so you can reuse the pipeline created in part 1."
      ]
    },
    {
      "cell_type": "markdown",
      "metadata": {
        "id": "9B35IqVj0gL3"
      },
      "source": [
        "#### 2.1 Use logistic regression to predict the `JobLevel` based on all variables over the test set. \n",
        "You can use a test_size of 0.2 and random a random state of 42\n",
        "(use logistic regression with the lbfgs solver, 5 fold cross validation and max_iter = 100)\n",
        "\n",
        "Use only the HR analytics dataset to collect accurate insight on the model"
      ]
    },
    {
      "cell_type": "code",
      "execution_count": 5,
      "metadata": {
        "id": "Fiex4f6y0rvD"
      },
      "outputs": [
        {
          "name": "stderr",
          "output_type": "stream",
          "text": [
            "/home/nathan/.local/lib/python3.10/site-packages/sklearn/linear_model/_logistic.py:460: ConvergenceWarning: lbfgs failed to converge (status=1):\n",
            "STOP: TOTAL NO. of ITERATIONS REACHED LIMIT.\n",
            "\n",
            "Increase the number of iterations (max_iter) or scale the data as shown in:\n",
            "    https://scikit-learn.org/stable/modules/preprocessing.html\n",
            "Please also refer to the documentation for alternative solver options:\n",
            "    https://scikit-learn.org/stable/modules/linear_model.html#logistic-regression\n",
            "  n_iter_i = _check_optimize_result(\n"
          ]
        },
        {
          "data": {
            "text/html": [
              "<style>#sk-container-id-1 {color: black;}#sk-container-id-1 pre{padding: 0;}#sk-container-id-1 div.sk-toggleable {background-color: white;}#sk-container-id-1 label.sk-toggleable__label {cursor: pointer;display: block;width: 100%;margin-bottom: 0;padding: 0.3em;box-sizing: border-box;text-align: center;}#sk-container-id-1 label.sk-toggleable__label-arrow:before {content: \"▸\";float: left;margin-right: 0.25em;color: #696969;}#sk-container-id-1 label.sk-toggleable__label-arrow:hover:before {color: black;}#sk-container-id-1 div.sk-estimator:hover label.sk-toggleable__label-arrow:before {color: black;}#sk-container-id-1 div.sk-toggleable__content {max-height: 0;max-width: 0;overflow: hidden;text-align: left;background-color: #f0f8ff;}#sk-container-id-1 div.sk-toggleable__content pre {margin: 0.2em;color: black;border-radius: 0.25em;background-color: #f0f8ff;}#sk-container-id-1 input.sk-toggleable__control:checked~div.sk-toggleable__content {max-height: 200px;max-width: 100%;overflow: auto;}#sk-container-id-1 input.sk-toggleable__control:checked~label.sk-toggleable__label-arrow:before {content: \"▾\";}#sk-container-id-1 div.sk-estimator input.sk-toggleable__control:checked~label.sk-toggleable__label {background-color: #d4ebff;}#sk-container-id-1 div.sk-label input.sk-toggleable__control:checked~label.sk-toggleable__label {background-color: #d4ebff;}#sk-container-id-1 input.sk-hidden--visually {border: 0;clip: rect(1px 1px 1px 1px);clip: rect(1px, 1px, 1px, 1px);height: 1px;margin: -1px;overflow: hidden;padding: 0;position: absolute;width: 1px;}#sk-container-id-1 div.sk-estimator {font-family: monospace;background-color: #f0f8ff;border: 1px dotted black;border-radius: 0.25em;box-sizing: border-box;margin-bottom: 0.5em;}#sk-container-id-1 div.sk-estimator:hover {background-color: #d4ebff;}#sk-container-id-1 div.sk-parallel-item::after {content: \"\";width: 100%;border-bottom: 1px solid gray;flex-grow: 1;}#sk-container-id-1 div.sk-label:hover label.sk-toggleable__label {background-color: #d4ebff;}#sk-container-id-1 div.sk-serial::before {content: \"\";position: absolute;border-left: 1px solid gray;box-sizing: border-box;top: 0;bottom: 0;left: 50%;z-index: 0;}#sk-container-id-1 div.sk-serial {display: flex;flex-direction: column;align-items: center;background-color: white;padding-right: 0.2em;padding-left: 0.2em;position: relative;}#sk-container-id-1 div.sk-item {position: relative;z-index: 1;}#sk-container-id-1 div.sk-parallel {display: flex;align-items: stretch;justify-content: center;background-color: white;position: relative;}#sk-container-id-1 div.sk-item::before, #sk-container-id-1 div.sk-parallel-item::before {content: \"\";position: absolute;border-left: 1px solid gray;box-sizing: border-box;top: 0;bottom: 0;left: 50%;z-index: -1;}#sk-container-id-1 div.sk-parallel-item {display: flex;flex-direction: column;z-index: 1;position: relative;background-color: white;}#sk-container-id-1 div.sk-parallel-item:first-child::after {align-self: flex-end;width: 50%;}#sk-container-id-1 div.sk-parallel-item:last-child::after {align-self: flex-start;width: 50%;}#sk-container-id-1 div.sk-parallel-item:only-child::after {width: 0;}#sk-container-id-1 div.sk-dashed-wrapped {border: 1px dashed gray;margin: 0 0.4em 0.5em 0.4em;box-sizing: border-box;padding-bottom: 0.4em;background-color: white;}#sk-container-id-1 div.sk-label label {font-family: monospace;font-weight: bold;display: inline-block;line-height: 1.2em;}#sk-container-id-1 div.sk-label-container {text-align: center;}#sk-container-id-1 div.sk-container {/* jupyter's `normalize.less` sets `[hidden] { display: none; }` but bootstrap.min.css set `[hidden] { display: none !important; }` so we also need the `!important` here to be able to override the default hidden behavior on the sphinx rendered scikit-learn.org. See: https://github.com/scikit-learn/scikit-learn/issues/21755 */display: inline-block !important;position: relative;}#sk-container-id-1 div.sk-text-repr-fallback {display: none;}</style><div id=\"sk-container-id-1\" class=\"sk-top-container\"><div class=\"sk-text-repr-fallback\"><pre>LogisticRegression()</pre><b>In a Jupyter environment, please rerun this cell to show the HTML representation or trust the notebook. <br />On GitHub, the HTML representation is unable to render, please try loading this page with nbviewer.org.</b></div><div class=\"sk-container\" hidden><div class=\"sk-item\"><div class=\"sk-estimator sk-toggleable\"><input class=\"sk-toggleable__control sk-hidden--visually\" id=\"sk-estimator-id-1\" type=\"checkbox\" checked><label for=\"sk-estimator-id-1\" class=\"sk-toggleable__label sk-toggleable__label-arrow\">LogisticRegression</label><div class=\"sk-toggleable__content\"><pre>LogisticRegression()</pre></div></div></div></div></div>"
            ],
            "text/plain": [
              "LogisticRegression()"
            ]
          },
          "execution_count": 5,
          "metadata": {},
          "output_type": "execute_result"
        }
      ],
      "source": [
        "# Your code here\n",
        "# Split the data into features (X) and target (y)\n",
        "y_train = df_train_processed['JobLevel']\n",
        "X_train = df_train_processed.drop(columns=['JobLevel'])\n",
        "\n",
        "# Split the data into training and testing sets with a test size of 0.2 and a random state of 42\n",
        "X_train, X_test, y_train, y_test = train_test_split(\n",
        "    X_train, y_train, test_size=0.2, random_state=42)\n",
        "\n",
        "\n",
        "# Initialize and train a logistic regression model\n",
        "logistic_regression_model = LogisticRegression(solver='lbfgs', max_iter=100)\n",
        "logistic_regression_model.fit(X_train, y_train)"
      ]
    },
    {
      "cell_type": "code",
      "execution_count": 6,
      "metadata": {},
      "outputs": [
        {
          "name": "stdout",
          "output_type": "stream",
          "text": [
            "[1. 1. 1. 1. 1. 1. 2. 2. 2. 1. 2. 2. 1. 2. 1. 2. 1. 2. 4. 3. 2. 1. 2. 1.\n",
            " 1. 2. 1. 1. 1. 2. 1. 1. 1. 1. 2. 2. 2. 1. 1. 1. 2. 1. 2. 2. 1. 2. 2. 1.\n",
            " 2. 1. 1. 1. 3. 1. 2. 1. 1. 1. 1. 1. 2. 1. 2. 1. 1. 2. 2. 1. 1. 1. 1. 4.\n",
            " 1. 2. 1. 2. 2. 1. 2. 1. 2. 1. 2. 1. 2. 1. 1. 2. 1. 1. 2. 1. 2. 1. 2. 2.\n",
            " 2. 2. 1. 2. 4. 2. 2. 1. 2. 2. 2. 2. 2. 2. 1. 2. 1. 1. 1. 2. 1. 4. 2. 1.\n",
            " 1. 1. 1. 2. 3. 1. 2. 2. 2. 2. 2. 1. 3. 2. 1. 2. 2. 2. 1. 2. 1. 1. 2. 1.\n",
            " 2. 2. 2. 1. 1. 1. 2. 2. 1. 1. 2. 1. 1. 1. 2. 1. 2. 2. 2. 1. 2. 2. 2. 2.\n",
            " 2. 2. 2. 3. 2. 1. 2. 1. 2. 1. 1. 1. 2. 1. 4. 1. 1. 1. 1. 2. 1. 1. 1. 4.\n",
            " 2. 1. 1. 1. 1. 2. 2. 2. 2. 1. 1. 2. 1. 1. 4. 2. 2. 4. 2. 1. 1. 1. 2. 2.\n",
            " 2. 1. 1. 2. 2. 1. 2. 2. 2. 1. 2. 2. 2. 1. 1. 1. 1. 2. 2. 1. 2. 1. 2. 2.\n",
            " 1. 2. 1. 1. 2. 1. 2. 1. 2. 1. 1. 2. 3. 1. 1. 1. 1. 1. 1. 2. 2. 2. 1. 2.\n",
            " 2. 1. 2. 2. 1. 1. 2. 1. 1. 1. 2. 2. 1. 1. 2. 2. 2. 2. 1. 1. 1. 2. 1. 1.\n",
            " 1. 1. 2. 2. 1. 2.] [1. 1. 1. ... 2. 2. 2.]\n"
          ]
        }
      ],
      "source": [
        "y_test_pred = logistic_regression_model.predict(X_test)\n",
        "y_train_pred = logistic_regression_model.predict(X_train)\n",
        "print(y_test_pred, y_train_pred)"
      ]
    },
    {
      "cell_type": "code",
      "execution_count": 7,
      "metadata": {},
      "outputs": [
        {
          "name": "stderr",
          "output_type": "stream",
          "text": [
            "/home/nathan/.local/lib/python3.10/site-packages/sklearn/linear_model/_logistic.py:460: ConvergenceWarning: lbfgs failed to converge (status=1):\n",
            "STOP: TOTAL NO. of ITERATIONS REACHED LIMIT.\n",
            "\n",
            "Increase the number of iterations (max_iter) or scale the data as shown in:\n",
            "    https://scikit-learn.org/stable/modules/preprocessing.html\n",
            "Please also refer to the documentation for alternative solver options:\n",
            "    https://scikit-learn.org/stable/modules/linear_model.html#logistic-regression\n",
            "  n_iter_i = _check_optimize_result(\n"
          ]
        },
        {
          "name": "stderr",
          "output_type": "stream",
          "text": [
            "/home/nathan/.local/lib/python3.10/site-packages/sklearn/linear_model/_logistic.py:460: ConvergenceWarning: lbfgs failed to converge (status=1):\n",
            "STOP: TOTAL NO. of ITERATIONS REACHED LIMIT.\n",
            "\n",
            "Increase the number of iterations (max_iter) or scale the data as shown in:\n",
            "    https://scikit-learn.org/stable/modules/preprocessing.html\n",
            "Please also refer to the documentation for alternative solver options:\n",
            "    https://scikit-learn.org/stable/modules/linear_model.html#logistic-regression\n",
            "  n_iter_i = _check_optimize_result(\n",
            "/home/nathan/.local/lib/python3.10/site-packages/sklearn/linear_model/_logistic.py:460: ConvergenceWarning: lbfgs failed to converge (status=1):\n",
            "STOP: TOTAL NO. of ITERATIONS REACHED LIMIT.\n",
            "\n",
            "Increase the number of iterations (max_iter) or scale the data as shown in:\n",
            "    https://scikit-learn.org/stable/modules/preprocessing.html\n",
            "Please also refer to the documentation for alternative solver options:\n",
            "    https://scikit-learn.org/stable/modules/linear_model.html#logistic-regression\n",
            "  n_iter_i = _check_optimize_result(\n",
            "/home/nathan/.local/lib/python3.10/site-packages/sklearn/linear_model/_logistic.py:460: ConvergenceWarning: lbfgs failed to converge (status=1):\n",
            "STOP: TOTAL NO. of ITERATIONS REACHED LIMIT.\n",
            "\n",
            "Increase the number of iterations (max_iter) or scale the data as shown in:\n",
            "    https://scikit-learn.org/stable/modules/preprocessing.html\n",
            "Please also refer to the documentation for alternative solver options:\n",
            "    https://scikit-learn.org/stable/modules/linear_model.html#logistic-regression\n",
            "  n_iter_i = _check_optimize_result(\n",
            "/home/nathan/.local/lib/python3.10/site-packages/sklearn/linear_model/_logistic.py:460: ConvergenceWarning: lbfgs failed to converge (status=1):\n",
            "STOP: TOTAL NO. of ITERATIONS REACHED LIMIT.\n",
            "\n",
            "Increase the number of iterations (max_iter) or scale the data as shown in:\n",
            "    https://scikit-learn.org/stable/modules/preprocessing.html\n",
            "Please also refer to the documentation for alternative solver options:\n",
            "    https://scikit-learn.org/stable/modules/linear_model.html#logistic-regression\n",
            "  n_iter_i = _check_optimize_result(\n",
            "/home/nathan/.local/lib/python3.10/site-packages/sklearn/linear_model/_logistic.py:460: ConvergenceWarning: lbfgs failed to converge (status=1):\n",
            "STOP: TOTAL NO. of ITERATIONS REACHED LIMIT.\n",
            "\n",
            "Increase the number of iterations (max_iter) or scale the data as shown in:\n",
            "    https://scikit-learn.org/stable/modules/preprocessing.html\n",
            "Please also refer to the documentation for alternative solver options:\n",
            "    https://scikit-learn.org/stable/modules/linear_model.html#logistic-regression\n",
            "  n_iter_i = _check_optimize_result(\n"
          ]
        },
        {
          "data": {
            "text/html": [
              "<style>#sk-container-id-2 {color: black;}#sk-container-id-2 pre{padding: 0;}#sk-container-id-2 div.sk-toggleable {background-color: white;}#sk-container-id-2 label.sk-toggleable__label {cursor: pointer;display: block;width: 100%;margin-bottom: 0;padding: 0.3em;box-sizing: border-box;text-align: center;}#sk-container-id-2 label.sk-toggleable__label-arrow:before {content: \"▸\";float: left;margin-right: 0.25em;color: #696969;}#sk-container-id-2 label.sk-toggleable__label-arrow:hover:before {color: black;}#sk-container-id-2 div.sk-estimator:hover label.sk-toggleable__label-arrow:before {color: black;}#sk-container-id-2 div.sk-toggleable__content {max-height: 0;max-width: 0;overflow: hidden;text-align: left;background-color: #f0f8ff;}#sk-container-id-2 div.sk-toggleable__content pre {margin: 0.2em;color: black;border-radius: 0.25em;background-color: #f0f8ff;}#sk-container-id-2 input.sk-toggleable__control:checked~div.sk-toggleable__content {max-height: 200px;max-width: 100%;overflow: auto;}#sk-container-id-2 input.sk-toggleable__control:checked~label.sk-toggleable__label-arrow:before {content: \"▾\";}#sk-container-id-2 div.sk-estimator input.sk-toggleable__control:checked~label.sk-toggleable__label {background-color: #d4ebff;}#sk-container-id-2 div.sk-label input.sk-toggleable__control:checked~label.sk-toggleable__label {background-color: #d4ebff;}#sk-container-id-2 input.sk-hidden--visually {border: 0;clip: rect(1px 1px 1px 1px);clip: rect(1px, 1px, 1px, 1px);height: 1px;margin: -1px;overflow: hidden;padding: 0;position: absolute;width: 1px;}#sk-container-id-2 div.sk-estimator {font-family: monospace;background-color: #f0f8ff;border: 1px dotted black;border-radius: 0.25em;box-sizing: border-box;margin-bottom: 0.5em;}#sk-container-id-2 div.sk-estimator:hover {background-color: #d4ebff;}#sk-container-id-2 div.sk-parallel-item::after {content: \"\";width: 100%;border-bottom: 1px solid gray;flex-grow: 1;}#sk-container-id-2 div.sk-label:hover label.sk-toggleable__label {background-color: #d4ebff;}#sk-container-id-2 div.sk-serial::before {content: \"\";position: absolute;border-left: 1px solid gray;box-sizing: border-box;top: 0;bottom: 0;left: 50%;z-index: 0;}#sk-container-id-2 div.sk-serial {display: flex;flex-direction: column;align-items: center;background-color: white;padding-right: 0.2em;padding-left: 0.2em;position: relative;}#sk-container-id-2 div.sk-item {position: relative;z-index: 1;}#sk-container-id-2 div.sk-parallel {display: flex;align-items: stretch;justify-content: center;background-color: white;position: relative;}#sk-container-id-2 div.sk-item::before, #sk-container-id-2 div.sk-parallel-item::before {content: \"\";position: absolute;border-left: 1px solid gray;box-sizing: border-box;top: 0;bottom: 0;left: 50%;z-index: -1;}#sk-container-id-2 div.sk-parallel-item {display: flex;flex-direction: column;z-index: 1;position: relative;background-color: white;}#sk-container-id-2 div.sk-parallel-item:first-child::after {align-self: flex-end;width: 50%;}#sk-container-id-2 div.sk-parallel-item:last-child::after {align-self: flex-start;width: 50%;}#sk-container-id-2 div.sk-parallel-item:only-child::after {width: 0;}#sk-container-id-2 div.sk-dashed-wrapped {border: 1px dashed gray;margin: 0 0.4em 0.5em 0.4em;box-sizing: border-box;padding-bottom: 0.4em;background-color: white;}#sk-container-id-2 div.sk-label label {font-family: monospace;font-weight: bold;display: inline-block;line-height: 1.2em;}#sk-container-id-2 div.sk-label-container {text-align: center;}#sk-container-id-2 div.sk-container {/* jupyter's `normalize.less` sets `[hidden] { display: none; }` but bootstrap.min.css set `[hidden] { display: none !important; }` so we also need the `!important` here to be able to override the default hidden behavior on the sphinx rendered scikit-learn.org. See: https://github.com/scikit-learn/scikit-learn/issues/21755 */display: inline-block !important;position: relative;}#sk-container-id-2 div.sk-text-repr-fallback {display: none;}</style><div id=\"sk-container-id-2\" class=\"sk-top-container\"><div class=\"sk-text-repr-fallback\"><pre>LogisticRegressionCV(cv=5)</pre><b>In a Jupyter environment, please rerun this cell to show the HTML representation or trust the notebook. <br />On GitHub, the HTML representation is unable to render, please try loading this page with nbviewer.org.</b></div><div class=\"sk-container\" hidden><div class=\"sk-item\"><div class=\"sk-estimator sk-toggleable\"><input class=\"sk-toggleable__control sk-hidden--visually\" id=\"sk-estimator-id-2\" type=\"checkbox\" checked><label for=\"sk-estimator-id-2\" class=\"sk-toggleable__label sk-toggleable__label-arrow\">LogisticRegressionCV</label><div class=\"sk-toggleable__content\"><pre>LogisticRegressionCV(cv=5)</pre></div></div></div></div></div>"
            ],
            "text/plain": [
              "LogisticRegressionCV(cv=5)"
            ]
          },
          "execution_count": 7,
          "metadata": {},
          "output_type": "execute_result"
        }
      ],
      "source": [
        "model_cv = LogisticRegressionCV(penalty='l2', solver='lbfgs', cv=5, max_iter=100)\n",
        "\n",
        "# Fit our model\n",
        "model_cv.fit(X_train, y_train)"
      ]
    },
    {
      "cell_type": "markdown",
      "metadata": {},
      "source": [
        "#### 2.1.2 Display the confusion matrix and the other accuracy measures seen in class.\n"
      ]
    },
    {
      "cell_type": "code",
      "execution_count": 8,
      "metadata": {},
      "outputs": [
        {
          "name": "stdout",
          "output_type": "stream",
          "text": [
            "0.3979591836734694\n",
            "0.48299319727891155\n"
          ]
        },
        {
          "data": {
            "image/png": "[encoded data removed]",
            "text/plain": [
              "<Figure size 640x480 with 2 Axes>"
            ]
          },
          "metadata": {},
          "output_type": "display_data"
        }
      ],
      "source": [
        "# Your code here\n",
        "confusion_cv = confusion_matrix(y_test, model_cv.predict(X_test))\n",
        "# Heatmap of confusion matrix\n",
        "sns.heatmap(confusion_cv, annot=True, cmap='Blues', fmt='.4g')\n",
        "plt.xlabel('Predicted label')\n",
        "plt.ylabel('True labels')\n",
        "plt.title('Confusion Matrix with Cross Validation');\n",
        "#print(confusion_matrix(y_test, y_test))\n",
        "#print(confusion_matrix(y_train, y_train_pred))\n",
        "print(logistic_regression_model.score(X_test, y_test))\n",
        "print(logistic_regression_model.score(X_train, y_train))\n",
        "#model_proba = pd.DataFrame(logistic_regression_model.predict_proba(X_test),\n",
        "                           #columns=['Probability level 1', 'Probability level 2','Probability level 3', 'Probability level 4', 'Probability level 5'])"
      ]
    },
    {
      "cell_type": "code",
      "execution_count": 9,
      "metadata": {},
      "outputs": [
        {
          "name": "stdout",
          "output_type": "stream",
          "text": [
            "Accuracy of Logistic regression classifier on test set: 0.40\n",
            "Accuracy of Logistic regression classifier on training set: 0.48\n"
          ]
        }
      ],
      "source": [
        "# Accuracy on the test set\n",
        "print('Accuracy of Logistic regression classifier on test set: {:.2f}'\n",
        "     .format(logistic_regression_model.score(X_test, y_test)))\n",
        "\n",
        "# Accuracy on the training set\n",
        "print('Accuracy of Logistic regression classifier on training set: {:.2f}'\n",
        "     .format(logistic_regression_model.score(X_train, y_train)))"
      ]
    },
    {
      "cell_type": "code",
      "execution_count": 10,
      "metadata": {},
      "outputs": [
        {
          "name": "stdout",
          "output_type": "stream",
          "text": [
            "Accuracy of Logistic regression classifier on test set: 0.40\n",
            "Accuracy: 0.40\n",
            "Precision: 0.20\n",
            "Recall: 0.24\n",
            "F1 Score: 0.20\n"
          ]
        },
        {
          "name": "stderr",
          "output_type": "stream",
          "text": [
            "/home/nathan/.local/lib/python3.10/site-packages/sklearn/metrics/_classification.py:1469: UndefinedMetricWarning: Precision is ill-defined and being set to 0.0 in labels with no predicted samples. Use `zero_division` parameter to control this behavior.\n",
            "  _warn_prf(average, modifier, msg_start, len(result))\n"
          ]
        }
      ],
      "source": [
        "# Accuracy on the test set\n",
        "print('Accuracy of Logistic regression classifier on test set: {:.2f}'\n",
        "     .format(logistic_regression_model.score(X_test, y_test)))\n",
        "accuracy = accuracy_score(y_test, y_test_pred)\n",
        "precision = precision_score(y_test, y_test_pred, average='macro')\n",
        "recall = recall_score(y_test, y_test_pred, average='macro')\n",
        "f1 = f1_score(y_test, y_test_pred, average='macro')\n",
        "\n",
        "print(f\"Accuracy: {accuracy:.2f}\")\n",
        "print(f\"Precision: {precision:.2f}\")\n",
        "print(f\"Recall: {recall:.2f}\")\n",
        "print(f\"F1 Score: {f1:.2f}\")"
      ]
    },
    {
      "cell_type": "markdown",
      "metadata": {
        "id": "lZLOtpFN6UzN"
      },
      "source": [
        "#### 2.2 Predicting suspects Job Level\n",
        "Retrain a logistic regression model on the **full train dataset** and predict the JobLevel of the suspects. (do not forget to apply the pipeline)\n",
        "\n",
        "Training on part of the dataset is mainly usefull so that we get an idea of the results we should expect but also performing various optimisations.\n",
        "\n",
        "In order to get the best result possible it is advised to retrain on the entire set prior to making predictions.\n",
        "\n",
        "(use logistic regression with the lbfgs solver, 5 fold cross validation and max_iter = 100)"
      ]
    },
    {
      "cell_type": "code",
      "execution_count": 11,
      "metadata": {
        "id": "EWFqT4LLGYnL"
      },
      "outputs": [
        {
          "name": "stdout",
          "output_type": "stream",
          "text": [
            "   DailyRate  DistanceFromHome  Education  EmployeeCount  EmployeeNumber  \\\n",
            "0   0.715820          0.000000          2              1               1   \n",
            "1   0.126700          0.250000          1              1               2   \n",
            "2   0.909807          0.035714          2              1               4   \n",
            "3   0.923407          0.071429          4              1               5   \n",
            "4   0.350036          0.035714          1              1               7   \n",
            "\n",
            "   EnvironmentSatisfaction  Gender  HourlyRate  JobInvolvement  JobLevel  ...  \\\n",
            "0                        2       0    0.914286               3       2.0  ...   \n",
            "1                        3       1    0.442857               2       2.0  ...   \n",
            "2                        4       1    0.885714               2       1.0  ...   \n",
            "3                        4       0    0.371429               3       1.0  ...   \n",
            "4                        1       1    0.142857               3       1.0  ...   \n",
            "\n",
            "   TotalWorkingYears  TrainingTimesLastYear  WorkLifeBalance  YearsAtCompany  \\\n",
            "0              0.200                    0.0                1            0.15   \n",
            "1              0.250                    0.5                3            0.25   \n",
            "2              0.175                    0.5                3            0.00   \n",
            "3              0.200                    0.5                3            0.20   \n",
            "4              0.150                    0.5                3            0.05   \n",
            "\n",
            "   YearsInCurrentRole  YearsSinceLastPromotion  YearsWithCurrManager  \\\n",
            "0            0.222222                 0.000000              0.294118   \n",
            "1            0.388889                 0.066667              0.411765   \n",
            "2            0.000000                 0.000000              0.000000   \n",
            "3            0.388889                 0.200000              0.000000   \n",
            "4            0.111111                 0.133333              0.117647   \n",
            "\n",
            "   BusinessTravel_Non-Travel  BusinessTravel_Travel_Frequently  \\\n",
            "0                          0                                 0   \n",
            "1                          0                                 1   \n",
            "2                          0                                 0   \n",
            "3                          0                                 1   \n",
            "4                          0                                 0   \n",
            "\n",
            "   BusinessTravel_Travel_Rarely  \n",
            "0                             1  \n",
            "1                             0  \n",
            "2                             1  \n",
            "3                             0  \n",
            "4                             1  \n",
            "\n",
            "[5 rows x 30 columns]    DailyRate  DistanceFromHome  Education  EmployeeCount  EmployeeNumber  \\\n",
            "0   0.715820          0.000000          2              1               1   \n",
            "1   0.126700          0.250000          1              1               2   \n",
            "2   0.909807          0.035714          2              1               4   \n",
            "3   0.923407          0.071429          4              1               5   \n",
            "4   0.350036          0.035714          1              1               7   \n",
            "\n",
            "   EnvironmentSatisfaction  Gender  HourlyRate  JobInvolvement  \\\n",
            "0                        2       0    0.914286               3   \n",
            "1                        3       1    0.442857               2   \n",
            "2                        4       1    0.885714               2   \n",
            "3                        4       0    0.371429               3   \n",
            "4                        1       1    0.142857               3   \n",
            "\n",
            "   JobSatisfaction  ...  TrainingTimesLastYear  WorkLifeBalance  \\\n",
            "0                4  ...                    0.0                1   \n",
            "1                2  ...                    0.5                3   \n",
            "2                3  ...                    0.5                3   \n",
            "3                3  ...                    0.5                3   \n",
            "4                2  ...                    0.5                3   \n",
            "\n",
            "   YearsAtCompany  YearsInCurrentRole  YearsSinceLastPromotion  \\\n",
            "0            0.15            0.222222                 0.000000   \n",
            "1            0.25            0.388889                 0.066667   \n",
            "2            0.00            0.000000                 0.000000   \n",
            "3            0.20            0.388889                 0.200000   \n",
            "4            0.05            0.111111                 0.133333   \n",
            "\n",
            "   YearsWithCurrManager  BusinessTravel_Non-Travel  \\\n",
            "0              0.294118                          0   \n",
            "1              0.411765                          0   \n",
            "2              0.000000                          0   \n",
            "3              0.000000                          0   \n",
            "4              0.117647                          0   \n",
            "\n",
            "   BusinessTravel_Travel_Frequently  BusinessTravel_Travel_Rarely    userID  \n",
            "0                                 0                             1  317991.0  \n",
            "1                                 1                             0  241892.0  \n",
            "2                                 0                             1  303376.0  \n",
            "3                                 1                             0  761992.0  \n",
            "4                                 0                             1  373318.0  \n",
            "\n",
            "[5 rows x 30 columns]\n"
          ]
        }
      ],
      "source": [
        "# Your code here\n",
        "preprocessed_train, preprocessed_test = Pipeline(df, suspects)\n",
        "preprocessed_train = preprocessed_train.dropna(axis=1)\n",
        "preprocessed_test = preprocessed_test.dropna(axis=1)\n",
        "print(preprocessed_train.head(),preprocessed_test.head())"
      ]
    },
    {
      "cell_type": "code",
      "execution_count": 12,
      "metadata": {
        "id": "M1AUaZVVGgc0"
      },
      "outputs": [],
      "source": [
        "preprocessed_test = preprocessed_test.drop(columns=['userID'])\n",
        "X = preprocessed_train.drop(columns=['JobLevel'])\n",
        "y = preprocessed_train['JobLevel']\n"
      ]
    },
    {
      "cell_type": "code",
      "execution_count": 13,
      "metadata": {
        "colab": {
          "base_uri": "https://localhost:8080/"
        },
        "id": "eLvdBAyRGmlf",
        "outputId": "ac3cd035-9fc9-47d6-a312-dce00d298192"
      },
      "outputs": [
        {
          "name": "stderr",
          "output_type": "stream",
          "text": [
            "/home/nathan/.local/lib/python3.10/site-packages/sklearn/linear_model/_logistic.py:460: ConvergenceWarning: lbfgs failed to converge (status=1):\n",
            "STOP: TOTAL NO. of ITERATIONS REACHED LIMIT.\n",
            "\n",
            "Increase the number of iterations (max_iter) or scale the data as shown in:\n",
            "    https://scikit-learn.org/stable/modules/preprocessing.html\n",
            "Please also refer to the documentation for alternative solver options:\n",
            "    https://scikit-learn.org/stable/modules/linear_model.html#logistic-regression\n",
            "  n_iter_i = _check_optimize_result(\n",
            "/home/nathan/.local/lib/python3.10/site-packages/sklearn/linear_model/_logistic.py:460: ConvergenceWarning: lbfgs failed to converge (status=1):\n",
            "STOP: TOTAL NO. of ITERATIONS REACHED LIMIT.\n",
            "\n",
            "Increase the number of iterations (max_iter) or scale the data as shown in:\n",
            "    https://scikit-learn.org/stable/modules/preprocessing.html\n",
            "Please also refer to the documentation for alternative solver options:\n",
            "    https://scikit-learn.org/stable/modules/linear_model.html#logistic-regression\n",
            "  n_iter_i = _check_optimize_result(\n",
            "/home/nathan/.local/lib/python3.10/site-packages/sklearn/linear_model/_logistic.py:460: ConvergenceWarning: lbfgs failed to converge (status=1):\n",
            "STOP: TOTAL NO. of ITERATIONS REACHED LIMIT.\n",
            "\n",
            "Increase the number of iterations (max_iter) or scale the data as shown in:\n",
            "    https://scikit-learn.org/stable/modules/preprocessing.html\n",
            "Please also refer to the documentation for alternative solver options:\n",
            "    https://scikit-learn.org/stable/modules/linear_model.html#logistic-regression\n",
            "  n_iter_i = _check_optimize_result(\n",
            "/home/nathan/.local/lib/python3.10/site-packages/sklearn/linear_model/_logistic.py:460: ConvergenceWarning: lbfgs failed to converge (status=1):\n",
            "STOP: TOTAL NO. of ITERATIONS REACHED LIMIT.\n",
            "\n",
            "Increase the number of iterations (max_iter) or scale the data as shown in:\n",
            "    https://scikit-learn.org/stable/modules/preprocessing.html\n",
            "Please also refer to the documentation for alternative solver options:\n",
            "    https://scikit-learn.org/stable/modules/linear_model.html#logistic-regression\n",
            "  n_iter_i = _check_optimize_result(\n",
            "/home/nathan/.local/lib/python3.10/site-packages/sklearn/linear_model/_logistic.py:460: ConvergenceWarning: lbfgs failed to converge (status=1):\n",
            "STOP: TOTAL NO. of ITERATIONS REACHED LIMIT.\n",
            "\n",
            "Increase the number of iterations (max_iter) or scale the data as shown in:\n",
            "    https://scikit-learn.org/stable/modules/preprocessing.html\n",
            "Please also refer to the documentation for alternative solver options:\n",
            "    https://scikit-learn.org/stable/modules/linear_model.html#logistic-regression\n",
            "  n_iter_i = _check_optimize_result(\n"
          ]
        },
        {
          "name": "stdout",
          "output_type": "stream",
          "text": [
            "Precision Scores for Each Fold: [0.46262208 0.38604832 0.48628685 0.6170024  0.38515671]\n",
            "Mean Precision: 0.4674232708924582\n",
            "[2. 2. 1. 1. 1. 1. 1. 1. 2. 2. 1. 2. 1. 1. 1. 3. 1. 1. 3. 1. 1. 1. 3. 1.\n",
            " 1. 3. 1. 2. 3. 4. 1. 1. 1. 1. 1. 1. 1. 1. 1. 1. 1. 1. 1. 2. 2. 4. 2. 1.\n",
            " 2. 1. 2. 1. 1. 2. 2. 3. 2. 1. 2. 2. 2. 2. 4. 3. 3. 3. 1. 2. 1. 1. 2. 1.\n",
            " 1. 2. 1. 2. 2. 2. 3. 1. 2. 1. 2. 2. 1. 2. 1. 1. 2. 2. 3. 3. 2. 3. 2. 3.\n",
            " 1. 1. 4. 2. 1. 1. 1. 2. 2. 3. 4. 2. 1. 1. 3. 2. 4. 1. 1. 2. 3. 2. 1. 3.\n",
            " 2. 2. 2. 3. 2. 1. 4. 1. 1. 2. 2. 2. 2. 2. 2. 1. 2. 2. 2. 2. 2. 2. 1. 1.\n",
            " 2. 1. 1. 3. 1. 1. 2. 2. 1. 2. 2. 2. 1. 1. 3. 1. 1. 1. 1. 2. 1. 3. 2. 3.\n",
            " 2. 1. 1. 1. 2. 2. 2. 2. 1. 1. 3. 1. 1. 1. 1. 1. 1. 2. 3. 4. 2. 3. 5. 1.\n",
            " 1. 1. 3. 2. 1. 2. 1. 2. 1. 2. 1. 2. 2. 2. 1. 1. 2. 2. 3. 2. 2. 3. 1. 2.\n",
            " 2. 1. 3. 2. 2. 1. 2. 3. 1. 1. 2. 3. 2. 1. 1. 3. 1. 4. 2. 3. 2. 4. 1. 1.\n",
            " 1. 1. 1. 2. 5. 2. 1. 2. 1. 1. 2. 3. 1. 2. 1. 1. 2. 3. 1. 1. 1. 2. 1. 4.\n",
            " 1. 1. 2. 2. 3. 2. 5. 3. 1. 2. 1. 2. 3. 2. 1. 3. 3. 2. 2. 2. 1. 2. 1. 2.\n",
            " 1. 1. 3. 2. 1. 2. 1. 3. 1. 2. 1. 2. 3. 1. 1. 2. 2. 2. 2. 3. 2. 1. 1. 3.\n",
            " 1. 3. 3. 2. 3. 2. 1. 3. 1. 2. 2. 1. 2. 3. 3. 1. 1. 3. 1. 2. 2. 2. 2. 1.\n",
            " 1. 1. 2. 2. 2. 3. 2. 2. 2. 1. 2. 1. 3. 1. 1. 1. 2. 2. 2. 2. 1. 1. 1. 3.\n",
            " 1. 2. 1. 1. 2. 1. 2. 2. 2. 1. 1. 1. 2. 1. 2. 2. 2. 1. 2. 4. 1. 1. 1. 1.\n",
            " 2. 1. 2. 2. 1. 3. 3. 1. 3. 2. 2. 1. 1. 1. 2. 1. 3. 4. 2. 2. 2. 1. 2. 1.\n",
            " 4. 2. 2. 4. 2. 2. 1. 1. 1. 3. 1. 2. 2. 1. 1. 2. 3. 3. 2. 3. 2. 4. 2. 2.\n",
            " 2. 2. 2. 3. 2. 1. 2. 2. 2. 1. 2. 1. 2. 4. 2. 2. 3. 2. 2. 2. 2. 1. 2. 2.\n",
            " 2. 1. 2. 2. 1. 1. 2. 1. 2. 3. 3. 2. 2. 2. 1. 2. 2. 3. 1. 1. 1. 4. 2. 1.\n",
            " 1. 1. 1. 1. 2. 1. 1. 1. 1. 3. 1. 2. 3. 2. 1. 1. 1. 3. 1. 1. 2. 1. 3. 2.\n",
            " 1. 1. 2. 1. 3. 2. 2. 2. 1. 1. 2. 1. 1. 1. 1. 2. 2. 1. 1. 2. 3. 2. 2. 2.\n",
            " 2. 2. 2. 3. 2. 2. 3. 4. 2. 2. 5. 1. 2. 2. 1. 2. 4. 2. 1. 1. 2. 1. 1. 2.\n",
            " 3. 1. 2. 1. 1. 1. 2. 1. 1. 5. 2. 2. 2. 1. 2. 1. 3. 2. 2. 1. 3. 1. 1. 2.\n",
            " 1. 1. 2. 1. 1. 1. 2. 2. 4. 1. 1. 2. 5. 1. 2. 2. 3. 2. 2. 3. 1. 2. 1. 2.\n",
            " 2. 1. 1. 1. 2. 2. 1. 2. 2. 3. 3. 2. 1. 1. 2. 1. 3. 2. 1. 2. 1. 3. 1. 2.\n",
            " 3. 2. 2. 3. 2. 1. 1. 1. 1. 1. 1. 3. 2. 1. 3. 1. 1. 2. 1. 2. 1. 2. 2. 3.\n",
            " 2. 3. 2. 2. 2. 3. 2. 1. 1. 2. 1. 1. 1. 1. 1. 1. 2. 1. 1. 2. 1. 1. 1. 1.\n",
            " 2. 1. 3. 2. 2. 3. 1. 2. 1. 3. 1. 1. 2. 2. 2. 2. 1. 1. 2. 1. 2. 3. 1. 3.\n",
            " 2. 1. 1. 3. 1. 3. 2. 2. 2. 2. 2. 2. 2. 1. 3. 1. 1. 1. 3. 1. 3. 2. 2. 1.\n",
            " 1. 3. 1. 2. 2. 1. 1. 1. 3.]\n"
          ]
        },
        {
          "name": "stderr",
          "output_type": "stream",
          "text": [
            "/home/nathan/.local/lib/python3.10/site-packages/sklearn/linear_model/_logistic.py:460: ConvergenceWarning: lbfgs failed to converge (status=1):\n",
            "STOP: TOTAL NO. of ITERATIONS REACHED LIMIT.\n",
            "\n",
            "Increase the number of iterations (max_iter) or scale the data as shown in:\n",
            "    https://scikit-learn.org/stable/modules/preprocessing.html\n",
            "Please also refer to the documentation for alternative solver options:\n",
            "    https://scikit-learn.org/stable/modules/linear_model.html#logistic-regression\n",
            "  n_iter_i = _check_optimize_result(\n"
          ]
        }
      ],
      "source": [
        "model_full = LogisticRegression(solver='lbfgs', max_iter=1000)\n",
        "kf = StratifiedKFold(n_splits=5, shuffle=True, random_state=42)\n",
        "precision_scorer = make_scorer(precision_score, average = 'macro')\n",
        "precision_scores = cross_val_score(model_full, X, y, cv=kf, scoring=precision_scorer)\n",
        "print(\"Precision Scores for Each Fold:\", precision_scores)\n",
        "print(\"Mean Precision:\", precision_scores.mean())\n",
        "\n",
        "# Retrain the model on the entire train dataset\n",
        "model_full.fit(X, y)\n",
        "\n",
        "# Make predictions on the test dataset\n",
        "y_pred = model_full.predict(preprocessed_test)\n",
        "print(y_pred)"
      ]
    },
    {
      "cell_type": "markdown",
      "metadata": {
        "id": "p3aZt3WmEADO"
      },
      "source": [
        "## 3. Decision tree\n",
        "\n",
        "In this section we will use the decision tree model to predict the JobLevel of the potential suspects.\n",
        "\n",
        "To do so you can reuse the pipeline created in part 1."
      ]
    },
    {
      "cell_type": "markdown",
      "metadata": {
        "id": "6ftteDGoEnSH"
      },
      "source": [
        "#### 3.1 Use Decision Tree classifier to predict the JobLevel based on all variables. Display the confusion matrix and the other accuracy measures seen in class.\n",
        "You can use a test_size of 0.2 and random a random state of 42\n",
        "\n",
        "The max depth for the decision tree can be 5\n",
        "\n",
        "\n",
        "Use only the HR analytics dataset to collect accurate insight on the model"
      ]
    },
    {
      "cell_type": "code",
      "execution_count": 14,
      "metadata": {
        "id": "SF2_J7iAGdwW"
      },
      "outputs": [],
      "source": [
        "# Your code here\n",
        "y_train = df_train_processed['JobLevel']\n",
        "X_train = df_train_processed.drop(columns=['JobLevel'])\n",
        "\n",
        "# Split the data into training and testing sets with a test size of 0.2 and a random state of 42\n",
        "X_train, X_test, y_train, y_test = train_test_split(\n",
        "    X_train, y_train, test_size=0.2, random_state=42)"
      ]
    },
    {
      "cell_type": "code",
      "execution_count": 15,
      "metadata": {
        "id": "9jZxj5KFGhOi"
      },
      "outputs": [
        {
          "name": "stdout",
          "output_type": "stream",
          "text": [
            "0.9149659863945578\n",
            "0.9328231292517006\n"
          ]
        }
      ],
      "source": [
        "clf = DecisionTreeClassifier(max_depth=5)\n",
        "\n",
        "clf.fit(X_train, y_train)\n",
        "print(clf.score(X_test, y_test))\n",
        "print(clf.score(X_train, y_train))\n"
      ]
    },
    {
      "cell_type": "code",
      "execution_count": 16,
      "metadata": {
        "id": "JdPakTjxGoSf"
      },
      "outputs": [
        {
          "name": "stdout",
          "output_type": "stream",
          "text": [
            "[2. 2. 1. 3. 2. 1. 1. 1. 3. 1. 1. 3. 2. 1. 1. 2. 2. 1. 3. 4. 1. 2. 2. 2.\n",
            " 2. 5. 1. 2. 1. 2. 2. 2. 2. 3. 2. 3. 4. 1. 1. 1. 3. 2. 2. 1. 1. 2. 3. 2.\n",
            " 2. 1. 4. 2. 5. 2. 1. 2. 1. 2. 2. 2. 3. 1. 3. 4. 2. 2. 2. 2. 1. 4. 2. 5.\n",
            " 3. 2. 2. 4. 2. 2. 3. 3. 5. 2. 4. 1. 3. 1. 3. 2. 2. 2. 2. 1. 3. 1. 3. 3.\n",
            " 3. 2. 2. 3. 5. 3. 3. 1. 3. 3. 2. 2. 3. 5. 2. 2. 2. 2. 1. 1. 2. 3. 4. 1.\n",
            " 1. 3. 1. 3. 2. 1. 2. 3. 2. 2. 1. 1. 3. 2. 2. 2. 1. 3. 1. 4. 1. 3. 2. 3.\n",
            " 4. 1. 2. 1. 1. 2. 2. 3. 2. 1. 2. 2. 2. 1. 5. 1. 2. 2. 2. 1. 1. 2. 1. 1.\n",
            " 4. 3. 2. 4. 1. 1. 2. 1. 2. 3. 3. 1. 3. 2. 5. 3. 3. 1. 3. 3. 3. 2. 2. 3.\n",
            " 3. 2. 2. 1. 1. 5. 2. 2. 1. 2. 2. 5. 4. 1. 3. 1. 1. 5. 3. 1. 1. 3. 3. 1.\n",
            " 2. 2. 2. 3. 1. 1. 3. 2. 2. 1. 2. 2. 3. 1. 2. 2. 5. 3. 2. 1. 2. 1. 4. 5.\n",
            " 1. 2. 2. 5. 3. 2. 1. 2. 2. 2. 2. 5. 5. 2. 2. 2. 1. 1. 1. 4. 2. 1. 1. 2.\n",
            " 2. 3. 5. 3. 2. 2. 1. 5. 2. 2. 3. 2. 1. 2. 2. 3. 2. 2. 1. 3. 4. 1. 2. 1.\n",
            " 2. 2. 2. 4. 2. 1.]\n"
          ]
        }
      ],
      "source": [
        "y_dct_pred = clf.predict(X_test)\n",
        "print(y_dct_pred)"
      ]
    },
    {
      "cell_type": "code",
      "execution_count": null,
      "metadata": {
        "colab": {
          "base_uri": "https://localhost:8080/",
          "height": 74
        },
        "id": "h0yvnp5kG7gL",
        "outputId": "c214442b-e40b-4720-e22b-b0c973e05413"
      },
      "outputs": [],
      "source": []
    },
    {
      "cell_type": "markdown",
      "metadata": {},
      "source": [
        "#### 3.1.2 Display the confusion matrix and the other accuracy measures seen in class.\n"
      ]
    },
    {
      "cell_type": "code",
      "execution_count": 17,
      "metadata": {
        "colab": {
          "base_uri": "https://localhost:8080/"
        },
        "id": "HBoU-eWcImA6",
        "outputId": "09772bec-901f-43fd-92a5-7d0003606ad0"
      },
      "outputs": [
        {
          "name": "stdout",
          "output_type": "stream",
          "text": [
            "Confusion Matrix:\n",
            "[[ 75   8   0   0   0]\n",
            " [  6 111   6   0   0]\n",
            " [  0   0  49   1   0]\n",
            " [  0   0   4  16   0]\n",
            " [  0   0   0   0  18]]\n"
          ]
        }
      ],
      "source": [
        "# Your code here\n",
        "confusion_mat = confusion_matrix(y_test, y_dct_pred)\n",
        "print(\"Confusion Matrix:\")\n",
        "print(confusion_mat)"
      ]
    },
    {
      "cell_type": "code",
      "execution_count": 18,
      "metadata": {
        "colab": {
          "base_uri": "https://localhost:8080/"
        },
        "id": "9yWTbfrsIq73",
        "outputId": "e3e21cf7-a529-4097-ec53-a25d577f0132"
      },
      "outputs": [
        {
          "name": "stdout",
          "output_type": "stream",
          "text": [
            "Accuracy: 0.91\n",
            "Precision: 0.92\n",
            "Recall: 0.91\n",
            "F1 Score: 0.91\n"
          ]
        }
      ],
      "source": [
        "accuracy = accuracy_score(y_test, y_dct_pred)\n",
        "precision = precision_score(y_test, y_dct_pred, average='weighted')\n",
        "recall = recall_score(y_test, y_dct_pred, average='weighted')\n",
        "f1 = f1_score(y_test, y_dct_pred, average='weighted')\n",
        "\n",
        "print(f\"Accuracy: {accuracy:.2f}\")\n",
        "print(f\"Precision: {precision:.2f}\")\n",
        "print(f\"Recall: {recall:.2f}\")\n",
        "print(f\"F1 Score: {f1:.2f}\")\n"
      ]
    },
    {
      "cell_type": "code",
      "execution_count": null,
      "metadata": {
        "colab": {
          "base_uri": "https://localhost:8080/"
        },
        "id": "wcnzdNuRIxZr",
        "outputId": "573973fa-171d-4ad0-b771-3be3b4ec157e"
      },
      "outputs": [],
      "source": [
        "\n",
        "\n"
      ]
    },
    {
      "cell_type": "markdown",
      "metadata": {
        "id": "KtdHTSOfJZhf"
      },
      "source": [
        "#### 3.2 Predicting suspects Job Level according to the decision tree\n",
        "Retrain a decision tree model on the full train dataset and predict the JobLevel of the suspects. \n",
        "\n",
        "Training on part of the dataset is mainly usefull so that we get an idea of the results we should expect but also performing various optimisations.\n",
        "\n",
        "In order to get the best result possible it is advised to retrain on the entire set prior to making predictions.\n",
        "\n",
        "The max depth for the decision tree can be 5"
      ]
    },
    {
      "cell_type": "code",
      "execution_count": 19,
      "metadata": {
        "colab": {
          "base_uri": "https://localhost:8080/",
          "height": 74
        },
        "id": "lK6R3NyIJj9T",
        "outputId": "72d4fbac-57d3-48d2-a59a-301168fcf127"
      },
      "outputs": [
        {
          "name": "stdout",
          "output_type": "stream",
          "text": [
            "   DailyRate  DistanceFromHome  Education  EmployeeCount  EmployeeNumber  \\\n",
            "0   0.715820          0.000000          2              1               1   \n",
            "1   0.126700          0.250000          1              1               2   \n",
            "2   0.909807          0.035714          2              1               4   \n",
            "3   0.923407          0.071429          4              1               5   \n",
            "4   0.350036          0.035714          1              1               7   \n",
            "\n",
            "   EnvironmentSatisfaction  Gender  HourlyRate  JobInvolvement  JobLevel  ...  \\\n",
            "0                        2       0    0.914286               3       2.0  ...   \n",
            "1                        3       1    0.442857               2       2.0  ...   \n",
            "2                        4       1    0.885714               2       1.0  ...   \n",
            "3                        4       0    0.371429               3       1.0  ...   \n",
            "4                        1       1    0.142857               3       1.0  ...   \n",
            "\n",
            "   TotalWorkingYears  TrainingTimesLastYear  WorkLifeBalance  YearsAtCompany  \\\n",
            "0              0.200                    0.0                1            0.15   \n",
            "1              0.250                    0.5                3            0.25   \n",
            "2              0.175                    0.5                3            0.00   \n",
            "3              0.200                    0.5                3            0.20   \n",
            "4              0.150                    0.5                3            0.05   \n",
            "\n",
            "   YearsInCurrentRole  YearsSinceLastPromotion  YearsWithCurrManager  \\\n",
            "0            0.222222                 0.000000              0.294118   \n",
            "1            0.388889                 0.066667              0.411765   \n",
            "2            0.000000                 0.000000              0.000000   \n",
            "3            0.388889                 0.200000              0.000000   \n",
            "4            0.111111                 0.133333              0.117647   \n",
            "\n",
            "   BusinessTravel_Non-Travel  BusinessTravel_Travel_Frequently  \\\n",
            "0                          0                                 0   \n",
            "1                          0                                 1   \n",
            "2                          0                                 0   \n",
            "3                          0                                 1   \n",
            "4                          0                                 0   \n",
            "\n",
            "   BusinessTravel_Travel_Rarely  \n",
            "0                             1  \n",
            "1                             0  \n",
            "2                             1  \n",
            "3                             0  \n",
            "4                             1  \n",
            "\n",
            "[5 rows x 30 columns]    DailyRate  DistanceFromHome  Education  EmployeeCount  EmployeeNumber  \\\n",
            "0   0.715820          0.000000          2              1               1   \n",
            "1   0.126700          0.250000          1              1               2   \n",
            "2   0.909807          0.035714          2              1               4   \n",
            "3   0.923407          0.071429          4              1               5   \n",
            "4   0.350036          0.035714          1              1               7   \n",
            "\n",
            "   EnvironmentSatisfaction  Gender  HourlyRate  JobInvolvement  \\\n",
            "0                        2       0    0.914286               3   \n",
            "1                        3       1    0.442857               2   \n",
            "2                        4       1    0.885714               2   \n",
            "3                        4       0    0.371429               3   \n",
            "4                        1       1    0.142857               3   \n",
            "\n",
            "   JobSatisfaction  ...  TrainingTimesLastYear  WorkLifeBalance  \\\n",
            "0                4  ...                    0.0                1   \n",
            "1                2  ...                    0.5                3   \n",
            "2                3  ...                    0.5                3   \n",
            "3                3  ...                    0.5                3   \n",
            "4                2  ...                    0.5                3   \n",
            "\n",
            "   YearsAtCompany  YearsInCurrentRole  YearsSinceLastPromotion  \\\n",
            "0            0.15            0.222222                 0.000000   \n",
            "1            0.25            0.388889                 0.066667   \n",
            "2            0.00            0.000000                 0.000000   \n",
            "3            0.20            0.388889                 0.200000   \n",
            "4            0.05            0.111111                 0.133333   \n",
            "\n",
            "   YearsWithCurrManager  BusinessTravel_Non-Travel  \\\n",
            "0              0.294118                          0   \n",
            "1              0.411765                          0   \n",
            "2              0.000000                          0   \n",
            "3              0.000000                          0   \n",
            "4              0.117647                          0   \n",
            "\n",
            "   BusinessTravel_Travel_Frequently  BusinessTravel_Travel_Rarely    userID  \n",
            "0                                 0                             1  317991.0  \n",
            "1                                 1                             0  241892.0  \n",
            "2                                 0                             1  303376.0  \n",
            "3                                 1                             0  761992.0  \n",
            "4                                 0                             1  373318.0  \n",
            "\n",
            "[5 rows x 30 columns]\n"
          ]
        }
      ],
      "source": [
        "# Your code here\n",
        "preprocessed_train, preprocessed_test = Pipeline(df, suspects)\n",
        "preprocessed_train = preprocessed_train.dropna(axis=1)\n",
        "preprocessed_test = preprocessed_test.dropna(axis=1)\n",
        "print(preprocessed_train.head(),preprocessed_test.head())\n",
        "preprocessed_test = preprocessed_test.drop(columns=['userID'])\n",
        "X = preprocessed_train.drop(columns=['JobLevel'])\n",
        "y = preprocessed_train['JobLevel']"
      ]
    },
    {
      "cell_type": "code",
      "execution_count": 20,
      "metadata": {
        "colab": {
          "base_uri": "https://localhost:8080/"
        },
        "id": "A2q6DRAgJn87",
        "outputId": "2f46358e-8a38-46e2-e89f-3d990919a4a4"
      },
      "outputs": [
        {
          "name": "stdout",
          "output_type": "stream",
          "text": [
            "[2. 2. 1. 1. 1. 1. 2. 1. 3. 2. 1. 2. 1. 1. 1. 3. 1. 1. 4. 1. 2. 1. 3. 1.\n",
            " 1. 5. 1. 2. 3. 5. 1. 2. 1. 2. 1. 1. 1. 1. 1. 2. 1. 1. 1. 3. 2. 5. 2. 1.\n",
            " 2. 1. 3. 1. 2. 3. 2. 3. 3. 2. 2. 2. 2. 2. 5. 3. 3. 4. 2. 3. 1. 1. 2. 1.\n",
            " 1. 2. 1. 2. 2. 3. 3. 2. 2. 1. 3. 2. 2. 3. 1. 2. 2. 3. 3. 5. 2. 3. 2. 3.\n",
            " 2. 2. 4. 2. 1. 1. 1. 2. 2. 5. 5. 2. 1. 1. 3. 2. 4. 1. 2. 3. 3. 3. 1. 4.\n",
            " 2. 2. 1. 5. 2. 1. 3. 1. 1. 2. 2. 3. 2. 3. 1. 2. 3. 2. 2. 2. 2. 1. 2. 1.\n",
            " 2. 1. 1. 4. 1. 1. 2. 3. 1. 2. 3. 2. 2. 2. 3. 1. 1. 1. 1. 3. 1. 5. 2. 3.\n",
            " 3. 1. 1. 1. 1. 2. 2. 2. 1. 1. 3. 1. 1. 2. 1. 1. 2. 1. 5. 5. 3. 4. 5. 1.\n",
            " 2. 1. 4. 1. 2. 2. 2. 2. 2. 2. 1. 2. 2. 3. 1. 1. 2. 3. 3. 3. 2. 3. 1. 3.\n",
            " 2. 1. 3. 2. 2. 1. 3. 3. 2. 1. 2. 3. 3. 1. 1. 5. 1. 5. 1. 4. 1. 5. 1. 1.\n",
            " 1. 2. 2. 2. 5. 3. 1. 2. 1. 2. 3. 3. 1. 2. 2. 2. 1. 5. 1. 1. 2. 2. 2. 4.\n",
            " 1. 2. 2. 2. 3. 1. 5. 3. 1. 2. 1. 3. 3. 2. 2. 5. 4. 2. 2. 2. 2. 1. 1. 2.\n",
            " 1. 1. 5. 2. 1. 2. 1. 3. 1. 3. 1. 2. 4. 1. 2. 2. 3. 2. 2. 3. 2. 2. 2. 3.\n",
            " 1. 3. 4. 1. 4. 2. 1. 2. 2. 3. 2. 1. 2. 3. 5. 2. 2. 5. 2. 2. 2. 3. 1. 2.\n",
            " 1. 1. 2. 2. 2. 3. 3. 2. 3. 1. 2. 2. 4. 2. 1. 1. 3. 2. 2. 2. 2. 1. 2. 3.\n",
            " 2. 1. 1. 1. 1. 2. 2. 3. 2. 1. 1. 1. 2. 1. 2. 3. 2. 1. 2. 4. 2. 1. 1. 1.\n",
            " 3. 1. 1. 2. 1. 5. 4. 1. 5. 2. 2. 1. 2. 2. 2. 1. 5. 3. 2. 3. 2. 2. 3. 1.\n",
            " 4. 2. 2. 5. 2. 2. 1. 1. 1. 5. 1. 1. 3. 1. 1. 3. 4. 4. 1. 3. 2. 4. 1. 2.\n",
            " 1. 3. 3. 3. 1. 1. 3. 3. 3. 1. 3. 1. 2. 4. 2. 2. 3. 1. 2. 3. 2. 1. 2. 4.\n",
            " 3. 1. 3. 2. 2. 2. 2. 1. 3. 3. 4. 3. 2. 2. 1. 3. 2. 5. 1. 2. 1. 5. 1. 1.\n",
            " 1. 1. 2. 2. 2. 1. 3. 1. 2. 4. 1. 2. 4. 2. 1. 1. 1. 5. 1. 2. 2. 1. 3. 1.\n",
            " 2. 1. 3. 2. 2. 3. 3. 3. 1. 1. 1. 1. 1. 2. 2. 1. 3. 2. 2. 1. 3. 2. 2. 2.\n",
            " 2. 3. 3. 3. 2. 3. 4. 5. 2. 3. 5. 1. 1. 3. 3. 1. 4. 2. 1. 1. 2. 2. 1. 2.\n",
            " 3. 1. 2. 1. 2. 2. 2. 1. 2. 4. 1. 2. 2. 1. 2. 2. 5. 3. 2. 2. 5. 2. 1. 2.\n",
            " 2. 1. 2. 2. 1. 1. 2. 2. 5. 1. 1. 1. 4. 1. 3. 2. 5. 2. 1. 5. 1. 2. 2. 1.\n",
            " 2. 2. 2. 1. 2. 2. 1. 3. 2. 5. 3. 3. 1. 1. 1. 1. 5. 2. 1. 2. 1. 2. 2. 1.\n",
            " 3. 3. 2. 5. 2. 2. 2. 1. 1. 1. 2. 3. 1. 1. 5. 1. 1. 2. 1. 2. 1. 1. 3. 3.\n",
            " 1. 5. 2. 1. 3. 5. 2. 1. 1. 1. 1. 2. 1. 2. 1. 1. 2. 1. 2. 1. 1. 1. 1. 1.\n",
            " 2. 1. 3. 1. 2. 3. 1. 2. 2. 3. 1. 1. 3. 2. 2. 1. 1. 1. 2. 1. 2. 3. 2. 3.\n",
            " 2. 1. 2. 4. 1. 4. 3. 2. 3. 3. 3. 2. 2. 1. 4. 1. 1. 1. 4. 2. 5. 1. 1. 2.\n",
            " 1. 4. 1. 3. 2. 1. 2. 1. 3.]\n"
          ]
        }
      ],
      "source": [
        "model_trained_full = DecisionTreeClassifier(max_depth=5, random_state=42)\n",
        "model_trained_full.fit(X, y)\n",
        "\n",
        "predidctions_full = model_trained_full.predict(preprocessed_test)\n",
        "print(predidctions_full)\n"
      ]
    },
    {
      "cell_type": "markdown",
      "metadata": {},
      "source": [
        "## 4. kNN\n",
        "\n",
        "In this section we will use the kNN model to predict the JobLevel of the potential suspects.\n",
        "\n",
        "To do so you can reuse the DataFrame created in part 1."
      ]
    },
    {
      "cell_type": "markdown",
      "metadata": {},
      "source": [
        "#### 4.1. Use `GridSearchCV` from *sklearn.model_selection* to find the best value of `k` that should be used for the K-Nearest Neighbours (KNN) algorithm.\n",
        "\n",
        "\n",
        "*   Use a range value of hyperparmeter `k` from 1 to 8. This range is a parameter used by the `GridSearchCV` to define the best value of `k`.\n",
        "*   Set the cross-validation to 5 folds.\n",
        "*   Set `scoring='accuracy', 'return_train_score=False', verbose=1"
      ]
    },
    {
      "cell_type": "code",
      "execution_count": 21,
      "metadata": {},
      "outputs": [
        {
          "name": "stdout",
          "output_type": "stream",
          "text": [
            "   DailyRate  DistanceFromHome  Education  EmployeeCount  EmployeeNumber  \\\n",
            "0   0.715820          0.000000          2              1               1   \n",
            "1   0.126700          0.250000          1              1               2   \n",
            "2   0.909807          0.035714          2              1               4   \n",
            "3   0.923407          0.071429          4              1               5   \n",
            "4   0.350036          0.035714          1              1               7   \n",
            "\n",
            "   EnvironmentSatisfaction  Gender  HourlyRate  JobInvolvement  JobLevel  ...  \\\n",
            "0                        2       0    0.914286               3       2.0  ...   \n",
            "1                        3       1    0.442857               2       2.0  ...   \n",
            "2                        4       1    0.885714               2       1.0  ...   \n",
            "3                        4       0    0.371429               3       1.0  ...   \n",
            "4                        1       1    0.142857               3       1.0  ...   \n",
            "\n",
            "   TotalWorkingYears  TrainingTimesLastYear  WorkLifeBalance  YearsAtCompany  \\\n",
            "0              0.200                    0.0                1            0.15   \n",
            "1              0.250                    0.5                3            0.25   \n",
            "2              0.175                    0.5                3            0.00   \n",
            "3              0.200                    0.5                3            0.20   \n",
            "4              0.150                    0.5                3            0.05   \n",
            "\n",
            "   YearsInCurrentRole  YearsSinceLastPromotion  YearsWithCurrManager  \\\n",
            "0            0.222222                 0.000000              0.294118   \n",
            "1            0.388889                 0.066667              0.411765   \n",
            "2            0.000000                 0.000000              0.000000   \n",
            "3            0.388889                 0.200000              0.000000   \n",
            "4            0.111111                 0.133333              0.117647   \n",
            "\n",
            "   BusinessTravel_Non-Travel  BusinessTravel_Travel_Frequently  \\\n",
            "0                          0                                 0   \n",
            "1                          0                                 1   \n",
            "2                          0                                 0   \n",
            "3                          0                                 1   \n",
            "4                          0                                 0   \n",
            "\n",
            "   BusinessTravel_Travel_Rarely  \n",
            "0                             1  \n",
            "1                             0  \n",
            "2                             1  \n",
            "3                             0  \n",
            "4                             1  \n",
            "\n",
            "[5 rows x 30 columns]    DailyRate  DistanceFromHome  Education  EmployeeCount  EmployeeNumber  \\\n",
            "0   0.715820          0.000000          2              1               1   \n",
            "1   0.126700          0.250000          1              1               2   \n",
            "2   0.909807          0.035714          2              1               4   \n",
            "3   0.923407          0.071429          4              1               5   \n",
            "4   0.350036          0.035714          1              1               7   \n",
            "\n",
            "   EnvironmentSatisfaction  Gender  HourlyRate  JobInvolvement  \\\n",
            "0                        2       0    0.914286               3   \n",
            "1                        3       1    0.442857               2   \n",
            "2                        4       1    0.885714               2   \n",
            "3                        4       0    0.371429               3   \n",
            "4                        1       1    0.142857               3   \n",
            "\n",
            "   JobSatisfaction  ...  TrainingTimesLastYear  WorkLifeBalance  \\\n",
            "0                4  ...                    0.0                1   \n",
            "1                2  ...                    0.5                3   \n",
            "2                3  ...                    0.5                3   \n",
            "3                3  ...                    0.5                3   \n",
            "4                2  ...                    0.5                3   \n",
            "\n",
            "   YearsAtCompany  YearsInCurrentRole  YearsSinceLastPromotion  \\\n",
            "0            0.15            0.222222                 0.000000   \n",
            "1            0.25            0.388889                 0.066667   \n",
            "2            0.00            0.000000                 0.000000   \n",
            "3            0.20            0.388889                 0.200000   \n",
            "4            0.05            0.111111                 0.133333   \n",
            "\n",
            "   YearsWithCurrManager  BusinessTravel_Non-Travel  \\\n",
            "0              0.294118                          0   \n",
            "1              0.411765                          0   \n",
            "2              0.000000                          0   \n",
            "3              0.000000                          0   \n",
            "4              0.117647                          0   \n",
            "\n",
            "   BusinessTravel_Travel_Frequently  BusinessTravel_Travel_Rarely    userID  \n",
            "0                                 0                             1  317991.0  \n",
            "1                                 1                             0  241892.0  \n",
            "2                                 0                             1  303376.0  \n",
            "3                                 1                             0  761992.0  \n",
            "4                                 0                             1  373318.0  \n",
            "\n",
            "[5 rows x 30 columns]\n"
          ]
        }
      ],
      "source": [
        "# Train test split\n",
        "preprocessed_train, preprocessed_test = Pipeline(df, suspects)\n",
        "preprocessed_train = preprocessed_train.dropna(axis=1)\n",
        "preprocessed_test = preprocessed_test.dropna(axis=1)\n",
        "print(preprocessed_train.head(),preprocessed_test.head())\n",
        "preprocessed_test = preprocessed_test.drop(columns=['userID'])\n",
        "X = preprocessed_train.drop(columns=['JobLevel'])\n",
        "y = preprocessed_train['JobLevel']\n",
        "\n",
        "\n",
        "X_train, X_test, y_train, y_test = train_test_split(X, y, test_size=0.2, random_state=42)"
      ]
    },
    {
      "cell_type": "code",
      "execution_count": 22,
      "metadata": {},
      "outputs": [],
      "source": [
        "# YOUR CODE HERE\n",
        "from sklearn.model_selection import GridSearchCV\n",
        "from sklearn.neighbors import KNeighborsClassifier\n",
        "knn = KNeighborsClassifier()\n",
        "\n"
      ]
    },
    {
      "cell_type": "code",
      "execution_count": 23,
      "metadata": {},
      "outputs": [
        {
          "name": "stdout",
          "output_type": "stream",
          "text": [
            "Fitting 5 folds for each of 8 candidates, totalling 40 fits\n"
          ]
        },
        {
          "data": {
            "text/html": [
              "<style>#sk-container-id-3 {color: black;}#sk-container-id-3 pre{padding: 0;}#sk-container-id-3 div.sk-toggleable {background-color: white;}#sk-container-id-3 label.sk-toggleable__label {cursor: pointer;display: block;width: 100%;margin-bottom: 0;padding: 0.3em;box-sizing: border-box;text-align: center;}#sk-container-id-3 label.sk-toggleable__label-arrow:before {content: \"▸\";float: left;margin-right: 0.25em;color: #696969;}#sk-container-id-3 label.sk-toggleable__label-arrow:hover:before {color: black;}#sk-container-id-3 div.sk-estimator:hover label.sk-toggleable__label-arrow:before {color: black;}#sk-container-id-3 div.sk-toggleable__content {max-height: 0;max-width: 0;overflow: hidden;text-align: left;background-color: #f0f8ff;}#sk-container-id-3 div.sk-toggleable__content pre {margin: 0.2em;color: black;border-radius: 0.25em;background-color: #f0f8ff;}#sk-container-id-3 input.sk-toggleable__control:checked~div.sk-toggleable__content {max-height: 200px;max-width: 100%;overflow: auto;}#sk-container-id-3 input.sk-toggleable__control:checked~label.sk-toggleable__label-arrow:before {content: \"▾\";}#sk-container-id-3 div.sk-estimator input.sk-toggleable__control:checked~label.sk-toggleable__label {background-color: #d4ebff;}#sk-container-id-3 div.sk-label input.sk-toggleable__control:checked~label.sk-toggleable__label {background-color: #d4ebff;}#sk-container-id-3 input.sk-hidden--visually {border: 0;clip: rect(1px 1px 1px 1px);clip: rect(1px, 1px, 1px, 1px);height: 1px;margin: -1px;overflow: hidden;padding: 0;position: absolute;width: 1px;}#sk-container-id-3 div.sk-estimator {font-family: monospace;background-color: #f0f8ff;border: 1px dotted black;border-radius: 0.25em;box-sizing: border-box;margin-bottom: 0.5em;}#sk-container-id-3 div.sk-estimator:hover {background-color: #d4ebff;}#sk-container-id-3 div.sk-parallel-item::after {content: \"\";width: 100%;border-bottom: 1px solid gray;flex-grow: 1;}#sk-container-id-3 div.sk-label:hover label.sk-toggleable__label {background-color: #d4ebff;}#sk-container-id-3 div.sk-serial::before {content: \"\";position: absolute;border-left: 1px solid gray;box-sizing: border-box;top: 0;bottom: 0;left: 50%;z-index: 0;}#sk-container-id-3 div.sk-serial {display: flex;flex-direction: column;align-items: center;background-color: white;padding-right: 0.2em;padding-left: 0.2em;position: relative;}#sk-container-id-3 div.sk-item {position: relative;z-index: 1;}#sk-container-id-3 div.sk-parallel {display: flex;align-items: stretch;justify-content: center;background-color: white;position: relative;}#sk-container-id-3 div.sk-item::before, #sk-container-id-3 div.sk-parallel-item::before {content: \"\";position: absolute;border-left: 1px solid gray;box-sizing: border-box;top: 0;bottom: 0;left: 50%;z-index: -1;}#sk-container-id-3 div.sk-parallel-item {display: flex;flex-direction: column;z-index: 1;position: relative;background-color: white;}#sk-container-id-3 div.sk-parallel-item:first-child::after {align-self: flex-end;width: 50%;}#sk-container-id-3 div.sk-parallel-item:last-child::after {align-self: flex-start;width: 50%;}#sk-container-id-3 div.sk-parallel-item:only-child::after {width: 0;}#sk-container-id-3 div.sk-dashed-wrapped {border: 1px dashed gray;margin: 0 0.4em 0.5em 0.4em;box-sizing: border-box;padding-bottom: 0.4em;background-color: white;}#sk-container-id-3 div.sk-label label {font-family: monospace;font-weight: bold;display: inline-block;line-height: 1.2em;}#sk-container-id-3 div.sk-label-container {text-align: center;}#sk-container-id-3 div.sk-container {/* jupyter's `normalize.less` sets `[hidden] { display: none; }` but bootstrap.min.css set `[hidden] { display: none !important; }` so we also need the `!important` here to be able to override the default hidden behavior on the sphinx rendered scikit-learn.org. See: https://github.com/scikit-learn/scikit-learn/issues/21755 */display: inline-block !important;position: relative;}#sk-container-id-3 div.sk-text-repr-fallback {display: none;}</style><div id=\"sk-container-id-3\" class=\"sk-top-container\"><div class=\"sk-text-repr-fallback\"><pre>GridSearchCV(cv=5, estimator=KNeighborsClassifier(),\n",
              "             param_grid={&#x27;n_neighbors&#x27;: [1, 2, 3, 4, 5, 6, 7, 8]},\n",
              "             scoring=&#x27;accuracy&#x27;, verbose=1)</pre><b>In a Jupyter environment, please rerun this cell to show the HTML representation or trust the notebook. <br />On GitHub, the HTML representation is unable to render, please try loading this page with nbviewer.org.</b></div><div class=\"sk-container\" hidden><div class=\"sk-item sk-dashed-wrapped\"><div class=\"sk-label-container\"><div class=\"sk-label sk-toggleable\"><input class=\"sk-toggleable__control sk-hidden--visually\" id=\"sk-estimator-id-3\" type=\"checkbox\" ><label for=\"sk-estimator-id-3\" class=\"sk-toggleable__label sk-toggleable__label-arrow\">GridSearchCV</label><div class=\"sk-toggleable__content\"><pre>GridSearchCV(cv=5, estimator=KNeighborsClassifier(),\n",
              "             param_grid={&#x27;n_neighbors&#x27;: [1, 2, 3, 4, 5, 6, 7, 8]},\n",
              "             scoring=&#x27;accuracy&#x27;, verbose=1)</pre></div></div></div><div class=\"sk-parallel\"><div class=\"sk-parallel-item\"><div class=\"sk-item\"><div class=\"sk-label-container\"><div class=\"sk-label sk-toggleable\"><input class=\"sk-toggleable__control sk-hidden--visually\" id=\"sk-estimator-id-4\" type=\"checkbox\" ><label for=\"sk-estimator-id-4\" class=\"sk-toggleable__label sk-toggleable__label-arrow\">estimator: KNeighborsClassifier</label><div class=\"sk-toggleable__content\"><pre>KNeighborsClassifier()</pre></div></div></div><div class=\"sk-serial\"><div class=\"sk-item\"><div class=\"sk-estimator sk-toggleable\"><input class=\"sk-toggleable__control sk-hidden--visually\" id=\"sk-estimator-id-5\" type=\"checkbox\" ><label for=\"sk-estimator-id-5\" class=\"sk-toggleable__label sk-toggleable__label-arrow\">KNeighborsClassifier</label><div class=\"sk-toggleable__content\"><pre>KNeighborsClassifier()</pre></div></div></div></div></div></div></div></div></div></div>"
            ],
            "text/plain": [
              "GridSearchCV(cv=5, estimator=KNeighborsClassifier(),\n",
              "             param_grid={'n_neighbors': [1, 2, 3, 4, 5, 6, 7, 8]},\n",
              "             scoring='accuracy', verbose=1)"
            ]
          },
          "execution_count": 23,
          "metadata": {},
          "output_type": "execute_result"
        }
      ],
      "source": [
        "# Find the best parameters\n",
        "param_grid = {'n_neighbors': list(range(1, 9))}\n",
        "\n",
        "# Use GridSearchCV to find the best k value with 5-fold cross-validation\n",
        "grid_search = GridSearchCV(knn, param_grid, cv=5, scoring='accuracy', return_train_score=False, verbose=1)\n",
        "grid_search.fit(X, y)\n"
      ]
    },
    {
      "cell_type": "code",
      "execution_count": 24,
      "metadata": {},
      "outputs": [
        {
          "name": "stdout",
          "output_type": "stream",
          "text": [
            "Best k value: 8\n"
          ]
        }
      ],
      "source": [
        "# What is the best score?\n",
        "best_k = grid_search.best_params_['n_neighbors']\n",
        "print(\"Best k value:\", best_k)"
      ]
    },
    {
      "cell_type": "code",
      "execution_count": 25,
      "metadata": {},
      "outputs": [
        {
          "name": "stdout",
          "output_type": "stream",
          "text": [
            "Accuracy: 0.5034013605442177\n",
            "Classification Report:\n",
            "              precision    recall  f1-score   support\n",
            "\n",
            "         1.0       0.43      0.76      0.55        83\n",
            "         2.0       0.61      0.59      0.60       123\n",
            "         3.0       0.50      0.26      0.34        50\n",
            "         4.0       0.00      0.00      0.00        20\n",
            "         5.0       0.00      0.00      0.00        18\n",
            "\n",
            "    accuracy                           0.50       294\n",
            "   macro avg       0.31      0.32      0.30       294\n",
            "weighted avg       0.46      0.50      0.46       294\n",
            "\n",
            "Confusion Matrix:\n",
            "[[63 14  4  1  1]\n",
            " [46 72  4  1  0]\n",
            " [19 18 13  0  0]\n",
            " [ 8  9  3  0  0]\n",
            " [11  5  2  0  0]]\n",
            "[1. 1. 1. 1. 1. 1. 1. 1. 1. 1. 1. 1. 1. 1. 1. 1. 1. 1. 1. 1. 1. 1. 1. 1.\n",
            " 1. 1. 1. 1. 1. 2. 1. 1. 1. 1. 1. 1. 1. 1. 1. 1. 1. 1. 1. 1. 1. 1. 2. 1.\n",
            " 1. 1. 1. 1. 3. 3. 2. 2. 2. 2. 2. 2. 2. 2. 2. 2. 2. 3. 3. 3. 1. 1. 1. 1.\n",
            " 1. 2. 1. 1. 2. 2. 2. 2. 2. 2. 2. 2. 2. 1. 2. 2. 2. 2. 2. 1. 2. 2. 2. 2.\n",
            " 2. 2. 2. 2. 2. 2. 1. 1. 1. 1. 2. 2. 2. 1. 1. 1. 1. 3. 3. 3. 3. 1. 1. 1.\n",
            " 1. 1. 1. 1. 1. 1. 1. 1. 1. 1. 1. 1. 2. 2. 2. 2. 2. 2. 2. 2. 1. 1. 1. 1.\n",
            " 1. 1. 1. 1. 1. 1. 1. 2. 2. 2. 2. 2. 2. 1. 1. 1. 1. 1. 1. 1. 1. 1. 1. 1.\n",
            " 1. 1. 1. 1. 1. 1. 1. 1. 1. 1. 1. 1. 1. 1. 1. 1. 1. 1. 1. 5. 5. 5. 1. 1.\n",
            " 1. 1. 1. 2. 2. 2. 2. 2. 2. 2. 2. 2. 1. 1. 1. 2. 3. 3. 3. 3. 3. 3. 2. 2.\n",
            " 2. 2. 2. 2. 2. 2. 2. 1. 1. 3. 3. 1. 1. 1. 1. 1. 1. 1. 1. 1. 1. 1. 1. 1.\n",
            " 1. 1. 1. 1. 2. 2. 2. 3. 3. 3. 1. 1. 2. 2. 1. 1. 1. 1. 1. 1. 1. 2. 2. 2.\n",
            " 2. 2. 2. 2. 2. 2. 1. 3. 1. 1. 3. 2. 2. 2. 2. 2. 2. 2. 2. 2. 2. 2. 1. 1.\n",
            " 1. 1. 1. 1. 1. 1. 1. 1. 1. 1. 1. 1. 1. 1. 2. 2. 2. 2. 2. 2. 2. 2. 2. 3.\n",
            " 1. 1. 1. 1. 1. 2. 2. 2. 2. 2. 2. 2. 2. 2. 2. 2. 2. 2. 2. 2. 2. 2. 2. 2.\n",
            " 2. 2. 2. 2. 2. 2. 2. 2. 2. 2. 2. 2. 1. 2. 1. 2. 2. 2. 2. 2. 2. 2. 2. 1.\n",
            " 1. 1. 1. 1. 1. 1. 1. 2. 1. 1. 1. 1. 1. 1. 1. 2. 2. 2. 2. 1. 1. 1. 1. 1.\n",
            " 1. 1. 1. 1. 1. 1. 2. 2. 2. 2. 2. 2. 2. 2. 2. 2. 2. 2. 2. 2. 1. 1. 2. 2.\n",
            " 2. 2. 2. 2. 2. 2. 1. 1. 1. 1. 1. 1. 1. 1. 1. 1. 1. 1. 4. 1. 1. 1. 3. 3.\n",
            " 3. 1. 1. 3. 3. 3. 3. 3. 3. 3. 3. 3. 2. 2. 2. 2. 2. 2. 2. 2. 2. 2. 2. 2.\n",
            " 2. 2. 2. 2. 2. 2. 2. 2. 2. 2. 2. 2. 2. 2. 2. 2. 2. 1. 1. 1. 1. 1. 1. 1.\n",
            " 1. 1. 1. 1. 1. 2. 2. 2. 1. 2. 1. 1. 1. 1. 1. 1. 1. 1. 1. 2. 1. 1. 2. 2.\n",
            " 2. 2. 2. 2. 2. 2. 1. 1. 1. 1. 1. 1. 1. 1. 1. 1. 2. 2. 2. 2. 2. 2. 2. 2.\n",
            " 2. 2. 2. 2. 2. 3. 3. 3. 3. 2. 2. 1. 1. 1. 1. 1. 1. 1. 1. 2. 2. 1. 2. 2.\n",
            " 2. 2. 2. 2. 2. 2. 2. 2. 2. 2. 2. 2. 2. 2. 2. 2. 2. 1. 1. 1. 1. 1. 2. 2.\n",
            " 1. 1. 1. 1. 1. 1. 1. 1. 1. 1. 1. 1. 1. 1. 1. 2. 1. 1. 1. 1. 1. 1. 1. 2.\n",
            " 1. 2. 1. 2. 2. 2. 2. 2. 3. 1. 3. 3. 1. 1. 1. 1. 1. 1. 2. 2. 2. 2. 2. 2.\n",
            " 2. 2. 2. 1. 2. 1. 1. 1. 1. 1. 1. 1. 1. 1. 1. 1. 1. 1. 1. 1. 1. 1. 1. 1.\n",
            " 1. 1. 4. 2. 2. 1. 1. 1. 1. 1. 1. 1. 1. 1. 1. 1. 1. 1. 1. 1. 1. 1. 1. 1.\n",
            " 1. 1. 1. 1. 1. 1. 1. 1. 1. 1. 1. 1. 1. 1. 1. 1. 1. 1. 1. 1. 2. 2. 2. 2.\n",
            " 2. 2. 2. 1. 2. 3. 3. 3. 2. 2. 2. 2. 1. 1. 1. 1. 1. 1. 1. 1. 1. 2. 1. 1.\n",
            " 1. 1. 2. 1. 1. 3. 3. 3. 1.]\n"
          ]
        }
      ],
      "source": [
        "# Evaluate the model\n",
        "from sklearn.metrics import classification_report\n",
        "\n",
        "y_knn_pred = grid_search.predict(X_test)\n",
        "\n",
        "# Calculate and print the accuracy\n",
        "accuracy = accuracy_score(y_test, y_knn_pred)\n",
        "print(\"Accuracy:\", accuracy)\n",
        "\n",
        "# Generate and print a classification report\n",
        "print(\"Classification Report:\")\n",
        "print(classification_report(y_test, y_knn_pred))\n",
        "\n",
        "# Generate and print a confusion matrix\n",
        "print(\"Confusion Matrix:\")\n",
        "print(confusion_matrix(y_test, y_knn_pred))\n",
        "\n",
        "y_prediction = grid_search.predict(preprocessed_test)\n",
        "print(y_prediction)"
      ]
    },
    {
      "cell_type": "markdown",
      "metadata": {
        "id": "1bIigoLxKYHZ"
      },
      "source": [
        "## 5. Remaining suspects\n",
        "\n",
        "In this section we will identify the potential suspects  according to our new intelligence.\n",
        "\n",
        "Identify which users have a JobRole of 4 or higher on **both** the **Logistic Regression** model and the **Decision Tree**"
      ]
    },
    {
      "cell_type": "code",
      "execution_count": 26,
      "metadata": {},
      "outputs": [
        {
          "name": "stdout",
          "output_type": "stream",
          "text": [
            "[ 29  45  62  98 106 112 126 187 190 233 237 244 263 270 379 401 408 411\n",
            " 429 445 477 535 538 544 561 584 588] [187 188 189 426 650]\n"
          ]
        }
      ],
      "source": [
        "row_numbers_LR = np.where(y_pred >= 4)[0]\n",
        "row_numbers_knn = np.where(y_prediction >= 4)[0]\n",
        "# 'row_numbers' will now contain the indices of rows where the condition is met\n",
        "print(row_numbers_LR,row_numbers_knn)# Your code here"
      ]
    }
  ],
  "metadata": {
    "colab": {
      "provenance": []
    },
    "kernelspec": {
      "display_name": "Python 3",
      "name": "python3"
    },
    "language_info": {
      "codemirror_mode": {
        "name": "ipython",
        "version": 3
      },
      "file_extension": ".py",
      "mimetype": "text/x-python",
      "name": "python",
      "nbconvert_exporter": "python",
      "pygments_lexer": "ipython3",
      "version": "3.10.0"
    }
  },
  "nbformat": 4,
  "nbformat_minor": 0
}
