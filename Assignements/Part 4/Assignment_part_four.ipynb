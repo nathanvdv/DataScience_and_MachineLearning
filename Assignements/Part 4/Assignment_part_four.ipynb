{
 "cells": [
  {
   "cell_type": "markdown",
   "metadata": {},
   "source": [
    "<a href=\"https://colab.research.google.com/github/michalis0/DataScience_and_MachineLearning/blob/master/Assignements/Part%204/Assignment_part_four.ipynb\" target=\"_parent\"><img src=\"https://colab.research.google.com/assets/colab-badge.svg\" alt=\"Open In Colab\"/></a>"
   ]
  },
  {
   "cell_type": "markdown",
   "metadata": {
    "id": "kZu-7QbP9muh"
   },
   "source": [
    "DSML investigation:\n",
    "\n",
    "You are part of the Suisse Impossible Mission Force, or SIMF for short. You need to uncover a rogue agent that is trying to steal sensitive information.\n",
    "\n",
    "Your mission, should you choose to accept it, is to find that agent before stealing any classified information. Good luck!"
   ]
  },
  {
   "cell_type": "markdown",
   "metadata": {
    "id": "DyL7WNdV9sWV"
   },
   "source": [
    "# Assignement part four\n",
    "### Due 22.10\n",
    "#### Identifying the suspects credit score\n",
    "We received informations that the rogue agent has a good credit score.\n",
    "\n",
    "Our spies at SIMF have managed to collect financial information relating to our suspects as well as a training dataset.\n",
    "\n",
    "Create a Neural Network over the training dataset `df` to identify which of the suspects have a good Credit_Mix\n",
    "\n",
    "\n",
    "## Getting to know our data\n",
    "\n",
    "* Age: a users age\n",
    "* Occupation: a users employment field\n",
    "* Annual_Income: a users annual income\n",
    "* Monthly_Inh_Salary: the calculated salary received by a given user on a monthly basis\n",
    "* Num_Bank_Accounts: the number of bank accounts possessed by a given user\n",
    "* Num_Credit_Cards: the number of credit card given user possesses\n",
    "* Interest_Rate: The interest rate on those cards (if multiple then its the average)\n",
    "* Num_of_Loans: The number of loans of each user\n",
    "* Delay_from_due_date: payment tardiness of user\n",
    "* Num_of_Delayed_Payment: the count of delayed payments\n",
    "* Changed_Credit_Limit: NaN\n",
    "* Num_Credit_Inquiries: NaN\n",
    "* Credit_Mix: The users credit score\n",
    "* Outsting_Debt: Outstanding debt\n",
    "* Credit_Utilization_Ratio: the percentage of borrowed money over borrowing allowance\n",
    "* Payment_of_Min_Amount: does the user usually pay the minimal amount (categorical)\n",
    "* Total_EMI_per_month: Monthly repayments to be made\n",
    "* Amount_invested_monthly: The amout put in an investment fun by the user on a monthly basis\n",
    "* Payment_Behaviour: the users payment behavior (categorical)\n",
    "* Monthly_Balance: The users end of the month balance\n",
    "* AutoLoan: If the user has an active loan for their vehicule\n",
    "* Credit-BuilderLoan: If the user has a loan to increase their credit score\n",
    "* DebtConsolidationLoan, HomeEquityLoan, MortgageLoan, NotSpecified, PaydayLoan, PersonalLoan, StudentLoan: different types of loans(categorical features)\n",
    "\n"
   ]
  },
  {
   "cell_type": "code",
   "execution_count": 1,
   "metadata": {
    "id": "XHhI95r5-tyD"
   },
   "outputs": [],
   "source": [
    "# Import required packages\n",
    "from sklearn.preprocessing import LabelEncoder, OneHotEncoder\n",
    "import numpy as np\n",
    "import pandas as pd\n",
    "import matplotlib.pyplot as plt\n",
    "from sklearn.model_selection import train_test_split\n",
    "import torch\n",
    "import torch.nn as nn\n",
    "from sklearn.preprocessing import MinMaxScaler\n",
    "\n",
    "%matplotlib inline"
   ]
  },
  {
   "cell_type": "code",
   "execution_count": 2,
   "metadata": {},
   "outputs": [],
   "source": [
    "df = pd.read_csv(\"https://raw.githubusercontent.com/michalis0/DataScience_and_MachineLearning/master/Assignements/Part%204/data/train_classification.csv\", index_col='Unnamed: 0').dropna()\n",
    "suspects = pd.read_csv(\"https://raw.githubusercontent.com/michalis0/DataScience_and_MachineLearning/master/Assignements/Part%204/data/suspects.csv\", index_col='Unnamed: 0').dropna()"
   ]
  },
  {
   "cell_type": "code",
   "execution_count": 3,
   "metadata": {},
   "outputs": [
    {
     "data": {
      "text/html": [
       "<div>\n",
       "<style scoped>\n",
       "    .dataframe tbody tr th:only-of-type {\n",
       "        vertical-align: middle;\n",
       "    }\n",
       "\n",
       "    .dataframe tbody tr th {\n",
       "        vertical-align: top;\n",
       "    }\n",
       "\n",
       "    .dataframe thead th {\n",
       "        text-align: right;\n",
       "    }\n",
       "</style>\n",
       "<table border=\"1\" class=\"dataframe\">\n",
       "  <thead>\n",
       "    <tr style=\"text-align: right;\">\n",
       "      <th></th>\n",
       "      <th>Age</th>\n",
       "      <th>Occupation</th>\n",
       "      <th>Annual_Income</th>\n",
       "      <th>Monthly_Inh_Salary</th>\n",
       "      <th>Num_Bank_Accounts</th>\n",
       "      <th>Num_Credit_Card</th>\n",
       "      <th>Interest_Rate</th>\n",
       "      <th>Num_of_Loan</th>\n",
       "      <th>Delay_from_due_date</th>\n",
       "      <th>Num_of_Delayed_Payment</th>\n",
       "      <th>...</th>\n",
       "      <th>Monthly_Balance</th>\n",
       "      <th>AutoLoan</th>\n",
       "      <th>Credit-BuilderLoan</th>\n",
       "      <th>DebtConsolidationLoan</th>\n",
       "      <th>HomeEquityLoan</th>\n",
       "      <th>MortgageLoan</th>\n",
       "      <th>NotSpecified</th>\n",
       "      <th>PaydayLoan</th>\n",
       "      <th>PersonalLoan</th>\n",
       "      <th>StudentLoan</th>\n",
       "    </tr>\n",
       "  </thead>\n",
       "  <tbody>\n",
       "    <tr>\n",
       "      <th>0</th>\n",
       "      <td>23</td>\n",
       "      <td>Scientist</td>\n",
       "      <td>19114.12</td>\n",
       "      <td>1824.843333</td>\n",
       "      <td>3</td>\n",
       "      <td>4</td>\n",
       "      <td>3</td>\n",
       "      <td>4</td>\n",
       "      <td>3</td>\n",
       "      <td>7</td>\n",
       "      <td>...</td>\n",
       "      <td>186.266702</td>\n",
       "      <td>1</td>\n",
       "      <td>1</td>\n",
       "      <td>0</td>\n",
       "      <td>1</td>\n",
       "      <td>0</td>\n",
       "      <td>0</td>\n",
       "      <td>0</td>\n",
       "      <td>1</td>\n",
       "      <td>0</td>\n",
       "    </tr>\n",
       "    <tr>\n",
       "      <th>1</th>\n",
       "      <td>24</td>\n",
       "      <td>Scientist</td>\n",
       "      <td>19114.12</td>\n",
       "      <td>1824.843333</td>\n",
       "      <td>3</td>\n",
       "      <td>4</td>\n",
       "      <td>3</td>\n",
       "      <td>4</td>\n",
       "      <td>3</td>\n",
       "      <td>9</td>\n",
       "      <td>...</td>\n",
       "      <td>361.444004</td>\n",
       "      <td>1</td>\n",
       "      <td>1</td>\n",
       "      <td>0</td>\n",
       "      <td>1</td>\n",
       "      <td>0</td>\n",
       "      <td>0</td>\n",
       "      <td>0</td>\n",
       "      <td>1</td>\n",
       "      <td>0</td>\n",
       "    </tr>\n",
       "    <tr>\n",
       "      <th>3</th>\n",
       "      <td>24</td>\n",
       "      <td>Scientist</td>\n",
       "      <td>19114.12</td>\n",
       "      <td>4182.004291</td>\n",
       "      <td>3</td>\n",
       "      <td>4</td>\n",
       "      <td>3</td>\n",
       "      <td>4</td>\n",
       "      <td>4</td>\n",
       "      <td>5</td>\n",
       "      <td>...</td>\n",
       "      <td>343.826873</td>\n",
       "      <td>1</td>\n",
       "      <td>1</td>\n",
       "      <td>0</td>\n",
       "      <td>1</td>\n",
       "      <td>0</td>\n",
       "      <td>0</td>\n",
       "      <td>0</td>\n",
       "      <td>1</td>\n",
       "      <td>0</td>\n",
       "    </tr>\n",
       "    <tr>\n",
       "      <th>5</th>\n",
       "      <td>28</td>\n",
       "      <td>Teacher</td>\n",
       "      <td>34847.84</td>\n",
       "      <td>3037.986667</td>\n",
       "      <td>2</td>\n",
       "      <td>4</td>\n",
       "      <td>6</td>\n",
       "      <td>1</td>\n",
       "      <td>3</td>\n",
       "      <td>3</td>\n",
       "      <td>...</td>\n",
       "      <td>303.355083</td>\n",
       "      <td>0</td>\n",
       "      <td>1</td>\n",
       "      <td>0</td>\n",
       "      <td>0</td>\n",
       "      <td>0</td>\n",
       "      <td>0</td>\n",
       "      <td>0</td>\n",
       "      <td>0</td>\n",
       "      <td>0</td>\n",
       "    </tr>\n",
       "    <tr>\n",
       "      <th>8</th>\n",
       "      <td>35</td>\n",
       "      <td>Engineer</td>\n",
       "      <td>143162.64</td>\n",
       "      <td>4182.004291</td>\n",
       "      <td>1</td>\n",
       "      <td>5</td>\n",
       "      <td>8</td>\n",
       "      <td>3</td>\n",
       "      <td>8</td>\n",
       "      <td>1942</td>\n",
       "      <td>...</td>\n",
       "      <td>854.226027</td>\n",
       "      <td>2</td>\n",
       "      <td>0</td>\n",
       "      <td>0</td>\n",
       "      <td>0</td>\n",
       "      <td>0</td>\n",
       "      <td>1</td>\n",
       "      <td>0</td>\n",
       "      <td>0</td>\n",
       "      <td>0</td>\n",
       "    </tr>\n",
       "  </tbody>\n",
       "</table>\n",
       "<p>5 rows × 29 columns</p>\n",
       "</div>"
      ],
      "text/plain": [
       "   Age Occupation  Annual_Income  Monthly_Inh_Salary  Num_Bank_Accounts  \\\n",
       "0   23  Scientist       19114.12         1824.843333                  3   \n",
       "1   24  Scientist       19114.12         1824.843333                  3   \n",
       "3   24  Scientist       19114.12         4182.004291                  3   \n",
       "5   28    Teacher       34847.84         3037.986667                  2   \n",
       "8   35   Engineer      143162.64         4182.004291                  1   \n",
       "\n",
       "   Num_Credit_Card  Interest_Rate  Num_of_Loan  Delay_from_due_date  \\\n",
       "0                4              3            4                    3   \n",
       "1                4              3            4                    3   \n",
       "3                4              3            4                    4   \n",
       "5                4              6            1                    3   \n",
       "8                5              8            3                    8   \n",
       "\n",
       "   Num_of_Delayed_Payment  ...  Monthly_Balance  AutoLoan Credit-BuilderLoan  \\\n",
       "0                       7  ...       186.266702         1                  1   \n",
       "1                       9  ...       361.444004         1                  1   \n",
       "3                       5  ...       343.826873         1                  1   \n",
       "5                       3  ...       303.355083         0                  1   \n",
       "8                    1942  ...       854.226027         2                  0   \n",
       "\n",
       "   DebtConsolidationLoan  HomeEquityLoan MortgageLoan  NotSpecified  \\\n",
       "0                      0               1            0             0   \n",
       "1                      0               1            0             0   \n",
       "3                      0               1            0             0   \n",
       "5                      0               0            0             0   \n",
       "8                      0               0            0             1   \n",
       "\n",
       "   PaydayLoan PersonalLoan  StudentLoan  \n",
       "0           0            1            0  \n",
       "1           0            1            0  \n",
       "3           0            1            0  \n",
       "5           0            0            0  \n",
       "8           0            0            0  \n",
       "\n",
       "[5 rows x 29 columns]"
      ]
     },
     "execution_count": 3,
     "metadata": {},
     "output_type": "execute_result"
    }
   ],
   "source": [
    "df.head()"
   ]
  },
  {
   "cell_type": "code",
   "execution_count": 4,
   "metadata": {},
   "outputs": [
    {
     "data": {
      "text/plain": [
       "Credit_Mix\n",
       "Standard    13421\n",
       "Good         8963\n",
       "Bad          6839\n",
       "Name: count, dtype: int64"
      ]
     },
     "execution_count": 4,
     "metadata": {},
     "output_type": "execute_result"
    }
   ],
   "source": [
    "df[\"Credit_Mix\"].value_counts()"
   ]
  },
  {
   "cell_type": "markdown",
   "metadata": {
    "id": "LZENObtyefVk"
   },
   "source": [
    "# 1. Preparing the data\n",
    "## 1.1 Data cleaning\n",
    " Perform OHE over the \"Occupation\" feature\n",
    "\n",
    " Then, perform LE over Payment_of_Min_Amount and Payment_Behaviour\n",
    "\n",
    " _hint: As we will be testing only one model no need to define a pipeline_"
   ]
  },
  {
   "cell_type": "code",
   "execution_count": 5,
   "metadata": {
    "id": "JGVrLNJTefVk"
   },
   "outputs": [
    {
     "name": "stderr",
     "output_type": "stream",
     "text": [
      "/home/nathan/.local/lib/python3.10/site-packages/sklearn/preprocessing/_encoders.py:975: FutureWarning: `sparse` was renamed to `sparse_output` in version 1.2 and will be removed in 1.4. `sparse_output` is ignored unless you leave `sparse` to its default value.\n",
      "  warnings.warn(\n"
     ]
    },
    {
     "ename": "KeyError",
     "evalue": "'Payment_of_Min_Amount'",
     "output_type": "error",
     "traceback": [
      "\u001b[0;31m---------------------------------------------------------------------------\u001b[0m",
      "\u001b[0;31mKeyError\u001b[0m                                  Traceback (most recent call last)",
      "\u001b[1;32m/home/nathan/OneDrive/GitHub/DataScience_and_MachineLearning/Assignements/Part 4/Assignment_part_four.ipynb Cell 9\u001b[0m line \u001b[0;36m1\n\u001b[1;32m      <a href='vscode-notebook-cell:/home/nathan/OneDrive/GitHub/DataScience_and_MachineLearning/Assignements/Part%204/Assignment_part_four.ipynb#Y114sZmlsZQ%3D%3D?line=6'>7</a>\u001b[0m df_encoded \u001b[39m=\u001b[39m pd\u001b[39m.\u001b[39mconcat([df\u001b[39m.\u001b[39mdrop([\u001b[39m'\u001b[39m\u001b[39mOccupation\u001b[39m\u001b[39m'\u001b[39m], axis\u001b[39m=\u001b[39m\u001b[39m1\u001b[39m), df_encoded], axis\u001b[39m=\u001b[39m\u001b[39m1\u001b[39m, ignore_index\u001b[39m=\u001b[39m \u001b[39mTrue\u001b[39;00m)\n\u001b[1;32m      <a href='vscode-notebook-cell:/home/nathan/OneDrive/GitHub/DataScience_and_MachineLearning/Assignements/Part%204/Assignment_part_four.ipynb#Y114sZmlsZQ%3D%3D?line=8'>9</a>\u001b[0m le \u001b[39m=\u001b[39m LabelEncoder()\n\u001b[0;32m---> <a href='vscode-notebook-cell:/home/nathan/OneDrive/GitHub/DataScience_and_MachineLearning/Assignements/Part%204/Assignment_part_four.ipynb#Y114sZmlsZQ%3D%3D?line=9'>10</a>\u001b[0m df_encoded[\u001b[39m'\u001b[39m\u001b[39mPayment_of_Min_Amount\u001b[39m\u001b[39m'\u001b[39m] \u001b[39m=\u001b[39m le\u001b[39m.\u001b[39mfit_transform(df_encoded[\u001b[39m'\u001b[39;49m\u001b[39mPayment_of_Min_Amount\u001b[39;49m\u001b[39m'\u001b[39;49m])\n\u001b[1;32m     <a href='vscode-notebook-cell:/home/nathan/OneDrive/GitHub/DataScience_and_MachineLearning/Assignements/Part%204/Assignment_part_four.ipynb#Y114sZmlsZQ%3D%3D?line=10'>11</a>\u001b[0m df_encoded[\u001b[39m'\u001b[39m\u001b[39mPayment_Behaviour\u001b[39m\u001b[39m'\u001b[39m] \u001b[39m=\u001b[39m le\u001b[39m.\u001b[39mfit_transform(df_encoded[\u001b[39m'\u001b[39m\u001b[39mPayment_Behaviour\u001b[39m\u001b[39m'\u001b[39m])\n\u001b[1;32m     <a href='vscode-notebook-cell:/home/nathan/OneDrive/GitHub/DataScience_and_MachineLearning/Assignements/Part%204/Assignment_part_four.ipynb#Y114sZmlsZQ%3D%3D?line=12'>13</a>\u001b[0m \u001b[39mprint\u001b[39m(df_encoded)\n",
      "File \u001b[0;32m~/.local/lib/python3.10/site-packages/pandas/core/frame.py:3896\u001b[0m, in \u001b[0;36mDataFrame.__getitem__\u001b[0;34m(self, key)\u001b[0m\n\u001b[1;32m   3894\u001b[0m \u001b[39mif\u001b[39;00m \u001b[39mself\u001b[39m\u001b[39m.\u001b[39mcolumns\u001b[39m.\u001b[39mnlevels \u001b[39m>\u001b[39m \u001b[39m1\u001b[39m:\n\u001b[1;32m   3895\u001b[0m     \u001b[39mreturn\u001b[39;00m \u001b[39mself\u001b[39m\u001b[39m.\u001b[39m_getitem_multilevel(key)\n\u001b[0;32m-> 3896\u001b[0m indexer \u001b[39m=\u001b[39m \u001b[39mself\u001b[39;49m\u001b[39m.\u001b[39;49mcolumns\u001b[39m.\u001b[39;49mget_loc(key)\n\u001b[1;32m   3897\u001b[0m \u001b[39mif\u001b[39;00m is_integer(indexer):\n\u001b[1;32m   3898\u001b[0m     indexer \u001b[39m=\u001b[39m [indexer]\n",
      "File \u001b[0;32m~/.local/lib/python3.10/site-packages/pandas/core/indexes/range.py:418\u001b[0m, in \u001b[0;36mRangeIndex.get_loc\u001b[0;34m(self, key)\u001b[0m\n\u001b[1;32m    416\u001b[0m         \u001b[39mraise\u001b[39;00m \u001b[39mKeyError\u001b[39;00m(key) \u001b[39mfrom\u001b[39;00m \u001b[39merr\u001b[39;00m\n\u001b[1;32m    417\u001b[0m \u001b[39mif\u001b[39;00m \u001b[39misinstance\u001b[39m(key, Hashable):\n\u001b[0;32m--> 418\u001b[0m     \u001b[39mraise\u001b[39;00m \u001b[39mKeyError\u001b[39;00m(key)\n\u001b[1;32m    419\u001b[0m \u001b[39mself\u001b[39m\u001b[39m.\u001b[39m_check_indexing_error(key)\n\u001b[1;32m    420\u001b[0m \u001b[39mraise\u001b[39;00m \u001b[39mKeyError\u001b[39;00m(key)\n",
      "\u001b[0;31mKeyError\u001b[0m: 'Payment_of_Min_Amount'"
     ]
    }
   ],
   "source": [
    "\n",
    "# Your code here:\n",
    "ohe = OneHotEncoder(sparse= False)\n",
    "df_fitted = ohe.fit_transform(df[['Occupation']])\n",
    "categories = ohe.get_feature_names_out(input_features=['Occupation'])\n",
    "df_encoded = pd.DataFrame(df_fitted, columns=categories, index= df.index)\n",
    "# Replace the 'Occupation' column with the one-hot encoded columns\n",
    "df_encoded = pd.concat([df.drop(['Occupation'], axis=1), df_encoded], axis=1, ignore_index= True)\n",
    "\n",
    "le = LabelEncoder()\n",
    "df_encoded['Payment_of_Min_Amount'] = le.fit_transform(df_encoded['Payment_of_Min_Amount'])\n",
    "df_encoded['Payment_Behaviour'] = le.fit_transform(df_encoded['Payment_Behaviour'])\n",
    "\n",
    "print(df_encoded)\n",
    "\n",
    "\n",
    "\n",
    "\n"
   ]
  },
  {
   "cell_type": "markdown",
   "metadata": {
    "id": "nfPnhUxAefVl"
   },
   "source": [
    "## 1.2 Dataset splitting\n",
    "\n",
    "Split the dataset in two, first X with your independent features and then y with the dependent feature **CreditMix**.\n",
    "\n",
    "Then perform :\n",
    "* OneHotEncoding over the **CreditMix** feature.\n",
    "* A MinMaxScaller over the independent features"
   ]
  },
  {
   "cell_type": "code",
   "execution_count": null,
   "metadata": {
    "colab": {
     "base_uri": "https://localhost:8080/",
     "height": 439
    },
    "id": "J-mentarefVm",
    "outputId": "f955a93e-5e45-4f91-d183-0c3aa19e0caf"
   },
   "outputs": [],
   "source": [
    "# Your code here:\n",
    "\n",
    "\n",
    "\n",
    "#Define the scaler\n",
    "\n",
    "#Fit the scaler\n"
   ]
  },
  {
   "cell_type": "markdown",
   "metadata": {},
   "source": [
    "### 1.2.1 Train Test splitting\n",
    "Now split the data in X_train, X_test, y_train, y_test, \n",
    "\n",
    "You can use test_size = 0.2 and a random_state of 42"
   ]
  },
  {
   "cell_type": "code",
   "execution_count": null,
   "metadata": {
    "id": "yotEvoAxefVn"
   },
   "outputs": [],
   "source": [
    "# Your code here\n"
   ]
  },
  {
   "cell_type": "markdown",
   "metadata": {},
   "source": [
    "### 1.2.2 final touches\n",
    "Convert your datasets to `Torch tensors` of type `torch.float`"
   ]
  },
  {
   "cell_type": "code",
   "execution_count": null,
   "metadata": {
    "id": "2KS_U8stefVo"
   },
   "outputs": [],
   "source": [
    "#Your code here:\n",
    "\n"
   ]
  },
  {
   "cell_type": "markdown",
   "metadata": {},
   "source": [
    "# 2 Model preparation:\n",
    "\n",
    "## 2.1 Define a Neural network model and instantiate it.\n",
    "You can set the number of neurons to 150."
   ]
  },
  {
   "cell_type": "code",
   "execution_count": null,
   "metadata": {
    "id": "8qqRoocVefVp"
   },
   "outputs": [],
   "source": [
    "# Define a neural network class here:\n"
   ]
  },
  {
   "cell_type": "code",
   "execution_count": null,
   "metadata": {
    "id": "cx-3yvp5efVp"
   },
   "outputs": [],
   "source": [
    "# Instantiate your model here"
   ]
  },
  {
   "cell_type": "markdown",
   "metadata": {},
   "source": [
    "## 2.2 finding the best model:\n",
    "Identify, amongst the following options the best parameters for your model:\n",
    "\n",
    "* `criterion` : [CrossEntropyLoss](https://anvilproject.org/guides/content/creating-links), [BCEWithLogitsLoss](hhttps://pytorch.org/docs/stable/generated/torch.nn.BCEWithLogitsLoss.html)\n",
    "* `iterations` : 150, 250, 500\n",
    "* `learning rate` : 0.00005, 0.001, 12.031\n",
    "\n",
    "\n",
    "_Hint: restart your runtime between each execution to ensure that previous neural networks dont interfere with your current one_\n",
    "\n",
    "_You can evaluate your model based on it's accuracy over the test set_"
   ]
  },
  {
   "cell_type": "code",
   "execution_count": null,
   "metadata": {
    "id": "Xx9l8UOoefVq"
   },
   "outputs": [],
   "source": [
    "# Define your loss function here:\n",
    "\n",
    "# Define your SGD optimizer for finding the weights of the network here\n"
   ]
  },
  {
   "cell_type": "code",
   "execution_count": null,
   "metadata": {
    "colab": {
     "base_uri": "https://localhost:8080/"
    },
    "id": "Z_pmZ0yAefVr",
    "outputId": "f065c474-ad2e-441b-b955-9e3193df2c87"
   },
   "outputs": [],
   "source": [
    "# Perform your iterations here"
   ]
  },
  {
   "cell_type": "markdown",
   "metadata": {},
   "source": [
    "## 2.3 Model Accuracy\n",
    "Identify the models accuracy over the train and test parts of the training dataset"
   ]
  },
  {
   "cell_type": "code",
   "execution_count": null,
   "metadata": {},
   "outputs": [],
   "source": [
    "# deactivate dropout layers\n",
    "\n",
    "# Training accuracy\n",
    "\n",
    "\n",
    "# Test accuracy\n"
   ]
  },
  {
   "cell_type": "markdown",
   "metadata": {},
   "source": [
    "# 3. Predictions over the suspects dataset\n",
    "## 3.1 Retrain a new model over the full training dataset\n",
    "#### Please use the following parameters for this section:\n",
    "* ``neurons`` = 150\n",
    "* ``learning`` rate = 0.00005\n",
    "* ``criterion`` = CrossEntropyLoss\n",
    "* `iterations` = 500\n",
    "\n",
    "_hint you may have to redo some preprocessing as you did in part one_"
   ]
  },
  {
   "cell_type": "code",
   "execution_count": null,
   "metadata": {},
   "outputs": [],
   "source": [
    "# Define a new model here:"
   ]
  },
  {
   "cell_type": "code",
   "execution_count": null,
   "metadata": {},
   "outputs": [],
   "source": [
    "# Define your MSE loss here:\n",
    "\n",
    "# Define your SGD optimizer for finding the weights of the network here:\n"
   ]
  },
  {
   "cell_type": "code",
   "execution_count": null,
   "metadata": {},
   "outputs": [],
   "source": [
    "# perform your training here"
   ]
  },
  {
   "cell_type": "markdown",
   "metadata": {},
   "source": [
    "## 3.2 Predict over the suspects dataset"
   ]
  },
  {
   "cell_type": "code",
   "execution_count": null,
   "metadata": {},
   "outputs": [],
   "source": [
    "# Predict which users have a good credit score here:\n"
   ]
  }
 ],
 "metadata": {
  "colab": {
   "provenance": []
  },
  "kernelspec": {
   "display_name": "Python 3",
   "language": "python",
   "name": "python3"
  },
  "language_info": {
   "codemirror_mode": {
    "name": "ipython",
    "version": 3
   },
   "file_extension": ".py",
   "mimetype": "text/x-python",
   "name": "python",
   "nbconvert_exporter": "python",
   "pygments_lexer": "ipython3",
   "version": "3.9.6"
  }
 },
 "nbformat": 4,
 "nbformat_minor": 1
}
