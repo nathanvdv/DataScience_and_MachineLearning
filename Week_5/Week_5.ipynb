{
  "cells": [
    {
      "cell_type": "markdown",
      "id": "gD1Vv4GS8TwY",
      "metadata": {
        "id": "gD1Vv4GS8TwY"
      },
      "source": [
        "<a href=\"https://colab.research.google.com/github/michalis0/DataScience_and_MachineLearning/blob/master/Week_5/Week_5.ipynb\" target=\"_parent\"><img src=\"https://colab.research.google.com/assets/colab-badge.svg\" alt=\"Open In Colab\"/></a>"
      ]
    },
    {
      "cell_type": "code",
      "execution_count": 44,
      "id": "15dc4475-7f7d-4457-8762-bb031a0629b2",
      "metadata": {
        "id": "15dc4475-7f7d-4457-8762-bb031a0629b2"
      },
      "outputs": [],
      "source": [
        "# Import standard libraries\n",
        "import pandas as pd\n",
        "import numpy as np\n",
        "import seaborn as sns\n",
        "import matplotlib.pylab as plt\n",
        "%matplotlib inline\n",
        "from IPython.display import YouTubeVideo\n",
        "\n",
        "# ML import\n",
        "from sklearn.model_selection import train_test_split # Splitting the data set\n",
        "from sklearn.preprocessing import MinMaxScaler       # Normalization\n",
        "from sklearn.preprocessing import LabelEncoder       # Encoder\n",
        "import torch                                   # PyTorch\n",
        "import torch.nn as nn                          # PyTorch building blocks\n",
        "from IPython.display import YouTubeVideo"
      ]
    },
    {
      "cell_type": "markdown",
      "id": "a844a8c0-078c-4946-8927-e570469c601c",
      "metadata": {
        "id": "a844a8c0-078c-4946-8927-e570469c601c"
      },
      "source": [
        "# Neural Nets"
      ]
    },
    {
      "cell_type": "markdown",
      "id": "9984e553-36af-42c8-9522-dd090686c913",
      "metadata": {
        "id": "9984e553-36af-42c8-9522-dd090686c913"
      },
      "source": [
        "<img src='https://imgs.xkcd.com/comics/trained_a_neural_net.png' width=\"270\">\n",
        "\n",
        "Source: [xqcd 2173](https://xkcd.com/2173/)"
      ]
    },
    {
      "cell_type": "markdown",
      "id": "4392fab0-671b-45ea-b27a-61a797c0e090",
      "metadata": {
        "id": "4392fab0-671b-45ea-b27a-61a797c0e090"
      },
      "source": [
        "## Content\n",
        "\n",
        "The goal of this walkthrough is to provide you with insights on Neural Nets. After presenting the main concepts, you will be introduced to the techniques to implement your own neural network in Python, with PyTorch and using a pre-build Neural Net.\n",
        "\n",
        "This notebook is organized as follows:\n",
        "- [Background](#Background)\n",
        "    - [Neurons](#Neurons)\n",
        "        - [Biological Neuron](#Biological-Neuron)\n",
        "        - [Artificial neuron and perceptron](#Artificial-neuron-and-perceptron)\n",
        "            - [Activation function](#Activation-function)\n",
        "    - [Some Neural Nets](#Some-Neural-Nets)\n",
        "        - [Multilayer Perceptron (MLP)](#Multilayer-Perceptron-(MLP))\n",
        "        - [Convolutional Neural Nerwork (CNN)](#Convolutional-Neural-Nerwork-(CNN))\n",
        "        - [Recurrent Neural Network (RNN)](#Recurrent-Neural-Network-(RNN))\n",
        "- [How to build your own Neural Net?](#How-to-build-your-own-Neural-Net?)\n",
        "    - [Application: Predicting house prices](#Application:-Predicting-house-prices)\n",
        "        - [Data](#Data)\n",
        "            - [Preprocessing](#Preprocessing)\n",
        "            - [Creating training and test set](#Creating-training-and-test-set)\n",
        "            - [Normalizing-the-data](#Normalizing-the-data)\n",
        "        - [Building a Linear Regression model with PyTorch](#Building-a-Linear-Regression-model-with-PyTorch)\n",
        "            - [Create tensors](#Create-tensors)\n",
        "            - [Define and train a model with PyTorch](#Define-and-train-a-model-with-PyTorch)\n",
        "        - [Your turn](#Your-turn)\n",
        "- [Implement a pre-built Neural Net](#Implement-a-pre-built-Neural-Net)"
      ]
    },
    {
      "cell_type": "markdown",
      "id": "7763984b-c9d6-43b0-ba06-fd749431aa32",
      "metadata": {
        "id": "7763984b-c9d6-43b0-ba06-fd749431aa32"
      },
      "source": [
        "## Background\n",
        "\n",
        "[Artificial Neural Networks](https://en.wikipedia.org/wiki/Artificial_neural_network) - simply called Neural Nets (NNs) - are computing systems inspired by the biological neural networks that constitute animal brains. They are used to approximate functions that are generally unknown.\n",
        "\n",
        "NNs are based on a collection of connected nodes, called **artificial neurons**. In short, an [artificial neuron](https://en.wikipedia.org/wiki/Artificial_neuron) is a mathematical function conceived as a model of biological neurons.\n",
        "\n",
        "These artificial neurons are aggregated into **layers**. Signals travel from the first layer (the *input layer*), to the last layer (the *output layer*), traversing one or several *hidden layers*, which perform different transformations on their inputs. The output of one layer is the input of the next one: this is called **forward propagation**. A neural network with multiple layers between the input and output layers is called [Deep Neural Network](https://en.wikipedia.org/wiki/Deep_learning#Deep_neural_networks) (DNN).\n",
        "\n",
        "Below is an illustration of a simple NN. Each circle represents an artificial neuron and an arrow represents a connection from the output of one artificial neuron to the input of another:\n",
        "\n",
        "<center>\n",
        "<img src='https://upload.wikimedia.org/wikipedia/commons/thumb/4/46/Colored_neural_network.svg/444px-Colored_neural_network.svg.png?20130228185515' width=\"270\"></center>\n",
        "\n",
        "Source: [Glosser.ca](https://commons.wikimedia.org/wiki/File:Colored_neural_network.svg), Wikipedia, [Artificial Neural Network](https://en.wikipedia.org/wiki/Artificial_neural_network)"
      ]
    },
    {
      "cell_type": "markdown",
      "id": "c63fa865-07da-4109-b61b-cd4d155fb33d",
      "metadata": {
        "id": "c63fa865-07da-4109-b61b-cd4d155fb33d"
      },
      "source": [
        "Depending on the structure of the network, we differentiate between feedforward and recurrent NNs:\n",
        "- [Feedforward Neural Network](https://en.wikipedia.org/wiki/Feedforward_neural_network) (FFNN)  was the first and simplest type of artificial neural network devised. In FFNNs, connections between the nodes do not form a cycle. FFNN are trained by backward propagation ([**backpropagation**](https://en.wikipedia.org/wiki/Backpropagation)).\n",
        "- [Recurrent Neural Networks](https://en.wikipedia.org/wiki/Recurrent_neural_network) (RNN) are networks wherein connections between nodes can create a cycle, allowing output from some nodes to affect subsequent input to the same nodes. RNNs are trained by [**backpropagation through time**](https://en.wikipedia.org/wiki/Backpropagation_through_time) (BPTT).\n",
        "\n",
        "In the following, we will explore the concept of (artificial) neurons and present a few types of neural nets.\n",
        "\n",
        "For a nice visual introduction to Neural Nets and to backpropagation, you can view the series of videos by [3Blue1Brown](https://www.youtube.com/playlist?list=PLZHQObOWTQDNU6R1_67000Dx_ZCJB-3pi) on the topic:"
      ]
    },
    {
      "cell_type": "code",
      "execution_count": 45,
      "id": "3a1828da-c74c-44b3-a0a3-352c02ff9079",
      "metadata": {
        "colab": {
          "base_uri": "https://localhost:8080/",
          "height": 0
        },
        "id": "3a1828da-c74c-44b3-a0a3-352c02ff9079",
        "outputId": "f21f7c9d-d299-46ca-f74c-c9fcacc01ee3"
      },
      "outputs": [
        {
          "data": {
            "image/jpeg": "[encoded data removed]",
            "text/html": [
              "\n",
              "        <iframe\n",
              "            width=\"560\"\n",
              "            height=\"315\"\n",
              "            src=\"https://www.youtube.com/embed/aircAruvnKk\"\n",
              "            frameborder=\"0\"\n",
              "            allowfullscreen\n",
              "            \n",
              "        ></iframe>\n",
              "        "
            ],
            "text/plain": [
              "<IPython.lib.display.YouTubeVideo at 0x7f03a5cc0a30>"
            ]
          },
          "execution_count": 45,
          "metadata": {},
          "output_type": "execute_result"
        }
      ],
      "source": [
        "YouTubeVideo(\"aircAruvnKk\", width=\"560\", height=\"315\")"
      ]
    },
    {
      "cell_type": "markdown",
      "id": "27b2f794-7e6b-4438-968d-87cf15802f91",
      "metadata": {
        "id": "27b2f794-7e6b-4438-968d-87cf15802f91"
      },
      "source": [
        "Further reading:\n",
        "- [Hands-On Machine Learning with Scikit-Learn, Keras, and TensorFlow](https://www.oreilly.com/library/view/hands-on-machine-learning/9781492032632/), by Aurélien Géron\n",
        "- [Everything you need to know about Neural Networks and Backpropagation — Machine Learning Easy and Fun](https://towardsdatascience.com/everything-you-need-to-know-about-neural-networks-and-backpropagation-machine-learning-made-easy-e5285bc2be3a), by Gavril Ognjanovski\n",
        "- [Neural Network from scratch in Python](https://towardsdatascience.com/math-neural-network-from-scratch-in-python-d6da9f29ce65), by Omar Aflak"
      ]
    },
    {
      "cell_type": "markdown",
      "id": "5d74b223-5b65-4bb3-b6a9-4ec89d491649",
      "metadata": {
        "id": "5d74b223-5b65-4bb3-b6a9-4ec89d491649"
      },
      "source": [
        "### Neurons"
      ]
    },
    {
      "cell_type": "markdown",
      "id": "7a1b7d97-3e8c-4ffc-bc2e-67116d23a889",
      "metadata": {
        "id": "7a1b7d97-3e8c-4ffc-bc2e-67116d23a889"
      },
      "source": [
        "#### Biological Neuron\n",
        "\n",
        "The nervous system is composed of more than 100 billion cells known as [neurons](https://en.wikipedia.org/wiki/Neuron), which process and transmit the information received from our senses. Neurons are arranged together in our brain to form a network of nerves. These nerves pass electrical impulses from one neuron to the other.\n",
        "\n",
        "<img src='https://miro.medium.com/v2/resize:fit:1100/format:webp/1*vBIWWCFLLzZzGes1HcCJOw.jpeg' width=\"450\">\n",
        "\n",
        "Neurons are made up of three major parts:\n",
        "- the *dendrites* collect information from other cells and send this information to the soma;\n",
        "- the *soma* is the cell body containing the nucleus of the cell and keeping it alive;\n",
        "- the *axon* transmits information away from the cell body towards other neurons or to the muscles and glands;\n",
        "    - when the axon is stimulated by an electrical signal from the dendrites, the impulse is transmitted if the electrical signal is strong enough that it passes a certain level or threshold.\n",
        "    - the axon terminal, located at the end of the axon farthest from the soma, contains [*synapses*](https://en.wikipedia.org/wiki/Synapse), which are structure that permits the transmission of information to another cell. Synapses have the ability to strengthen or weaken over time in responses to increases or decreases in their activity: this is called [*synaptic plasticity*](https://en.wikipedia.org/wiki/Synaptic_plasticity).\n",
        "\n",
        "<center>\n",
        "<img src='https://opentextbc.ca/introductiontopsychology/wp-content/uploads/sites/9/2013/11/6a3f0732c22683476ea201ffc5e428ad.jpg' width=\"400\"></center>\n",
        "\n",
        "Source: Jennifer Walinga, [The Neuron Is the Building Block of the Nervous System](https://opentextbc.ca/introductiontopsychology/chapter/3-1-the-neuron-is-the-building-block-of-the-nervous-system/), Chapter 4.1 of *Introduction to Psychology*"
      ]
    },
    {
      "cell_type": "markdown",
      "id": "11fe51c9-40ab-4ad4-a54f-19563870533d",
      "metadata": {
        "id": "11fe51c9-40ab-4ad4-a54f-19563870533d"
      },
      "source": [
        "#### Artificial neuron and perceptron\n",
        "\n",
        "An [artificial neuron](https://en.wikipedia.org/wiki/Artificial_neuron) is inspired by its biological counterpart. It receives some inputs, transforms them, and transmits the output.  \n",
        "\n",
        "An artificial neuron typically: 1) performs a weighted sum of the inputs; 2) passes this sum through an [activation function](https://en.wikipedia.org/wiki/Activation_function). We'll discuss what is an activation function below. For now, let's formalize what is happening in an artificial neuron. Let:\n",
        "- $\\boldsymbol{x}=(x_1, ..., x_d)$ be some input signals\n",
        "    - the input signals can come from artificial neurons from the input layer (input data) or from artificial neurons from the hidden layers\n",
        "- $y_k$ be the output signal of neuron $k$\n",
        "\n",
        "The operation performed by an artificial neuron is:\n",
        "$$y_k = \\varphi(\\boldsymbol{w} \\cdot \\boldsymbol{x} + b) = \\varphi(w_{k1} x_{1} +  w_{k2} x_{2} + ... +  w_{kd} x_{d} + b_k) $$\n",
        "\n",
        "Where:\n",
        "- $\\boldsymbol{w}=(w_{k1}, ..., w_{kd})$ are the **weights**\n",
        "    -  the weights have the same role than the synapses. Their value determines the strength of the link between one artificial neuron and another. When we learn the weights, this link can strengthen or weaken, similarly than with synaptic plasticity\n",
        "- $b_k$ is the **bias**\n",
        "- $\\varphi$ is an **activation function**\n",
        "    - the activation function models what is happening in the axon of a biological neuron: the electrical impulses are only transmitted if they are strong enough to reach a given threshold\n",
        "\n",
        "<center>\n",
        "<img src='https://www.gabormelli.com/RKB/images/thumb/3/31/artificial-neuron-model.png/600px-artificial-neuron-model.png' width=\"450\"></center>\n",
        "\n",
        "Source: [Artificial Neuron](https://www.gabormelli.com/RKB/Artificial_Neuron), Gabor Melli's Research Knowledge Base\n",
        "\n",
        "Note that, oftentimes, we write $b_k=w_{k0}$ and $x_{0}=1$, so that the expression simplifies to $y_k = \\varphi(\\boldsymbol{w} \\cdot \\boldsymbol{x})$.\n",
        "\n",
        "The first artificial neuron was the [perceptron](https://en.wikipedia.org/wiki/Perceptron), invented in 1943 by Warren McCulloch and Walter Pitts. It was a binary classifier, i.e., the activation function was the unit step function:\n",
        "- $\\varphi(\\boldsymbol{x}) = 1$ if $\\boldsymbol{w} \\cdot \\boldsymbol{x} +b>0$\n",
        "- $\\varphi(\\boldsymbol{x}) = 0$ otherwise\n",
        "\n",
        "The perceptron, also called the single-layer perceptron, was the first and simplest (feedforward) neural network!"
      ]
    },
    {
      "cell_type": "markdown",
      "id": "be768579-7a57-43d8-b26b-b6abc9efeb92",
      "metadata": {
        "id": "be768579-7a57-43d8-b26b-b6abc9efeb92"
      },
      "source": [
        "##### Activation function\n",
        "\n",
        "As mentioned above, the [activation function](https://en.wikipedia.org/wiki/Activation_function) represents what is happening in the axon of a biological neuron: the electrical impulses are only transmitted if they are strong enough to reach a given threshold. There are many possible activation functions:\n",
        "- unit step function ([Heaviside step function](https://en.wikipedia.org/wiki/Heaviside_step_function)), as used in the perceptron;\n",
        "- sigmoid, e.g., the [logistic function](https://en.wikipedia.org/wiki/Logistic_function), previously seen for logistic regression\n",
        "    - $\\varphi(x)=\\frac{1}{1 + e^{-x}}$\n",
        "- Rectified linear unit ([ReLU](https://en.wikipedia.org/wiki/Rectifier_(neural_networks))), one of the most popular because of its good performance and fast gradient computation\n",
        "    - $\\varphi(x) = \\max(0,x) $\n",
        "- Parametric rectified linear unit ([PReLU](https://en.wikipedia.org/wiki/Rectifier_(neural_networks)#Parametric_ReLU)), a variant of ReLU that avoids the *dead* neurons problem, i.e., neurons becoming inactive\n",
        "    - $\\varphi(x) = \\max(\\alpha x,x) $ with $0<\\alpha<1$\n",
        "    - when $\\alpha=0.01$, the function is called Leaky ReLU\n",
        "\n",
        "<center>\n",
        "<img src='https://miro.medium.com/v2/resize:fit:1400/format:webp/1*ypsvQH7kvtI2BhzR2eT_Sw.png' width=\"400\"> </center>\n",
        "\n",
        "Source: Danqing Liu, [A Practical Guide to ReLU](https://medium.com/@danqing/a-practical-guide-to-relu-b83ca804f1f7)\n",
        "\n",
        "There are numerous other activation functions. Explore them [here](https://en.wikipedia.org/wiki/Activation_function#Comparison_of_activation_functions)!\n",
        "\n",
        "You can also play and visualize more esay how neural networs are build with this [Web app](http://playground.tensorflow.org/)"
      ]
    },
    {
      "cell_type": "markdown",
      "id": "f5654a34-b6ea-4513-968d-a4af75e4efd1",
      "metadata": {
        "id": "f5654a34-b6ea-4513-968d-a4af75e4efd1",
        "tags": []
      },
      "source": [
        "### Some Neural Nets\n"
      ]
    },
    {
      "cell_type": "markdown",
      "id": "4ca625a0-b1b7-4d5d-8660-ea33f7a22b1e",
      "metadata": {
        "id": "4ca625a0-b1b7-4d5d-8660-ea33f7a22b1e"
      },
      "source": [
        "#### Multilayer Perceptron (MLP)\n",
        "\n",
        "A [Multilayer Perceptron](https://en.wikipedia.org/wiki/Multilayer_perceptron) (MLP) is a *fully-connected* feedforward neural network. Here is an illustration, with 3 hidden layers:\n",
        "\n",
        "<center>\n",
        "<img src='https://miro.medium.com/v2/resize:fit:569/0*03elfV9p5nZTnRKe.png' width=\"500\"> </center>\n",
        "\n",
        "Each circle represents one perceptron. Historically, the perceptrons used a sigmoid activation function, but nowadays, ReLU and its variants are more frequently used.\n",
        "\n",
        "Originally developed in the 1960s, these models had applications in diverse fields in the 1980s, such as speech recognition and machine translation software. Recently, interest in these networks was renewed due to the successes of deep learning.  "
      ]
    },
    {
      "cell_type": "markdown",
      "id": "1ab5a330-3cac-42a5-9079-c7b564993c0b",
      "metadata": {
        "id": "1ab5a330-3cac-42a5-9079-c7b564993c0b"
      },
      "source": [
        "#### Convolutional Neural Network (CNN)\n",
        "\n",
        "A [Convolutional Neural Network](https://en.wikipedia.org/wiki/Convolutional_neural_network) (CNN) is a class of neural network most commonly applied in processing data that has a grid-like topology, such as an image. They have proven very effective in analyzing visual imagery, e.g., image recognition and classification.\n",
        "\n",
        "CNNs use a mathematical operation called [convolution](https://en.wikipedia.org/wiki/Convolution) in place of general matrix multiplication in at least one of their layers. This layer performs a dot product between two matrices, where one matrix is the set of learnable parameters otherwise known as a [kernel](https://en.wikipedia.org/wiki/Kernel_(image_processing)), and the other matrix is the restricted portion of the receptive field. In other words, a convolution is the process of adding each element of the image to its local neighbors, weighted by the kernel:\n",
        "\n",
        "<center>\n",
        "<img src='https://upload.wikimedia.org/wikipedia/commons/1/19/2D_Convolution_Animation.gif' width=\"300\"> </center>\n",
        "\n",
        "Source: Michael Plotke, [Kernel (image processing)](https://en.wikipedia.org/wiki/Kernel_(image_processing))\n",
        "\n",
        "The kernel is a filter that applies a transformation to the original image, e.g., blurring, sharpening, embossing, edge detection, etc.\n",
        "\n",
        "For a more detailed introduction of CNN, you can read:\n",
        "- [An Intuitive Explanation of Convolutional Neural Networks](https://ujjwalkarn.me/2016/08/11/intuitive-explanation-convnets/), by Ujjwal Karn\n",
        "- [Convolutional Neural Networks, Explained](https://towardsdatascience.com/convolutional-neural-networks-explained-9cc5188c4939), by Mayank Mishra"
      ]
    },
    {
      "cell_type": "markdown",
      "id": "2d9ede07-61c4-42bc-85d5-191bdb70e9af",
      "metadata": {
        "id": "2d9ede07-61c4-42bc-85d5-191bdb70e9af"
      },
      "source": [
        "#### Recurrent Neural Network (RNN)\n",
        "\n",
        "A [Recurrent Neural Networks](https://en.wikipedia.org/wiki/Recurrent_neural_network) (RNN) is a class of artificial neural networks where connections between nodes can create a cycle, allowing output from some nodes to affect subsequent input to the same nodes. RNNs are useful when dealing with sequential data like natural language and time series. They are mostly used in the fields of natural language processing and speech recognition.\n",
        "\n",
        "A RNN is very much alike feedforward neural nerworks, except it also has connections pointing backforward: at each time step $t$, a *recurrent neuron* receives the input $x_t$ as well as its own output from the previous step $y_{t-1}$:\n",
        "$$y_{t} = \\varphi(\\boldsymbol{w_t} \\cdot \\boldsymbol{x_t} + \\boldsymbol{w_y} \\cdot \\boldsymbol{y_{t-1}} + b)$$\n",
        "\n",
        "We can represent a recurrent neuron graphically:\n",
        "<center>\n",
        "<img src='https://www.oreilly.com/api/v2/epubs/9781492037354/files/assets/mlst_1401.png' width=\"400\"> </center>\n",
        "\n",
        "\n",
        "More generally, a recurrent unit may store more information than the previous predictions. A part of a neural network that preserves some state across time steps is called a *memory cell*. Indeed, since the output at time $t$ is a function of the inputs from previous time steps, the recurrent neuron has a form of memory! The memory cell is a hidden layer that flows through time:\n",
        "\n",
        "<center>\n",
        "<img src='https://www.oreilly.com/api/v2/epubs/9781492037354/files/assets/mlst_1403.png' width=\"400\"> </center>\n",
        "\n",
        "\n",
        "RNNs have the obvious advantage of taking into account historical information. However, computation can be slow and it might be difficult to access information from a long time ago (issue of *fading memory*). To solve this issue, various memory cell architectures with long-term memory have been developed to save information, including:  \n",
        "- The [Long Short-Term Memory](https://en.wikipedia.org/wiki/Long_short-term_memory) (LSTM) with the idea to store a short-term state $h_t$ and a long-term state $c_t$. LTSM rely on *gates*: when the gate is open, the output is multiplied by 1 (information preserved); when the gate is closed, the outputs is multiplied by 0 (information erased). Gates are a way to update and reset persistent information:\n",
        "    - the *forget gate* controls which parts of the long-term state should be erased,\n",
        "    - the *input gate* controls which parts of the output should be added to the long-term state,\n",
        "    - the *output gate* controls which parts should be output at this time step\n",
        "- The [Gated Recurrent Unit](https://en.wikipedia.org/wiki/Gated_recurrent_unit) (GRU), a simplified version of the LTSM.\n",
        "\n",
        "<center>\n",
        "<img src='https://www.oreilly.com/api/v2/epubs/9781492037354/files/assets/mlst_1413.png' width=\"400\"> </center>\n",
        "\n",
        "For a more detailed introduction of RNN, you can read:\n",
        "- [Source behind all the figures in this section]: [Chapter 4. Recurrent Neural Networks](https://www.oreilly.com/library/view/neural-networks-and/9781492037354/ch04.html), *Neural networks and deep learning*, by Aurélien Géron\n",
        "- [Recurrent Neural Networks cheatsheet](https://stanford.edu/~shervine/teaching/cs-230/cheatsheet-recurrent-neural-networks), by Afshine Amidi"
      ]
    },
    {
      "cell_type": "markdown",
      "id": "ce878d70-296b-4ce2-9a05-a5d0410d79e1",
      "metadata": {
        "id": "ce878d70-296b-4ce2-9a05-a5d0410d79e1"
      },
      "source": [
        "## How to build your own Neural Net?\n",
        "\n",
        "There exists several libraries to implement Neural Nets in Python, the most popular being PyTorch and TensorFlow/Keras:\n",
        "- [PyTorch](https://pytorch.org/) is a deep learning framework based on [Torch](https://en.wikipedia.org/wiki/Torch_(machine_learning)). It was developed by Meta AI (Facebook) and open-sourced in 2017.\n",
        "- [TensorFlow](https://www.tensorflow.org/) is an end-to-end open-source platform for machine learning. It was developed by Google and released as open source in 2015. Its name comes from the basic data structure used, namely [tensors](https://en.wikipedia.org/wiki/Tensor).\n",
        "- [Keras](https://keras.io/) is a high-level neural networks library that is running on the top of TensorFlow, among others.\n",
        "\n",
        "For a comparison of TensorFlow, Keras, and Pytorch, you can refer to:\n",
        "- [PyTorch vs TensorFlow for Your Python Deep Learning Project](https://realpython.com/pytorch-vs-tensorflow/), by Ray Johns\n",
        "- [Keras vs Tensorflow vs Pytorch: Key Differences Among Deep Learning](https://www.simplilearn.com/keras-vs-tensorflow-vs-pytorch-article), by John Terra\n",
        "\n",
        "In this notebook, we are going to implement a Neural Net with PyTorch, displaying the simplicity, ease of use, and flexibility of this library. For a walkthrough on Neural Nets with TensorFlow/Keras, you can for instance refer to [Deep Learning with Python](https://github.com/fchollet/deep-learning-with-python-notebooks), by François Chollet (Chapter 7)."
      ]
    },
    {
      "cell_type": "markdown",
      "id": "1d33d277-2861-493d-8fad-63baec052f8e",
      "metadata": {
        "id": "1d33d277-2861-493d-8fad-63baec052f8e"
      },
      "source": [
        "### Application: Predicting house prices\n",
        "\n",
        "In this application, we will implement a Linear Regression model with PyTorch to predict house prices using the [Ames Housing dataset](https://www.kaggle.com/c/house-prices-advanced-regression-techniques)."
      ]
    },
    {
      "cell_type": "markdown",
      "id": "e439b086-55d0-442f-ab05-0e9399e15659",
      "metadata": {
        "id": "e439b086-55d0-442f-ab05-0e9399e15659"
      },
      "source": [
        "#### Data"
      ]
    },
    {
      "cell_type": "code",
      "execution_count": 46,
      "id": "240c89a5-84f5-4229-a987-1dbeaa878682",
      "metadata": {
        "colab": {
          "base_uri": "https://localhost:8080/",
          "height": 256
        },
        "id": "240c89a5-84f5-4229-a987-1dbeaa878682",
        "outputId": "a181ca6f-3760-4d06-f85c-181564db581c"
      },
      "outputs": [
        {
          "data": {
            "text/html": [
              "<div>\n",
              "<style scoped>\n",
              "    .dataframe tbody tr th:only-of-type {\n",
              "        vertical-align: middle;\n",
              "    }\n",
              "\n",
              "    .dataframe tbody tr th {\n",
              "        vertical-align: top;\n",
              "    }\n",
              "\n",
              "    .dataframe thead th {\n",
              "        text-align: right;\n",
              "    }\n",
              "</style>\n",
              "<table border=\"1\" class=\"dataframe\">\n",
              "  <thead>\n",
              "    <tr style=\"text-align: right;\">\n",
              "      <th></th>\n",
              "      <th>Id</th>\n",
              "      <th>MSSubClass</th>\n",
              "      <th>MSZoning</th>\n",
              "      <th>LotFrontage</th>\n",
              "      <th>LotArea</th>\n",
              "      <th>Street</th>\n",
              "      <th>Alley</th>\n",
              "      <th>LotShape</th>\n",
              "      <th>LandContour</th>\n",
              "      <th>Utilities</th>\n",
              "      <th>...</th>\n",
              "      <th>PoolArea</th>\n",
              "      <th>PoolQC</th>\n",
              "      <th>Fence</th>\n",
              "      <th>MiscFeature</th>\n",
              "      <th>MiscVal</th>\n",
              "      <th>MoSold</th>\n",
              "      <th>YrSold</th>\n",
              "      <th>SaleType</th>\n",
              "      <th>SaleCondition</th>\n",
              "      <th>SalePrice</th>\n",
              "    </tr>\n",
              "  </thead>\n",
              "  <tbody>\n",
              "    <tr>\n",
              "      <th>0</th>\n",
              "      <td>1</td>\n",
              "      <td>60</td>\n",
              "      <td>RL</td>\n",
              "      <td>65.0</td>\n",
              "      <td>8450</td>\n",
              "      <td>Pave</td>\n",
              "      <td>NaN</td>\n",
              "      <td>Reg</td>\n",
              "      <td>Lvl</td>\n",
              "      <td>AllPub</td>\n",
              "      <td>...</td>\n",
              "      <td>0</td>\n",
              "      <td>NaN</td>\n",
              "      <td>NaN</td>\n",
              "      <td>NaN</td>\n",
              "      <td>0</td>\n",
              "      <td>2</td>\n",
              "      <td>2008</td>\n",
              "      <td>WD</td>\n",
              "      <td>Normal</td>\n",
              "      <td>208500</td>\n",
              "    </tr>\n",
              "    <tr>\n",
              "      <th>1</th>\n",
              "      <td>2</td>\n",
              "      <td>20</td>\n",
              "      <td>RL</td>\n",
              "      <td>80.0</td>\n",
              "      <td>9600</td>\n",
              "      <td>Pave</td>\n",
              "      <td>NaN</td>\n",
              "      <td>Reg</td>\n",
              "      <td>Lvl</td>\n",
              "      <td>AllPub</td>\n",
              "      <td>...</td>\n",
              "      <td>0</td>\n",
              "      <td>NaN</td>\n",
              "      <td>NaN</td>\n",
              "      <td>NaN</td>\n",
              "      <td>0</td>\n",
              "      <td>5</td>\n",
              "      <td>2007</td>\n",
              "      <td>WD</td>\n",
              "      <td>Normal</td>\n",
              "      <td>181500</td>\n",
              "    </tr>\n",
              "    <tr>\n",
              "      <th>2</th>\n",
              "      <td>3</td>\n",
              "      <td>60</td>\n",
              "      <td>RL</td>\n",
              "      <td>68.0</td>\n",
              "      <td>11250</td>\n",
              "      <td>Pave</td>\n",
              "      <td>NaN</td>\n",
              "      <td>IR1</td>\n",
              "      <td>Lvl</td>\n",
              "      <td>AllPub</td>\n",
              "      <td>...</td>\n",
              "      <td>0</td>\n",
              "      <td>NaN</td>\n",
              "      <td>NaN</td>\n",
              "      <td>NaN</td>\n",
              "      <td>0</td>\n",
              "      <td>9</td>\n",
              "      <td>2008</td>\n",
              "      <td>WD</td>\n",
              "      <td>Normal</td>\n",
              "      <td>223500</td>\n",
              "    </tr>\n",
              "    <tr>\n",
              "      <th>3</th>\n",
              "      <td>4</td>\n",
              "      <td>70</td>\n",
              "      <td>RL</td>\n",
              "      <td>60.0</td>\n",
              "      <td>9550</td>\n",
              "      <td>Pave</td>\n",
              "      <td>NaN</td>\n",
              "      <td>IR1</td>\n",
              "      <td>Lvl</td>\n",
              "      <td>AllPub</td>\n",
              "      <td>...</td>\n",
              "      <td>0</td>\n",
              "      <td>NaN</td>\n",
              "      <td>NaN</td>\n",
              "      <td>NaN</td>\n",
              "      <td>0</td>\n",
              "      <td>2</td>\n",
              "      <td>2006</td>\n",
              "      <td>WD</td>\n",
              "      <td>Abnorml</td>\n",
              "      <td>140000</td>\n",
              "    </tr>\n",
              "    <tr>\n",
              "      <th>4</th>\n",
              "      <td>5</td>\n",
              "      <td>60</td>\n",
              "      <td>RL</td>\n",
              "      <td>84.0</td>\n",
              "      <td>14260</td>\n",
              "      <td>Pave</td>\n",
              "      <td>NaN</td>\n",
              "      <td>IR1</td>\n",
              "      <td>Lvl</td>\n",
              "      <td>AllPub</td>\n",
              "      <td>...</td>\n",
              "      <td>0</td>\n",
              "      <td>NaN</td>\n",
              "      <td>NaN</td>\n",
              "      <td>NaN</td>\n",
              "      <td>0</td>\n",
              "      <td>12</td>\n",
              "      <td>2008</td>\n",
              "      <td>WD</td>\n",
              "      <td>Normal</td>\n",
              "      <td>250000</td>\n",
              "    </tr>\n",
              "  </tbody>\n",
              "</table>\n",
              "<p>5 rows × 81 columns</p>\n",
              "</div>"
            ],
            "text/plain": [
              "   Id  MSSubClass MSZoning  LotFrontage  LotArea Street Alley LotShape  \\\n",
              "0   1          60       RL         65.0     8450   Pave   NaN      Reg   \n",
              "1   2          20       RL         80.0     9600   Pave   NaN      Reg   \n",
              "2   3          60       RL         68.0    11250   Pave   NaN      IR1   \n",
              "3   4          70       RL         60.0     9550   Pave   NaN      IR1   \n",
              "4   5          60       RL         84.0    14260   Pave   NaN      IR1   \n",
              "\n",
              "  LandContour Utilities  ... PoolArea PoolQC Fence MiscFeature MiscVal MoSold  \\\n",
              "0         Lvl    AllPub  ...        0    NaN   NaN         NaN       0      2   \n",
              "1         Lvl    AllPub  ...        0    NaN   NaN         NaN       0      5   \n",
              "2         Lvl    AllPub  ...        0    NaN   NaN         NaN       0      9   \n",
              "3         Lvl    AllPub  ...        0    NaN   NaN         NaN       0      2   \n",
              "4         Lvl    AllPub  ...        0    NaN   NaN         NaN       0     12   \n",
              "\n",
              "  YrSold  SaleType  SaleCondition  SalePrice  \n",
              "0   2008        WD         Normal     208500  \n",
              "1   2007        WD         Normal     181500  \n",
              "2   2008        WD         Normal     223500  \n",
              "3   2006        WD        Abnorml     140000  \n",
              "4   2008        WD         Normal     250000  \n",
              "\n",
              "[5 rows x 81 columns]"
            ]
          },
          "execution_count": 46,
          "metadata": {},
          "output_type": "execute_result"
        }
      ],
      "source": [
        "raw_data = pd.read_csv(\"https://raw.githubusercontent.com/michalis0/DataScience_and_MachineLearning/master/Week_5/data/house_price.csv\")\n",
        "raw_data.head()"
      ]
    },
    {
      "cell_type": "code",
      "execution_count": 47,
      "id": "cf6af7a8-2aad-45ec-af77-7b00a60cfbac",
      "metadata": {
        "colab": {
          "base_uri": "https://localhost:8080/"
        },
        "id": "cf6af7a8-2aad-45ec-af77-7b00a60cfbac",
        "outputId": "06241ca6-d9b5-4ee2-8d89-f9c16d8c8682"
      },
      "outputs": [
        {
          "data": {
            "text/plain": [
              "(1460, 81)"
            ]
          },
          "execution_count": 47,
          "metadata": {},
          "output_type": "execute_result"
        }
      ],
      "source": [
        "raw_data.shape"
      ]
    },
    {
      "cell_type": "markdown",
      "id": "bfabbcb8-ef34-46d2-b156-6787824e3a85",
      "metadata": {
        "id": "bfabbcb8-ef34-46d2-b156-6787824e3a85"
      },
      "source": [
        "The dataset contains 81 columns. A description of the features is available in the file \"[house_price_data_description](https://github.com/michalis0/DataScience_and_MachineLearning/blob/master/Week_5/data/house_price_data_description.txt)\""
      ]
    },
    {
      "cell_type": "markdown",
      "id": "72baf826-a96e-49d7-a6df-57cd349781f3",
      "metadata": {
        "id": "72baf826-a96e-49d7-a6df-57cd349781f3"
      },
      "source": [
        "##### Preprocessing"
      ]
    },
    {
      "cell_type": "markdown",
      "id": "59cd5835-e7e1-451b-8e5e-64968834756a",
      "metadata": {
        "id": "59cd5835-e7e1-451b-8e5e-64968834756a"
      },
      "source": [
        "Let's first extract the features of interest. We will use the numeric columns:"
      ]
    },
    {
      "cell_type": "code",
      "execution_count": 48,
      "id": "dadf3888-4c1a-406f-a199-05145d017ff7",
      "metadata": {
        "colab": {
          "base_uri": "https://localhost:8080/"
        },
        "id": "dadf3888-4c1a-406f-a199-05145d017ff7",
        "outputId": "e2c57621-2715-40fb-b490-997aa215844f"
      },
      "outputs": [
        {
          "data": {
            "text/plain": [
              "Id                 int64\n",
              "MSSubClass         int64\n",
              "MSZoning          object\n",
              "LotFrontage      float64\n",
              "LotArea            int64\n",
              "                  ...   \n",
              "MoSold             int64\n",
              "YrSold             int64\n",
              "SaleType          object\n",
              "SaleCondition     object\n",
              "SalePrice          int64\n",
              "Length: 81, dtype: object"
            ]
          },
          "execution_count": 48,
          "metadata": {},
          "output_type": "execute_result"
        }
      ],
      "source": [
        "# Data types\n",
        "raw_data.dtypes"
      ]
    },
    {
      "cell_type": "code",
      "execution_count": 49,
      "id": "bc199722-8f76-4ad7-9b33-65f76a6bb2bb",
      "metadata": {
        "colab": {
          "base_uri": "https://localhost:8080/"
        },
        "id": "bc199722-8f76-4ad7-9b33-65f76a6bb2bb",
        "outputId": "5c2ec611-64dd-4760-efda-1c279a94e06b"
      },
      "outputs": [
        {
          "name": "stdout",
          "output_type": "stream",
          "text": [
            "['Id', 'MSSubClass', 'LotFrontage', 'LotArea', 'OverallQual', 'OverallCond', 'YearBuilt', 'YearRemodAdd', 'MasVnrArea', 'BsmtFinSF1', 'BsmtFinSF2', 'BsmtUnfSF', 'TotalBsmtSF', '1stFlrSF', '2ndFlrSF', 'LowQualFinSF', 'GrLivArea', 'BsmtFullBath', 'BsmtHalfBath', 'FullBath', 'HalfBath', 'BedroomAbvGr', 'KitchenAbvGr', 'TotRmsAbvGrd', 'Fireplaces', 'GarageYrBlt', 'GarageCars', 'GarageArea', 'WoodDeckSF', 'OpenPorchSF', 'EnclosedPorch', '3SsnPorch', 'ScreenPorch', 'PoolArea', 'MiscVal', 'MoSold', 'YrSold', 'SalePrice'] \n",
            " 38\n"
          ]
        }
      ],
      "source": [
        "# Display numeric features (integer and floats)\n",
        "numeric_columns = list(raw_data.columns[(raw_data.dtypes==np.int64) |\n",
        "                 (raw_data.dtypes==np.float64)])\n",
        "print(numeric_columns, \"\\n\", len(numeric_columns))"
      ]
    },
    {
      "cell_type": "markdown",
      "id": "f9354882-1469-42ee-8fd6-38301f89ed0f",
      "metadata": {
        "id": "f9354882-1469-42ee-8fd6-38301f89ed0f"
      },
      "source": [
        "`SalePrice` is the value we want to predict. We set it as the last column:"
      ]
    },
    {
      "cell_type": "code",
      "execution_count": 50,
      "id": "28dd7159-374a-47b0-ae56-5864dbac3cf8",
      "metadata": {
        "id": "28dd7159-374a-47b0-ae56-5864dbac3cf8"
      },
      "outputs": [],
      "source": [
        "# Output SalePrice as last column\n",
        "numeric_columns.remove('SalePrice')\n",
        "numeric_columns.append('SalePrice')"
      ]
    },
    {
      "cell_type": "markdown",
      "id": "dfd2153a-be33-48b1-b191-31f95b4734aa",
      "metadata": {
        "id": "dfd2153a-be33-48b1-b191-31f95b4734aa"
      },
      "source": [
        "We also remove the `Id` column:"
      ]
    },
    {
      "cell_type": "code",
      "execution_count": 51,
      "id": "8e372a0d-4c5c-444d-bd1e-7fd8d411d84c",
      "metadata": {
        "id": "8e372a0d-4c5c-444d-bd1e-7fd8d411d84c"
      },
      "outputs": [],
      "source": [
        "# Remove Id\n",
        "numeric_columns.remove('Id')"
      ]
    },
    {
      "cell_type": "markdown",
      "id": "05c160a2-ec7f-4690-9eba-464cfffe2e7a",
      "metadata": {
        "id": "05c160a2-ec7f-4690-9eba-464cfffe2e7a"
      },
      "source": [
        "Now we extract the numeric data."
      ]
    },
    {
      "cell_type": "code",
      "execution_count": 52,
      "id": "a410bfa5-0140-4d42-a766-c3a553d67683",
      "metadata": {
        "colab": {
          "base_uri": "https://localhost:8080/",
          "height": 256
        },
        "id": "a410bfa5-0140-4d42-a766-c3a553d67683",
        "outputId": "f50524ac-4193-4da0-ca7f-079ba6c76233"
      },
      "outputs": [
        {
          "data": {
            "text/html": [
              "<div>\n",
              "<style scoped>\n",
              "    .dataframe tbody tr th:only-of-type {\n",
              "        vertical-align: middle;\n",
              "    }\n",
              "\n",
              "    .dataframe tbody tr th {\n",
              "        vertical-align: top;\n",
              "    }\n",
              "\n",
              "    .dataframe thead th {\n",
              "        text-align: right;\n",
              "    }\n",
              "</style>\n",
              "<table border=\"1\" class=\"dataframe\">\n",
              "  <thead>\n",
              "    <tr style=\"text-align: right;\">\n",
              "      <th></th>\n",
              "      <th>MSSubClass</th>\n",
              "      <th>LotFrontage</th>\n",
              "      <th>LotArea</th>\n",
              "      <th>OverallQual</th>\n",
              "      <th>OverallCond</th>\n",
              "      <th>YearBuilt</th>\n",
              "      <th>YearRemodAdd</th>\n",
              "      <th>MasVnrArea</th>\n",
              "      <th>BsmtFinSF1</th>\n",
              "      <th>BsmtFinSF2</th>\n",
              "      <th>...</th>\n",
              "      <th>WoodDeckSF</th>\n",
              "      <th>OpenPorchSF</th>\n",
              "      <th>EnclosedPorch</th>\n",
              "      <th>3SsnPorch</th>\n",
              "      <th>ScreenPorch</th>\n",
              "      <th>PoolArea</th>\n",
              "      <th>MiscVal</th>\n",
              "      <th>MoSold</th>\n",
              "      <th>YrSold</th>\n",
              "      <th>SalePrice</th>\n",
              "    </tr>\n",
              "  </thead>\n",
              "  <tbody>\n",
              "    <tr>\n",
              "      <th>0</th>\n",
              "      <td>60</td>\n",
              "      <td>65.0</td>\n",
              "      <td>8450</td>\n",
              "      <td>7</td>\n",
              "      <td>5</td>\n",
              "      <td>2003</td>\n",
              "      <td>2003</td>\n",
              "      <td>196.0</td>\n",
              "      <td>706</td>\n",
              "      <td>0</td>\n",
              "      <td>...</td>\n",
              "      <td>0</td>\n",
              "      <td>61</td>\n",
              "      <td>0</td>\n",
              "      <td>0</td>\n",
              "      <td>0</td>\n",
              "      <td>0</td>\n",
              "      <td>0</td>\n",
              "      <td>2</td>\n",
              "      <td>2008</td>\n",
              "      <td>208500</td>\n",
              "    </tr>\n",
              "    <tr>\n",
              "      <th>1</th>\n",
              "      <td>20</td>\n",
              "      <td>80.0</td>\n",
              "      <td>9600</td>\n",
              "      <td>6</td>\n",
              "      <td>8</td>\n",
              "      <td>1976</td>\n",
              "      <td>1976</td>\n",
              "      <td>0.0</td>\n",
              "      <td>978</td>\n",
              "      <td>0</td>\n",
              "      <td>...</td>\n",
              "      <td>298</td>\n",
              "      <td>0</td>\n",
              "      <td>0</td>\n",
              "      <td>0</td>\n",
              "      <td>0</td>\n",
              "      <td>0</td>\n",
              "      <td>0</td>\n",
              "      <td>5</td>\n",
              "      <td>2007</td>\n",
              "      <td>181500</td>\n",
              "    </tr>\n",
              "    <tr>\n",
              "      <th>2</th>\n",
              "      <td>60</td>\n",
              "      <td>68.0</td>\n",
              "      <td>11250</td>\n",
              "      <td>7</td>\n",
              "      <td>5</td>\n",
              "      <td>2001</td>\n",
              "      <td>2002</td>\n",
              "      <td>162.0</td>\n",
              "      <td>486</td>\n",
              "      <td>0</td>\n",
              "      <td>...</td>\n",
              "      <td>0</td>\n",
              "      <td>42</td>\n",
              "      <td>0</td>\n",
              "      <td>0</td>\n",
              "      <td>0</td>\n",
              "      <td>0</td>\n",
              "      <td>0</td>\n",
              "      <td>9</td>\n",
              "      <td>2008</td>\n",
              "      <td>223500</td>\n",
              "    </tr>\n",
              "    <tr>\n",
              "      <th>3</th>\n",
              "      <td>70</td>\n",
              "      <td>60.0</td>\n",
              "      <td>9550</td>\n",
              "      <td>7</td>\n",
              "      <td>5</td>\n",
              "      <td>1915</td>\n",
              "      <td>1970</td>\n",
              "      <td>0.0</td>\n",
              "      <td>216</td>\n",
              "      <td>0</td>\n",
              "      <td>...</td>\n",
              "      <td>0</td>\n",
              "      <td>35</td>\n",
              "      <td>272</td>\n",
              "      <td>0</td>\n",
              "      <td>0</td>\n",
              "      <td>0</td>\n",
              "      <td>0</td>\n",
              "      <td>2</td>\n",
              "      <td>2006</td>\n",
              "      <td>140000</td>\n",
              "    </tr>\n",
              "    <tr>\n",
              "      <th>4</th>\n",
              "      <td>60</td>\n",
              "      <td>84.0</td>\n",
              "      <td>14260</td>\n",
              "      <td>8</td>\n",
              "      <td>5</td>\n",
              "      <td>2000</td>\n",
              "      <td>2000</td>\n",
              "      <td>350.0</td>\n",
              "      <td>655</td>\n",
              "      <td>0</td>\n",
              "      <td>...</td>\n",
              "      <td>192</td>\n",
              "      <td>84</td>\n",
              "      <td>0</td>\n",
              "      <td>0</td>\n",
              "      <td>0</td>\n",
              "      <td>0</td>\n",
              "      <td>0</td>\n",
              "      <td>12</td>\n",
              "      <td>2008</td>\n",
              "      <td>250000</td>\n",
              "    </tr>\n",
              "  </tbody>\n",
              "</table>\n",
              "<p>5 rows × 37 columns</p>\n",
              "</div>"
            ],
            "text/plain": [
              "   MSSubClass  LotFrontage  LotArea  OverallQual  OverallCond  YearBuilt  \\\n",
              "0          60         65.0     8450            7            5       2003   \n",
              "1          20         80.0     9600            6            8       1976   \n",
              "2          60         68.0    11250            7            5       2001   \n",
              "3          70         60.0     9550            7            5       1915   \n",
              "4          60         84.0    14260            8            5       2000   \n",
              "\n",
              "   YearRemodAdd  MasVnrArea  BsmtFinSF1  BsmtFinSF2  ...  WoodDeckSF  \\\n",
              "0          2003       196.0         706           0  ...           0   \n",
              "1          1976         0.0         978           0  ...         298   \n",
              "2          2002       162.0         486           0  ...           0   \n",
              "3          1970         0.0         216           0  ...           0   \n",
              "4          2000       350.0         655           0  ...         192   \n",
              "\n",
              "   OpenPorchSF  EnclosedPorch  3SsnPorch  ScreenPorch  PoolArea  MiscVal  \\\n",
              "0           61              0          0            0         0        0   \n",
              "1            0              0          0            0         0        0   \n",
              "2           42              0          0            0         0        0   \n",
              "3           35            272          0            0         0        0   \n",
              "4           84              0          0            0         0        0   \n",
              "\n",
              "   MoSold  YrSold  SalePrice  \n",
              "0       2    2008     208500  \n",
              "1       5    2007     181500  \n",
              "2       9    2008     223500  \n",
              "3       2    2006     140000  \n",
              "4      12    2008     250000  \n",
              "\n",
              "[5 rows x 37 columns]"
            ]
          },
          "execution_count": 52,
          "metadata": {},
          "output_type": "execute_result"
        }
      ],
      "source": [
        "# Extract numeric data\n",
        "numeric_data = raw_data[numeric_columns]\n",
        "numeric_data.head()"
      ]
    },
    {
      "cell_type": "markdown",
      "id": "a51ca5a4-e780-4b42-a304-01c5b6a915b2",
      "metadata": {
        "id": "a51ca5a4-e780-4b42-a304-01c5b6a915b2"
      },
      "source": [
        "Now let's deal with the missing values in the data."
      ]
    },
    {
      "cell_type": "code",
      "execution_count": 53,
      "id": "a9084d6e-2a1f-4e81-ab29-a575cf340478",
      "metadata": {
        "colab": {
          "base_uri": "https://localhost:8080/"
        },
        "id": "a9084d6e-2a1f-4e81-ab29-a575cf340478",
        "outputId": "39cef36c-83ca-47fd-d7fa-3f1096733442"
      },
      "outputs": [
        {
          "data": {
            "text/plain": [
              "['LotFrontage', 'MasVnrArea', 'GarageYrBlt']"
            ]
          },
          "execution_count": 53,
          "metadata": {},
          "output_type": "execute_result"
        }
      ],
      "source": [
        "# Display features with missing values\n",
        "nan_columns = np.any(pd.isna(numeric_data), axis = 0)\n",
        "nan_columns = list(nan_columns[nan_columns == True].index)\n",
        "nan_columns"
      ]
    },
    {
      "cell_type": "markdown",
      "id": "748bbb00-d6db-47a8-b295-8652159c69c1",
      "metadata": {
        "id": "748bbb00-d6db-47a8-b295-8652159c69c1"
      },
      "source": [
        "We simply replace them with zero."
      ]
    },
    {
      "cell_type": "code",
      "execution_count": 54,
      "id": "45c3bbd9-c641-4864-b657-b193d1659f67",
      "metadata": {
        "id": "45c3bbd9-c641-4864-b657-b193d1659f67"
      },
      "outputs": [],
      "source": [
        "# Replace NAN with 0\n",
        "numeric_data = numeric_data.fillna(0)"
      ]
    },
    {
      "cell_type": "markdown",
      "id": "a3244053-ee49-4f29-b4c1-aefe674bdb33",
      "metadata": {
        "id": "a3244053-ee49-4f29-b4c1-aefe674bdb33"
      },
      "source": [
        "##### Creating training and test set\n",
        "\n",
        "Let's split the data for training and test. We use the `train_test_split` module of `sklearn`:"
      ]
    },
    {
      "cell_type": "code",
      "execution_count": 55,
      "id": "91354d50-6616-4454-a8cf-3aa8a615d9e6",
      "metadata": {
        "id": "91354d50-6616-4454-a8cf-3aa8a615d9e6"
      },
      "outputs": [],
      "source": [
        "# Splitting training/test set\n",
        "numeric_data_train, numeric_data_test = train_test_split(numeric_data, test_size=0.1, random_state=7)"
      ]
    },
    {
      "cell_type": "markdown",
      "id": "0ac2ae80-d076-489e-af05-251d81820da3",
      "metadata": {
        "id": "0ac2ae80-d076-489e-af05-251d81820da3"
      },
      "source": [
        "##### Normalizing the data\n",
        "\n",
        "Before training our linear regression model, we have to normalize the data. We do this by subtracting each column from its minimum value and then dividing it by the difference between maximum and minimum. We use the `MinMaxScaler` of `sklearn`."
      ]
    },
    {
      "cell_type": "code",
      "execution_count": 56,
      "id": "ea634322-702e-42d7-aaa3-722b144ac6f9",
      "metadata": {
        "id": "ea634322-702e-42d7-aaa3-722b144ac6f9"
      },
      "outputs": [],
      "source": [
        "#Define the scaler\n",
        "scaler = MinMaxScaler()\n",
        "#Fit the scaler\n",
        "scaler.fit(numeric_data_train)\n",
        "#Transform the train and the test set\n",
        "numeric_data_train.loc[:,:] = scaler.transform(numeric_data_train)\n",
        "numeric_data_test.loc[:,:] = scaler.transform(numeric_data_test)"
      ]
    },
    {
      "cell_type": "markdown",
      "id": "dce94995-d1aa-4efc-9bc9-727c32d23291",
      "metadata": {
        "id": "dce94995-d1aa-4efc-9bc9-727c32d23291"
      },
      "source": [
        "Finally, we split the column we want to predict (\"SalePrice\") to our features:"
      ]
    },
    {
      "cell_type": "code",
      "execution_count": 57,
      "id": "14d211f0-ee9d-4ded-bfb0-c870e91ff0a9",
      "metadata": {
        "id": "14d211f0-ee9d-4ded-bfb0-c870e91ff0a9"
      },
      "outputs": [],
      "source": [
        "# Extract features and output\n",
        "numeric_x_columns = list(numeric_data_train.columns)\n",
        "numeric_x_columns.remove(\"SalePrice\")\n",
        "X_train_df = numeric_data_train[numeric_x_columns]\n",
        "y_train_df = pd.DataFrame(numeric_data_train[\"SalePrice\"])\n",
        "X_test_df = numeric_data_test[numeric_x_columns]\n",
        "y_test_df = pd.DataFrame(numeric_data_test[\"SalePrice\"])"
      ]
    },
    {
      "cell_type": "markdown",
      "id": "6b91b5e4-c62a-48eb-9ded-7b3799c69f85",
      "metadata": {
        "id": "6b91b5e4-c62a-48eb-9ded-7b3799c69f85"
      },
      "source": [
        "Ok, all set, we can start building our Neural Net!"
      ]
    },
    {
      "cell_type": "markdown",
      "id": "e69796e1-d7d7-4cf4-9950-395082f2084d",
      "metadata": {
        "id": "e69796e1-d7d7-4cf4-9950-395082f2084d"
      },
      "source": [
        "#### Building a Linear Regression model with PyTorch\n",
        "\n",
        "We use the `PyTorch` library ([Documentation](https://pytorch.org/), imported at the beginning of this notebook with the following lines of codes:\n",
        "\n",
        "```python\n",
        "import torch\n",
        "import torch.nn as nn\n",
        "```\n",
        "\n",
        "`torch.nn` contains the building blocks to build Neural Nets, e.g., the layers ([Documentation](https://pytorch.org/docs/stable/nn.html))."
      ]
    },
    {
      "cell_type": "markdown",
      "id": "b18b7976-ea1e-4a95-9e53-c29d816e615d",
      "metadata": {
        "id": "b18b7976-ea1e-4a95-9e53-c29d816e615d"
      },
      "source": [
        "##### Create tensors\n",
        "\n",
        "The first step is to convert the data into torch tensors. A `torch.Tensor` is a multi-dimensional matrix containing elements of a single data type. It's very similar to arrays in `NumPy`.\n",
        "\n",
        "We rely on `torch.tensor()` for the conversion ([Documentation](https://pytorch.org/docs/stable/tensors.html))."
      ]
    },
    {
      "cell_type": "code",
      "execution_count": 58,
      "id": "ad283baf-f652-4d6f-a6fa-441c53731ea2",
      "metadata": {
        "id": "ad283baf-f652-4d6f-a6fa-441c53731ea2"
      },
      "outputs": [],
      "source": [
        "X_train = torch.tensor(X_train_df.values, dtype=torch.float)\n",
        "y_train = torch.tensor(y_train_df.values, dtype=torch.float)\n",
        "X_test = torch.tensor(X_test_df.values, dtype=torch.float)\n",
        "y_test = torch.tensor(y_test_df.values, dtype=torch.float)"
      ]
    },
    {
      "cell_type": "code",
      "execution_count": 87,
      "id": "2abafe50-c9cf-4275-8d08-3aca51122e0f",
      "metadata": {
        "colab": {
          "base_uri": "https://localhost:8080/"
        },
        "id": "2abafe50-c9cf-4275-8d08-3aca51122e0f",
        "outputId": "571bddd2-c990-4e92-ac19-2668f0acbbd1"
      },
      "outputs": [
        {
          "name": "stdout",
          "output_type": "stream",
          "text": [
            "tensor([[0.8156, 0.0000, 0.3803,  ..., 0.0000, 0.1875, 0.0233],\n",
            "        [0.4113, 0.8000, 0.7042,  ..., 0.0000, 0.2250, 0.0465],\n",
            "        [0.2837, 0.1000, 0.8028,  ..., 0.0000, 0.0625, 0.0233],\n",
            "        ...,\n",
            "        [0.1773, 1.0000, 0.5634,  ..., 0.0000, 0.5625, 0.0930],\n",
            "        [0.6170, 0.3000, 0.5775,  ..., 0.1978, 0.2250, 0.0930],\n",
            "        [0.3475, 0.0000, 0.3099,  ..., 0.0000, 0.2250, 0.0233]])\n",
            "torch.Size([396, 9]) torch.Size([396, 1])\n"
          ]
        }
      ],
      "source": [
        "print(X_train)\n",
        "print(X_train.size(), y_train.size())"
      ]
    },
    {
      "cell_type": "markdown",
      "id": "aae66a72-8269-4917-9ac4-0c42f8dcd249",
      "metadata": {
        "id": "aae66a72-8269-4917-9ac4-0c42f8dcd249"
      },
      "source": [
        "##### Define and train a model with PyTorch\n",
        "\n",
        "A model is defined as a `class` in PyTorch. Classes are a means of bundling data and functionality together, allowing to create a new type of Python object. You can read the Python documentation on [Classes](https://docs.python.org/3/tutorial/classes.html) to learn more about them.\n",
        "\n",
        "When you create your Neural Net, you should define:\n",
        "- a `__init__` function in which you define the layers of your network.\n",
        "- a `forward` function (method) that defines the forward pass on the network.\n",
        "\n",
        "For the beginning, let's start with a single layer network:\n",
        "- The layer `nn.Linear()` performs a linear transformation ([Documentation](https://pytorch.org/docs/stable/generated/torch.nn.Linear.html)). The input and output are the number of neurons\n",
        "- `nn.ReLU()` applies the Rectified Linear Unit function: $ReLU(x)=\\max(0,x)$ ([Documentation](https://pytorch.org/docs/stable/generated/torch.nn.ReLU.html))."
      ]
    },
    {
      "cell_type": "code",
      "execution_count": 60,
      "id": "27e00f35-13ce-4e0b-946c-a2f0ad780e79",
      "metadata": {
        "id": "27e00f35-13ce-4e0b-946c-a2f0ad780e79"
      },
      "outputs": [],
      "source": [
        "class Net(nn.Module):\n",
        "    def __init__(self, D_in, H1, D_out):\n",
        "        super(Net, self).__init__()\n",
        "\n",
        "        self.linear1 = nn.Linear(D_in, H1)        # Linear transformation for hidden layer\n",
        "        self.linear2 = nn.Linear(H1, D_out)       # Linear transformation for output layer\n",
        "        self.activation = nn.ReLU()               # Activation function for hidden layer\n",
        "\n",
        "    def forward(self, x):\n",
        "        y_pred = self.activation(self.linear1(x))   # Hidden layer: linear transformation + ReLU\n",
        "        y_pred = self.linear2(y_pred)               # Output layer: linear transformation\n",
        "        return y_pred"
      ]
    },
    {
      "cell_type": "markdown",
      "id": "3ccb4e35-61d3-49fe-aa50-a0c9e7590be9",
      "metadata": {
        "id": "3ccb4e35-61d3-49fe-aa50-a0c9e7590be9"
      },
      "source": [
        "`D_in` is the input dimension, i.e., the number of features. Similarly, `D_out` is the output dimension, i.e., 1 (we only predict the \"SalePrice\"):"
      ]
    },
    {
      "cell_type": "code",
      "execution_count": 61,
      "id": "7dc3176e-1cab-4b11-88c6-f3547752aca3",
      "metadata": {
        "id": "7dc3176e-1cab-4b11-88c6-f3547752aca3"
      },
      "outputs": [],
      "source": [
        "D_in, D_out = X_train.shape[1], y_train.shape[1]"
      ]
    },
    {
      "cell_type": "markdown",
      "id": "1be40cbf-4811-4338-afab-2de1798c6257",
      "metadata": {
        "id": "1be40cbf-4811-4338-afab-2de1798c6257"
      },
      "source": [
        "Ok, let's define our first model. It is an instance of our newly-created class \"Net\". We are going to use 500 neurons for the hidden layer:"
      ]
    },
    {
      "cell_type": "code",
      "execution_count": 62,
      "id": "1c315b3f-951b-4b8b-8e5b-12594dcc265f",
      "metadata": {
        "id": "1c315b3f-951b-4b8b-8e5b-12594dcc265f"
      },
      "outputs": [],
      "source": [
        "# Model with 500 neurons\n",
        "model1 = Net(D_in, 500, D_out)"
      ]
    },
    {
      "cell_type": "markdown",
      "id": "WfBZxU5fmHsg",
      "metadata": {
        "id": "WfBZxU5fmHsg"
      },
      "source": [
        "Let's calculate now how many parameters we have in the model."
      ]
    },
    {
      "cell_type": "code",
      "execution_count": 88,
      "id": "2_pUo4LGl7Us",
      "metadata": {
        "colab": {
          "base_uri": "https://localhost:8080/"
        },
        "id": "2_pUo4LGl7Us",
        "outputId": "67991f1f-90b4-4cda-d99c-5b8a7ad957b3"
      },
      "outputs": [
        {
          "name": "stdout",
          "output_type": "stream",
          "text": [
            "5501\n"
          ]
        }
      ],
      "source": [
        "# calculate how many parameters are in the model\n",
        "pytorch_total_params = sum(p.numel() for p in model1.parameters() if p.requires_grad)\n",
        "print(pytorch_total_params)"
      ]
    },
    {
      "cell_type": "markdown",
      "id": "ae8c9515-d808-4838-92d1-a56deb34ff08",
      "metadata": {
        "id": "ae8c9515-d808-4838-92d1-a56deb34ff08"
      },
      "source": [
        "The next steps is to define the **loss criterion** and the **optimizer** for the network. That is, we have to define the loss function we want to optimize during training and also the optimization method. We use:\n",
        "- `MSELoss()` as loss criterion, i.e., the mean square error ([Documentation](https://pytorch.org/docs/stable/generated/torch.nn.MSELoss.html))\n",
        "- `SGD()`as optimizer, i.e., stochastic gradient descent ([Documentation](https://pytorch.org/docs/stable/generated/torch.optim.SGD.html))"
      ]
    },
    {
      "cell_type": "code",
      "execution_count": 64,
      "id": "0efef490-e70e-445e-be89-3f206912d03e",
      "metadata": {
        "id": "0efef490-e70e-445e-be89-3f206912d03e"
      },
      "outputs": [],
      "source": [
        "# MSE loss\n",
        "criterion = nn.MSELoss(reduction='sum')\n",
        "# SGD optimizer for finding the weights of the network\n",
        "optimizer = torch.optim.SGD(model1.parameters(), lr=1e-4)"
      ]
    },
    {
      "cell_type": "markdown",
      "id": "a4268da0-fa53-43e2-8ee8-e8f3bb952d22",
      "metadata": {
        "id": "a4268da0-fa53-43e2-8ee8-e8f3bb952d22"
      },
      "source": [
        "Wonderful, we are ready to do the training! We can simply by looping over the number of iterations. The training has 3 main steps:\n",
        "- A forward pass to compute the prediction for the current data point (batch).\n",
        "- Computing the loss for the current prediction with the previously defined criterion.\n",
        "- A backward pass to compute the gradient of the loss with respect to the weight of the network (`backward()`)\n",
        "- Finally, updating the weights of the network (`optimizer.step()`).\n",
        "\n",
        "Note that in each backward pass PyTorch saves the gradient for all of the parameters. Therefore it is important to replace the old gradient values with zero in the beginning of each iteration (`optimizer.zero_grad()`), otherwise the gradients will be accumulated during the iterations!"
      ]
    },
    {
      "cell_type": "code",
      "execution_count": 65,
      "id": "42ec6c24-99e9-4a0f-bebd-25ea390edd0b",
      "metadata": {
        "colab": {
          "base_uri": "https://localhost:8080/"
        },
        "id": "42ec6c24-99e9-4a0f-bebd-25ea390edd0b",
        "outputId": "294c7f13-d28c-4c29-d795-bde338593709"
      },
      "outputs": [
        {
          "name": "stdout",
          "output_type": "stream",
          "text": [
            "0 20.94475555419922\n",
            "1 116.0382080078125\n",
            "2 1004.3926391601562\n",
            "3 7995.2353515625\n",
            "4 10958.28125\n",
            "5 19.392868041992188\n",
            "6 17.638107299804688\n",
            "7 16.672344207763672\n",
            "8 16.12146759033203\n",
            "9 15.789156913757324\n",
            "10 15.572198867797852\n",
            "11 15.416305541992188\n",
            "12 15.292854309082031\n",
            "13 15.186790466308594\n",
            "14 15.090170860290527\n",
            "15 14.998844146728516\n",
            "16 14.91053581237793\n",
            "17 14.824050903320312\n",
            "18 14.738744735717773\n",
            "19 14.654300689697266\n",
            "20 14.570518493652344\n",
            "21 14.487232208251953\n",
            "22 14.404354095458984\n",
            "23 14.321802139282227\n",
            "24 14.239538192749023\n",
            "25 14.157512664794922\n",
            "26 14.07573127746582\n",
            "27 13.994173049926758\n",
            "28 13.912823677062988\n",
            "29 13.831643104553223\n",
            "30 13.750582695007324\n",
            "31 13.6695556640625\n",
            "32 13.588582038879395\n",
            "33 13.507725715637207\n",
            "34 13.426952362060547\n",
            "35 13.34609603881836\n",
            "36 13.265201568603516\n",
            "37 13.184391021728516\n",
            "38 13.1035737991333\n",
            "39 13.022629737854004\n",
            "40 12.941694259643555\n",
            "41 12.860689163208008\n",
            "42 12.779582977294922\n",
            "43 12.698396682739258\n",
            "44 12.617109298706055\n",
            "45 12.53571891784668\n",
            "46 12.454145431518555\n",
            "47 12.372417449951172\n",
            "48 12.290416717529297\n",
            "49 12.208290100097656\n",
            "50 12.125984191894531\n",
            "51 12.043501853942871\n",
            "52 11.96077823638916\n",
            "53 11.877812385559082\n",
            "54 11.794472694396973\n",
            "55 11.7109375\n",
            "56 11.627217292785645\n",
            "57 11.543231010437012\n",
            "58 11.458972930908203\n",
            "59 11.374521255493164\n",
            "60 11.289937019348145\n",
            "61 11.205286979675293\n",
            "62 11.120444297790527\n",
            "63 11.035271644592285\n",
            "64 10.949594497680664\n",
            "65 10.863666534423828\n",
            "66 10.777339935302734\n",
            "67 10.690876007080078\n",
            "68 10.604201316833496\n",
            "69 10.517422676086426\n",
            "70 10.430703163146973\n",
            "71 10.344096183776855\n",
            "72 10.257468223571777\n",
            "73 10.170899391174316\n",
            "74 10.084442138671875\n",
            "75 9.998132705688477\n",
            "76 9.911928176879883\n",
            "77 9.825749397277832\n",
            "78 9.73974323272705\n",
            "79 9.653790473937988\n",
            "80 9.567974090576172\n",
            "81 9.482364654541016\n",
            "82 9.396961212158203\n",
            "83 9.311912536621094\n",
            "84 9.22736644744873\n",
            "85 9.143158912658691\n",
            "86 9.059446334838867\n",
            "87 8.976144790649414\n",
            "88 8.893256187438965\n",
            "89 8.810991287231445\n",
            "90 8.729294776916504\n",
            "91 8.648099899291992\n",
            "92 8.567699432373047\n",
            "93 8.488038063049316\n",
            "94 8.40910816192627\n",
            "95 8.330957412719727\n",
            "96 8.253602981567383\n",
            "97 8.176989555358887\n",
            "98 8.101048469543457\n",
            "99 8.025954246520996\n",
            "100 7.951741695404053\n",
            "101 7.8784942626953125\n",
            "102 7.806151390075684\n",
            "103 7.734692573547363\n",
            "104 7.664039611816406\n",
            "105 7.594447135925293\n",
            "106 7.525843620300293\n",
            "107 7.458277702331543\n",
            "108 7.391798973083496\n",
            "109 7.326247692108154\n",
            "110 7.261794090270996\n",
            "111 7.19835090637207\n",
            "112 7.135921001434326\n",
            "113 7.074580192565918\n",
            "114 7.0142717361450195\n",
            "115 6.954970359802246\n",
            "116 6.896598815917969\n",
            "117 6.839240074157715\n",
            "118 6.782900810241699\n",
            "119 6.727624416351318\n",
            "120 6.6733503341674805\n",
            "121 6.620166778564453\n",
            "122 6.568013668060303\n",
            "123 6.516904830932617\n",
            "124 6.46678352355957\n",
            "125 6.417607307434082\n",
            "126 6.369399547576904\n",
            "127 6.322292327880859\n",
            "128 6.2762603759765625\n",
            "129 6.231245040893555\n",
            "130 6.187255859375\n",
            "131 6.1441969871521\n",
            "132 6.1020636558532715\n",
            "133 6.0608391761779785\n",
            "134 6.020534038543701\n",
            "135 5.981169700622559\n",
            "136 5.942623615264893\n",
            "137 5.904969215393066\n",
            "138 5.868079662322998\n",
            "139 5.831965446472168\n",
            "140 5.796718597412109\n",
            "141 5.762280464172363\n",
            "142 5.728636741638184\n",
            "143 5.695767402648926\n",
            "144 5.663667678833008\n",
            "145 5.632286548614502\n",
            "146 5.601627349853516\n",
            "147 5.571671962738037\n",
            "148 5.542412757873535\n",
            "149 5.513806343078613\n",
            "150 5.485844135284424\n",
            "151 5.458428382873535\n",
            "152 5.4316020011901855\n",
            "153 5.405361175537109\n",
            "154 5.379738807678223\n",
            "155 5.354740619659424\n",
            "156 5.330317974090576\n",
            "157 5.3064446449279785\n",
            "158 5.283083915710449\n",
            "159 5.2602057456970215\n",
            "160 5.237858295440674\n",
            "161 5.215965270996094\n",
            "162 5.19455623626709\n",
            "163 5.1735944747924805\n",
            "164 5.153075218200684\n",
            "165 5.132977485656738\n",
            "166 5.113296985626221\n",
            "167 5.094051837921143\n",
            "168 5.075222969055176\n",
            "169 5.056770324707031\n",
            "170 5.038658618927002\n",
            "171 5.020907878875732\n",
            "172 5.0035271644592285\n",
            "173 4.986508846282959\n",
            "174 4.96983528137207\n",
            "175 4.9534759521484375\n",
            "176 4.937430381774902\n",
            "177 4.92171049118042\n",
            "178 4.906285762786865\n",
            "179 4.891165256500244\n",
            "180 4.876349449157715\n",
            "181 4.861807823181152\n",
            "182 4.8475341796875\n",
            "183 4.83350944519043\n",
            "184 4.819733142852783\n",
            "185 4.806178569793701\n",
            "186 4.792856216430664\n",
            "187 4.779755592346191\n",
            "188 4.766872882843018\n",
            "189 4.754186630249023\n",
            "190 4.741683006286621\n",
            "191 4.729382514953613\n",
            "192 4.717283248901367\n",
            "193 4.705377578735352\n",
            "194 4.693666458129883\n",
            "195 4.682132244110107\n",
            "196 4.670745372772217\n",
            "197 4.659490585327148\n",
            "198 4.648375511169434\n",
            "199 4.637431621551514\n",
            "200 4.626649379730225\n",
            "201 4.616015434265137\n",
            "202 4.605522632598877\n",
            "203 4.595178604125977\n",
            "204 4.584965705871582\n",
            "205 4.574891567230225\n",
            "206 4.564937591552734\n",
            "207 4.555113315582275\n",
            "208 4.545407772064209\n",
            "209 4.535808563232422\n",
            "210 4.5263166427612305\n",
            "211 4.516939640045166\n",
            "212 4.507671356201172\n",
            "213 4.498498439788818\n",
            "214 4.489421844482422\n",
            "215 4.480442047119141\n",
            "216 4.47156286239624\n",
            "217 4.462780952453613\n",
            "218 4.454083442687988\n",
            "219 4.445477485656738\n",
            "220 4.436968803405762\n",
            "221 4.428555965423584\n",
            "222 4.420223236083984\n",
            "223 4.411980628967285\n",
            "224 4.4038310050964355\n",
            "225 4.395778656005859\n",
            "226 4.38781213760376\n",
            "227 4.379922389984131\n",
            "228 4.372106552124023\n",
            "229 4.36435604095459\n",
            "230 4.3566718101501465\n",
            "231 4.349061489105225\n",
            "232 4.34151554107666\n",
            "233 4.334041595458984\n",
            "234 4.326640605926514\n",
            "235 4.319311141967773\n",
            "236 4.312051773071289\n",
            "237 4.304860591888428\n",
            "238 4.297731876373291\n",
            "239 4.290666580200195\n",
            "240 4.283674240112305\n",
            "241 4.276741027832031\n",
            "242 4.269838333129883\n",
            "243 4.262978553771973\n",
            "244 4.256178379058838\n",
            "245 4.249442100524902\n",
            "246 4.242764949798584\n",
            "247 4.236138343811035\n",
            "248 4.229557991027832\n",
            "249 4.223030090332031\n",
            "250 4.216554164886475\n",
            "251 4.210144519805908\n",
            "252 4.203789710998535\n",
            "253 4.1974873542785645\n",
            "254 4.191237449645996\n",
            "255 4.185044288635254\n",
            "256 4.1789116859436035\n",
            "257 4.172830581665039\n",
            "258 4.166811943054199\n",
            "259 4.1608381271362305\n",
            "260 4.154926300048828\n",
            "261 4.1490607261657715\n",
            "262 4.143239974975586\n",
            "263 4.137463569641113\n",
            "264 4.131728172302246\n",
            "265 4.126031398773193\n",
            "266 4.1203718185424805\n",
            "267 4.114750862121582\n",
            "268 4.109171390533447\n",
            "269 4.103638648986816\n",
            "270 4.098155975341797\n",
            "271 4.092716693878174\n",
            "272 4.08731746673584\n",
            "273 4.08195686340332\n",
            "274 4.076634883880615\n",
            "275 4.071349620819092\n",
            "276 4.066106796264648\n",
            "277 4.060880661010742\n",
            "278 4.055694103240967\n",
            "279 4.05055046081543\n",
            "280 4.045448303222656\n",
            "281 4.040380001068115\n",
            "282 4.035345554351807\n",
            "283 4.030346870422363\n",
            "284 4.025381088256836\n",
            "285 4.020450592041016\n",
            "286 4.015560150146484\n",
            "287 4.01070499420166\n",
            "288 4.0058770179748535\n",
            "289 4.001080513000488\n",
            "290 3.996312379837036\n",
            "291 3.991576671600342\n",
            "292 3.98687744140625\n",
            "293 3.9822068214416504\n",
            "294 3.9775640964508057\n",
            "295 3.9729533195495605\n",
            "296 3.968377113342285\n",
            "297 3.963829517364502\n",
            "298 3.95930814743042\n",
            "299 3.954815149307251\n",
            "300 3.9503540992736816\n",
            "301 3.9458982944488525\n",
            "302 3.9414687156677246\n",
            "303 3.937069892883301\n",
            "304 3.932699680328369\n",
            "305 3.9283523559570312\n",
            "306 3.924030303955078\n",
            "307 3.919736862182617\n",
            "308 3.915463447570801\n",
            "309 3.911219596862793\n",
            "310 3.9070043563842773\n",
            "311 3.9028220176696777\n",
            "312 3.898664712905884\n",
            "313 3.894536256790161\n",
            "314 3.890434980392456\n",
            "315 3.8863565921783447\n",
            "316 3.8823063373565674\n",
            "317 3.878283739089966\n",
            "318 3.8742849826812744\n",
            "319 3.8703160285949707\n",
            "320 3.866374969482422\n",
            "321 3.8624558448791504\n",
            "322 3.8585591316223145\n",
            "323 3.854686975479126\n",
            "324 3.8508453369140625\n",
            "325 3.847029685974121\n",
            "326 3.8432364463806152\n",
            "327 3.8394644260406494\n",
            "328 3.8357129096984863\n",
            "329 3.831984043121338\n",
            "330 3.8282735347747803\n",
            "331 3.8245835304260254\n",
            "332 3.820911407470703\n",
            "333 3.8172600269317627\n",
            "334 3.8136281967163086\n",
            "335 3.81001353263855\n",
            "336 3.806419849395752\n",
            "337 3.802849531173706\n",
            "338 3.7992963790893555\n",
            "339 3.7957592010498047\n",
            "340 3.7922394275665283\n",
            "341 3.7887394428253174\n",
            "342 3.78525710105896\n",
            "343 3.7817912101745605\n",
            "344 3.7783408164978027\n",
            "345 3.7749123573303223\n",
            "346 3.771503448486328\n",
            "347 3.7681119441986084\n",
            "348 3.7647366523742676\n",
            "349 3.761375904083252\n",
            "350 3.7580268383026123\n",
            "351 3.754687547683716\n",
            "352 3.751364231109619\n",
            "353 3.7480576038360596\n",
            "354 3.744765281677246\n",
            "355 3.7414684295654297\n",
            "356 3.738187789916992\n",
            "357 3.7349226474761963\n",
            "358 3.7316646575927734\n",
            "359 3.7284045219421387\n",
            "360 3.7251594066619873\n",
            "361 3.7219314575195312\n",
            "362 3.718716859817505\n",
            "363 3.715512752532959\n",
            "364 3.7123212814331055\n",
            "365 3.7091450691223145\n",
            "366 3.7059855461120605\n",
            "367 3.7028417587280273\n",
            "368 3.6997106075286865\n",
            "369 3.6965928077697754\n",
            "370 3.693490505218506\n",
            "371 3.690403699874878\n",
            "372 3.687330961227417\n",
            "373 3.684274435043335\n",
            "374 3.6812310218811035\n",
            "375 3.6781978607177734\n",
            "376 3.675178289413452\n",
            "377 3.6721720695495605\n",
            "378 3.669180154800415\n",
            "379 3.666205883026123\n",
            "380 3.663245677947998\n",
            "381 3.66029953956604\n",
            "382 3.6573712825775146\n",
            "383 3.654454231262207\n",
            "384 3.6515488624572754\n",
            "385 3.648658037185669\n",
            "386 3.6457858085632324\n",
            "387 3.6429309844970703\n",
            "388 3.6401004791259766\n",
            "389 3.6372909545898438\n",
            "390 3.6344916820526123\n",
            "391 3.6317055225372314\n",
            "392 3.628933906555176\n",
            "393 3.6261751651763916\n",
            "394 3.623422622680664\n",
            "395 3.620682716369629\n",
            "396 3.6179556846618652\n",
            "397 3.615243434906006\n",
            "398 3.6125428676605225\n",
            "399 3.609854221343994\n",
            "400 3.607175350189209\n",
            "401 3.6045045852661133\n",
            "402 3.601844072341919\n",
            "403 3.5991926193237305\n",
            "404 3.5965514183044434\n",
            "405 3.593921184539795\n",
            "406 3.5913009643554688\n",
            "407 3.5886905193328857\n",
            "408 3.586090564727783\n",
            "409 3.5835001468658447\n",
            "410 3.5809173583984375\n",
            "411 3.5783472061157227\n",
            "412 3.575788736343384\n",
            "413 3.5732407569885254\n",
            "414 3.5707027912139893\n",
            "415 3.568176031112671\n",
            "416 3.5656566619873047\n",
            "417 3.563145637512207\n",
            "418 3.5606446266174316\n",
            "419 3.558154344558716\n",
            "420 3.5556719303131104\n",
            "421 3.55319881439209\n",
            "422 3.550734043121338\n",
            "423 3.548281192779541\n",
            "424 3.5458431243896484\n",
            "425 3.5434134006500244\n",
            "426 3.5409927368164062\n",
            "427 3.538581371307373\n",
            "428 3.536177158355713\n",
            "429 3.533780097961426\n",
            "430 3.5313892364501953\n",
            "431 3.5290040969848633\n",
            "432 3.5266268253326416\n",
            "433 3.524256706237793\n",
            "434 3.521888256072998\n",
            "435 3.519526720046997\n",
            "436 3.5171759128570557\n",
            "437 3.514833688735962\n",
            "438 3.512497663497925\n",
            "439 3.5101609230041504\n",
            "440 3.5078322887420654\n",
            "441 3.5055108070373535\n",
            "442 3.5031931400299072\n",
            "443 3.500880718231201\n",
            "444 3.4985744953155518\n",
            "445 3.4962782859802246\n",
            "446 3.4939894676208496\n",
            "447 3.4917078018188477\n",
            "448 3.4894330501556396\n",
            "449 3.4871621131896973\n",
            "450 3.4848976135253906\n",
            "451 3.4826388359069824\n",
            "452 3.480386734008789\n",
            "453 3.478140354156494\n",
            "454 3.4758994579315186\n",
            "455 3.4736664295196533\n",
            "456 3.4714393615722656\n",
            "457 3.4692225456237793\n",
            "458 3.4670095443725586\n",
            "459 3.464797019958496\n",
            "460 3.462592840194702\n",
            "461 3.460397243499756\n",
            "462 3.458207845687866\n",
            "463 3.4560303688049316\n",
            "464 3.453871250152588\n",
            "465 3.4517197608947754\n",
            "466 3.4495744705200195\n",
            "467 3.447437286376953\n",
            "468 3.445307493209839\n",
            "469 3.4431843757629395\n",
            "470 3.441071033477783\n",
            "471 3.438964605331421\n",
            "472 3.4368624687194824\n",
            "473 3.434764862060547\n",
            "474 3.4326727390289307\n",
            "475 3.430586338043213\n",
            "476 3.4285073280334473\n",
            "477 3.4264326095581055\n",
            "478 3.424363613128662\n",
            "479 3.422300100326538\n",
            "480 3.4202401638031006\n",
            "481 3.418186664581299\n",
            "482 3.416138172149658\n",
            "483 3.4140939712524414\n",
            "484 3.4120559692382812\n",
            "485 3.4100232124328613\n",
            "486 3.4079952239990234\n",
            "487 3.405972480773926\n",
            "488 3.4039559364318848\n",
            "489 3.401942729949951\n",
            "490 3.399933338165283\n",
            "491 3.3979294300079346\n",
            "492 3.395930767059326\n",
            "493 3.3939385414123535\n",
            "494 3.3919506072998047\n",
            "495 3.389965534210205\n",
            "496 3.387986898422241\n",
            "497 3.386012077331543\n",
            "498 3.3840432167053223\n",
            "499 3.382079839706421\n"
          ]
        }
      ],
      "source": [
        "losses1 = []\n",
        "losses1_test = []\n",
        "\n",
        "for t in range(500):                # 500 iterations\n",
        "\n",
        "    # Forward pass: compute prediction on training set\n",
        "    y_pred = model1(X_train)\n",
        "\n",
        "    # Compute loss\n",
        "    loss = criterion(y_pred, y_train)\n",
        "    print(t, loss.item())\n",
        "    losses1.append(loss.item())\n",
        "    if torch.isnan(loss):\n",
        "        break\n",
        "\n",
        "    # Compute gradient\n",
        "    optimizer.zero_grad()\n",
        "    loss.backward()\n",
        "\n",
        "    # Update\n",
        "    optimizer.step()\n",
        "\n",
        "    # Compute loss on test set\n",
        "    losses1_test.append(criterion(model1(X_test), y_test).item())"
      ]
    },
    {
      "cell_type": "markdown",
      "id": "09d02e07-bd34-45ac-867d-8982849127a0",
      "metadata": {
        "id": "09d02e07-bd34-45ac-867d-8982849127a0"
      },
      "source": [
        "Let's visualize the evolution of the MSE on the training set and test set:"
      ]
    },
    {
      "cell_type": "code",
      "execution_count": 66,
      "id": "72f20a67-f7f3-457b-be47-fa0884f43921",
      "metadata": {
        "colab": {
          "base_uri": "https://localhost:8080/",
          "height": 391
        },
        "id": "72f20a67-f7f3-457b-be47-fa0884f43921",
        "outputId": "d7b55cca-a4a0-4cc9-cbe3-047c668386f4"
      },
      "outputs": [
        {
          "data": {
            "image/png": "[encoded data removed]",
            "text/plain": [
              "<Figure size 600x400 with 1 Axes>"
            ]
          },
          "metadata": {},
          "output_type": "display_data"
        }
      ],
      "source": [
        "# Plot training and test loss\n",
        "plt.figure(figsize=(6, 4))\n",
        "plt.plot(losses1, label=\"Training loss\")\n",
        "plt.plot(losses1_test, label=\"Test loss\")\n",
        "plt.title('Evolution of training and test loss - 500 neurons')\n",
        "plt.ylim(top=70, bottom=0.0)\n",
        "plt.legend()\n",
        "plt.show()"
      ]
    },
    {
      "cell_type": "markdown",
      "id": "1a0d9df0-6281-4f7e-bc24-de4043050d9f",
      "metadata": {
        "id": "1a0d9df0-6281-4f7e-bc24-de4043050d9f"
      },
      "source": [
        "Now let's try a new model with more neurons in the hidden layer. We use 1000 neurons, and follow the same steps as before:"
      ]
    },
    {
      "cell_type": "code",
      "execution_count": 67,
      "id": "9e01fdf3-d136-4186-9031-5afa987dcff6",
      "metadata": {
        "id": "9e01fdf3-d136-4186-9031-5afa987dcff6"
      },
      "outputs": [],
      "source": [
        "model2 = Net(D_in, 1000, D_out)"
      ]
    },
    {
      "cell_type": "code",
      "execution_count": 68,
      "id": "4bff1abe-a077-4aae-ac9b-3f691384d92d",
      "metadata": {
        "id": "4bff1abe-a077-4aae-ac9b-3f691384d92d"
      },
      "outputs": [],
      "source": [
        "# MSE loss\n",
        "criterion = nn.MSELoss(reduction='sum')\n",
        "# SGD optimizer for finding the weights of the network\n",
        "optimizer = torch.optim.SGD(model2.parameters(), lr=1e-4)"
      ]
    },
    {
      "cell_type": "code",
      "execution_count": 69,
      "id": "6a66ea8a-0024-4a15-a610-b2a48bffb53f",
      "metadata": {
        "id": "6a66ea8a-0024-4a15-a610-b2a48bffb53f"
      },
      "outputs": [],
      "source": [
        "losses2 = []\n",
        "\n",
        "for t in range(500):\n",
        "    y_pred = model2(X_train)\n",
        "\n",
        "    loss = criterion(y_pred, y_train)\n",
        "    losses2.append(loss.item())\n",
        "\n",
        "    if torch.isnan(loss):\n",
        "        break\n",
        "\n",
        "    optimizer.zero_grad()\n",
        "    loss.backward()\n",
        "    optimizer.step()"
      ]
    },
    {
      "cell_type": "markdown",
      "id": "9a867ebe-fc63-48e5-bf2c-4c0f04c4f507",
      "metadata": {
        "id": "9a867ebe-fc63-48e5-bf2c-4c0f04c4f507"
      },
      "source": [
        "Let's visualize the evolution of the training loss for the two models:"
      ]
    },
    {
      "cell_type": "code",
      "execution_count": 70,
      "id": "e65c835d-cadf-4149-83f0-36356f48a67a",
      "metadata": {
        "colab": {
          "base_uri": "https://localhost:8080/",
          "height": 391
        },
        "id": "e65c835d-cadf-4149-83f0-36356f48a67a",
        "outputId": "53473407-cda2-4563-c49e-1bbacd88b7b5"
      },
      "outputs": [
        {
          "data": {
            "image/png": "[encoded data removed]",
            "text/plain": [
              "<Figure size 600x400 with 1 Axes>"
            ]
          },
          "metadata": {},
          "output_type": "display_data"
        }
      ],
      "source": [
        "# Plot training and test loss\n",
        "plt.figure(figsize=(6, 4))\n",
        "plt.plot(losses1, label=\"Model 1: 500 neurons\")\n",
        "plt.plot(losses2, label=\"Model 2: 1000 neurons\")\n",
        "plt.title('Evolution of training loss')\n",
        "plt.ylim(top=70, bottom=0.0)\n",
        "plt.legend()\n",
        "plt.show()"
      ]
    },
    {
      "cell_type": "markdown",
      "id": "2da286f3-4298-4bac-901a-a553314f7201",
      "metadata": {
        "id": "2da286f3-4298-4bac-901a-a553314f7201"
      },
      "source": [
        "Let's compare the MSE loss on the test data:"
      ]
    },
    {
      "cell_type": "code",
      "execution_count": 71,
      "id": "e7035489-609d-423f-a36c-0158923fb064",
      "metadata": {
        "colab": {
          "base_uri": "https://localhost:8080/"
        },
        "id": "e7035489-609d-423f-a36c-0158923fb064",
        "outputId": "170e511e-db8a-4696-c8f8-f752c9869d74"
      },
      "outputs": [
        {
          "name": "stdout",
          "output_type": "stream",
          "text": [
            "MSE loss for model 1:  tensor(0.3420, grad_fn=<MseLossBackward0>)\n",
            "MSE loss for model 2:  tensor(0.3186, grad_fn=<MseLossBackward0>)\n"
          ]
        }
      ],
      "source": [
        "# prediction for model 1\n",
        "model1_pred = model1(X_test)\n",
        "print(\"MSE loss for model 1: \", criterion(model1_pred, y_test))\n",
        "# prediction for model 2\n",
        "model2_pred = model2(X_test)\n",
        "print(\"MSE loss for model 2: \", criterion(model2_pred, y_test))"
      ]
    },
    {
      "cell_type": "markdown",
      "id": "4fd45a42-8bdc-45e6-be68-7e18b7253a63",
      "metadata": {
        "id": "4fd45a42-8bdc-45e6-be68-7e18b7253a63"
      },
      "source": [
        "What do you think?"
      ]
    },
    {
      "cell_type": "markdown",
      "id": "dorz99y4EToc",
      "metadata": {
        "id": "dorz99y4EToc"
      },
      "source": [
        "## Your turn !"
      ]
    },
    {
      "cell_type": "markdown",
      "id": "CuT4YoaXEV-A",
      "metadata": {
        "id": "CuT4YoaXEV-A"
      },
      "source": [
        "Based on this dataset ([link](https://raw.githubusercontent.com/michalis0/DataScience_and_MachineLearning/master/Week_5/data/spotify.csv)) imported from kaggle, create a Neural Network that will predict the streams of a song based on its bpm, key, danceability, valence, energy, acousticness, instrumentalness, liveness, and speechiness. (Hint: if there are some errors, try to copy/paste them in Google to see some solutions.)"
      ]
    },
    {
      "cell_type": "code",
      "execution_count": 72,
      "id": "CUKC2qaLETBV",
      "metadata": {
        "id": "CUKC2qaLETBV"
      },
      "outputs": [
        {
          "data": {
            "text/html": [
              "<div>\n",
              "<style scoped>\n",
              "    .dataframe tbody tr th:only-of-type {\n",
              "        vertical-align: middle;\n",
              "    }\n",
              "\n",
              "    .dataframe tbody tr th {\n",
              "        vertical-align: top;\n",
              "    }\n",
              "\n",
              "    .dataframe thead th {\n",
              "        text-align: right;\n",
              "    }\n",
              "</style>\n",
              "<table border=\"1\" class=\"dataframe\">\n",
              "  <thead>\n",
              "    <tr style=\"text-align: right;\">\n",
              "      <th></th>\n",
              "      <th>Unnamed: 0</th>\n",
              "      <th>track_name</th>\n",
              "      <th>artist(s)_name</th>\n",
              "      <th>artist_count</th>\n",
              "      <th>released_year</th>\n",
              "      <th>released_month</th>\n",
              "      <th>released_day</th>\n",
              "      <th>in_spotify_playlists</th>\n",
              "      <th>in_spotify_charts</th>\n",
              "      <th>streams</th>\n",
              "      <th>...</th>\n",
              "      <th>bpm</th>\n",
              "      <th>key</th>\n",
              "      <th>mode</th>\n",
              "      <th>danceability_%</th>\n",
              "      <th>valence_%</th>\n",
              "      <th>energy_%</th>\n",
              "      <th>acousticness_%</th>\n",
              "      <th>instrumentalness_%</th>\n",
              "      <th>liveness_%</th>\n",
              "      <th>speechiness_%</th>\n",
              "    </tr>\n",
              "  </thead>\n",
              "  <tbody>\n",
              "    <tr>\n",
              "      <th>0</th>\n",
              "      <td>0</td>\n",
              "      <td>LALA</td>\n",
              "      <td>Myke Towers</td>\n",
              "      <td>1.0</td>\n",
              "      <td>2023.0</td>\n",
              "      <td>3.0</td>\n",
              "      <td>23.0</td>\n",
              "      <td>1474.0</td>\n",
              "      <td>48.0</td>\n",
              "      <td>133716286.0</td>\n",
              "      <td>...</td>\n",
              "      <td>92.0</td>\n",
              "      <td>C#</td>\n",
              "      <td>Major</td>\n",
              "      <td>71.0</td>\n",
              "      <td>61.0</td>\n",
              "      <td>74.0</td>\n",
              "      <td>7.0</td>\n",
              "      <td>0.0</td>\n",
              "      <td>10.0</td>\n",
              "      <td>4.0</td>\n",
              "    </tr>\n",
              "    <tr>\n",
              "      <th>1</th>\n",
              "      <td>1</td>\n",
              "      <td>vampire</td>\n",
              "      <td>Olivia Rodrigo</td>\n",
              "      <td>1.0</td>\n",
              "      <td>2023.0</td>\n",
              "      <td>6.0</td>\n",
              "      <td>30.0</td>\n",
              "      <td>1397.0</td>\n",
              "      <td>113.0</td>\n",
              "      <td>140003974.0</td>\n",
              "      <td>...</td>\n",
              "      <td>138.0</td>\n",
              "      <td>F</td>\n",
              "      <td>Major</td>\n",
              "      <td>51.0</td>\n",
              "      <td>32.0</td>\n",
              "      <td>53.0</td>\n",
              "      <td>17.0</td>\n",
              "      <td>0.0</td>\n",
              "      <td>31.0</td>\n",
              "      <td>6.0</td>\n",
              "    </tr>\n",
              "    <tr>\n",
              "      <th>2</th>\n",
              "      <td>2</td>\n",
              "      <td>Cruel Summer</td>\n",
              "      <td>Taylor Swift</td>\n",
              "      <td>1.0</td>\n",
              "      <td>2019.0</td>\n",
              "      <td>8.0</td>\n",
              "      <td>23.0</td>\n",
              "      <td>7858.0</td>\n",
              "      <td>100.0</td>\n",
              "      <td>800840817.0</td>\n",
              "      <td>...</td>\n",
              "      <td>170.0</td>\n",
              "      <td>A</td>\n",
              "      <td>Major</td>\n",
              "      <td>55.0</td>\n",
              "      <td>58.0</td>\n",
              "      <td>72.0</td>\n",
              "      <td>11.0</td>\n",
              "      <td>0.0</td>\n",
              "      <td>11.0</td>\n",
              "      <td>15.0</td>\n",
              "    </tr>\n",
              "    <tr>\n",
              "      <th>3</th>\n",
              "      <td>3</td>\n",
              "      <td>WHERE SHE GOES</td>\n",
              "      <td>Bad Bunny</td>\n",
              "      <td>1.0</td>\n",
              "      <td>2023.0</td>\n",
              "      <td>5.0</td>\n",
              "      <td>18.0</td>\n",
              "      <td>3133.0</td>\n",
              "      <td>50.0</td>\n",
              "      <td>303236322.0</td>\n",
              "      <td>...</td>\n",
              "      <td>144.0</td>\n",
              "      <td>A</td>\n",
              "      <td>Minor</td>\n",
              "      <td>65.0</td>\n",
              "      <td>23.0</td>\n",
              "      <td>80.0</td>\n",
              "      <td>14.0</td>\n",
              "      <td>63.0</td>\n",
              "      <td>11.0</td>\n",
              "      <td>6.0</td>\n",
              "    </tr>\n",
              "    <tr>\n",
              "      <th>4</th>\n",
              "      <td>4</td>\n",
              "      <td>Columbia</td>\n",
              "      <td>Quevedo</td>\n",
              "      <td>1.0</td>\n",
              "      <td>2023.0</td>\n",
              "      <td>7.0</td>\n",
              "      <td>7.0</td>\n",
              "      <td>714.0</td>\n",
              "      <td>43.0</td>\n",
              "      <td>58149378.0</td>\n",
              "      <td>...</td>\n",
              "      <td>100.0</td>\n",
              "      <td>F</td>\n",
              "      <td>Major</td>\n",
              "      <td>67.0</td>\n",
              "      <td>26.0</td>\n",
              "      <td>71.0</td>\n",
              "      <td>37.0</td>\n",
              "      <td>0.0</td>\n",
              "      <td>11.0</td>\n",
              "      <td>4.0</td>\n",
              "    </tr>\n",
              "  </tbody>\n",
              "</table>\n",
              "<p>5 rows × 25 columns</p>\n",
              "</div>"
            ],
            "text/plain": [
              "   Unnamed: 0      track_name  artist(s)_name  artist_count  released_year  \\\n",
              "0           0            LALA     Myke Towers           1.0         2023.0   \n",
              "1           1         vampire  Olivia Rodrigo           1.0         2023.0   \n",
              "2           2    Cruel Summer    Taylor Swift           1.0         2019.0   \n",
              "3           3  WHERE SHE GOES       Bad Bunny           1.0         2023.0   \n",
              "4           4        Columbia         Quevedo           1.0         2023.0   \n",
              "\n",
              "   released_month  released_day  in_spotify_playlists  in_spotify_charts  \\\n",
              "0             3.0          23.0                1474.0               48.0   \n",
              "1             6.0          30.0                1397.0              113.0   \n",
              "2             8.0          23.0                7858.0              100.0   \n",
              "3             5.0          18.0                3133.0               50.0   \n",
              "4             7.0           7.0                 714.0               43.0   \n",
              "\n",
              "       streams  ...    bpm  key   mode  danceability_%  valence_%  energy_%  \\\n",
              "0  133716286.0  ...   92.0   C#  Major            71.0       61.0      74.0   \n",
              "1  140003974.0  ...  138.0    F  Major            51.0       32.0      53.0   \n",
              "2  800840817.0  ...  170.0    A  Major            55.0       58.0      72.0   \n",
              "3  303236322.0  ...  144.0    A  Minor            65.0       23.0      80.0   \n",
              "4   58149378.0  ...  100.0    F  Major            67.0       26.0      71.0   \n",
              "\n",
              "  acousticness_% instrumentalness_%  liveness_%  speechiness_%  \n",
              "0            7.0                0.0        10.0            4.0  \n",
              "1           17.0                0.0        31.0            6.0  \n",
              "2           11.0                0.0        11.0           15.0  \n",
              "3           14.0               63.0        11.0            6.0  \n",
              "4           37.0                0.0        11.0            4.0  \n",
              "\n",
              "[5 rows x 25 columns]"
            ]
          },
          "execution_count": 72,
          "metadata": {},
          "output_type": "execute_result"
        }
      ],
      "source": [
        "#import the dataset\n",
        "url = \"https://raw.githubusercontent.com/michalis0/DataScience_and_MachineLearning/master/Week_5/data/spotify.csv\"\n",
        "spotify = pd.read_csv(url)\n",
        "spotify.head()"
      ]
    },
    {
      "cell_type": "code",
      "execution_count": 73,
      "id": "11c1303a-7a43-4bcc-a930-b91d16acf1af",
      "metadata": {
        "id": "11c1303a-7a43-4bcc-a930-b91d16acf1af"
      },
      "outputs": [
        {
          "data": {
            "text/html": [
              "<div>\n",
              "<style scoped>\n",
              "    .dataframe tbody tr th:only-of-type {\n",
              "        vertical-align: middle;\n",
              "    }\n",
              "\n",
              "    .dataframe tbody tr th {\n",
              "        vertical-align: top;\n",
              "    }\n",
              "\n",
              "    .dataframe thead th {\n",
              "        text-align: right;\n",
              "    }\n",
              "</style>\n",
              "<table border=\"1\" class=\"dataframe\">\n",
              "  <thead>\n",
              "    <tr style=\"text-align: right;\">\n",
              "      <th></th>\n",
              "      <th>streams</th>\n",
              "      <th>bpm</th>\n",
              "      <th>key</th>\n",
              "      <th>danceability_%</th>\n",
              "      <th>valence_%</th>\n",
              "      <th>energy_%</th>\n",
              "      <th>acousticness_%</th>\n",
              "      <th>instrumentalness_%</th>\n",
              "      <th>liveness_%</th>\n",
              "      <th>speechiness_%</th>\n",
              "    </tr>\n",
              "  </thead>\n",
              "  <tbody>\n",
              "    <tr>\n",
              "      <th>0</th>\n",
              "      <td>133716286.0</td>\n",
              "      <td>92.0</td>\n",
              "      <td>C#</td>\n",
              "      <td>71.0</td>\n",
              "      <td>61.0</td>\n",
              "      <td>74.0</td>\n",
              "      <td>7.0</td>\n",
              "      <td>0.0</td>\n",
              "      <td>10.0</td>\n",
              "      <td>4.0</td>\n",
              "    </tr>\n",
              "    <tr>\n",
              "      <th>1</th>\n",
              "      <td>140003974.0</td>\n",
              "      <td>138.0</td>\n",
              "      <td>F</td>\n",
              "      <td>51.0</td>\n",
              "      <td>32.0</td>\n",
              "      <td>53.0</td>\n",
              "      <td>17.0</td>\n",
              "      <td>0.0</td>\n",
              "      <td>31.0</td>\n",
              "      <td>6.0</td>\n",
              "    </tr>\n",
              "    <tr>\n",
              "      <th>2</th>\n",
              "      <td>800840817.0</td>\n",
              "      <td>170.0</td>\n",
              "      <td>A</td>\n",
              "      <td>55.0</td>\n",
              "      <td>58.0</td>\n",
              "      <td>72.0</td>\n",
              "      <td>11.0</td>\n",
              "      <td>0.0</td>\n",
              "      <td>11.0</td>\n",
              "      <td>15.0</td>\n",
              "    </tr>\n",
              "    <tr>\n",
              "      <th>3</th>\n",
              "      <td>303236322.0</td>\n",
              "      <td>144.0</td>\n",
              "      <td>A</td>\n",
              "      <td>65.0</td>\n",
              "      <td>23.0</td>\n",
              "      <td>80.0</td>\n",
              "      <td>14.0</td>\n",
              "      <td>63.0</td>\n",
              "      <td>11.0</td>\n",
              "      <td>6.0</td>\n",
              "    </tr>\n",
              "    <tr>\n",
              "      <th>4</th>\n",
              "      <td>58149378.0</td>\n",
              "      <td>100.0</td>\n",
              "      <td>F</td>\n",
              "      <td>67.0</td>\n",
              "      <td>26.0</td>\n",
              "      <td>71.0</td>\n",
              "      <td>37.0</td>\n",
              "      <td>0.0</td>\n",
              "      <td>11.0</td>\n",
              "      <td>4.0</td>\n",
              "    </tr>\n",
              "  </tbody>\n",
              "</table>\n",
              "</div>"
            ],
            "text/plain": [
              "       streams    bpm key  danceability_%  valence_%  energy_%  \\\n",
              "0  133716286.0   92.0  C#            71.0       61.0      74.0   \n",
              "1  140003974.0  138.0   F            51.0       32.0      53.0   \n",
              "2  800840817.0  170.0   A            55.0       58.0      72.0   \n",
              "3  303236322.0  144.0   A            65.0       23.0      80.0   \n",
              "4   58149378.0  100.0   F            67.0       26.0      71.0   \n",
              "\n",
              "   acousticness_%  instrumentalness_%  liveness_%  speechiness_%  \n",
              "0             7.0                 0.0        10.0            4.0  \n",
              "1            17.0                 0.0        31.0            6.0  \n",
              "2            11.0                 0.0        11.0           15.0  \n",
              "3            14.0                63.0        11.0            6.0  \n",
              "4            37.0                 0.0        11.0            4.0  "
            ]
          },
          "execution_count": 73,
          "metadata": {},
          "output_type": "execute_result"
        }
      ],
      "source": [
        "#select only the columns that are interesting for you and display the type of the data\n",
        "spotify_selected_columns = spotify[['streams', 'bpm','key', 'danceability_%', 'valence_%', 'energy_%', 'acousticness_%', 'instrumentalness_%', 'liveness_%','speechiness_%']]\n",
        "spotify_selected_columns.head()"
      ]
    },
    {
      "cell_type": "code",
      "execution_count": 74,
      "id": "2qjJ53TKH24I",
      "metadata": {
        "id": "2qjJ53TKH24I"
      },
      "outputs": [
        {
          "data": {
            "text/html": [
              "<div>\n",
              "<style scoped>\n",
              "    .dataframe tbody tr th:only-of-type {\n",
              "        vertical-align: middle;\n",
              "    }\n",
              "\n",
              "    .dataframe tbody tr th {\n",
              "        vertical-align: top;\n",
              "    }\n",
              "\n",
              "    .dataframe thead th {\n",
              "        text-align: right;\n",
              "    }\n",
              "</style>\n",
              "<table border=\"1\" class=\"dataframe\">\n",
              "  <thead>\n",
              "    <tr style=\"text-align: right;\">\n",
              "      <th></th>\n",
              "      <th>streams</th>\n",
              "      <th>bpm</th>\n",
              "      <th>danceability_%</th>\n",
              "      <th>valence_%</th>\n",
              "      <th>energy_%</th>\n",
              "      <th>acousticness_%</th>\n",
              "      <th>instrumentalness_%</th>\n",
              "      <th>liveness_%</th>\n",
              "      <th>speechiness_%</th>\n",
              "    </tr>\n",
              "  </thead>\n",
              "  <tbody>\n",
              "    <tr>\n",
              "      <th>0</th>\n",
              "      <td>133716286.0</td>\n",
              "      <td>92.0</td>\n",
              "      <td>71.0</td>\n",
              "      <td>61.0</td>\n",
              "      <td>74.0</td>\n",
              "      <td>7.0</td>\n",
              "      <td>0.0</td>\n",
              "      <td>10.0</td>\n",
              "      <td>4.0</td>\n",
              "    </tr>\n",
              "    <tr>\n",
              "      <th>1</th>\n",
              "      <td>140003974.0</td>\n",
              "      <td>138.0</td>\n",
              "      <td>51.0</td>\n",
              "      <td>32.0</td>\n",
              "      <td>53.0</td>\n",
              "      <td>17.0</td>\n",
              "      <td>0.0</td>\n",
              "      <td>31.0</td>\n",
              "      <td>6.0</td>\n",
              "    </tr>\n",
              "    <tr>\n",
              "      <th>2</th>\n",
              "      <td>800840817.0</td>\n",
              "      <td>170.0</td>\n",
              "      <td>55.0</td>\n",
              "      <td>58.0</td>\n",
              "      <td>72.0</td>\n",
              "      <td>11.0</td>\n",
              "      <td>0.0</td>\n",
              "      <td>11.0</td>\n",
              "      <td>15.0</td>\n",
              "    </tr>\n",
              "    <tr>\n",
              "      <th>3</th>\n",
              "      <td>303236322.0</td>\n",
              "      <td>144.0</td>\n",
              "      <td>65.0</td>\n",
              "      <td>23.0</td>\n",
              "      <td>80.0</td>\n",
              "      <td>14.0</td>\n",
              "      <td>63.0</td>\n",
              "      <td>11.0</td>\n",
              "      <td>6.0</td>\n",
              "    </tr>\n",
              "    <tr>\n",
              "      <th>4</th>\n",
              "      <td>58149378.0</td>\n",
              "      <td>100.0</td>\n",
              "      <td>67.0</td>\n",
              "      <td>26.0</td>\n",
              "      <td>71.0</td>\n",
              "      <td>37.0</td>\n",
              "      <td>0.0</td>\n",
              "      <td>11.0</td>\n",
              "      <td>4.0</td>\n",
              "    </tr>\n",
              "  </tbody>\n",
              "</table>\n",
              "</div>"
            ],
            "text/plain": [
              "       streams    bpm  danceability_%  valence_%  energy_%  acousticness_%  \\\n",
              "0  133716286.0   92.0            71.0       61.0      74.0             7.0   \n",
              "1  140003974.0  138.0            51.0       32.0      53.0            17.0   \n",
              "2  800840817.0  170.0            55.0       58.0      72.0            11.0   \n",
              "3  303236322.0  144.0            65.0       23.0      80.0            14.0   \n",
              "4   58149378.0  100.0            67.0       26.0      71.0            37.0   \n",
              "\n",
              "   instrumentalness_%  liveness_%  speechiness_%  \n",
              "0                 0.0        10.0            4.0  \n",
              "1                 0.0        31.0            6.0  \n",
              "2                 0.0        11.0           15.0  \n",
              "3                63.0        11.0            6.0  \n",
              "4                 0.0        11.0            4.0  "
            ]
          },
          "execution_count": 74,
          "metadata": {},
          "output_type": "execute_result"
        }
      ],
      "source": [
        "# store only the numeric data into a new dataframe\n",
        "spotify_numerical = spotify_selected_columns.drop('key', axis=1)\n",
        "spotify_numerical.head()"
      ]
    },
    {
      "cell_type": "code",
      "execution_count": 75,
      "id": "iPg_l8aOID0E",
      "metadata": {
        "id": "iPg_l8aOID0E"
      },
      "outputs": [
        {
          "name": "stdout",
          "output_type": "stream",
          "text": [
            "The training set has 1314 observations, and the test set has 146 observations.\n"
          ]
        }
      ],
      "source": [
        "# split the training/test dataset\n",
        "numeric_data_train, numeric_data_test = train_test_split(spotify_selected_columns, test_size=0.1, random_state=7)\n",
        "\n",
        "print(f\"The training set has {X_train.shape[0]} observations, and the test set has {X_test.shape[0]} observations.\")"
      ]
    },
    {
      "cell_type": "code",
      "execution_count": 76,
      "id": "yohti5cUXn7I",
      "metadata": {
        "id": "yohti5cUXn7I"
      },
      "outputs": [
        {
          "name": "stdout",
          "output_type": "stream",
          "text": [
            "     key\n",
            "202    0\n",
            "221    8\n",
            "408    1\n",
            "2      0\n",
            "101    9\n",
            "..   ...\n",
            "211   10\n",
            "67    10\n",
            "25    10\n",
            "196    3\n",
            "175    0\n",
            "\n",
            "[396 rows x 1 columns]\n"
          ]
        }
      ],
      "source": [
        "# encode the 'key' feature using LabelEncoder\n",
        "key = numeric_data_train[['key']].values.ravel()\n",
        "key_test = numeric_data_test[['key']].values.ravel()\n",
        "le = LabelEncoder()\n",
        "le.fit(key)\n",
        "numeric_data_train = numeric_data_train.assign(key=le.transform(key))\n",
        "numeric_data_test = numeric_data_test.assign(key=le.transform(key_test))\n",
        "print(numeric_data_train[['key']])"
      ]
    },
    {
      "cell_type": "code",
      "execution_count": 77,
      "id": "_EiU-bHLOO_R",
      "metadata": {
        "id": "_EiU-bHLOO_R"
      },
      "outputs": [],
      "source": [
        "# scale your data using MinMaxScaler\n",
        "#Define the scaler\n",
        "scaler = MinMaxScaler()\n",
        "#Fit the scaler\n",
        "scaler.fit(numeric_data_train)\n",
        "#Transform the train and the test set\n",
        "numeric_data_train.loc[:,:] = scaler.transform(numeric_data_train)\n",
        "numeric_data_test.loc[:,:] = scaler.transform(numeric_data_test)"
      ]
    },
    {
      "cell_type": "code",
      "execution_count": 78,
      "id": "Gaosh24gOOqz",
      "metadata": {
        "id": "Gaosh24gOOqz"
      },
      "outputs": [],
      "source": [
        "# extract features and output\n",
        "numeric_x_columns = list(numeric_data_train.columns)\n",
        "numeric_x_columns.remove(\"streams\")\n",
        "X_train_df = numeric_data_train[numeric_x_columns]\n",
        "y_train_df = pd.DataFrame(numeric_data_train[\"streams\"])\n",
        "X_test_df = numeric_data_test[numeric_x_columns]\n",
        "y_test_df = pd.DataFrame(numeric_data_test[\"streams\"])"
      ]
    },
    {
      "cell_type": "code",
      "execution_count": 79,
      "id": "kVXb22yzOrFD",
      "metadata": {
        "id": "kVXb22yzOrFD"
      },
      "outputs": [],
      "source": [
        "# Transform the data into tensor\n",
        "X_train = torch.tensor(X_train_df.values, dtype=torch.float)\n",
        "y_train = torch.tensor(y_train_df.values, dtype=torch.float)\n",
        "X_test = torch.tensor(X_test_df.values, dtype=torch.float)\n",
        "y_test = torch.tensor(y_test_df.values, dtype=torch.float)"
      ]
    },
    {
      "cell_type": "markdown",
      "id": "oJBlJsBYO6Qa",
      "metadata": {
        "id": "oJBlJsBYO6Qa"
      },
      "source": [
        "Now create a Neural Net class with two hidden layer using the ReLU activation layer for both of them:"
      ]
    },
    {
      "cell_type": "code",
      "execution_count": 80,
      "id": "gw_4_CVsO1yL",
      "metadata": {
        "colab": {
          "base_uri": "https://localhost:8080/",
          "height": 141
        },
        "id": "gw_4_CVsO1yL",
        "outputId": "2ba044aa-d28f-4e62-8832-fc991c0e056c"
      },
      "outputs": [],
      "source": [
        "class Net_lab(nn.Module):\n",
        "#    def __init__(self, D_in, H1, D_out):\n",
        "#        super(Net, self).__init__()\n",
        "#\n",
        "#        self.linear1 = nn.Linear(D_in, H1)        # Linear transformation for hidden layer\n",
        "#        self.linear2 = nn.Linear(H1, D_out)       # Linear transformation for output layer\n",
        "#        self.activation = nn.ReLU()               # Activation function for hidden layer\n",
        "#\n",
        "#    def forward(self, x):\n",
        "#        y_pred = self.activation(self.linear1(x))   # Hidden layer: linear transformation + ReLU\n",
        "#        y_pred = self.linear2(y_pred)               # Output layer: linear transformation\n",
        "#        return y_pred\n",
        "    def __init__(self, input_size, hidden_size1, hidden_size2, output_size):\n",
        "        super(Net, self).__init()\n",
        "        self.fc1 = nn.Linear(input_size, hidden_size1)\n",
        "        self.relu1 = nn.ReLU()\n",
        "        self.fc2 = nn.Linear(hidden_size1, hidden_size2)\n",
        "        self.relu2 = nn.ReLU()\n",
        "        self.fc3 = nn.Linear(hidden_size2, output_size)\n",
        "\n",
        "    def forward(self, x):\n",
        "        out = self.fc1(x)\n",
        "        out = self.relu1(out)\n",
        "        out = self.fc2(out)\n",
        "        out = self.relu2(out)\n",
        "        out = self.fc3(out)\n",
        "        return out"
      ]
    },
    {
      "cell_type": "code",
      "execution_count": 81,
      "id": "YlpMENjKO2dl",
      "metadata": {
        "id": "YlpMENjKO2dl"
      },
      "outputs": [],
      "source": [
        "# give the right dimension to the input and output layers\n",
        "input_size, output_size = X_train.shape[1], y_train.shape[1]"
      ]
    },
    {
      "cell_type": "code",
      "execution_count": 82,
      "id": "MPvresr1O2bR",
      "metadata": {
        "id": "MPvresr1O2bR"
      },
      "outputs": [],
      "source": [
        "# Create a model with 100 neurons for both hidden layers\n",
        "model1 = Net(input_size, 500, output_size)"
      ]
    },
    {
      "cell_type": "code",
      "execution_count": 83,
      "id": "gjsYOgwDmU2C",
      "metadata": {
        "id": "gjsYOgwDmU2C"
      },
      "outputs": [
        {
          "name": "stdout",
          "output_type": "stream",
          "text": [
            "5501\n"
          ]
        }
      ],
      "source": [
        "# calculate how many parameters the model has\n",
        "pytorch_total_params = sum(p.numel() for p in model1.parameters() if p.requires_grad)\n",
        "print(pytorch_total_params)"
      ]
    },
    {
      "cell_type": "code",
      "execution_count": 84,
      "id": "y8FdT7BDQSBF",
      "metadata": {
        "id": "y8FdT7BDQSBF"
      },
      "outputs": [],
      "source": [
        "# use the MSELoss() as the loss criterion and Adam() as the optimizer (search online the optimizer)\n",
        "criterion = torch.nn.MSELoss(reduction='sum')\n",
        "optimizer = torch.optim.Adam(model1.parameters(), lr=0.001)\n",
        "sample_input = torch.randn(1, input_size)  \n",
        "target_output = torch.randn(1, output_size)  \n",
        "output = model1(sample_input)  \n",
        "loss = criterion(output, target_output)\n",
        "# Backpropagation and optimization step\n",
        "optimizer.zero_grad()\n",
        "loss.backward()\n",
        "optimizer.step()"
      ]
    },
    {
      "cell_type": "markdown",
      "id": "3QvTMKNoZSes",
      "metadata": {
        "id": "3QvTMKNoZSes"
      },
      "source": [
        "Now create a loop to train your model (with 500 iterations), don't forget to save your loss criterion in order to plot it later !"
      ]
    },
    {
      "cell_type": "code",
      "execution_count": 85,
      "id": "WHghL05IQR3d",
      "metadata": {
        "id": "WHghL05IQR3d"
      },
      "outputs": [
        {
          "name": "stdout",
          "output_type": "stream",
          "text": [
            "0 25.849863052368164\n",
            "1 17.950511932373047\n",
            "2 12.940149307250977\n",
            "3 11.842047691345215\n",
            "4 13.456770896911621\n",
            "5 15.328900337219238\n",
            "6 15.858935356140137\n",
            "7 14.982236862182617\n",
            "8 13.377618789672852\n",
            "9 11.799049377441406\n",
            "10 10.777518272399902\n",
            "11 10.502629280090332\n",
            "12 10.822028160095215\n",
            "13 11.357784271240234\n",
            "14 11.720130920410156\n",
            "15 11.692938804626465\n",
            "16 11.291946411132812\n",
            "17 10.698837280273438\n",
            "18 10.146766662597656\n",
            "19 9.815227508544922\n",
            "20 9.764521598815918\n",
            "21 9.926129341125488\n",
            "22 10.149184226989746\n",
            "23 10.281728744506836\n",
            "24 10.242968559265137\n",
            "25 10.049105644226074\n",
            "26 9.787602424621582\n",
            "27 9.564359664916992\n",
            "28 9.451048851013184\n",
            "29 9.457456588745117\n",
            "30 9.534483909606934\n",
            "31 9.606785774230957\n",
            "32 9.614460945129395\n",
            "33 9.540458679199219\n",
            "34 9.413000106811523\n",
            "35 9.284122467041016\n",
            "36 9.198906898498535\n",
            "37 9.173562049865723\n",
            "38 9.190808296203613\n",
            "39 9.213994026184082\n",
            "40 9.209630966186523\n",
            "41 9.165876388549805\n",
            "42 9.095441818237305\n",
            "43 9.02522087097168\n",
            "44 8.97796630859375\n",
            "45 8.960575103759766\n",
            "46 8.961689949035645\n",
            "47 8.961162567138672\n",
            "48 8.943265914916992\n",
            "49 8.905455589294434\n",
            "50 8.859397888183594\n",
            "51 8.820425033569336\n",
            "52 8.79654598236084\n",
            "53 8.785953521728516\n",
            "54 8.778429985046387\n",
            "55 8.762803077697754\n",
            "56 8.735991477966309\n",
            "57 8.70305347442627\n",
            "58 8.673196792602539\n",
            "59 8.651796340942383\n",
            "60 8.637231826782227\n",
            "61 8.624091148376465\n",
            "62 8.606420516967773\n",
            "63 8.582853317260742\n",
            "64 8.556680679321289\n",
            "65 8.532756805419922\n",
            "66 8.51303482055664\n",
            "67 8.495695114135742\n",
            "68 8.478009223937988\n",
            "69 8.456879615783691\n",
            "70 8.433235168457031\n",
            "71 8.409358024597168\n",
            "72 8.387872695922852\n",
            "73 8.369678497314453\n",
            "74 8.351334571838379\n",
            "75 8.331634521484375\n",
            "76 8.310827255249023\n",
            "77 8.290060043334961\n",
            "78 8.27099323272705\n",
            "79 8.253055572509766\n",
            "80 8.234940528869629\n",
            "81 8.21580982208252\n",
            "82 8.195661544799805\n",
            "83 8.175491333007812\n",
            "84 8.15582275390625\n",
            "85 8.13650894165039\n",
            "86 8.117429733276367\n",
            "87 8.097970962524414\n",
            "88 8.077466011047363\n",
            "89 8.057367324829102\n",
            "90 8.038276672363281\n",
            "91 8.020417213439941\n",
            "92 8.002801895141602\n",
            "93 7.98484992980957\n",
            "94 7.966716766357422\n",
            "95 7.948407173156738\n",
            "96 7.929977893829346\n",
            "97 7.911495685577393\n",
            "98 7.892886161804199\n",
            "99 7.874332427978516\n",
            "100 7.855897903442383\n",
            "101 7.837470054626465\n",
            "102 7.819739818572998\n",
            "103 7.801492691040039\n",
            "104 7.783426761627197\n",
            "105 7.765227794647217\n",
            "106 7.74640417098999\n",
            "107 7.727389812469482\n",
            "108 7.708772659301758\n",
            "109 7.6904683113098145\n",
            "110 7.672097682952881\n",
            "111 7.6538519859313965\n",
            "112 7.635527610778809\n",
            "113 7.6172099113464355\n",
            "114 7.599044322967529\n",
            "115 7.581036567687988\n",
            "116 7.56321907043457\n",
            "117 7.54471492767334\n",
            "118 7.526381492614746\n",
            "119 7.508270740509033\n",
            "120 7.489815711975098\n",
            "121 7.471601963043213\n",
            "122 7.453646659851074\n",
            "123 7.435622692108154\n",
            "124 7.4170966148376465\n",
            "125 7.398609638214111\n",
            "126 7.380390644073486\n",
            "127 7.362496376037598\n",
            "128 7.344635963439941\n",
            "129 7.327085494995117\n",
            "130 7.30917501449585\n",
            "131 7.291460037231445\n",
            "132 7.27398681640625\n",
            "133 7.25616455078125\n",
            "134 7.239121437072754\n",
            "135 7.2222371101379395\n",
            "136 7.204809665679932\n",
            "137 7.18780517578125\n",
            "138 7.1712799072265625\n",
            "139 7.15406608581543\n",
            "140 7.13694429397583\n",
            "141 7.119963645935059\n",
            "142 7.1028618812561035\n",
            "143 7.085562705993652\n",
            "144 7.069175720214844\n",
            "145 7.052119255065918\n",
            "146 7.035305023193359\n",
            "147 7.018135070800781\n",
            "148 7.000950813293457\n",
            "149 6.983592510223389\n",
            "150 6.9665374755859375\n",
            "151 6.949164867401123\n",
            "152 6.932385444641113\n",
            "153 6.9158196449279785\n",
            "154 6.898976802825928\n",
            "155 6.881758689880371\n",
            "156 6.865527153015137\n",
            "157 6.849055290222168\n",
            "158 6.831874847412109\n",
            "159 6.814305782318115\n",
            "160 6.797452449798584\n",
            "161 6.781172752380371\n",
            "162 6.7643890380859375\n",
            "163 6.7470927238464355\n",
            "164 6.7303853034973145\n",
            "165 6.713568687438965\n",
            "166 6.6963348388671875\n",
            "167 6.678757667541504\n",
            "168 6.6617631912231445\n",
            "169 6.644652366638184\n",
            "170 6.627887725830078\n",
            "171 6.611280918121338\n",
            "172 6.594442367553711\n",
            "173 6.5772881507873535\n",
            "174 6.560164451599121\n",
            "175 6.543322563171387\n",
            "176 6.526730537414551\n",
            "177 6.510384559631348\n",
            "178 6.493985652923584\n",
            "179 6.477417469024658\n",
            "180 6.460724830627441\n",
            "181 6.4443511962890625\n",
            "182 6.428125858306885\n",
            "183 6.411421775817871\n",
            "184 6.395386695861816\n",
            "185 6.378793239593506\n",
            "186 6.362417221069336\n",
            "187 6.3462233543396\n",
            "188 6.329845905303955\n",
            "189 6.313769340515137\n",
            "190 6.298113822937012\n",
            "191 6.281911849975586\n",
            "192 6.265463352203369\n",
            "193 6.249815940856934\n",
            "194 6.234072685241699\n",
            "195 6.218470573425293\n",
            "196 6.202718734741211\n",
            "197 6.187270164489746\n",
            "198 6.171935558319092\n",
            "199 6.155916690826416\n",
            "200 6.140077590942383\n",
            "201 6.124417304992676\n",
            "202 6.108605861663818\n",
            "203 6.092653274536133\n",
            "204 6.076460361480713\n",
            "205 6.060402870178223\n",
            "206 6.044284343719482\n",
            "207 6.028253555297852\n",
            "208 6.012311935424805\n",
            "209 5.996163368225098\n",
            "210 5.980306625366211\n",
            "211 5.964408874511719\n",
            "212 5.948506832122803\n",
            "213 5.932380199432373\n",
            "214 5.916887283325195\n",
            "215 5.901519775390625\n",
            "216 5.88625431060791\n",
            "217 5.870438575744629\n",
            "218 5.855005264282227\n",
            "219 5.840014457702637\n",
            "220 5.824879169464111\n",
            "221 5.809532642364502\n",
            "222 5.7939453125\n",
            "223 5.778871059417725\n",
            "224 5.763800144195557\n",
            "225 5.748782157897949\n",
            "226 5.733912467956543\n",
            "227 5.718642234802246\n",
            "228 5.7042107582092285\n",
            "229 5.6889142990112305\n",
            "230 5.673823356628418\n",
            "231 5.658809185028076\n",
            "232 5.644275188446045\n",
            "233 5.629284858703613\n",
            "234 5.614389419555664\n",
            "235 5.600081443786621\n",
            "236 5.585346221923828\n",
            "237 5.570503234863281\n",
            "238 5.555987358093262\n",
            "239 5.540814399719238\n",
            "240 5.526334285736084\n",
            "241 5.511595726013184\n",
            "242 5.497364521026611\n",
            "243 5.483442783355713\n",
            "244 5.468006610870361\n",
            "245 5.453590393066406\n",
            "246 5.439512252807617\n",
            "247 5.4249138832092285\n",
            "248 5.409819602966309\n",
            "249 5.395800590515137\n",
            "250 5.3818039894104\n",
            "251 5.367664337158203\n",
            "252 5.353068828582764\n",
            "253 5.338891983032227\n",
            "254 5.3248724937438965\n",
            "255 5.31056022644043\n",
            "256 5.296533584594727\n",
            "257 5.282313823699951\n",
            "258 5.268320560455322\n",
            "259 5.254571914672852\n",
            "260 5.240065574645996\n",
            "261 5.226287841796875\n",
            "262 5.211951732635498\n",
            "263 5.198610305786133\n",
            "264 5.184596061706543\n",
            "265 5.169649124145508\n",
            "266 5.156368255615234\n",
            "267 5.142039775848389\n",
            "268 5.127990245819092\n",
            "269 5.114017009735107\n",
            "270 5.099620819091797\n",
            "271 5.0851850509643555\n",
            "272 5.071263313293457\n",
            "273 5.057226181030273\n",
            "274 5.043326377868652\n",
            "275 5.029420375823975\n",
            "276 5.015896320343018\n",
            "277 5.002328872680664\n",
            "278 4.987944602966309\n",
            "279 4.974828720092773\n",
            "280 4.961864948272705\n",
            "281 4.948795318603516\n",
            "282 4.93493127822876\n",
            "283 4.921830654144287\n",
            "284 4.9080681800842285\n",
            "285 4.8954362869262695\n",
            "286 4.8826165199279785\n",
            "287 4.868745803833008\n",
            "288 4.855468273162842\n",
            "289 4.843321323394775\n",
            "290 4.82972526550293\n",
            "291 4.816772937774658\n",
            "292 4.803886413574219\n",
            "293 4.790410041809082\n",
            "294 4.778249740600586\n",
            "295 4.7654571533203125\n",
            "296 4.751776218414307\n",
            "297 4.739304065704346\n",
            "298 4.726881504058838\n",
            "299 4.713810443878174\n",
            "300 4.701037406921387\n",
            "301 4.687829971313477\n",
            "302 4.6758527755737305\n",
            "303 4.6631646156311035\n",
            "304 4.650421619415283\n",
            "305 4.637513160705566\n",
            "306 4.625667572021484\n",
            "307 4.612733840942383\n",
            "308 4.600073337554932\n",
            "309 4.587429523468018\n",
            "310 4.574674606323242\n",
            "311 4.56185245513916\n",
            "312 4.548697471618652\n",
            "313 4.53563928604126\n",
            "314 4.523394584655762\n",
            "315 4.509427070617676\n",
            "316 4.496795654296875\n",
            "317 4.483839511871338\n",
            "318 4.470415115356445\n",
            "319 4.456623077392578\n",
            "320 4.444363594055176\n",
            "321 4.432040214538574\n",
            "322 4.419320583343506\n",
            "323 4.4066057205200195\n",
            "324 4.394199371337891\n",
            "325 4.381139755249023\n",
            "326 4.368713855743408\n",
            "327 4.355613708496094\n",
            "328 4.343201637268066\n",
            "329 4.331174850463867\n",
            "330 4.318060874938965\n",
            "331 4.305458068847656\n",
            "332 4.293333530426025\n",
            "333 4.281699180603027\n",
            "334 4.268798351287842\n",
            "335 4.25649881362915\n",
            "336 4.244825839996338\n",
            "337 4.232338905334473\n",
            "338 4.220523357391357\n",
            "339 4.208653926849365\n",
            "340 4.1962995529174805\n",
            "341 4.184041976928711\n",
            "342 4.1717658042907715\n",
            "343 4.159671783447266\n",
            "344 4.147972106933594\n",
            "345 4.135797023773193\n",
            "346 4.124396324157715\n",
            "347 4.111759662628174\n",
            "348 4.100131034851074\n",
            "349 4.088152885437012\n",
            "350 4.07615327835083\n",
            "351 4.064606189727783\n",
            "352 4.05263614654541\n",
            "353 4.0413947105407715\n",
            "354 4.029356956481934\n",
            "355 4.017359733581543\n",
            "356 4.005958080291748\n",
            "357 3.9945857524871826\n",
            "358 3.983447551727295\n",
            "359 3.971949338912964\n",
            "360 3.9605910778045654\n",
            "361 3.9485888481140137\n",
            "362 3.9374890327453613\n",
            "363 3.92649507522583\n",
            "364 3.915151834487915\n",
            "365 3.903742790222168\n",
            "366 3.8927597999572754\n",
            "367 3.881674289703369\n",
            "368 3.8708009719848633\n",
            "369 3.8600025177001953\n",
            "370 3.8476450443267822\n",
            "371 3.8379411697387695\n",
            "372 3.826777458190918\n",
            "373 3.815451145172119\n",
            "374 3.8042335510253906\n",
            "375 3.793783664703369\n",
            "376 3.7822933197021484\n",
            "377 3.7714695930480957\n",
            "378 3.7615437507629395\n",
            "379 3.750406265258789\n",
            "380 3.7397208213806152\n",
            "381 3.7287485599517822\n",
            "382 3.7186810970306396\n",
            "383 3.7080914974212646\n",
            "384 3.69706392288208\n",
            "385 3.6862645149230957\n",
            "386 3.6751439571380615\n",
            "387 3.6648523807525635\n",
            "388 3.6544277667999268\n",
            "389 3.6436848640441895\n",
            "390 3.6329808235168457\n",
            "391 3.6227147579193115\n",
            "392 3.6125755310058594\n",
            "393 3.601466178894043\n",
            "394 3.591543436050415\n",
            "395 3.5820059776306152\n",
            "396 3.5706284046173096\n",
            "397 3.5612599849700928\n",
            "398 3.5509705543518066\n",
            "399 3.540778875350952\n",
            "400 3.530498504638672\n",
            "401 3.5202383995056152\n",
            "402 3.5105481147766113\n",
            "403 3.50006103515625\n",
            "404 3.490811347961426\n",
            "405 3.481618881225586\n",
            "406 3.4713335037231445\n",
            "407 3.461886405944824\n",
            "408 3.4528961181640625\n",
            "409 3.4425301551818848\n",
            "410 3.432654619216919\n",
            "411 3.424600124359131\n",
            "412 3.414530038833618\n",
            "413 3.4048521518707275\n",
            "414 3.395892858505249\n",
            "415 3.3867101669311523\n",
            "416 3.376739501953125\n",
            "417 3.3670730590820312\n",
            "418 3.358666181564331\n",
            "419 3.3488430976867676\n",
            "420 3.338738441467285\n",
            "421 3.33038067817688\n",
            "422 3.3208789825439453\n",
            "423 3.311453342437744\n",
            "424 3.301787853240967\n",
            "425 3.292487621307373\n",
            "426 3.283294200897217\n",
            "427 3.27402925491333\n",
            "428 3.2646543979644775\n",
            "429 3.2548232078552246\n",
            "430 3.245743751525879\n",
            "431 3.237210988998413\n",
            "432 3.2275683879852295\n",
            "433 3.2185611724853516\n",
            "434 3.2091245651245117\n",
            "435 3.20003604888916\n",
            "436 3.191101312637329\n",
            "437 3.181410551071167\n",
            "438 3.1722097396850586\n",
            "439 3.163550853729248\n",
            "440 3.154075860977173\n",
            "441 3.144467353820801\n",
            "442 3.13586688041687\n",
            "443 3.1262974739074707\n",
            "444 3.1164207458496094\n",
            "445 3.1070265769958496\n",
            "446 3.09800386428833\n",
            "447 3.088069438934326\n",
            "448 3.077867031097412\n",
            "449 3.068211317062378\n",
            "450 3.058112144470215\n",
            "451 3.0480432510375977\n",
            "452 3.038181781768799\n",
            "453 3.0294430255889893\n",
            "454 3.0189309120178223\n",
            "455 3.009601354598999\n",
            "456 3.0002808570861816\n",
            "457 2.9902665615081787\n",
            "458 2.9809703826904297\n",
            "459 2.971611261367798\n",
            "460 2.962702512741089\n",
            "461 2.952444076538086\n",
            "462 2.9436473846435547\n",
            "463 2.9348526000976562\n",
            "464 2.9249749183654785\n",
            "465 2.915403127670288\n",
            "466 2.906167984008789\n",
            "467 2.8966143131256104\n",
            "468 2.8867440223693848\n",
            "469 2.8779492378234863\n",
            "470 2.8689329624176025\n",
            "471 2.8598086833953857\n",
            "472 2.8503551483154297\n",
            "473 2.840949535369873\n",
            "474 2.8321006298065186\n",
            "475 2.8226981163024902\n",
            "476 2.8137905597686768\n",
            "477 2.8052303791046143\n",
            "478 2.7968339920043945\n",
            "479 2.78816556930542\n",
            "480 2.778618812561035\n",
            "481 2.7698636054992676\n",
            "482 2.7613072395324707\n",
            "483 2.752192497253418\n",
            "484 2.743603229522705\n",
            "485 2.734649181365967\n",
            "486 2.726757049560547\n",
            "487 2.7184832096099854\n",
            "488 2.709902048110962\n",
            "489 2.7010531425476074\n",
            "490 2.693549156188965\n",
            "491 2.6855311393737793\n",
            "492 2.6766676902770996\n",
            "493 2.6683461666107178\n",
            "494 2.660757541656494\n",
            "495 2.6526038646698\n",
            "496 2.6449458599090576\n",
            "497 2.6364498138427734\n",
            "498 2.6289970874786377\n",
            "499 2.6214969158172607\n"
          ]
        }
      ],
      "source": [
        "losses1 = []\n",
        "losses1_test = []\n",
        "\n",
        "for t in range(500):                # 500 iterations\n",
        "\n",
        "    # Forward pass: compute prediction on training set\n",
        "    y_pred = model1(X_train)\n",
        "\n",
        "    # Compute loss\n",
        "    loss = criterion(y_pred, y_train)\n",
        "    print(t, loss.item())\n",
        "    losses1.append(loss.item())\n",
        "    if torch.isnan(loss):\n",
        "        break\n",
        "\n",
        "    # Compute gradient\n",
        "    optimizer.zero_grad()\n",
        "    loss.backward()\n",
        "\n",
        "    # Update\n",
        "    optimizer.step()\n",
        "\n",
        "    # Compute loss on test set\n",
        "    losses1_test.append(criterion(model1(X_test), y_test).item())"
      ]
    },
    {
      "cell_type": "code",
      "execution_count": 86,
      "id": "-OYcTnB2Q8ke",
      "metadata": {
        "id": "-OYcTnB2Q8ke"
      },
      "outputs": [
        {
          "data": {
            "image/png": "[encoded data removed]",
            "text/plain": [
              "<Figure size 600x400 with 1 Axes>"
            ]
          },
          "metadata": {},
          "output_type": "display_data"
        }
      ],
      "source": [
        "# Plot training and test loss\n",
        "plt.figure(figsize=(6, 4))\n",
        "plt.plot(losses1, label=\"Training loss\")\n",
        "plt.plot(losses1_test, label=\"Test loss\")\n",
        "plt.title('Evolution of training and test loss - 500 neurons')\n",
        "plt.ylim(top= 40, bottom=0.0)\n",
        "plt.legend()\n",
        "plt.show()"
      ]
    }
  ],
  "metadata": {
    "colab": {
      "collapsed_sections": [
        "7763984b-c9d6-43b0-ba06-fd749431aa32"
      ],
      "provenance": []
    },
    "kernelspec": {
      "display_name": "Python 3 (ipykernel)",
      "language": "python",
      "name": "python3"
    },
    "language_info": {
      "codemirror_mode": {
        "name": "ipython",
        "version": 3
      },
      "file_extension": ".py",
      "mimetype": "text/x-python",
      "name": "python",
      "nbconvert_exporter": "python",
      "pygments_lexer": "ipython3",
      "version": "3.10.0"
    }
  },
  "nbformat": 4,
  "nbformat_minor": 5
}
