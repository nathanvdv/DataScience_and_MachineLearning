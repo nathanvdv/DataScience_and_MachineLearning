{
  "cells": [
    {
      "cell_type": "markdown",
      "id": "gD1Vv4GS8TwY",
      "metadata": {
        "id": "gD1Vv4GS8TwY"
      },
      "source": [
        "<a href=\"https://colab.research.google.com/github/michalis0/DataScience_and_MachineLearning/blob/master/Week_5/Week_5.ipynb\" target=\"_parent\"><img src=\"https://colab.research.google.com/assets/colab-badge.svg\" alt=\"Open In Colab\"/></a>"
      ]
    },
    {
      "cell_type": "code",
      "execution_count": 1,
      "id": "15dc4475-7f7d-4457-8762-bb031a0629b2",
      "metadata": {
        "id": "15dc4475-7f7d-4457-8762-bb031a0629b2"
      },
      "outputs": [],
      "source": [
        "# Import standard libraries\n",
        "import pandas as pd\n",
        "import numpy as np\n",
        "import seaborn as sns\n",
        "import matplotlib.pylab as plt\n",
        "%matplotlib inline\n",
        "from IPython.display import YouTubeVideo\n",
        "\n",
        "# ML import\n",
        "from sklearn.model_selection import train_test_split # Splitting the data set\n",
        "from sklearn.preprocessing import MinMaxScaler       # Normalization\n",
        "from sklearn.preprocessing import LabelEncoder       # Encoder\n",
        "import torch                                   # PyTorch\n",
        "import torch.nn as nn                          # PyTorch building blocks\n",
        "from IPython.display import YouTubeVideo"
      ]
    },
    {
      "cell_type": "markdown",
      "id": "a844a8c0-078c-4946-8927-e570469c601c",
      "metadata": {
        "id": "a844a8c0-078c-4946-8927-e570469c601c"
      },
      "source": [
        "# Neural Nets"
      ]
    },
    {
      "cell_type": "markdown",
      "id": "9984e553-36af-42c8-9522-dd090686c913",
      "metadata": {
        "id": "9984e553-36af-42c8-9522-dd090686c913"
      },
      "source": [
        "<img src='https://imgs.xkcd.com/comics/trained_a_neural_net.png' width=\"270\">\n",
        "\n",
        "Source: [xqcd 2173](https://xkcd.com/2173/)"
      ]
    },
    {
      "cell_type": "markdown",
      "id": "4392fab0-671b-45ea-b27a-61a797c0e090",
      "metadata": {
        "id": "4392fab0-671b-45ea-b27a-61a797c0e090"
      },
      "source": [
        "## Content\n",
        "\n",
        "The goal of this walkthrough is to provide you with insights on Neural Nets. After presenting the main concepts, you will be introduced to the techniques to implement your own neural network in Python, with PyTorch and using a pre-build Neural Net.\n",
        "\n",
        "This notebook is organized as follows:\n",
        "- [Background](#Background)\n",
        "    - [Neurons](#Neurons)\n",
        "        - [Biological Neuron](#Biological-Neuron)\n",
        "        - [Artificial neuron and perceptron](#Artificial-neuron-and-perceptron)\n",
        "            - [Activation function](#Activation-function)\n",
        "    - [Some Neural Nets](#Some-Neural-Nets)\n",
        "        - [Multilayer Perceptron (MLP)](#Multilayer-Perceptron-(MLP))\n",
        "        - [Convolutional Neural Nerwork (CNN)](#Convolutional-Neural-Nerwork-(CNN))\n",
        "        - [Recurrent Neural Network (RNN)](#Recurrent-Neural-Network-(RNN))\n",
        "- [How to build your own Neural Net?](#How-to-build-your-own-Neural-Net?)\n",
        "    - [Application: Predicting house prices](#Application:-Predicting-house-prices)\n",
        "        - [Data](#Data)\n",
        "            - [Preprocessing](#Preprocessing)\n",
        "            - [Creating training and test set](#Creating-training-and-test-set)\n",
        "            - [Normalizing-the-data](#Normalizing-the-data)\n",
        "        - [Building a Linear Regression model with PyTorch](#Building-a-Linear-Regression-model-with-PyTorch)\n",
        "            - [Create tensors](#Create-tensors)\n",
        "            - [Define and train a model with PyTorch](#Define-and-train-a-model-with-PyTorch)\n",
        "        - [Your turn](#Your-turn)\n",
        "- [Implement a pre-built Neural Net](#Implement-a-pre-built-Neural-Net)"
      ]
    },
    {
      "cell_type": "markdown",
      "id": "7763984b-c9d6-43b0-ba06-fd749431aa32",
      "metadata": {
        "id": "7763984b-c9d6-43b0-ba06-fd749431aa32"
      },
      "source": [
        "## Background\n",
        "\n",
        "[Artificial Neural Networks](https://en.wikipedia.org/wiki/Artificial_neural_network) - simply called Neural Nets (NNs) - are computing systems inspired by the biological neural networks that constitute animal brains. They are used to approximate functions that are generally unknown.\n",
        "\n",
        "NNs are based on a collection of connected nodes, called **artificial neurons**. In short, an [artificial neuron](https://en.wikipedia.org/wiki/Artificial_neuron) is a mathematical function conceived as a model of biological neurons.\n",
        "\n",
        "These artificial neurons are aggregated into **layers**. Signals travel from the first layer (the *input layer*), to the last layer (the *output layer*), traversing one or several *hidden layers*, which perform different transformations on their inputs. The output of one layer is the input of the next one: this is called **forward propagation**. A neural network with multiple layers between the input and output layers is called [Deep Neural Network](https://en.wikipedia.org/wiki/Deep_learning#Deep_neural_networks) (DNN).\n",
        "\n",
        "Below is an illustration of a simple NN. Each circle represents an artificial neuron and an arrow represents a connection from the output of one artificial neuron to the input of another:\n",
        "\n",
        "<center>\n",
        "<img src='https://upload.wikimedia.org/wikipedia/commons/thumb/4/46/Colored_neural_network.svg/444px-Colored_neural_network.svg.png?20130228185515' width=\"270\"></center>\n",
        "\n",
        "Source: [Glosser.ca](https://commons.wikimedia.org/wiki/File:Colored_neural_network.svg), Wikipedia, [Artificial Neural Network](https://en.wikipedia.org/wiki/Artificial_neural_network)"
      ]
    },
    {
      "cell_type": "markdown",
      "id": "c63fa865-07da-4109-b61b-cd4d155fb33d",
      "metadata": {
        "id": "c63fa865-07da-4109-b61b-cd4d155fb33d"
      },
      "source": [
        "Depending on the structure of the network, we differentiate between feedforward and recurrent NNs:\n",
        "- [Feedforward Neural Network](https://en.wikipedia.org/wiki/Feedforward_neural_network) (FFNN)  was the first and simplest type of artificial neural network devised. In FFNNs, connections between the nodes do not form a cycle. FFNN are trained by backward propagation ([**backpropagation**](https://en.wikipedia.org/wiki/Backpropagation)).\n",
        "- [Recurrent Neural Networks](https://en.wikipedia.org/wiki/Recurrent_neural_network) (RNN) are networks wherein connections between nodes can create a cycle, allowing output from some nodes to affect subsequent input to the same nodes. RNNs are trained by [**backpropagation through time**](https://en.wikipedia.org/wiki/Backpropagation_through_time) (BPTT).\n",
        "\n",
        "In the following, we will explore the concept of (artificial) neurons and present a few types of neural nets.\n",
        "\n",
        "For a nice visual introduction to Neural Nets and to backpropagation, you can view the series of videos by [3Blue1Brown](https://www.youtube.com/playlist?list=PLZHQObOWTQDNU6R1_67000Dx_ZCJB-3pi) on the topic:"
      ]
    },
    {
      "cell_type": "code",
      "execution_count": 2,
      "id": "3a1828da-c74c-44b3-a0a3-352c02ff9079",
      "metadata": {
        "colab": {
          "base_uri": "https://localhost:8080/",
          "height": 0
        },
        "id": "3a1828da-c74c-44b3-a0a3-352c02ff9079",
        "outputId": "f21f7c9d-d299-46ca-f74c-c9fcacc01ee3"
      },
      "outputs": [
        {
          "data": {
            "image/jpeg": "[encoded data removed]",
            "text/html": [
              "\n",
              "        <iframe\n",
              "            width=\"560\"\n",
              "            height=\"315\"\n",
              "            src=\"https://www.youtube.com/embed/aircAruvnKk\"\n",
              "            frameborder=\"0\"\n",
              "            allowfullscreen\n",
              "            \n",
              "        ></iframe>\n",
              "        "
            ],
            "text/plain": [
              "<IPython.lib.display.YouTubeVideo at 0x7f10a9a3e770>"
            ]
          },
          "execution_count": 2,
          "metadata": {},
          "output_type": "execute_result"
        }
      ],
      "source": [
        "YouTubeVideo(\"aircAruvnKk\", width=\"560\", height=\"315\")"
      ]
    },
    {
      "cell_type": "markdown",
      "id": "27b2f794-7e6b-4438-968d-87cf15802f91",
      "metadata": {
        "id": "27b2f794-7e6b-4438-968d-87cf15802f91"
      },
      "source": [
        "Further reading:\n",
        "- [Hands-On Machine Learning with Scikit-Learn, Keras, and TensorFlow](https://www.oreilly.com/library/view/hands-on-machine-learning/9781492032632/), by Aurélien Géron\n",
        "- [Everything you need to know about Neural Networks and Backpropagation — Machine Learning Easy and Fun](https://towardsdatascience.com/everything-you-need-to-know-about-neural-networks-and-backpropagation-machine-learning-made-easy-e5285bc2be3a), by Gavril Ognjanovski\n",
        "- [Neural Network from scratch in Python](https://towardsdatascience.com/math-neural-network-from-scratch-in-python-d6da9f29ce65), by Omar Aflak"
      ]
    },
    {
      "cell_type": "markdown",
      "id": "5d74b223-5b65-4bb3-b6a9-4ec89d491649",
      "metadata": {
        "id": "5d74b223-5b65-4bb3-b6a9-4ec89d491649"
      },
      "source": [
        "### Neurons"
      ]
    },
    {
      "cell_type": "markdown",
      "id": "7a1b7d97-3e8c-4ffc-bc2e-67116d23a889",
      "metadata": {
        "id": "7a1b7d97-3e8c-4ffc-bc2e-67116d23a889"
      },
      "source": [
        "#### Biological Neuron\n",
        "\n",
        "The nervous system is composed of more than 100 billion cells known as [neurons](https://en.wikipedia.org/wiki/Neuron), which process and transmit the information received from our senses. Neurons are arranged together in our brain to form a network of nerves. These nerves pass electrical impulses from one neuron to the other.\n",
        "\n",
        "<img src='https://miro.medium.com/v2/resize:fit:1100/format:webp/1*vBIWWCFLLzZzGes1HcCJOw.jpeg' width=\"450\">\n",
        "\n",
        "Neurons are made up of three major parts:\n",
        "- the *dendrites* collect information from other cells and send this information to the soma;\n",
        "- the *soma* is the cell body containing the nucleus of the cell and keeping it alive;\n",
        "- the *axon* transmits information away from the cell body towards other neurons or to the muscles and glands;\n",
        "    - when the axon is stimulated by an electrical signal from the dendrites, the impulse is transmitted if the electrical signal is strong enough that it passes a certain level or threshold.\n",
        "    - the axon terminal, located at the end of the axon farthest from the soma, contains [*synapses*](https://en.wikipedia.org/wiki/Synapse), which are structure that permits the transmission of information to another cell. Synapses have the ability to strengthen or weaken over time in responses to increases or decreases in their activity: this is called [*synaptic plasticity*](https://en.wikipedia.org/wiki/Synaptic_plasticity).\n",
        "\n",
        "<center>\n",
        "<img src='https://opentextbc.ca/introductiontopsychology/wp-content/uploads/sites/9/2013/11/6a3f0732c22683476ea201ffc5e428ad.jpg' width=\"400\"></center>\n",
        "\n",
        "Source: Jennifer Walinga, [The Neuron Is the Building Block of the Nervous System](https://opentextbc.ca/introductiontopsychology/chapter/3-1-the-neuron-is-the-building-block-of-the-nervous-system/), Chapter 4.1 of *Introduction to Psychology*"
      ]
    },
    {
      "cell_type": "markdown",
      "id": "11fe51c9-40ab-4ad4-a54f-19563870533d",
      "metadata": {
        "id": "11fe51c9-40ab-4ad4-a54f-19563870533d"
      },
      "source": [
        "#### Artificial neuron and perceptron\n",
        "\n",
        "An [artificial neuron](https://en.wikipedia.org/wiki/Artificial_neuron) is inspired by its biological counterpart. It receives some inputs, transforms them, and transmits the output.  \n",
        "\n",
        "An artificial neuron typically: 1) performs a weighted sum of the inputs; 2) passes this sum through an [activation function](https://en.wikipedia.org/wiki/Activation_function). We'll discuss what is an activation function below. For now, let's formalize what is happening in an artificial neuron. Let:\n",
        "- $\\boldsymbol{x}=(x_1, ..., x_d)$ be some input signals\n",
        "    - the input signals can come from artificial neurons from the input layer (input data) or from artificial neurons from the hidden layers\n",
        "- $y_k$ be the output signal of neuron $k$\n",
        "\n",
        "The operation performed by an artificial neuron is:\n",
        "$$y_k = \\varphi(\\boldsymbol{w} \\cdot \\boldsymbol{x} + b) = \\varphi(w_{k1} x_{1} +  w_{k2} x_{2} + ... +  w_{kd} x_{d} + b_k) $$\n",
        "\n",
        "Where:\n",
        "- $\\boldsymbol{w}=(w_{k1}, ..., w_{kd})$ are the **weights**\n",
        "    -  the weights have the same role than the synapses. Their value determines the strength of the link between one artificial neuron and another. When we learn the weights, this link can strengthen or weaken, similarly than with synaptic plasticity\n",
        "- $b_k$ is the **bias**\n",
        "- $\\varphi$ is an **activation function**\n",
        "    - the activation function models what is happening in the axon of a biological neuron: the electrical impulses are only transmitted if they are strong enough to reach a given threshold\n",
        "\n",
        "<center>\n",
        "<img src='https://www.gabormelli.com/RKB/images/thumb/3/31/artificial-neuron-model.png/600px-artificial-neuron-model.png' width=\"450\"></center>\n",
        "\n",
        "Source: [Artificial Neuron](https://www.gabormelli.com/RKB/Artificial_Neuron), Gabor Melli's Research Knowledge Base\n",
        "\n",
        "Note that, oftentimes, we write $b_k=w_{k0}$ and $x_{0}=1$, so that the expression simplifies to $y_k = \\varphi(\\boldsymbol{w} \\cdot \\boldsymbol{x})$.\n",
        "\n",
        "The first artificial neuron was the [perceptron](https://en.wikipedia.org/wiki/Perceptron), invented in 1943 by Warren McCulloch and Walter Pitts. It was a binary classifier, i.e., the activation function was the unit step function:\n",
        "- $\\varphi(\\boldsymbol{x}) = 1$ if $\\boldsymbol{w} \\cdot \\boldsymbol{x} +b>0$\n",
        "- $\\varphi(\\boldsymbol{x}) = 0$ otherwise\n",
        "\n",
        "The perceptron, also called the single-layer perceptron, was the first and simplest (feedforward) neural network!"
      ]
    },
    {
      "cell_type": "markdown",
      "id": "be768579-7a57-43d8-b26b-b6abc9efeb92",
      "metadata": {
        "id": "be768579-7a57-43d8-b26b-b6abc9efeb92"
      },
      "source": [
        "##### Activation function\n",
        "\n",
        "As mentioned above, the [activation function](https://en.wikipedia.org/wiki/Activation_function) represents what is happening in the axon of a biological neuron: the electrical impulses are only transmitted if they are strong enough to reach a given threshold. There are many possible activation functions:\n",
        "- unit step function ([Heaviside step function](https://en.wikipedia.org/wiki/Heaviside_step_function)), as used in the perceptron;\n",
        "- sigmoid, e.g., the [logistic function](https://en.wikipedia.org/wiki/Logistic_function), previously seen for logistic regression\n",
        "    - $\\varphi(x)=\\frac{1}{1 + e^{-x}}$\n",
        "- Rectified linear unit ([ReLU](https://en.wikipedia.org/wiki/Rectifier_(neural_networks))), one of the most popular because of its good performance and fast gradient computation\n",
        "    - $\\varphi(x) = \\max(0,x) $\n",
        "- Parametric rectified linear unit ([PReLU](https://en.wikipedia.org/wiki/Rectifier_(neural_networks)#Parametric_ReLU)), a variant of ReLU that avoids the *dead* neurons problem, i.e., neurons becoming inactive\n",
        "    - $\\varphi(x) = \\max(\\alpha x,x) $ with $0<\\alpha<1$\n",
        "    - when $\\alpha=0.01$, the function is called Leaky ReLU\n",
        "\n",
        "<center>\n",
        "<img src='https://miro.medium.com/v2/resize:fit:1400/format:webp/1*ypsvQH7kvtI2BhzR2eT_Sw.png' width=\"400\"> </center>\n",
        "\n",
        "Source: Danqing Liu, [A Practical Guide to ReLU](https://medium.com/@danqing/a-practical-guide-to-relu-b83ca804f1f7)\n",
        "\n",
        "There are numerous other activation functions. Explore them [here](https://en.wikipedia.org/wiki/Activation_function#Comparison_of_activation_functions)!\n",
        "\n",
        "You can also play and visualize more esay how neural networs are build with this [Web app](http://playground.tensorflow.org/)"
      ]
    },
    {
      "cell_type": "markdown",
      "id": "f5654a34-b6ea-4513-968d-a4af75e4efd1",
      "metadata": {
        "id": "f5654a34-b6ea-4513-968d-a4af75e4efd1",
        "tags": []
      },
      "source": [
        "### Some Neural Nets\n"
      ]
    },
    {
      "cell_type": "markdown",
      "id": "4ca625a0-b1b7-4d5d-8660-ea33f7a22b1e",
      "metadata": {
        "id": "4ca625a0-b1b7-4d5d-8660-ea33f7a22b1e"
      },
      "source": [
        "#### Multilayer Perceptron (MLP)\n",
        "\n",
        "A [Multilayer Perceptron](https://en.wikipedia.org/wiki/Multilayer_perceptron) (MLP) is a *fully-connected* feedforward neural network. Here is an illustration, with 3 hidden layers:\n",
        "\n",
        "<center>\n",
        "<img src='https://miro.medium.com/v2/resize:fit:569/0*03elfV9p5nZTnRKe.png' width=\"500\"> </center>\n",
        "\n",
        "Each circle represents one perceptron. Historically, the perceptrons used a sigmoid activation function, but nowadays, ReLU and its variants are more frequently used.\n",
        "\n",
        "Originally developed in the 1960s, these models had applications in diverse fields in the 1980s, such as speech recognition and machine translation software. Recently, interest in these networks was renewed due to the successes of deep learning.  "
      ]
    },
    {
      "cell_type": "markdown",
      "id": "1ab5a330-3cac-42a5-9079-c7b564993c0b",
      "metadata": {
        "id": "1ab5a330-3cac-42a5-9079-c7b564993c0b"
      },
      "source": [
        "#### Convolutional Neural Network (CNN)\n",
        "\n",
        "A [Convolutional Neural Network](https://en.wikipedia.org/wiki/Convolutional_neural_network) (CNN) is a class of neural network most commonly applied in processing data that has a grid-like topology, such as an image. They have proven very effective in analyzing visual imagery, e.g., image recognition and classification.\n",
        "\n",
        "CNNs use a mathematical operation called [convolution](https://en.wikipedia.org/wiki/Convolution) in place of general matrix multiplication in at least one of their layers. This layer performs a dot product between two matrices, where one matrix is the set of learnable parameters otherwise known as a [kernel](https://en.wikipedia.org/wiki/Kernel_(image_processing)), and the other matrix is the restricted portion of the receptive field. In other words, a convolution is the process of adding each element of the image to its local neighbors, weighted by the kernel:\n",
        "\n",
        "<center>\n",
        "<img src='https://upload.wikimedia.org/wikipedia/commons/1/19/2D_Convolution_Animation.gif' width=\"300\"> </center>\n",
        "\n",
        "Source: Michael Plotke, [Kernel (image processing)](https://en.wikipedia.org/wiki/Kernel_(image_processing))\n",
        "\n",
        "The kernel is a filter that applies a transformation to the original image, e.g., blurring, sharpening, embossing, edge detection, etc.\n",
        "\n",
        "For a more detailed introduction of CNN, you can read:\n",
        "- [An Intuitive Explanation of Convolutional Neural Networks](https://ujjwalkarn.me/2016/08/11/intuitive-explanation-convnets/), by Ujjwal Karn\n",
        "- [Convolutional Neural Networks, Explained](https://towardsdatascience.com/convolutional-neural-networks-explained-9cc5188c4939), by Mayank Mishra"
      ]
    },
    {
      "cell_type": "markdown",
      "id": "2d9ede07-61c4-42bc-85d5-191bdb70e9af",
      "metadata": {
        "id": "2d9ede07-61c4-42bc-85d5-191bdb70e9af"
      },
      "source": [
        "#### Recurrent Neural Network (RNN)\n",
        "\n",
        "A [Recurrent Neural Networks](https://en.wikipedia.org/wiki/Recurrent_neural_network) (RNN) is a class of artificial neural networks where connections between nodes can create a cycle, allowing output from some nodes to affect subsequent input to the same nodes. RNNs are useful when dealing with sequential data like natural language and time series. They are mostly used in the fields of natural language processing and speech recognition.\n",
        "\n",
        "A RNN is very much alike feedforward neural nerworks, except it also has connections pointing backforward: at each time step $t$, a *recurrent neuron* receives the input $x_t$ as well as its own output from the previous step $y_{t-1}$:\n",
        "$$y_{t} = \\varphi(\\boldsymbol{w_t} \\cdot \\boldsymbol{x_t} + \\boldsymbol{w_y} \\cdot \\boldsymbol{y_{t-1}} + b)$$\n",
        "\n",
        "We can represent a recurrent neuron graphically:\n",
        "<center>\n",
        "<img src='https://www.oreilly.com/api/v2/epubs/9781492037354/files/assets/mlst_1401.png' width=\"400\"> </center>\n",
        "\n",
        "\n",
        "More generally, a recurrent unit may store more information than the previous predictions. A part of a neural network that preserves some state across time steps is called a *memory cell*. Indeed, since the output at time $t$ is a function of the inputs from previous time steps, the recurrent neuron has a form of memory! The memory cell is a hidden layer that flows through time:\n",
        "\n",
        "<center>\n",
        "<img src='https://www.oreilly.com/api/v2/epubs/9781492037354/files/assets/mlst_1403.png' width=\"400\"> </center>\n",
        "\n",
        "\n",
        "RNNs have the obvious advantage of taking into account historical information. However, computation can be slow and it might be difficult to access information from a long time ago (issue of *fading memory*). To solve this issue, various memory cell architectures with long-term memory have been developed to save information, including:  \n",
        "- The [Long Short-Term Memory](https://en.wikipedia.org/wiki/Long_short-term_memory) (LSTM) with the idea to store a short-term state $h_t$ and a long-term state $c_t$. LTSM rely on *gates*: when the gate is open, the output is multiplied by 1 (information preserved); when the gate is closed, the outputs is multiplied by 0 (information erased). Gates are a way to update and reset persistent information:\n",
        "    - the *forget gate* controls which parts of the long-term state should be erased,\n",
        "    - the *input gate* controls which parts of the output should be added to the long-term state,\n",
        "    - the *output gate* controls which parts should be output at this time step\n",
        "- The [Gated Recurrent Unit](https://en.wikipedia.org/wiki/Gated_recurrent_unit) (GRU), a simplified version of the LTSM.\n",
        "\n",
        "<center>\n",
        "<img src='https://www.oreilly.com/api/v2/epubs/9781492037354/files/assets/mlst_1413.png' width=\"400\"> </center>\n",
        "\n",
        "For a more detailed introduction of RNN, you can read:\n",
        "- [Source behind all the figures in this section]: [Chapter 4. Recurrent Neural Networks](https://www.oreilly.com/library/view/neural-networks-and/9781492037354/ch04.html), *Neural networks and deep learning*, by Aurélien Géron\n",
        "- [Recurrent Neural Networks cheatsheet](https://stanford.edu/~shervine/teaching/cs-230/cheatsheet-recurrent-neural-networks), by Afshine Amidi"
      ]
    },
    {
      "cell_type": "markdown",
      "id": "ce878d70-296b-4ce2-9a05-a5d0410d79e1",
      "metadata": {
        "id": "ce878d70-296b-4ce2-9a05-a5d0410d79e1"
      },
      "source": [
        "## How to build your own Neural Net?\n",
        "\n",
        "There exists several libraries to implement Neural Nets in Python, the most popular being PyTorch and TensorFlow/Keras:\n",
        "- [PyTorch](https://pytorch.org/) is a deep learning framework based on [Torch](https://en.wikipedia.org/wiki/Torch_(machine_learning)). It was developed by Meta AI (Facebook) and open-sourced in 2017.\n",
        "- [TensorFlow](https://www.tensorflow.org/) is an end-to-end open-source platform for machine learning. It was developed by Google and released as open source in 2015. Its name comes from the basic data structure used, namely [tensors](https://en.wikipedia.org/wiki/Tensor).\n",
        "- [Keras](https://keras.io/) is a high-level neural networks library that is running on the top of TensorFlow, among others.\n",
        "\n",
        "For a comparison of TensorFlow, Keras, and Pytorch, you can refer to:\n",
        "- [PyTorch vs TensorFlow for Your Python Deep Learning Project](https://realpython.com/pytorch-vs-tensorflow/), by Ray Johns\n",
        "- [Keras vs Tensorflow vs Pytorch: Key Differences Among Deep Learning](https://www.simplilearn.com/keras-vs-tensorflow-vs-pytorch-article), by John Terra\n",
        "\n",
        "In this notebook, we are going to implement a Neural Net with PyTorch, displaying the simplicity, ease of use, and flexibility of this library. For a walkthrough on Neural Nets with TensorFlow/Keras, you can for instance refer to [Deep Learning with Python](https://github.com/fchollet/deep-learning-with-python-notebooks), by François Chollet (Chapter 7)."
      ]
    },
    {
      "cell_type": "markdown",
      "id": "1d33d277-2861-493d-8fad-63baec052f8e",
      "metadata": {
        "id": "1d33d277-2861-493d-8fad-63baec052f8e"
      },
      "source": [
        "### Application: Predicting house prices\n",
        "\n",
        "In this application, we will implement a Linear Regression model with PyTorch to predict house prices using the [Ames Housing dataset](https://www.kaggle.com/c/house-prices-advanced-regression-techniques)."
      ]
    },
    {
      "cell_type": "markdown",
      "id": "e439b086-55d0-442f-ab05-0e9399e15659",
      "metadata": {
        "id": "e439b086-55d0-442f-ab05-0e9399e15659"
      },
      "source": [
        "#### Data"
      ]
    },
    {
      "cell_type": "code",
      "execution_count": 3,
      "id": "240c89a5-84f5-4229-a987-1dbeaa878682",
      "metadata": {
        "colab": {
          "base_uri": "https://localhost:8080/",
          "height": 256
        },
        "id": "240c89a5-84f5-4229-a987-1dbeaa878682",
        "outputId": "a181ca6f-3760-4d06-f85c-181564db581c"
      },
      "outputs": [
        {
          "data": {
            "text/html": [
              "<div>\n",
              "<style scoped>\n",
              "    .dataframe tbody tr th:only-of-type {\n",
              "        vertical-align: middle;\n",
              "    }\n",
              "\n",
              "    .dataframe tbody tr th {\n",
              "        vertical-align: top;\n",
              "    }\n",
              "\n",
              "    .dataframe thead th {\n",
              "        text-align: right;\n",
              "    }\n",
              "</style>\n",
              "<table border=\"1\" class=\"dataframe\">\n",
              "  <thead>\n",
              "    <tr style=\"text-align: right;\">\n",
              "      <th></th>\n",
              "      <th>Id</th>\n",
              "      <th>MSSubClass</th>\n",
              "      <th>MSZoning</th>\n",
              "      <th>LotFrontage</th>\n",
              "      <th>LotArea</th>\n",
              "      <th>Street</th>\n",
              "      <th>Alley</th>\n",
              "      <th>LotShape</th>\n",
              "      <th>LandContour</th>\n",
              "      <th>Utilities</th>\n",
              "      <th>...</th>\n",
              "      <th>PoolArea</th>\n",
              "      <th>PoolQC</th>\n",
              "      <th>Fence</th>\n",
              "      <th>MiscFeature</th>\n",
              "      <th>MiscVal</th>\n",
              "      <th>MoSold</th>\n",
              "      <th>YrSold</th>\n",
              "      <th>SaleType</th>\n",
              "      <th>SaleCondition</th>\n",
              "      <th>SalePrice</th>\n",
              "    </tr>\n",
              "  </thead>\n",
              "  <tbody>\n",
              "    <tr>\n",
              "      <th>0</th>\n",
              "      <td>1</td>\n",
              "      <td>60</td>\n",
              "      <td>RL</td>\n",
              "      <td>65.0</td>\n",
              "      <td>8450</td>\n",
              "      <td>Pave</td>\n",
              "      <td>NaN</td>\n",
              "      <td>Reg</td>\n",
              "      <td>Lvl</td>\n",
              "      <td>AllPub</td>\n",
              "      <td>...</td>\n",
              "      <td>0</td>\n",
              "      <td>NaN</td>\n",
              "      <td>NaN</td>\n",
              "      <td>NaN</td>\n",
              "      <td>0</td>\n",
              "      <td>2</td>\n",
              "      <td>2008</td>\n",
              "      <td>WD</td>\n",
              "      <td>Normal</td>\n",
              "      <td>208500</td>\n",
              "    </tr>\n",
              "    <tr>\n",
              "      <th>1</th>\n",
              "      <td>2</td>\n",
              "      <td>20</td>\n",
              "      <td>RL</td>\n",
              "      <td>80.0</td>\n",
              "      <td>9600</td>\n",
              "      <td>Pave</td>\n",
              "      <td>NaN</td>\n",
              "      <td>Reg</td>\n",
              "      <td>Lvl</td>\n",
              "      <td>AllPub</td>\n",
              "      <td>...</td>\n",
              "      <td>0</td>\n",
              "      <td>NaN</td>\n",
              "      <td>NaN</td>\n",
              "      <td>NaN</td>\n",
              "      <td>0</td>\n",
              "      <td>5</td>\n",
              "      <td>2007</td>\n",
              "      <td>WD</td>\n",
              "      <td>Normal</td>\n",
              "      <td>181500</td>\n",
              "    </tr>\n",
              "    <tr>\n",
              "      <th>2</th>\n",
              "      <td>3</td>\n",
              "      <td>60</td>\n",
              "      <td>RL</td>\n",
              "      <td>68.0</td>\n",
              "      <td>11250</td>\n",
              "      <td>Pave</td>\n",
              "      <td>NaN</td>\n",
              "      <td>IR1</td>\n",
              "      <td>Lvl</td>\n",
              "      <td>AllPub</td>\n",
              "      <td>...</td>\n",
              "      <td>0</td>\n",
              "      <td>NaN</td>\n",
              "      <td>NaN</td>\n",
              "      <td>NaN</td>\n",
              "      <td>0</td>\n",
              "      <td>9</td>\n",
              "      <td>2008</td>\n",
              "      <td>WD</td>\n",
              "      <td>Normal</td>\n",
              "      <td>223500</td>\n",
              "    </tr>\n",
              "    <tr>\n",
              "      <th>3</th>\n",
              "      <td>4</td>\n",
              "      <td>70</td>\n",
              "      <td>RL</td>\n",
              "      <td>60.0</td>\n",
              "      <td>9550</td>\n",
              "      <td>Pave</td>\n",
              "      <td>NaN</td>\n",
              "      <td>IR1</td>\n",
              "      <td>Lvl</td>\n",
              "      <td>AllPub</td>\n",
              "      <td>...</td>\n",
              "      <td>0</td>\n",
              "      <td>NaN</td>\n",
              "      <td>NaN</td>\n",
              "      <td>NaN</td>\n",
              "      <td>0</td>\n",
              "      <td>2</td>\n",
              "      <td>2006</td>\n",
              "      <td>WD</td>\n",
              "      <td>Abnorml</td>\n",
              "      <td>140000</td>\n",
              "    </tr>\n",
              "    <tr>\n",
              "      <th>4</th>\n",
              "      <td>5</td>\n",
              "      <td>60</td>\n",
              "      <td>RL</td>\n",
              "      <td>84.0</td>\n",
              "      <td>14260</td>\n",
              "      <td>Pave</td>\n",
              "      <td>NaN</td>\n",
              "      <td>IR1</td>\n",
              "      <td>Lvl</td>\n",
              "      <td>AllPub</td>\n",
              "      <td>...</td>\n",
              "      <td>0</td>\n",
              "      <td>NaN</td>\n",
              "      <td>NaN</td>\n",
              "      <td>NaN</td>\n",
              "      <td>0</td>\n",
              "      <td>12</td>\n",
              "      <td>2008</td>\n",
              "      <td>WD</td>\n",
              "      <td>Normal</td>\n",
              "      <td>250000</td>\n",
              "    </tr>\n",
              "  </tbody>\n",
              "</table>\n",
              "<p>5 rows × 81 columns</p>\n",
              "</div>"
            ],
            "text/plain": [
              "   Id  MSSubClass MSZoning  LotFrontage  LotArea Street Alley LotShape  \\\n",
              "0   1          60       RL         65.0     8450   Pave   NaN      Reg   \n",
              "1   2          20       RL         80.0     9600   Pave   NaN      Reg   \n",
              "2   3          60       RL         68.0    11250   Pave   NaN      IR1   \n",
              "3   4          70       RL         60.0     9550   Pave   NaN      IR1   \n",
              "4   5          60       RL         84.0    14260   Pave   NaN      IR1   \n",
              "\n",
              "  LandContour Utilities  ... PoolArea PoolQC Fence MiscFeature MiscVal MoSold  \\\n",
              "0         Lvl    AllPub  ...        0    NaN   NaN         NaN       0      2   \n",
              "1         Lvl    AllPub  ...        0    NaN   NaN         NaN       0      5   \n",
              "2         Lvl    AllPub  ...        0    NaN   NaN         NaN       0      9   \n",
              "3         Lvl    AllPub  ...        0    NaN   NaN         NaN       0      2   \n",
              "4         Lvl    AllPub  ...        0    NaN   NaN         NaN       0     12   \n",
              "\n",
              "  YrSold  SaleType  SaleCondition  SalePrice  \n",
              "0   2008        WD         Normal     208500  \n",
              "1   2007        WD         Normal     181500  \n",
              "2   2008        WD         Normal     223500  \n",
              "3   2006        WD        Abnorml     140000  \n",
              "4   2008        WD         Normal     250000  \n",
              "\n",
              "[5 rows x 81 columns]"
            ]
          },
          "execution_count": 3,
          "metadata": {},
          "output_type": "execute_result"
        }
      ],
      "source": [
        "raw_data = pd.read_csv(\"https://raw.githubusercontent.com/michalis0/DataScience_and_MachineLearning/master/Week_5/data/house_price.csv\")\n",
        "raw_data.head()"
      ]
    },
    {
      "cell_type": "code",
      "execution_count": 4,
      "id": "cf6af7a8-2aad-45ec-af77-7b00a60cfbac",
      "metadata": {
        "colab": {
          "base_uri": "https://localhost:8080/"
        },
        "id": "cf6af7a8-2aad-45ec-af77-7b00a60cfbac",
        "outputId": "06241ca6-d9b5-4ee2-8d89-f9c16d8c8682"
      },
      "outputs": [
        {
          "data": {
            "text/plain": [
              "(1460, 81)"
            ]
          },
          "execution_count": 4,
          "metadata": {},
          "output_type": "execute_result"
        }
      ],
      "source": [
        "raw_data.shape"
      ]
    },
    {
      "cell_type": "markdown",
      "id": "bfabbcb8-ef34-46d2-b156-6787824e3a85",
      "metadata": {
        "id": "bfabbcb8-ef34-46d2-b156-6787824e3a85"
      },
      "source": [
        "The dataset contains 81 columns. A description of the features is available in the file \"[house_price_data_description](https://github.com/michalis0/DataScience_and_MachineLearning/blob/master/Week_5/data/house_price_data_description.txt)\""
      ]
    },
    {
      "cell_type": "markdown",
      "id": "72baf826-a96e-49d7-a6df-57cd349781f3",
      "metadata": {
        "id": "72baf826-a96e-49d7-a6df-57cd349781f3"
      },
      "source": [
        "##### Preprocessing"
      ]
    },
    {
      "cell_type": "markdown",
      "id": "59cd5835-e7e1-451b-8e5e-64968834756a",
      "metadata": {
        "id": "59cd5835-e7e1-451b-8e5e-64968834756a"
      },
      "source": [
        "Let's first extract the features of interest. We will use the numeric columns:"
      ]
    },
    {
      "cell_type": "code",
      "execution_count": 5,
      "id": "dadf3888-4c1a-406f-a199-05145d017ff7",
      "metadata": {
        "colab": {
          "base_uri": "https://localhost:8080/"
        },
        "id": "dadf3888-4c1a-406f-a199-05145d017ff7",
        "outputId": "e2c57621-2715-40fb-b490-997aa215844f"
      },
      "outputs": [
        {
          "data": {
            "text/plain": [
              "Id                 int64\n",
              "MSSubClass         int64\n",
              "MSZoning          object\n",
              "LotFrontage      float64\n",
              "LotArea            int64\n",
              "                  ...   \n",
              "MoSold             int64\n",
              "YrSold             int64\n",
              "SaleType          object\n",
              "SaleCondition     object\n",
              "SalePrice          int64\n",
              "Length: 81, dtype: object"
            ]
          },
          "execution_count": 5,
          "metadata": {},
          "output_type": "execute_result"
        }
      ],
      "source": [
        "# Data types\n",
        "raw_data.dtypes"
      ]
    },
    {
      "cell_type": "code",
      "execution_count": 6,
      "id": "bc199722-8f76-4ad7-9b33-65f76a6bb2bb",
      "metadata": {
        "colab": {
          "base_uri": "https://localhost:8080/"
        },
        "id": "bc199722-8f76-4ad7-9b33-65f76a6bb2bb",
        "outputId": "5c2ec611-64dd-4760-efda-1c279a94e06b"
      },
      "outputs": [
        {
          "name": "stdout",
          "output_type": "stream",
          "text": [
            "['Id', 'MSSubClass', 'LotFrontage', 'LotArea', 'OverallQual', 'OverallCond', 'YearBuilt', 'YearRemodAdd', 'MasVnrArea', 'BsmtFinSF1', 'BsmtFinSF2', 'BsmtUnfSF', 'TotalBsmtSF', '1stFlrSF', '2ndFlrSF', 'LowQualFinSF', 'GrLivArea', 'BsmtFullBath', 'BsmtHalfBath', 'FullBath', 'HalfBath', 'BedroomAbvGr', 'KitchenAbvGr', 'TotRmsAbvGrd', 'Fireplaces', 'GarageYrBlt', 'GarageCars', 'GarageArea', 'WoodDeckSF', 'OpenPorchSF', 'EnclosedPorch', '3SsnPorch', 'ScreenPorch', 'PoolArea', 'MiscVal', 'MoSold', 'YrSold', 'SalePrice'] \n",
            " 38\n"
          ]
        }
      ],
      "source": [
        "# Display numeric features (integer and floats)\n",
        "numeric_columns = list(raw_data.columns[(raw_data.dtypes==np.int64) |\n",
        "                 (raw_data.dtypes==np.float64)])\n",
        "print(numeric_columns, \"\\n\", len(numeric_columns))"
      ]
    },
    {
      "cell_type": "markdown",
      "id": "f9354882-1469-42ee-8fd6-38301f89ed0f",
      "metadata": {
        "id": "f9354882-1469-42ee-8fd6-38301f89ed0f"
      },
      "source": [
        "`SalePrice` is the value we want to predict. We set it as the last column:"
      ]
    },
    {
      "cell_type": "code",
      "execution_count": 7,
      "id": "28dd7159-374a-47b0-ae56-5864dbac3cf8",
      "metadata": {
        "id": "28dd7159-374a-47b0-ae56-5864dbac3cf8"
      },
      "outputs": [],
      "source": [
        "# Output SalePrice as last column\n",
        "numeric_columns.remove('SalePrice')\n",
        "numeric_columns.append('SalePrice')"
      ]
    },
    {
      "cell_type": "markdown",
      "id": "dfd2153a-be33-48b1-b191-31f95b4734aa",
      "metadata": {
        "id": "dfd2153a-be33-48b1-b191-31f95b4734aa"
      },
      "source": [
        "We also remove the `Id` column:"
      ]
    },
    {
      "cell_type": "code",
      "execution_count": 8,
      "id": "8e372a0d-4c5c-444d-bd1e-7fd8d411d84c",
      "metadata": {
        "id": "8e372a0d-4c5c-444d-bd1e-7fd8d411d84c"
      },
      "outputs": [],
      "source": [
        "# Remove Id\n",
        "numeric_columns.remove('Id')"
      ]
    },
    {
      "cell_type": "markdown",
      "id": "05c160a2-ec7f-4690-9eba-464cfffe2e7a",
      "metadata": {
        "id": "05c160a2-ec7f-4690-9eba-464cfffe2e7a"
      },
      "source": [
        "Now we extract the numeric data."
      ]
    },
    {
      "cell_type": "code",
      "execution_count": 9,
      "id": "a410bfa5-0140-4d42-a766-c3a553d67683",
      "metadata": {
        "colab": {
          "base_uri": "https://localhost:8080/",
          "height": 256
        },
        "id": "a410bfa5-0140-4d42-a766-c3a553d67683",
        "outputId": "f50524ac-4193-4da0-ca7f-079ba6c76233"
      },
      "outputs": [
        {
          "data": {
            "text/html": [
              "<div>\n",
              "<style scoped>\n",
              "    .dataframe tbody tr th:only-of-type {\n",
              "        vertical-align: middle;\n",
              "    }\n",
              "\n",
              "    .dataframe tbody tr th {\n",
              "        vertical-align: top;\n",
              "    }\n",
              "\n",
              "    .dataframe thead th {\n",
              "        text-align: right;\n",
              "    }\n",
              "</style>\n",
              "<table border=\"1\" class=\"dataframe\">\n",
              "  <thead>\n",
              "    <tr style=\"text-align: right;\">\n",
              "      <th></th>\n",
              "      <th>MSSubClass</th>\n",
              "      <th>LotFrontage</th>\n",
              "      <th>LotArea</th>\n",
              "      <th>OverallQual</th>\n",
              "      <th>OverallCond</th>\n",
              "      <th>YearBuilt</th>\n",
              "      <th>YearRemodAdd</th>\n",
              "      <th>MasVnrArea</th>\n",
              "      <th>BsmtFinSF1</th>\n",
              "      <th>BsmtFinSF2</th>\n",
              "      <th>...</th>\n",
              "      <th>WoodDeckSF</th>\n",
              "      <th>OpenPorchSF</th>\n",
              "      <th>EnclosedPorch</th>\n",
              "      <th>3SsnPorch</th>\n",
              "      <th>ScreenPorch</th>\n",
              "      <th>PoolArea</th>\n",
              "      <th>MiscVal</th>\n",
              "      <th>MoSold</th>\n",
              "      <th>YrSold</th>\n",
              "      <th>SalePrice</th>\n",
              "    </tr>\n",
              "  </thead>\n",
              "  <tbody>\n",
              "    <tr>\n",
              "      <th>0</th>\n",
              "      <td>60</td>\n",
              "      <td>65.0</td>\n",
              "      <td>8450</td>\n",
              "      <td>7</td>\n",
              "      <td>5</td>\n",
              "      <td>2003</td>\n",
              "      <td>2003</td>\n",
              "      <td>196.0</td>\n",
              "      <td>706</td>\n",
              "      <td>0</td>\n",
              "      <td>...</td>\n",
              "      <td>0</td>\n",
              "      <td>61</td>\n",
              "      <td>0</td>\n",
              "      <td>0</td>\n",
              "      <td>0</td>\n",
              "      <td>0</td>\n",
              "      <td>0</td>\n",
              "      <td>2</td>\n",
              "      <td>2008</td>\n",
              "      <td>208500</td>\n",
              "    </tr>\n",
              "    <tr>\n",
              "      <th>1</th>\n",
              "      <td>20</td>\n",
              "      <td>80.0</td>\n",
              "      <td>9600</td>\n",
              "      <td>6</td>\n",
              "      <td>8</td>\n",
              "      <td>1976</td>\n",
              "      <td>1976</td>\n",
              "      <td>0.0</td>\n",
              "      <td>978</td>\n",
              "      <td>0</td>\n",
              "      <td>...</td>\n",
              "      <td>298</td>\n",
              "      <td>0</td>\n",
              "      <td>0</td>\n",
              "      <td>0</td>\n",
              "      <td>0</td>\n",
              "      <td>0</td>\n",
              "      <td>0</td>\n",
              "      <td>5</td>\n",
              "      <td>2007</td>\n",
              "      <td>181500</td>\n",
              "    </tr>\n",
              "    <tr>\n",
              "      <th>2</th>\n",
              "      <td>60</td>\n",
              "      <td>68.0</td>\n",
              "      <td>11250</td>\n",
              "      <td>7</td>\n",
              "      <td>5</td>\n",
              "      <td>2001</td>\n",
              "      <td>2002</td>\n",
              "      <td>162.0</td>\n",
              "      <td>486</td>\n",
              "      <td>0</td>\n",
              "      <td>...</td>\n",
              "      <td>0</td>\n",
              "      <td>42</td>\n",
              "      <td>0</td>\n",
              "      <td>0</td>\n",
              "      <td>0</td>\n",
              "      <td>0</td>\n",
              "      <td>0</td>\n",
              "      <td>9</td>\n",
              "      <td>2008</td>\n",
              "      <td>223500</td>\n",
              "    </tr>\n",
              "    <tr>\n",
              "      <th>3</th>\n",
              "      <td>70</td>\n",
              "      <td>60.0</td>\n",
              "      <td>9550</td>\n",
              "      <td>7</td>\n",
              "      <td>5</td>\n",
              "      <td>1915</td>\n",
              "      <td>1970</td>\n",
              "      <td>0.0</td>\n",
              "      <td>216</td>\n",
              "      <td>0</td>\n",
              "      <td>...</td>\n",
              "      <td>0</td>\n",
              "      <td>35</td>\n",
              "      <td>272</td>\n",
              "      <td>0</td>\n",
              "      <td>0</td>\n",
              "      <td>0</td>\n",
              "      <td>0</td>\n",
              "      <td>2</td>\n",
              "      <td>2006</td>\n",
              "      <td>140000</td>\n",
              "    </tr>\n",
              "    <tr>\n",
              "      <th>4</th>\n",
              "      <td>60</td>\n",
              "      <td>84.0</td>\n",
              "      <td>14260</td>\n",
              "      <td>8</td>\n",
              "      <td>5</td>\n",
              "      <td>2000</td>\n",
              "      <td>2000</td>\n",
              "      <td>350.0</td>\n",
              "      <td>655</td>\n",
              "      <td>0</td>\n",
              "      <td>...</td>\n",
              "      <td>192</td>\n",
              "      <td>84</td>\n",
              "      <td>0</td>\n",
              "      <td>0</td>\n",
              "      <td>0</td>\n",
              "      <td>0</td>\n",
              "      <td>0</td>\n",
              "      <td>12</td>\n",
              "      <td>2008</td>\n",
              "      <td>250000</td>\n",
              "    </tr>\n",
              "  </tbody>\n",
              "</table>\n",
              "<p>5 rows × 37 columns</p>\n",
              "</div>"
            ],
            "text/plain": [
              "   MSSubClass  LotFrontage  LotArea  OverallQual  OverallCond  YearBuilt  \\\n",
              "0          60         65.0     8450            7            5       2003   \n",
              "1          20         80.0     9600            6            8       1976   \n",
              "2          60         68.0    11250            7            5       2001   \n",
              "3          70         60.0     9550            7            5       1915   \n",
              "4          60         84.0    14260            8            5       2000   \n",
              "\n",
              "   YearRemodAdd  MasVnrArea  BsmtFinSF1  BsmtFinSF2  ...  WoodDeckSF  \\\n",
              "0          2003       196.0         706           0  ...           0   \n",
              "1          1976         0.0         978           0  ...         298   \n",
              "2          2002       162.0         486           0  ...           0   \n",
              "3          1970         0.0         216           0  ...           0   \n",
              "4          2000       350.0         655           0  ...         192   \n",
              "\n",
              "   OpenPorchSF  EnclosedPorch  3SsnPorch  ScreenPorch  PoolArea  MiscVal  \\\n",
              "0           61              0          0            0         0        0   \n",
              "1            0              0          0            0         0        0   \n",
              "2           42              0          0            0         0        0   \n",
              "3           35            272          0            0         0        0   \n",
              "4           84              0          0            0         0        0   \n",
              "\n",
              "   MoSold  YrSold  SalePrice  \n",
              "0       2    2008     208500  \n",
              "1       5    2007     181500  \n",
              "2       9    2008     223500  \n",
              "3       2    2006     140000  \n",
              "4      12    2008     250000  \n",
              "\n",
              "[5 rows x 37 columns]"
            ]
          },
          "execution_count": 9,
          "metadata": {},
          "output_type": "execute_result"
        }
      ],
      "source": [
        "# Extract numeric data\n",
        "numeric_data = raw_data[numeric_columns]\n",
        "numeric_data.head()"
      ]
    },
    {
      "cell_type": "markdown",
      "id": "a51ca5a4-e780-4b42-a304-01c5b6a915b2",
      "metadata": {
        "id": "a51ca5a4-e780-4b42-a304-01c5b6a915b2"
      },
      "source": [
        "Now let's deal with the missing values in the data."
      ]
    },
    {
      "cell_type": "code",
      "execution_count": 10,
      "id": "a9084d6e-2a1f-4e81-ab29-a575cf340478",
      "metadata": {
        "colab": {
          "base_uri": "https://localhost:8080/"
        },
        "id": "a9084d6e-2a1f-4e81-ab29-a575cf340478",
        "outputId": "39cef36c-83ca-47fd-d7fa-3f1096733442"
      },
      "outputs": [
        {
          "data": {
            "text/plain": [
              "['LotFrontage', 'MasVnrArea', 'GarageYrBlt']"
            ]
          },
          "execution_count": 10,
          "metadata": {},
          "output_type": "execute_result"
        }
      ],
      "source": [
        "# Display features with missing values\n",
        "nan_columns = np.any(pd.isna(numeric_data), axis = 0)\n",
        "nan_columns = list(nan_columns[nan_columns == True].index)\n",
        "nan_columns"
      ]
    },
    {
      "cell_type": "markdown",
      "id": "748bbb00-d6db-47a8-b295-8652159c69c1",
      "metadata": {
        "id": "748bbb00-d6db-47a8-b295-8652159c69c1"
      },
      "source": [
        "We simply replace them with zero."
      ]
    },
    {
      "cell_type": "code",
      "execution_count": 11,
      "id": "45c3bbd9-c641-4864-b657-b193d1659f67",
      "metadata": {
        "id": "45c3bbd9-c641-4864-b657-b193d1659f67"
      },
      "outputs": [],
      "source": [
        "# Replace NAN with 0\n",
        "numeric_data = numeric_data.fillna(0)"
      ]
    },
    {
      "cell_type": "markdown",
      "id": "a3244053-ee49-4f29-b4c1-aefe674bdb33",
      "metadata": {
        "id": "a3244053-ee49-4f29-b4c1-aefe674bdb33"
      },
      "source": [
        "##### Creating training and test set\n",
        "\n",
        "Let's split the data for training and test. We use the `train_test_split` module of `sklearn`:"
      ]
    },
    {
      "cell_type": "code",
      "execution_count": 12,
      "id": "91354d50-6616-4454-a8cf-3aa8a615d9e6",
      "metadata": {
        "id": "91354d50-6616-4454-a8cf-3aa8a615d9e6"
      },
      "outputs": [],
      "source": [
        "# Splitting training/test set\n",
        "numeric_data_train, numeric_data_test = train_test_split(numeric_data, test_size=0.1, random_state=7)"
      ]
    },
    {
      "cell_type": "markdown",
      "id": "0ac2ae80-d076-489e-af05-251d81820da3",
      "metadata": {
        "id": "0ac2ae80-d076-489e-af05-251d81820da3"
      },
      "source": [
        "##### Normalizing the data\n",
        "\n",
        "Before training our linear regression model, we have to normalize the data. We do this by subtracting each column from its minimum value and then dividing it by the difference between maximum and minimum. We use the `MinMaxScaler` of `sklearn`."
      ]
    },
    {
      "cell_type": "code",
      "execution_count": 13,
      "id": "ea634322-702e-42d7-aaa3-722b144ac6f9",
      "metadata": {
        "id": "ea634322-702e-42d7-aaa3-722b144ac6f9"
      },
      "outputs": [],
      "source": [
        "#Define the scaler\n",
        "scaler = MinMaxScaler()\n",
        "#Fit the scaler\n",
        "scaler.fit(numeric_data_train)\n",
        "#Transform the train and the test set\n",
        "numeric_data_train.loc[:,:] = scaler.transform(numeric_data_train)\n",
        "numeric_data_test.loc[:,:] = scaler.transform(numeric_data_test)"
      ]
    },
    {
      "cell_type": "markdown",
      "id": "dce94995-d1aa-4efc-9bc9-727c32d23291",
      "metadata": {
        "id": "dce94995-d1aa-4efc-9bc9-727c32d23291"
      },
      "source": [
        "Finally, we split the column we want to predict (\"SalePrice\") to our features:"
      ]
    },
    {
      "cell_type": "code",
      "execution_count": 14,
      "id": "14d211f0-ee9d-4ded-bfb0-c870e91ff0a9",
      "metadata": {
        "id": "14d211f0-ee9d-4ded-bfb0-c870e91ff0a9"
      },
      "outputs": [],
      "source": [
        "# Extract features and output\n",
        "numeric_x_columns = list(numeric_data_train.columns)\n",
        "numeric_x_columns.remove(\"SalePrice\")\n",
        "X_train_df = numeric_data_train[numeric_x_columns]\n",
        "y_train_df = pd.DataFrame(numeric_data_train[\"SalePrice\"])\n",
        "X_test_df = numeric_data_test[numeric_x_columns]\n",
        "y_test_df = pd.DataFrame(numeric_data_test[\"SalePrice\"])"
      ]
    },
    {
      "cell_type": "markdown",
      "id": "6b91b5e4-c62a-48eb-9ded-7b3799c69f85",
      "metadata": {
        "id": "6b91b5e4-c62a-48eb-9ded-7b3799c69f85"
      },
      "source": [
        "Ok, all set, we can start building our Neural Net!"
      ]
    },
    {
      "cell_type": "markdown",
      "id": "e69796e1-d7d7-4cf4-9950-395082f2084d",
      "metadata": {
        "id": "e69796e1-d7d7-4cf4-9950-395082f2084d"
      },
      "source": [
        "#### Building a Linear Regression model with PyTorch\n",
        "\n",
        "We use the `PyTorch` library ([Documentation](https://pytorch.org/), imported at the beginning of this notebook with the following lines of codes:\n",
        "\n",
        "```python\n",
        "import torch\n",
        "import torch.nn as nn\n",
        "```\n",
        "\n",
        "`torch.nn` contains the building blocks to build Neural Nets, e.g., the layers ([Documentation](https://pytorch.org/docs/stable/nn.html))."
      ]
    },
    {
      "cell_type": "markdown",
      "id": "b18b7976-ea1e-4a95-9e53-c29d816e615d",
      "metadata": {
        "id": "b18b7976-ea1e-4a95-9e53-c29d816e615d"
      },
      "source": [
        "##### Create tensors\n",
        "\n",
        "The first step is to convert the data into torch tensors. A `torch.Tensor` is a multi-dimensional matrix containing elements of a single data type. It's very similar to arrays in `NumPy`.\n",
        "\n",
        "We rely on `torch.tensor()` for the conversion ([Documentation](https://pytorch.org/docs/stable/tensors.html))."
      ]
    },
    {
      "cell_type": "code",
      "execution_count": 15,
      "id": "ad283baf-f652-4d6f-a6fa-441c53731ea2",
      "metadata": {
        "id": "ad283baf-f652-4d6f-a6fa-441c53731ea2"
      },
      "outputs": [],
      "source": [
        "X_train = torch.tensor(X_train_df.values, dtype=torch.float)\n",
        "y_train = torch.tensor(y_train_df.values, dtype=torch.float)\n",
        "X_test = torch.tensor(X_test_df.values, dtype=torch.float)\n",
        "y_test = torch.tensor(y_test_df.values, dtype=torch.float)"
      ]
    },
    {
      "cell_type": "code",
      "execution_count": 16,
      "id": "2abafe50-c9cf-4275-8d08-3aca51122e0f",
      "metadata": {
        "colab": {
          "base_uri": "https://localhost:8080/"
        },
        "id": "2abafe50-c9cf-4275-8d08-3aca51122e0f",
        "outputId": "571bddd2-c990-4e92-ac19-2668f0acbbd1"
      },
      "outputs": [
        {
          "name": "stdout",
          "output_type": "stream",
          "text": [
            "torch.Size([1314, 36]) torch.Size([1314, 1])\n"
          ]
        }
      ],
      "source": [
        "print(X_train.size(), y_train.size())"
      ]
    },
    {
      "cell_type": "markdown",
      "id": "aae66a72-8269-4917-9ac4-0c42f8dcd249",
      "metadata": {
        "id": "aae66a72-8269-4917-9ac4-0c42f8dcd249"
      },
      "source": [
        "##### Define and train a model with PyTorch\n",
        "\n",
        "A model is defined as a `class` in PyTorch. Classes are a means of bundling data and functionality together, allowing to create a new type of Python object. You can read the Python documentation on [Classes](https://docs.python.org/3/tutorial/classes.html) to learn more about them.\n",
        "\n",
        "When you create your Neural Net, you should define:\n",
        "- a `__init__` function in which you define the layers of your network.\n",
        "- a `forward` function (method) that defines the forward pass on the network.\n",
        "\n",
        "For the beginning, let's start with a single layer network:\n",
        "- The layer `nn.Linear()` performs a linear transformation ([Documentation](https://pytorch.org/docs/stable/generated/torch.nn.Linear.html)). The input and output are the number of neurons\n",
        "- `nn.ReLU()` applies the Rectified Linear Unit function: $ReLU(x)=\\max(0,x)$ ([Documentation](https://pytorch.org/docs/stable/generated/torch.nn.ReLU.html))."
      ]
    },
    {
      "cell_type": "code",
      "execution_count": 17,
      "id": "27e00f35-13ce-4e0b-946c-a2f0ad780e79",
      "metadata": {
        "id": "27e00f35-13ce-4e0b-946c-a2f0ad780e79"
      },
      "outputs": [],
      "source": [
        "class Net(nn.Module):\n",
        "    def __init__(self, D_in, H1, D_out):\n",
        "        super(Net, self).__init__()\n",
        "\n",
        "        self.linear1 = nn.Linear(D_in, H1)        # Linear transformation for hidden layer\n",
        "        self.linear2 = nn.Linear(H1, D_out)       # Linear transformation for output layer\n",
        "        self.activation = nn.ReLU()               # Activation function for hidden layer\n",
        "\n",
        "    def forward(self, x):\n",
        "        y_pred = self.activation(self.linear1(x))   # Hidden layer: linear transformation + ReLU\n",
        "        y_pred = self.linear2(y_pred)               # Output layer: linear transformation\n",
        "        return y_pred"
      ]
    },
    {
      "cell_type": "markdown",
      "id": "3ccb4e35-61d3-49fe-aa50-a0c9e7590be9",
      "metadata": {
        "id": "3ccb4e35-61d3-49fe-aa50-a0c9e7590be9"
      },
      "source": [
        "`D_in` is the input dimension, i.e., the number of features. Similarly, `D_out` is the output dimension, i.e., 1 (we only predict the \"SalePrice\"):"
      ]
    },
    {
      "cell_type": "code",
      "execution_count": 18,
      "id": "7dc3176e-1cab-4b11-88c6-f3547752aca3",
      "metadata": {
        "id": "7dc3176e-1cab-4b11-88c6-f3547752aca3"
      },
      "outputs": [],
      "source": [
        "D_in, D_out = X_train.shape[1], y_train.shape[1]"
      ]
    },
    {
      "cell_type": "markdown",
      "id": "1be40cbf-4811-4338-afab-2de1798c6257",
      "metadata": {
        "id": "1be40cbf-4811-4338-afab-2de1798c6257"
      },
      "source": [
        "Ok, let's define our first model. It is an instance of our newly-created class \"Net\". We are going to use 500 neurons for the hidden layer:"
      ]
    },
    {
      "cell_type": "code",
      "execution_count": 19,
      "id": "1c315b3f-951b-4b8b-8e5b-12594dcc265f",
      "metadata": {
        "id": "1c315b3f-951b-4b8b-8e5b-12594dcc265f"
      },
      "outputs": [],
      "source": [
        "# Model with 500 neurons\n",
        "model1 = Net(D_in, 500, D_out)"
      ]
    },
    {
      "cell_type": "markdown",
      "id": "WfBZxU5fmHsg",
      "metadata": {
        "id": "WfBZxU5fmHsg"
      },
      "source": [
        "Let's calculate now how many parameters we have in the model."
      ]
    },
    {
      "cell_type": "code",
      "execution_count": 20,
      "id": "2_pUo4LGl7Us",
      "metadata": {
        "colab": {
          "base_uri": "https://localhost:8080/"
        },
        "id": "2_pUo4LGl7Us",
        "outputId": "67991f1f-90b4-4cda-d99c-5b8a7ad957b3"
      },
      "outputs": [
        {
          "name": "stdout",
          "output_type": "stream",
          "text": [
            "19001\n"
          ]
        }
      ],
      "source": [
        "# calculate how many parameters are in the model\n",
        "pytorch_total_params = sum(p.numel() for p in model1.parameters() if p.requires_grad)\n",
        "print(pytorch_total_params)"
      ]
    },
    {
      "cell_type": "markdown",
      "id": "ae8c9515-d808-4838-92d1-a56deb34ff08",
      "metadata": {
        "id": "ae8c9515-d808-4838-92d1-a56deb34ff08"
      },
      "source": [
        "The next steps is to define the **loss criterion** and the **optimizer** for the network. That is, we have to define the loss function we want to optimize during training and also the optimization method. We use:\n",
        "- `MSELoss()` as loss criterion, i.e., the mean square error ([Documentation](https://pytorch.org/docs/stable/generated/torch.nn.MSELoss.html))\n",
        "- `SGD()`as optimizer, i.e., stochastic gradient descent ([Documentation](https://pytorch.org/docs/stable/generated/torch.optim.SGD.html))"
      ]
    },
    {
      "cell_type": "code",
      "execution_count": 21,
      "id": "0efef490-e70e-445e-be89-3f206912d03e",
      "metadata": {
        "id": "0efef490-e70e-445e-be89-3f206912d03e"
      },
      "outputs": [],
      "source": [
        "# MSE loss\n",
        "criterion = nn.MSELoss(reduction='sum')\n",
        "# SGD optimizer for finding the weights of the network\n",
        "optimizer = torch.optim.SGD(model1.parameters(), lr=1e-4)"
      ]
    },
    {
      "cell_type": "markdown",
      "id": "a4268da0-fa53-43e2-8ee8-e8f3bb952d22",
      "metadata": {
        "id": "a4268da0-fa53-43e2-8ee8-e8f3bb952d22"
      },
      "source": [
        "Wonderful, we are ready to do the training! We can simply by looping over the number of iterations. The training has 3 main steps:\n",
        "- A forward pass to compute the prediction for the current data point (batch).\n",
        "- Computing the loss for the current prediction with the previously defined criterion.\n",
        "- A backward pass to compute the gradient of the loss with respect to the weight of the network (`backward()`)\n",
        "- Finally, updating the weights of the network (`optimizer.step()`).\n",
        "\n",
        "Note that in each backward pass PyTorch saves the gradient for all of the parameters. Therefore it is important to replace the old gradient values with zero in the beginning of each iteration (`optimizer.zero_grad()`), otherwise the gradients will be accumulated during the iterations!"
      ]
    },
    {
      "cell_type": "code",
      "execution_count": 22,
      "id": "42ec6c24-99e9-4a0f-bebd-25ea390edd0b",
      "metadata": {
        "colab": {
          "base_uri": "https://localhost:8080/"
        },
        "id": "42ec6c24-99e9-4a0f-bebd-25ea390edd0b",
        "outputId": "294c7f13-d28c-4c29-d795-bde338593709"
      },
      "outputs": [
        {
          "name": "stdout",
          "output_type": "stream",
          "text": [
            "0 183.80746459960938\n",
            "1 965.2787475585938\n",
            "2 4430.65283203125\n",
            "3 5732.14990234375\n",
            "4 311.5690612792969\n",
            "5 156.60861206054688\n",
            "6 83.53562927246094\n",
            "7 48.30351638793945\n",
            "8 31.13056182861328\n",
            "9 22.676958084106445\n",
            "10 18.451461791992188\n",
            "11 16.279903411865234\n",
            "12 15.106952667236328\n",
            "13 14.420438766479492\n",
            "14 13.971901893615723\n",
            "15 13.640990257263184\n",
            "16 13.369101524353027\n",
            "17 13.127801895141602\n",
            "18 12.903289794921875\n",
            "19 12.688838005065918\n",
            "20 12.481258392333984\n",
            "21 12.27877426147461\n",
            "22 12.080673217773438\n",
            "23 11.886430740356445\n",
            "24 11.695732116699219\n",
            "25 11.508512496948242\n",
            "26 11.324719429016113\n",
            "27 11.144214630126953\n",
            "28 10.967000961303711\n",
            "29 10.793073654174805\n",
            "30 10.622176170349121\n",
            "31 10.454422950744629\n",
            "32 10.289647102355957\n",
            "33 10.127946853637695\n",
            "34 9.969181060791016\n",
            "35 9.813183784484863\n",
            "36 9.660033226013184\n",
            "37 9.509734153747559\n",
            "38 9.362248420715332\n",
            "39 9.217622756958008\n",
            "40 9.075678825378418\n",
            "41 8.93652629852295\n",
            "42 8.800118446350098\n",
            "43 8.666539192199707\n",
            "44 8.535807609558105\n",
            "45 8.407918930053711\n",
            "46 8.282777786254883\n",
            "47 8.16040325164795\n",
            "48 8.040727615356445\n",
            "49 7.923586368560791\n",
            "50 7.809094429016113\n",
            "51 7.697304725646973\n",
            "52 7.588108062744141\n",
            "53 7.48150110244751\n",
            "54 7.377344131469727\n",
            "55 7.275812149047852\n",
            "56 7.176905632019043\n",
            "57 7.080568790435791\n",
            "58 6.986687183380127\n",
            "59 6.895243167877197\n",
            "60 6.806187629699707\n",
            "61 6.71955680847168\n",
            "62 6.635259628295898\n",
            "63 6.553184509277344\n",
            "64 6.473416328430176\n",
            "65 6.3958821296691895\n",
            "66 6.320509910583496\n",
            "67 6.24729061126709\n",
            "68 6.176170825958252\n",
            "69 6.1071553230285645\n",
            "70 6.040245056152344\n",
            "71 5.975336074829102\n",
            "72 5.912357330322266\n",
            "73 5.851309299468994\n",
            "74 5.792161464691162\n",
            "75 5.73484468460083\n",
            "76 5.679300785064697\n",
            "77 5.625423431396484\n",
            "78 5.573237419128418\n",
            "79 5.522732734680176\n",
            "80 5.473819732666016\n",
            "81 5.426428318023682\n",
            "82 5.380556106567383\n",
            "83 5.336179733276367\n",
            "84 5.293242454528809\n",
            "85 5.25167179107666\n",
            "86 5.2113871574401855\n",
            "87 5.17234992980957\n",
            "88 5.134575843811035\n",
            "89 5.0980224609375\n",
            "90 5.062611103057861\n",
            "91 5.028349876403809\n",
            "92 4.995179176330566\n",
            "93 4.963079929351807\n",
            "94 4.931997299194336\n",
            "95 4.901894569396973\n",
            "96 4.872737407684326\n",
            "97 4.844511985778809\n",
            "98 4.817168712615967\n",
            "99 4.790668487548828\n",
            "100 4.76494836807251\n",
            "101 4.739974498748779\n",
            "102 4.715756416320801\n",
            "103 4.692279815673828\n",
            "104 4.669522285461426\n",
            "105 4.647458076477051\n",
            "106 4.6260271072387695\n",
            "107 4.605184555053711\n",
            "108 4.584897994995117\n",
            "109 4.565200328826904\n",
            "110 4.546082019805908\n",
            "111 4.527490139007568\n",
            "112 4.509395122528076\n",
            "113 4.491772651672363\n",
            "114 4.4746012687683105\n",
            "115 4.457888126373291\n",
            "116 4.441569805145264\n",
            "117 4.425629138946533\n",
            "118 4.410097122192383\n",
            "119 4.39496374130249\n",
            "120 4.380204200744629\n",
            "121 4.365793228149414\n",
            "122 4.3517255783081055\n",
            "123 4.337986469268799\n",
            "124 4.3245697021484375\n",
            "125 4.311458587646484\n",
            "126 4.298650741577148\n",
            "127 4.286132335662842\n",
            "128 4.273868083953857\n",
            "129 4.2618608474731445\n",
            "130 4.250103950500488\n",
            "131 4.238595485687256\n",
            "132 4.22731351852417\n",
            "133 4.216256618499756\n",
            "134 4.205408573150635\n",
            "135 4.1947479248046875\n",
            "136 4.184268474578857\n",
            "137 4.173976898193359\n",
            "138 4.163891792297363\n",
            "139 4.154006481170654\n",
            "140 4.144290924072266\n",
            "141 4.134745121002197\n",
            "142 4.125366687774658\n",
            "143 4.11614465713501\n",
            "144 4.107083797454834\n",
            "145 4.0981597900390625\n",
            "146 4.089378833770752\n",
            "147 4.080737113952637\n",
            "148 4.07222318649292\n",
            "149 4.063831806182861\n",
            "150 4.055561542510986\n",
            "151 4.047390937805176\n",
            "152 4.039329528808594\n",
            "153 4.031383514404297\n",
            "154 4.0235276222229\n",
            "155 4.015774250030518\n",
            "156 4.008129596710205\n",
            "157 4.000581741333008\n",
            "158 3.993135929107666\n",
            "159 3.9857869148254395\n",
            "160 3.9785330295562744\n",
            "161 3.9713833332061768\n",
            "162 3.964320182800293\n",
            "163 3.9573466777801514\n",
            "164 3.950458288192749\n",
            "165 3.9436450004577637\n",
            "166 3.93690824508667\n",
            "167 3.9302444458007812\n",
            "168 3.9236505031585693\n",
            "169 3.9171290397644043\n",
            "170 3.910677671432495\n",
            "171 3.904287338256836\n",
            "172 3.897960662841797\n",
            "173 3.891706705093384\n",
            "174 3.8855152130126953\n",
            "175 3.8793773651123047\n",
            "176 3.8732943534851074\n",
            "177 3.8672714233398438\n",
            "178 3.861307144165039\n",
            "179 3.8553972244262695\n",
            "180 3.849539279937744\n",
            "181 3.8437299728393555\n",
            "182 3.8379757404327393\n",
            "183 3.832284927368164\n",
            "184 3.826648235321045\n",
            "185 3.8210651874542236\n",
            "186 3.815534830093384\n",
            "187 3.8100924491882324\n",
            "188 3.804694652557373\n",
            "189 3.799348831176758\n",
            "190 3.794052839279175\n",
            "191 3.788796901702881\n",
            "192 3.7835793495178223\n",
            "193 3.7784008979797363\n",
            "194 3.7732601165771484\n",
            "195 3.768162250518799\n",
            "196 3.763108730316162\n",
            "197 3.7580957412719727\n",
            "198 3.75312876701355\n",
            "199 3.7482118606567383\n",
            "200 3.7433323860168457\n",
            "201 3.7384867668151855\n",
            "202 3.733680248260498\n",
            "203 3.7289063930511475\n",
            "204 3.7241625785827637\n",
            "205 3.7194581031799316\n",
            "206 3.7147889137268066\n",
            "207 3.710157871246338\n",
            "208 3.7055563926696777\n",
            "209 3.700986862182617\n",
            "210 3.6964545249938965\n",
            "211 3.691953659057617\n",
            "212 3.687488555908203\n",
            "213 3.6830544471740723\n",
            "214 3.6786561012268066\n",
            "215 3.674290180206299\n",
            "216 3.6699554920196533\n",
            "217 3.665648937225342\n",
            "218 3.6613705158233643\n",
            "219 3.65712308883667\n",
            "220 3.652902126312256\n",
            "221 3.6487040519714355\n",
            "222 3.6445374488830566\n",
            "223 3.640399217605591\n",
            "224 3.636286735534668\n",
            "225 3.6321935653686523\n",
            "226 3.6281228065490723\n",
            "227 3.624072551727295\n",
            "228 3.6200408935546875\n",
            "229 3.616030216217041\n",
            "230 3.612041473388672\n",
            "231 3.608072280883789\n",
            "232 3.6041245460510254\n",
            "233 3.6001970767974854\n",
            "234 3.596292018890381\n",
            "235 3.592407703399658\n",
            "236 3.5885374546051025\n",
            "237 3.5846943855285645\n",
            "238 3.580869674682617\n",
            "239 3.5770702362060547\n",
            "240 3.5732970237731934\n",
            "241 3.569532632827759\n",
            "242 3.5657742023468018\n",
            "243 3.562047004699707\n",
            "244 3.5583441257476807\n",
            "245 3.5546555519104004\n",
            "246 3.55098295211792\n",
            "247 3.5473318099975586\n",
            "248 3.5437066555023193\n",
            "249 3.5401041507720947\n",
            "250 3.536520004272461\n",
            "251 3.5329530239105225\n",
            "252 3.5294008255004883\n",
            "253 3.525867462158203\n",
            "254 3.522353172302246\n",
            "255 3.5188543796539307\n",
            "256 3.515376091003418\n",
            "257 3.5119099617004395\n",
            "258 3.5084691047668457\n",
            "259 3.505045175552368\n",
            "260 3.501648426055908\n",
            "261 3.4982686042785645\n",
            "262 3.494905948638916\n",
            "263 3.491565227508545\n",
            "264 3.488236904144287\n",
            "265 3.484917402267456\n",
            "266 3.4816126823425293\n",
            "267 3.4783241748809814\n",
            "268 3.4750564098358154\n",
            "269 3.4718127250671387\n",
            "270 3.468585968017578\n",
            "271 3.465372085571289\n",
            "272 3.462178945541382\n",
            "273 3.4590017795562744\n",
            "274 3.455841541290283\n",
            "275 3.452697277069092\n",
            "276 3.449571371078491\n",
            "277 3.446463108062744\n",
            "278 3.443373203277588\n",
            "279 3.440291404724121\n",
            "280 3.4372262954711914\n",
            "281 3.4341800212860107\n",
            "282 3.431147336959839\n",
            "283 3.4281344413757324\n",
            "284 3.425135612487793\n",
            "285 3.4221577644348145\n",
            "286 3.4191946983337402\n",
            "287 3.416245698928833\n",
            "288 3.413308620452881\n",
            "289 3.4103827476501465\n",
            "290 3.40746808052063\n",
            "291 3.40456485748291\n",
            "292 3.401679754257202\n",
            "293 3.398805618286133\n",
            "294 3.3959341049194336\n",
            "295 3.3930742740631104\n",
            "296 3.3902499675750732\n",
            "297 3.387436866760254\n",
            "298 3.384636402130127\n",
            "299 3.381852149963379\n",
            "300 3.3790793418884277\n",
            "301 3.3763198852539062\n",
            "302 3.373572587966919\n",
            "303 3.370835304260254\n",
            "304 3.368107557296753\n",
            "305 3.3653924465179443\n",
            "306 3.362687587738037\n",
            "307 3.3599934577941895\n"
          ]
        },
        {
          "name": "stdout",
          "output_type": "stream",
          "text": [
            "308 3.3573083877563477\n",
            "309 3.35463809967041\n",
            "310 3.3519790172576904\n",
            "311 3.349330425262451\n",
            "312 3.3466885089874268\n",
            "313 3.3440535068511963\n",
            "314 3.3414270877838135\n",
            "315 3.3388166427612305\n",
            "316 3.3362293243408203\n",
            "317 3.333651542663574\n",
            "318 3.3310799598693848\n",
            "319 3.3285186290740967\n",
            "320 3.3259503841400146\n",
            "321 3.3233888149261475\n",
            "322 3.320836067199707\n",
            "323 3.318289279937744\n",
            "324 3.3157527446746826\n",
            "325 3.313227653503418\n",
            "326 3.310708999633789\n",
            "327 3.308189630508423\n",
            "328 3.3056976795196533\n",
            "329 3.303215980529785\n",
            "330 3.300748109817505\n",
            "331 3.2982873916625977\n",
            "332 3.2958340644836426\n",
            "333 3.2933926582336426\n",
            "334 3.2909622192382812\n",
            "335 3.2885427474975586\n",
            "336 3.286132574081421\n",
            "337 3.28373384475708\n",
            "338 3.281341552734375\n",
            "339 3.2789595127105713\n",
            "340 3.276582717895508\n",
            "341 3.2742114067077637\n",
            "342 3.2718420028686523\n",
            "343 3.2694807052612305\n",
            "344 3.267127513885498\n",
            "345 3.2647788524627686\n",
            "346 3.2624363899230957\n",
            "347 3.2601053714752197\n",
            "348 3.257783889770508\n",
            "349 3.2554666996002197\n",
            "350 3.2531583309173584\n",
            "351 3.250859260559082\n",
            "352 3.248567581176758\n",
            "353 3.2462825775146484\n",
            "354 3.2440061569213867\n",
            "355 3.2417349815368652\n",
            "356 3.239469051361084\n",
            "357 3.2372097969055176\n",
            "358 3.234956741333008\n",
            "359 3.232710599899292\n",
            "360 3.230470657348633\n",
            "361 3.228241205215454\n",
            "362 3.226019859313965\n",
            "363 3.2238008975982666\n",
            "364 3.221590995788574\n",
            "365 3.219385862350464\n",
            "366 3.2171859741210938\n",
            "367 3.2149922847747803\n",
            "368 3.2128055095672607\n",
            "369 3.210625648498535\n",
            "370 3.20845103263855\n",
            "371 3.2062854766845703\n",
            "372 3.2041306495666504\n",
            "373 3.201979160308838\n",
            "374 3.199831008911133\n",
            "375 3.1976842880249023\n",
            "376 3.195537567138672\n",
            "377 3.1933975219726562\n",
            "378 3.191265106201172\n",
            "379 3.1891374588012695\n",
            "380 3.1870131492614746\n",
            "381 3.1848931312561035\n",
            "382 3.1827778816223145\n",
            "383 3.1806678771972656\n",
            "384 3.1785693168640137\n",
            "385 3.1764776706695557\n",
            "386 3.1743922233581543\n",
            "387 3.1723146438598633\n",
            "388 3.170250415802002\n",
            "389 3.168196439743042\n",
            "390 3.166152238845825\n",
            "391 3.1641170978546143\n",
            "392 3.1620914936065674\n",
            "393 3.1600699424743652\n",
            "394 3.1580512523651123\n",
            "395 3.1560416221618652\n",
            "396 3.154043674468994\n",
            "397 3.1520535945892334\n",
            "398 3.1500625610351562\n",
            "399 3.148071765899658\n",
            "400 3.1460814476013184\n",
            "401 3.144094228744507\n",
            "402 3.142110824584961\n",
            "403 3.1401309967041016\n",
            "404 3.1381545066833496\n",
            "405 3.1361889839172363\n",
            "406 3.1342334747314453\n",
            "407 3.132284164428711\n",
            "408 3.1303415298461914\n",
            "409 3.1284103393554688\n",
            "410 3.1264848709106445\n",
            "411 3.1245651245117188\n",
            "412 3.122652530670166\n",
            "413 3.1207468509674072\n",
            "414 3.118849039077759\n",
            "415 3.1169583797454834\n",
            "416 3.1150734424591064\n",
            "417 3.113194227218628\n",
            "418 3.1113195419311523\n",
            "419 3.109447479248047\n",
            "420 3.10758113861084\n",
            "421 3.1057229042053223\n",
            "422 3.1038668155670166\n",
            "423 3.1020145416259766\n",
            "424 3.1001672744750977\n",
            "425 3.0983242988586426\n",
            "426 3.096482515335083\n",
            "427 3.0946474075317383\n",
            "428 3.092813014984131\n",
            "429 3.0909814834594727\n",
            "430 3.08915376663208\n",
            "431 3.087334632873535\n",
            "432 3.0855209827423096\n",
            "433 3.083711624145508\n",
            "434 3.0819056034088135\n",
            "435 3.080106258392334\n",
            "436 3.0783140659332275\n",
            "437 3.0765249729156494\n",
            "438 3.0747318267822266\n",
            "439 3.072944164276123\n",
            "440 3.071162223815918\n",
            "441 3.069380760192871\n",
            "442 3.067601203918457\n",
            "443 3.06581974029541\n",
            "444 3.064042568206787\n",
            "445 3.0622715950012207\n",
            "446 3.0605037212371826\n",
            "447 3.05873441696167\n",
            "448 3.0569658279418945\n",
            "449 3.055203914642334\n",
            "450 3.0534489154815674\n",
            "451 3.0517020225524902\n",
            "452 3.0499649047851562\n",
            "453 3.0482335090637207\n",
            "454 3.0465054512023926\n",
            "455 3.0447750091552734\n",
            "456 3.04304838180542\n",
            "457 3.0413241386413574\n",
            "458 3.0396008491516113\n",
            "459 3.0378828048706055\n",
            "460 3.0361664295196533\n",
            "461 3.034454822540283\n",
            "462 3.0327506065368652\n",
            "463 3.031050443649292\n",
            "464 3.0293564796447754\n",
            "465 3.0276665687561035\n",
            "466 3.025986671447754\n",
            "467 3.0243165493011475\n",
            "468 3.0226495265960693\n",
            "469 3.020983934402466\n",
            "470 3.019322156906128\n",
            "471 3.0176682472229004\n",
            "472 3.016019821166992\n",
            "473 3.0143728256225586\n",
            "474 3.012728452682495\n",
            "475 3.0110867023468018\n",
            "476 3.0094480514526367\n",
            "477 3.0078136920928955\n",
            "478 3.006183624267578\n",
            "479 3.0045571327209473\n",
            "480 3.002934694290161\n",
            "481 3.001314401626587\n",
            "482 2.9997007846832275\n",
            "483 2.998090982437134\n",
            "484 2.996485471725464\n",
            "485 2.994887113571167\n",
            "486 2.993295907974243\n",
            "487 2.991708993911743\n",
            "488 2.9901230335235596\n",
            "489 2.9885475635528564\n",
            "490 2.986976146697998\n",
            "491 2.9854094982147217\n",
            "492 2.9838480949401855\n",
            "493 2.982288122177124\n",
            "494 2.9807310104370117\n",
            "495 2.979177474975586\n",
            "496 2.977623224258423\n",
            "497 2.976073980331421\n",
            "498 2.9745254516601562\n",
            "499 2.972980499267578\n"
          ]
        }
      ],
      "source": [
        "losses1 = []\n",
        "losses1_test = []\n",
        "\n",
        "for t in range(500):                # 500 iterations\n",
        "\n",
        "    # Forward pass: compute prediction on training set\n",
        "    y_pred = model1(X_train)\n",
        "\n",
        "    # Compute loss\n",
        "    loss = criterion(y_pred, y_train)\n",
        "    print(t, loss.item())\n",
        "    losses1.append(loss.item())\n",
        "    if torch.isnan(loss):\n",
        "        break\n",
        "\n",
        "    # Compute gradient\n",
        "    optimizer.zero_grad()\n",
        "    loss.backward()\n",
        "\n",
        "    # Update\n",
        "    optimizer.step()\n",
        "\n",
        "    # Compute loss on test set\n",
        "    losses1_test.append(criterion(model1(X_test), y_test).item())"
      ]
    },
    {
      "cell_type": "markdown",
      "id": "09d02e07-bd34-45ac-867d-8982849127a0",
      "metadata": {
        "id": "09d02e07-bd34-45ac-867d-8982849127a0"
      },
      "source": [
        "Let's visualize the evolution of the MSE on the training set and test set:"
      ]
    },
    {
      "cell_type": "code",
      "execution_count": 23,
      "id": "72f20a67-f7f3-457b-be47-fa0884f43921",
      "metadata": {
        "colab": {
          "base_uri": "https://localhost:8080/",
          "height": 391
        },
        "id": "72f20a67-f7f3-457b-be47-fa0884f43921",
        "outputId": "d7b55cca-a4a0-4cc9-cbe3-047c668386f4"
      },
      "outputs": [
        {
          "data": {
            "image/png": "[encoded data removed]",
            "text/plain": [
              "<Figure size 600x400 with 1 Axes>"
            ]
          },
          "metadata": {},
          "output_type": "display_data"
        }
      ],
      "source": [
        "# Plot training and test loss\n",
        "plt.figure(figsize=(6, 4))\n",
        "plt.plot(losses1, label=\"Training loss\")\n",
        "plt.plot(losses1_test, label=\"Test loss\")\n",
        "plt.title('Evolution of training and test loss - 500 neurons')\n",
        "plt.ylim(top=70, bottom=0.0)\n",
        "plt.legend()\n",
        "plt.show()"
      ]
    },
    {
      "cell_type": "markdown",
      "id": "1a0d9df0-6281-4f7e-bc24-de4043050d9f",
      "metadata": {
        "id": "1a0d9df0-6281-4f7e-bc24-de4043050d9f"
      },
      "source": [
        "Now let's try a new model with more neurons in the hidden layer. We use 1000 neurons, and follow the same steps as before:"
      ]
    },
    {
      "cell_type": "code",
      "execution_count": 24,
      "id": "9e01fdf3-d136-4186-9031-5afa987dcff6",
      "metadata": {
        "id": "9e01fdf3-d136-4186-9031-5afa987dcff6"
      },
      "outputs": [],
      "source": [
        "model2 = Net(D_in, 1000, D_out)"
      ]
    },
    {
      "cell_type": "code",
      "execution_count": 25,
      "id": "4bff1abe-a077-4aae-ac9b-3f691384d92d",
      "metadata": {
        "id": "4bff1abe-a077-4aae-ac9b-3f691384d92d"
      },
      "outputs": [],
      "source": [
        "# MSE loss\n",
        "criterion = nn.MSELoss(reduction='sum')\n",
        "# SGD optimizer for finding the weights of the network\n",
        "optimizer = torch.optim.SGD(model2.parameters(), lr=1e-4)"
      ]
    },
    {
      "cell_type": "code",
      "execution_count": 26,
      "id": "6a66ea8a-0024-4a15-a610-b2a48bffb53f",
      "metadata": {
        "id": "6a66ea8a-0024-4a15-a610-b2a48bffb53f"
      },
      "outputs": [],
      "source": [
        "losses2 = []\n",
        "\n",
        "for t in range(500):\n",
        "    y_pred = model2(X_train)\n",
        "\n",
        "    loss = criterion(y_pred, y_train)\n",
        "    losses2.append(loss.item())\n",
        "\n",
        "    if torch.isnan(loss):\n",
        "        break\n",
        "\n",
        "    optimizer.zero_grad()\n",
        "    loss.backward()\n",
        "    optimizer.step()"
      ]
    },
    {
      "cell_type": "markdown",
      "id": "9a867ebe-fc63-48e5-bf2c-4c0f04c4f507",
      "metadata": {
        "id": "9a867ebe-fc63-48e5-bf2c-4c0f04c4f507"
      },
      "source": [
        "Let's visualize the evolution of the training loss for the two models:"
      ]
    },
    {
      "cell_type": "code",
      "execution_count": 27,
      "id": "e65c835d-cadf-4149-83f0-36356f48a67a",
      "metadata": {
        "colab": {
          "base_uri": "https://localhost:8080/",
          "height": 391
        },
        "id": "e65c835d-cadf-4149-83f0-36356f48a67a",
        "outputId": "53473407-cda2-4563-c49e-1bbacd88b7b5"
      },
      "outputs": [
        {
          "data": {
            "image/png": "[encoded data removed]",
            "text/plain": [
              "<Figure size 600x400 with 1 Axes>"
            ]
          },
          "metadata": {},
          "output_type": "display_data"
        }
      ],
      "source": [
        "# Plot training and test loss\n",
        "plt.figure(figsize=(6, 4))\n",
        "plt.plot(losses1, label=\"Model 1: 500 neurons\")\n",
        "plt.plot(losses2, label=\"Model 2: 1000 neurons\")\n",
        "plt.title('Evolution of training loss')\n",
        "plt.ylim(top=70, bottom=0.0)\n",
        "plt.legend()\n",
        "plt.show()"
      ]
    },
    {
      "cell_type": "markdown",
      "id": "2da286f3-4298-4bac-901a-a553314f7201",
      "metadata": {
        "id": "2da286f3-4298-4bac-901a-a553314f7201"
      },
      "source": [
        "Let's compare the MSE loss on the test data:"
      ]
    },
    {
      "cell_type": "code",
      "execution_count": 28,
      "id": "e7035489-609d-423f-a36c-0158923fb064",
      "metadata": {
        "colab": {
          "base_uri": "https://localhost:8080/"
        },
        "id": "e7035489-609d-423f-a36c-0158923fb064",
        "outputId": "170e511e-db8a-4696-c8f8-f752c9869d74"
      },
      "outputs": [
        {
          "name": "stdout",
          "output_type": "stream",
          "text": [
            "MSE loss for model 1:  tensor(0.2538, grad_fn=<MseLossBackward0>)\n",
            "MSE loss for model 2:  tensor(0.3448, grad_fn=<MseLossBackward0>)\n"
          ]
        }
      ],
      "source": [
        "# prediction for model 1\n",
        "model1_pred = model1(X_test)\n",
        "print(\"MSE loss for model 1: \", criterion(model1_pred, y_test))\n",
        "# prediction for model 2\n",
        "model2_pred = model2(X_test)\n",
        "print(\"MSE loss for model 2: \", criterion(model2_pred, y_test))"
      ]
    },
    {
      "cell_type": "markdown",
      "id": "4fd45a42-8bdc-45e6-be68-7e18b7253a63",
      "metadata": {
        "id": "4fd45a42-8bdc-45e6-be68-7e18b7253a63"
      },
      "source": [
        "What do you think?"
      ]
    },
    {
      "cell_type": "markdown",
      "id": "dorz99y4EToc",
      "metadata": {
        "id": "dorz99y4EToc"
      },
      "source": [
        "## Your turn !"
      ]
    },
    {
      "cell_type": "markdown",
      "id": "CuT4YoaXEV-A",
      "metadata": {
        "id": "CuT4YoaXEV-A"
      },
      "source": [
        "Based on this dataset ([link](https://raw.githubusercontent.com/michalis0/DataScience_and_MachineLearning/master/Week_5/data/spotify.csv)) imported from kaggle, create a Neural Network that will predict the streams of a song based on its bpm, key, danceability, valence, energy, acousticness, instrumentalness, liveness, and speechiness. (Hint: if there are some errors, try to copy/paste them in Google to see some solutions.)"
      ]
    },
    {
      "cell_type": "code",
      "execution_count": 29,
      "id": "CUKC2qaLETBV",
      "metadata": {
        "id": "CUKC2qaLETBV"
      },
      "outputs": [
        {
          "data": {
            "text/html": [
              "<div>\n",
              "<style scoped>\n",
              "    .dataframe tbody tr th:only-of-type {\n",
              "        vertical-align: middle;\n",
              "    }\n",
              "\n",
              "    .dataframe tbody tr th {\n",
              "        vertical-align: top;\n",
              "    }\n",
              "\n",
              "    .dataframe thead th {\n",
              "        text-align: right;\n",
              "    }\n",
              "</style>\n",
              "<table border=\"1\" class=\"dataframe\">\n",
              "  <thead>\n",
              "    <tr style=\"text-align: right;\">\n",
              "      <th></th>\n",
              "      <th>Unnamed: 0</th>\n",
              "      <th>track_name</th>\n",
              "      <th>artist(s)_name</th>\n",
              "      <th>artist_count</th>\n",
              "      <th>released_year</th>\n",
              "      <th>released_month</th>\n",
              "      <th>released_day</th>\n",
              "      <th>in_spotify_playlists</th>\n",
              "      <th>in_spotify_charts</th>\n",
              "      <th>streams</th>\n",
              "      <th>...</th>\n",
              "      <th>bpm</th>\n",
              "      <th>key</th>\n",
              "      <th>mode</th>\n",
              "      <th>danceability_%</th>\n",
              "      <th>valence_%</th>\n",
              "      <th>energy_%</th>\n",
              "      <th>acousticness_%</th>\n",
              "      <th>instrumentalness_%</th>\n",
              "      <th>liveness_%</th>\n",
              "      <th>speechiness_%</th>\n",
              "    </tr>\n",
              "  </thead>\n",
              "  <tbody>\n",
              "    <tr>\n",
              "      <th>0</th>\n",
              "      <td>0</td>\n",
              "      <td>LALA</td>\n",
              "      <td>Myke Towers</td>\n",
              "      <td>1.0</td>\n",
              "      <td>2023.0</td>\n",
              "      <td>3.0</td>\n",
              "      <td>23.0</td>\n",
              "      <td>1474.0</td>\n",
              "      <td>48.0</td>\n",
              "      <td>133716286.0</td>\n",
              "      <td>...</td>\n",
              "      <td>92.0</td>\n",
              "      <td>C#</td>\n",
              "      <td>Major</td>\n",
              "      <td>71.0</td>\n",
              "      <td>61.0</td>\n",
              "      <td>74.0</td>\n",
              "      <td>7.0</td>\n",
              "      <td>0.0</td>\n",
              "      <td>10.0</td>\n",
              "      <td>4.0</td>\n",
              "    </tr>\n",
              "    <tr>\n",
              "      <th>1</th>\n",
              "      <td>1</td>\n",
              "      <td>vampire</td>\n",
              "      <td>Olivia Rodrigo</td>\n",
              "      <td>1.0</td>\n",
              "      <td>2023.0</td>\n",
              "      <td>6.0</td>\n",
              "      <td>30.0</td>\n",
              "      <td>1397.0</td>\n",
              "      <td>113.0</td>\n",
              "      <td>140003974.0</td>\n",
              "      <td>...</td>\n",
              "      <td>138.0</td>\n",
              "      <td>F</td>\n",
              "      <td>Major</td>\n",
              "      <td>51.0</td>\n",
              "      <td>32.0</td>\n",
              "      <td>53.0</td>\n",
              "      <td>17.0</td>\n",
              "      <td>0.0</td>\n",
              "      <td>31.0</td>\n",
              "      <td>6.0</td>\n",
              "    </tr>\n",
              "    <tr>\n",
              "      <th>2</th>\n",
              "      <td>2</td>\n",
              "      <td>Cruel Summer</td>\n",
              "      <td>Taylor Swift</td>\n",
              "      <td>1.0</td>\n",
              "      <td>2019.0</td>\n",
              "      <td>8.0</td>\n",
              "      <td>23.0</td>\n",
              "      <td>7858.0</td>\n",
              "      <td>100.0</td>\n",
              "      <td>800840817.0</td>\n",
              "      <td>...</td>\n",
              "      <td>170.0</td>\n",
              "      <td>A</td>\n",
              "      <td>Major</td>\n",
              "      <td>55.0</td>\n",
              "      <td>58.0</td>\n",
              "      <td>72.0</td>\n",
              "      <td>11.0</td>\n",
              "      <td>0.0</td>\n",
              "      <td>11.0</td>\n",
              "      <td>15.0</td>\n",
              "    </tr>\n",
              "    <tr>\n",
              "      <th>3</th>\n",
              "      <td>3</td>\n",
              "      <td>WHERE SHE GOES</td>\n",
              "      <td>Bad Bunny</td>\n",
              "      <td>1.0</td>\n",
              "      <td>2023.0</td>\n",
              "      <td>5.0</td>\n",
              "      <td>18.0</td>\n",
              "      <td>3133.0</td>\n",
              "      <td>50.0</td>\n",
              "      <td>303236322.0</td>\n",
              "      <td>...</td>\n",
              "      <td>144.0</td>\n",
              "      <td>A</td>\n",
              "      <td>Minor</td>\n",
              "      <td>65.0</td>\n",
              "      <td>23.0</td>\n",
              "      <td>80.0</td>\n",
              "      <td>14.0</td>\n",
              "      <td>63.0</td>\n",
              "      <td>11.0</td>\n",
              "      <td>6.0</td>\n",
              "    </tr>\n",
              "    <tr>\n",
              "      <th>4</th>\n",
              "      <td>4</td>\n",
              "      <td>Columbia</td>\n",
              "      <td>Quevedo</td>\n",
              "      <td>1.0</td>\n",
              "      <td>2023.0</td>\n",
              "      <td>7.0</td>\n",
              "      <td>7.0</td>\n",
              "      <td>714.0</td>\n",
              "      <td>43.0</td>\n",
              "      <td>58149378.0</td>\n",
              "      <td>...</td>\n",
              "      <td>100.0</td>\n",
              "      <td>F</td>\n",
              "      <td>Major</td>\n",
              "      <td>67.0</td>\n",
              "      <td>26.0</td>\n",
              "      <td>71.0</td>\n",
              "      <td>37.0</td>\n",
              "      <td>0.0</td>\n",
              "      <td>11.0</td>\n",
              "      <td>4.0</td>\n",
              "    </tr>\n",
              "  </tbody>\n",
              "</table>\n",
              "<p>5 rows × 25 columns</p>\n",
              "</div>"
            ],
            "text/plain": [
              "   Unnamed: 0      track_name  artist(s)_name  artist_count  released_year  \\\n",
              "0           0            LALA     Myke Towers           1.0         2023.0   \n",
              "1           1         vampire  Olivia Rodrigo           1.0         2023.0   \n",
              "2           2    Cruel Summer    Taylor Swift           1.0         2019.0   \n",
              "3           3  WHERE SHE GOES       Bad Bunny           1.0         2023.0   \n",
              "4           4        Columbia         Quevedo           1.0         2023.0   \n",
              "\n",
              "   released_month  released_day  in_spotify_playlists  in_spotify_charts  \\\n",
              "0             3.0          23.0                1474.0               48.0   \n",
              "1             6.0          30.0                1397.0              113.0   \n",
              "2             8.0          23.0                7858.0              100.0   \n",
              "3             5.0          18.0                3133.0               50.0   \n",
              "4             7.0           7.0                 714.0               43.0   \n",
              "\n",
              "       streams  ...    bpm  key   mode  danceability_%  valence_%  energy_%  \\\n",
              "0  133716286.0  ...   92.0   C#  Major            71.0       61.0      74.0   \n",
              "1  140003974.0  ...  138.0    F  Major            51.0       32.0      53.0   \n",
              "2  800840817.0  ...  170.0    A  Major            55.0       58.0      72.0   \n",
              "3  303236322.0  ...  144.0    A  Minor            65.0       23.0      80.0   \n",
              "4   58149378.0  ...  100.0    F  Major            67.0       26.0      71.0   \n",
              "\n",
              "  acousticness_% instrumentalness_%  liveness_%  speechiness_%  \n",
              "0            7.0                0.0        10.0            4.0  \n",
              "1           17.0                0.0        31.0            6.0  \n",
              "2           11.0                0.0        11.0           15.0  \n",
              "3           14.0               63.0        11.0            6.0  \n",
              "4           37.0                0.0        11.0            4.0  \n",
              "\n",
              "[5 rows x 25 columns]"
            ]
          },
          "execution_count": 29,
          "metadata": {},
          "output_type": "execute_result"
        }
      ],
      "source": [
        "#import the dataset\n",
        "url = \"https://raw.githubusercontent.com/michalis0/DataScience_and_MachineLearning/master/Week_5/data/spotify.csv\"\n",
        "spotify = pd.read_csv(url)\n",
        "spotify.head()"
      ]
    },
    {
      "cell_type": "code",
      "execution_count": 30,
      "id": "11c1303a-7a43-4bcc-a930-b91d16acf1af",
      "metadata": {
        "id": "11c1303a-7a43-4bcc-a930-b91d16acf1af"
      },
      "outputs": [
        {
          "data": {
            "text/html": [
              "<div>\n",
              "<style scoped>\n",
              "    .dataframe tbody tr th:only-of-type {\n",
              "        vertical-align: middle;\n",
              "    }\n",
              "\n",
              "    .dataframe tbody tr th {\n",
              "        vertical-align: top;\n",
              "    }\n",
              "\n",
              "    .dataframe thead th {\n",
              "        text-align: right;\n",
              "    }\n",
              "</style>\n",
              "<table border=\"1\" class=\"dataframe\">\n",
              "  <thead>\n",
              "    <tr style=\"text-align: right;\">\n",
              "      <th></th>\n",
              "      <th>streams</th>\n",
              "      <th>bpm</th>\n",
              "      <th>key</th>\n",
              "      <th>danceability_%</th>\n",
              "      <th>valence_%</th>\n",
              "      <th>energy_%</th>\n",
              "      <th>acousticness_%</th>\n",
              "      <th>instrumentalness_%</th>\n",
              "      <th>liveness_%</th>\n",
              "      <th>speechiness_%</th>\n",
              "    </tr>\n",
              "  </thead>\n",
              "  <tbody>\n",
              "    <tr>\n",
              "      <th>0</th>\n",
              "      <td>133716286.0</td>\n",
              "      <td>92.0</td>\n",
              "      <td>C#</td>\n",
              "      <td>71.0</td>\n",
              "      <td>61.0</td>\n",
              "      <td>74.0</td>\n",
              "      <td>7.0</td>\n",
              "      <td>0.0</td>\n",
              "      <td>10.0</td>\n",
              "      <td>4.0</td>\n",
              "    </tr>\n",
              "    <tr>\n",
              "      <th>1</th>\n",
              "      <td>140003974.0</td>\n",
              "      <td>138.0</td>\n",
              "      <td>F</td>\n",
              "      <td>51.0</td>\n",
              "      <td>32.0</td>\n",
              "      <td>53.0</td>\n",
              "      <td>17.0</td>\n",
              "      <td>0.0</td>\n",
              "      <td>31.0</td>\n",
              "      <td>6.0</td>\n",
              "    </tr>\n",
              "    <tr>\n",
              "      <th>2</th>\n",
              "      <td>800840817.0</td>\n",
              "      <td>170.0</td>\n",
              "      <td>A</td>\n",
              "      <td>55.0</td>\n",
              "      <td>58.0</td>\n",
              "      <td>72.0</td>\n",
              "      <td>11.0</td>\n",
              "      <td>0.0</td>\n",
              "      <td>11.0</td>\n",
              "      <td>15.0</td>\n",
              "    </tr>\n",
              "    <tr>\n",
              "      <th>3</th>\n",
              "      <td>303236322.0</td>\n",
              "      <td>144.0</td>\n",
              "      <td>A</td>\n",
              "      <td>65.0</td>\n",
              "      <td>23.0</td>\n",
              "      <td>80.0</td>\n",
              "      <td>14.0</td>\n",
              "      <td>63.0</td>\n",
              "      <td>11.0</td>\n",
              "      <td>6.0</td>\n",
              "    </tr>\n",
              "    <tr>\n",
              "      <th>4</th>\n",
              "      <td>58149378.0</td>\n",
              "      <td>100.0</td>\n",
              "      <td>F</td>\n",
              "      <td>67.0</td>\n",
              "      <td>26.0</td>\n",
              "      <td>71.0</td>\n",
              "      <td>37.0</td>\n",
              "      <td>0.0</td>\n",
              "      <td>11.0</td>\n",
              "      <td>4.0</td>\n",
              "    </tr>\n",
              "  </tbody>\n",
              "</table>\n",
              "</div>"
            ],
            "text/plain": [
              "       streams    bpm key  danceability_%  valence_%  energy_%  \\\n",
              "0  133716286.0   92.0  C#            71.0       61.0      74.0   \n",
              "1  140003974.0  138.0   F            51.0       32.0      53.0   \n",
              "2  800840817.0  170.0   A            55.0       58.0      72.0   \n",
              "3  303236322.0  144.0   A            65.0       23.0      80.0   \n",
              "4   58149378.0  100.0   F            67.0       26.0      71.0   \n",
              "\n",
              "   acousticness_%  instrumentalness_%  liveness_%  speechiness_%  \n",
              "0             7.0                 0.0        10.0            4.0  \n",
              "1            17.0                 0.0        31.0            6.0  \n",
              "2            11.0                 0.0        11.0           15.0  \n",
              "3            14.0                63.0        11.0            6.0  \n",
              "4            37.0                 0.0        11.0            4.0  "
            ]
          },
          "execution_count": 30,
          "metadata": {},
          "output_type": "execute_result"
        }
      ],
      "source": [
        "#select only the columns that are interesting for you and display the type of the data\n",
        "spotify_selected_columns = spotify[['streams', 'bpm','key', 'danceability_%', 'valence_%', 'energy_%', 'acousticness_%', 'instrumentalness_%', 'liveness_%','speechiness_%']]\n",
        "spotify_selected_columns.head()"
      ]
    },
    {
      "cell_type": "code",
      "execution_count": 31,
      "id": "2qjJ53TKH24I",
      "metadata": {
        "id": "2qjJ53TKH24I"
      },
      "outputs": [
        {
          "data": {
            "text/html": [
              "<div>\n",
              "<style scoped>\n",
              "    .dataframe tbody tr th:only-of-type {\n",
              "        vertical-align: middle;\n",
              "    }\n",
              "\n",
              "    .dataframe tbody tr th {\n",
              "        vertical-align: top;\n",
              "    }\n",
              "\n",
              "    .dataframe thead th {\n",
              "        text-align: right;\n",
              "    }\n",
              "</style>\n",
              "<table border=\"1\" class=\"dataframe\">\n",
              "  <thead>\n",
              "    <tr style=\"text-align: right;\">\n",
              "      <th></th>\n",
              "      <th>streams</th>\n",
              "      <th>bpm</th>\n",
              "      <th>danceability_%</th>\n",
              "      <th>valence_%</th>\n",
              "      <th>energy_%</th>\n",
              "      <th>acousticness_%</th>\n",
              "      <th>instrumentalness_%</th>\n",
              "      <th>liveness_%</th>\n",
              "      <th>speechiness_%</th>\n",
              "    </tr>\n",
              "  </thead>\n",
              "  <tbody>\n",
              "    <tr>\n",
              "      <th>0</th>\n",
              "      <td>133716286.0</td>\n",
              "      <td>92.0</td>\n",
              "      <td>71.0</td>\n",
              "      <td>61.0</td>\n",
              "      <td>74.0</td>\n",
              "      <td>7.0</td>\n",
              "      <td>0.0</td>\n",
              "      <td>10.0</td>\n",
              "      <td>4.0</td>\n",
              "    </tr>\n",
              "    <tr>\n",
              "      <th>1</th>\n",
              "      <td>140003974.0</td>\n",
              "      <td>138.0</td>\n",
              "      <td>51.0</td>\n",
              "      <td>32.0</td>\n",
              "      <td>53.0</td>\n",
              "      <td>17.0</td>\n",
              "      <td>0.0</td>\n",
              "      <td>31.0</td>\n",
              "      <td>6.0</td>\n",
              "    </tr>\n",
              "    <tr>\n",
              "      <th>2</th>\n",
              "      <td>800840817.0</td>\n",
              "      <td>170.0</td>\n",
              "      <td>55.0</td>\n",
              "      <td>58.0</td>\n",
              "      <td>72.0</td>\n",
              "      <td>11.0</td>\n",
              "      <td>0.0</td>\n",
              "      <td>11.0</td>\n",
              "      <td>15.0</td>\n",
              "    </tr>\n",
              "    <tr>\n",
              "      <th>3</th>\n",
              "      <td>303236322.0</td>\n",
              "      <td>144.0</td>\n",
              "      <td>65.0</td>\n",
              "      <td>23.0</td>\n",
              "      <td>80.0</td>\n",
              "      <td>14.0</td>\n",
              "      <td>63.0</td>\n",
              "      <td>11.0</td>\n",
              "      <td>6.0</td>\n",
              "    </tr>\n",
              "    <tr>\n",
              "      <th>4</th>\n",
              "      <td>58149378.0</td>\n",
              "      <td>100.0</td>\n",
              "      <td>67.0</td>\n",
              "      <td>26.0</td>\n",
              "      <td>71.0</td>\n",
              "      <td>37.0</td>\n",
              "      <td>0.0</td>\n",
              "      <td>11.0</td>\n",
              "      <td>4.0</td>\n",
              "    </tr>\n",
              "  </tbody>\n",
              "</table>\n",
              "</div>"
            ],
            "text/plain": [
              "       streams    bpm  danceability_%  valence_%  energy_%  acousticness_%  \\\n",
              "0  133716286.0   92.0            71.0       61.0      74.0             7.0   \n",
              "1  140003974.0  138.0            51.0       32.0      53.0            17.0   \n",
              "2  800840817.0  170.0            55.0       58.0      72.0            11.0   \n",
              "3  303236322.0  144.0            65.0       23.0      80.0            14.0   \n",
              "4   58149378.0  100.0            67.0       26.0      71.0            37.0   \n",
              "\n",
              "   instrumentalness_%  liveness_%  speechiness_%  \n",
              "0                 0.0        10.0            4.0  \n",
              "1                 0.0        31.0            6.0  \n",
              "2                 0.0        11.0           15.0  \n",
              "3                63.0        11.0            6.0  \n",
              "4                 0.0        11.0            4.0  "
            ]
          },
          "execution_count": 31,
          "metadata": {},
          "output_type": "execute_result"
        }
      ],
      "source": [
        "# store only the numeric data into a new dataframe\n",
        "spotify_numerical = spotify_selected_columns.drop('key', axis=1)\n",
        "spotify_numerical.head()"
      ]
    },
    {
      "cell_type": "code",
      "execution_count": 32,
      "id": "iPg_l8aOID0E",
      "metadata": {
        "id": "iPg_l8aOID0E"
      },
      "outputs": [
        {
          "name": "stdout",
          "output_type": "stream",
          "text": [
            "The training set has 1314 observations, and the test set has 146 observations.\n"
          ]
        }
      ],
      "source": [
        "# split the training/test dataset\n",
        "numeric_data_train, numeric_data_test = train_test_split(spotify_selected_columns, test_size=0.1, random_state=7)\n",
        "\n",
        "print(f\"The training set has {X_train.shape[0]} observations, and the test set has {X_test.shape[0]} observations.\")"
      ]
    },
    {
      "cell_type": "code",
      "execution_count": 34,
      "id": "yohti5cUXn7I",
      "metadata": {
        "id": "yohti5cUXn7I"
      },
      "outputs": [
        {
          "name": "stdout",
          "output_type": "stream",
          "text": [
            "     key\n",
            "202    0\n",
            "221    8\n",
            "408    1\n",
            "2      0\n",
            "101    9\n",
            "..   ...\n",
            "211   10\n",
            "67    10\n",
            "25    10\n",
            "196    3\n",
            "175    0\n",
            "\n",
            "[396 rows x 1 columns]\n"
          ]
        }
      ],
      "source": [
        "# encode the 'key' feature using LabelEncoder\n",
        "key = numeric_data_train[['key']].values.ravel()\n",
        "key_test = numeric_data_test[['key']].values.ravel()\n",
        "le = LabelEncoder()\n",
        "le.fit(key)\n",
        "numeric_data_train = numeric_data_train.assign(key=le.transform(key))\n",
        "numeric_data_test = numeric_data_test.assign(key=le.transform(key_test))\n",
        "print(numeric_data_train[['key']])"
      ]
    },
    {
      "cell_type": "code",
      "execution_count": 35,
      "id": "_EiU-bHLOO_R",
      "metadata": {
        "id": "_EiU-bHLOO_R"
      },
      "outputs": [],
      "source": [
        "# scale your data using MinMaxScaler\n",
        "#Define the scaler\n",
        "scaler = MinMaxScaler()\n",
        "#Fit the scaler\n",
        "scaler.fit(numeric_data_train)\n",
        "#Transform the train and the test set\n",
        "numeric_data_train.loc[:,:] = scaler.transform(numeric_data_train)\n",
        "numeric_data_test.loc[:,:] = scaler.transform(numeric_data_test)"
      ]
    },
    {
      "cell_type": "code",
      "execution_count": 36,
      "id": "Gaosh24gOOqz",
      "metadata": {
        "id": "Gaosh24gOOqz"
      },
      "outputs": [],
      "source": [
        "# extract features and output\n",
        "numeric_x_columns = list(numeric_data_train.columns)\n",
        "numeric_x_columns.remove(\"streams\")\n",
        "X_train_df = numeric_data_train[numeric_x_columns]\n",
        "y_train_df = pd.DataFrame(numeric_data_train[\"streams\"])\n",
        "X_test_df = numeric_data_test[numeric_x_columns]\n",
        "y_test_df = pd.DataFrame(numeric_data_test[\"streams\"])"
      ]
    },
    {
      "cell_type": "code",
      "execution_count": 37,
      "id": "kVXb22yzOrFD",
      "metadata": {
        "id": "kVXb22yzOrFD"
      },
      "outputs": [],
      "source": [
        "# Transform the data into tensor\n",
        "X_train = torch.tensor(X_train_df.values, dtype=torch.float)\n",
        "y_train = torch.tensor(y_train_df.values, dtype=torch.float)\n",
        "X_test = torch.tensor(X_test_df.values, dtype=torch.float)\n",
        "y_test = torch.tensor(y_test_df.values, dtype=torch.float)"
      ]
    },
    {
      "cell_type": "markdown",
      "id": "oJBlJsBYO6Qa",
      "metadata": {
        "id": "oJBlJsBYO6Qa"
      },
      "source": [
        "Now create a Neural Net class with two hidden layer using the ReLU activation layer for both of them:"
      ]
    },
    {
      "cell_type": "code",
      "execution_count": 38,
      "id": "gw_4_CVsO1yL",
      "metadata": {
        "colab": {
          "base_uri": "https://localhost:8080/",
          "height": 141
        },
        "id": "gw_4_CVsO1yL",
        "outputId": "2ba044aa-d28f-4e62-8832-fc991c0e056c"
      },
      "outputs": [],
      "source": [
        "class Net_lab(nn.Module):\n",
        "#    def __init__(self, D_in, H1, D_out):\n",
        "#        super(Net, self).__init__()\n",
        "#\n",
        "#        self.linear1 = nn.Linear(D_in, H1)        # Linear transformation for hidden layer\n",
        "#        self.linear2 = nn.Linear(H1, D_out)       # Linear transformation for output layer\n",
        "#        self.activation = nn.ReLU()               # Activation function for hidden layer\n",
        "#\n",
        "#    def forward(self, x):\n",
        "#        y_pred = self.activation(self.linear1(x))   # Hidden layer: linear transformation + ReLU\n",
        "#        y_pred = self.linear2(y_pred)               # Output layer: linear transformation\n",
        "#        return y_pred\n",
        "    def __init__(self, input_size, hidden_size1, hidden_size2, output_size):\n",
        "        super(Net, self).__init()\n",
        "        self.fc1 = nn.Linear(input_size, hidden_size1)\n",
        "        self.relu1 = nn.ReLU()\n",
        "        self.fc2 = nn.Linear(hidden_size1, hidden_size2)\n",
        "        self.relu2 = nn.ReLU()\n",
        "        self.fc3 = nn.Linear(hidden_size2, output_size)\n",
        "\n",
        "    def forward(self, x):\n",
        "        out = self.fc1(x)\n",
        "        out = self.relu1(out)\n",
        "        out = self.fc2(out)\n",
        "        out = self.relu2(out)\n",
        "        out = self.fc3(out)\n",
        "        return out"
      ]
    },
    {
      "cell_type": "code",
      "execution_count": 39,
      "id": "YlpMENjKO2dl",
      "metadata": {
        "id": "YlpMENjKO2dl"
      },
      "outputs": [],
      "source": [
        "# give the right dimension to the input and output layers\n",
        "input_size, output_size = X_train.shape[1], y_train.shape[1]"
      ]
    },
    {
      "cell_type": "code",
      "execution_count": 40,
      "id": "MPvresr1O2bR",
      "metadata": {
        "id": "MPvresr1O2bR"
      },
      "outputs": [],
      "source": [
        "# Create a model with 100 neurons for both hidden layers\n",
        "model1 = Net(input_size, 500, output_size)"
      ]
    },
    {
      "cell_type": "code",
      "execution_count": 41,
      "id": "gjsYOgwDmU2C",
      "metadata": {
        "id": "gjsYOgwDmU2C"
      },
      "outputs": [
        {
          "name": "stdout",
          "output_type": "stream",
          "text": [
            "5501\n"
          ]
        }
      ],
      "source": [
        "# calculate how many parameters the model has\n",
        "pytorch_total_params = sum(p.numel() for p in model1.parameters() if p.requires_grad)\n",
        "print(pytorch_total_params)"
      ]
    },
    {
      "cell_type": "code",
      "execution_count": 42,
      "id": "y8FdT7BDQSBF",
      "metadata": {
        "id": "y8FdT7BDQSBF"
      },
      "outputs": [],
      "source": [
        "# use the MSELoss() as the loss criterion and Adam() as the optimizer (search online the optimizer)\n",
        "criterion = torch.nn.MSELoss(reduction='sum')\n",
        "optimizer = torch.optim.Adam(model1.parameters(), lr=0.001)\n",
        "sample_input = torch.randn(1, input_size)  \n",
        "target_output = torch.randn(1, output_size)  \n",
        "output = model1(sample_input)  \n",
        "loss = criterion(output, target_output)\n",
        "# Backpropagation and optimization step\n",
        "optimizer.zero_grad()\n",
        "loss.backward()\n",
        "optimizer.step()"
      ]
    },
    {
      "cell_type": "markdown",
      "id": "3QvTMKNoZSes",
      "metadata": {
        "id": "3QvTMKNoZSes"
      },
      "source": [
        "Now create a loop to train your model (with 500 iterations), don't forget to save your loss criterion in order to plot it later !"
      ]
    },
    {
      "cell_type": "code",
      "execution_count": 47,
      "id": "WHghL05IQR3d",
      "metadata": {
        "id": "WHghL05IQR3d"
      },
      "outputs": [
        {
          "name": "stdout",
          "output_type": "stream",
          "text": [
            "0 0.39287084341049194\n",
            "1 0.3902604877948761\n",
            "2 0.3881470561027527\n",
            "3 0.38643205165863037\n",
            "4 0.38507258892059326\n",
            "5 0.38447242975234985\n",
            "6 0.38424089550971985\n",
            "7 0.38434386253356934\n",
            "8 0.3846184015274048\n",
            "9 0.3852141499519348\n",
            "10 0.3862193822860718\n",
            "11 0.3872028887271881\n",
            "12 0.3870077431201935\n",
            "13 0.38674265146255493\n",
            "14 0.3858226537704468\n",
            "15 0.38374099135398865\n",
            "16 0.3815838694572449\n",
            "17 0.38001418113708496\n",
            "18 0.37879130244255066\n",
            "19 0.37748056650161743\n",
            "20 0.37656933069229126\n",
            "21 0.3756817579269409\n",
            "22 0.3747294545173645\n",
            "23 0.3741486072540283\n",
            "24 0.3733258843421936\n",
            "25 0.3731202781200409\n",
            "26 0.372376024723053\n",
            "27 0.37168005108833313\n",
            "28 0.371279239654541\n",
            "29 0.3705521821975708\n",
            "30 0.3705798089504242\n",
            "31 0.3705442249774933\n",
            "32 0.3702998161315918\n",
            "33 0.3711741864681244\n",
            "34 0.37273919582366943\n",
            "35 0.37538856267929077\n",
            "36 0.37904950976371765\n",
            "37 0.38244715332984924\n",
            "38 0.38367271423339844\n",
            "39 0.3830753564834595\n",
            "40 0.3788217008113861\n",
            "41 0.3726625442504883\n",
            "42 0.36738651990890503\n",
            "43 0.3636816143989563\n",
            "44 0.3626921474933624\n",
            "45 0.36426103115081787\n",
            "46 0.36789679527282715\n",
            "47 0.3713439702987671\n",
            "48 0.37388885021209717\n",
            "49 0.3743865489959717\n",
            "50 0.3720806837081909\n",
            "51 0.36713993549346924\n",
            "52 0.36178159713745117\n",
            "53 0.35814324021339417\n",
            "54 0.35690006613731384\n",
            "55 0.3574830889701843\n",
            "56 0.358733594417572\n",
            "57 0.36009538173675537\n",
            "58 0.3606375753879547\n",
            "59 0.3603771924972534\n",
            "60 0.35918188095092773\n",
            "61 0.3571220636367798\n",
            "62 0.35464757680892944\n",
            "63 0.3528088331222534\n",
            "64 0.35141241550445557\n",
            "65 0.3506096303462982\n",
            "66 0.3503550887107849\n",
            "67 0.35020244121551514\n",
            "68 0.3505808711051941\n",
            "69 0.35109254717826843\n",
            "70 0.35199588537216187\n",
            "71 0.35256102681159973\n",
            "72 0.3529852628707886\n",
            "73 0.3529650568962097\n",
            "74 0.3520607352256775\n",
            "75 0.3504141569137573\n",
            "76 0.34817710518836975\n",
            "77 0.34620392322540283\n",
            "78 0.3442855179309845\n",
            "79 0.342897891998291\n",
            "80 0.3422044515609741\n",
            "81 0.3415043354034424\n",
            "82 0.3412669897079468\n",
            "83 0.3415388762950897\n",
            "84 0.3419734239578247\n",
            "85 0.3424552083015442\n",
            "86 0.3431738018989563\n",
            "87 0.3442261219024658\n",
            "88 0.34512394666671753\n",
            "89 0.34565040469169617\n",
            "90 0.34570133686065674\n",
            "91 0.3445056676864624\n",
            "92 0.34240663051605225\n",
            "93 0.34039127826690674\n",
            "94 0.3380708694458008\n",
            "95 0.3361303210258484\n",
            "96 0.3343970775604248\n",
            "97 0.33332961797714233\n",
            "98 0.3327217698097229\n",
            "99 0.33203402161598206\n",
            "100 0.3316122889518738\n",
            "101 0.3312273621559143\n",
            "102 0.33106479048728943\n",
            "103 0.33109050989151\n",
            "104 0.3308880627155304\n",
            "105 0.33105722069740295\n",
            "106 0.3316795527935028\n",
            "107 0.33188921213150024\n",
            "108 0.3329066336154938\n",
            "109 0.33436015248298645\n",
            "110 0.33545786142349243\n",
            "111 0.33593931794166565\n",
            "112 0.3352111876010895\n",
            "113 0.3339008688926697\n",
            "114 0.33232051134109497\n",
            "115 0.33050164580345154\n",
            "116 0.3281775116920471\n",
            "117 0.3258073627948761\n",
            "118 0.3237820267677307\n",
            "119 0.32262054085731506\n",
            "120 0.32175931334495544\n",
            "121 0.3211226463317871\n",
            "122 0.3207162022590637\n",
            "123 0.3204357624053955\n",
            "124 0.3202110528945923\n",
            "125 0.32030901312828064\n",
            "126 0.3204370141029358\n",
            "127 0.3214403986930847\n",
            "128 0.32291537523269653\n",
            "129 0.3247588574886322\n",
            "130 0.327183336019516\n",
            "131 0.32867687940597534\n",
            "132 0.32930731773376465\n",
            "133 0.32843899726867676\n",
            "134 0.32617971301078796\n",
            "135 0.32295164465904236\n",
            "136 0.31838423013687134\n",
            "137 0.3153280019760132\n",
            "138 0.3134893774986267\n",
            "139 0.31237661838531494\n",
            "140 0.31197571754455566\n",
            "141 0.3119724690914154\n",
            "142 0.3122596740722656\n",
            "143 0.31327104568481445\n",
            "144 0.3146562874317169\n",
            "145 0.3160046935081482\n",
            "146 0.31785452365875244\n",
            "147 0.31925660371780396\n",
            "148 0.31983083486557007\n",
            "149 0.3188703656196594\n",
            "150 0.31628262996673584\n",
            "151 0.31294459104537964\n",
            "152 0.3098093271255493\n",
            "153 0.3074934482574463\n",
            "154 0.3058389127254486\n",
            "155 0.3049231469631195\n",
            "156 0.3044790029525757\n",
            "157 0.3045028746128082\n",
            "158 0.3047347366809845\n",
            "159 0.3050899803638458\n",
            "160 0.30579596757888794\n",
            "161 0.3067862391471863\n",
            "162 0.30807316303253174\n",
            "163 0.30911731719970703\n",
            "164 0.30950918793678284\n",
            "165 0.3089354634284973\n",
            "166 0.307746559381485\n",
            "167 0.30570536851882935\n",
            "168 0.3033200204372406\n",
            "169 0.30100274085998535\n",
            "170 0.29936033487319946\n",
            "171 0.2981787919998169\n",
            "172 0.2974165976047516\n",
            "173 0.2969690263271332\n",
            "174 0.2966286242008209\n",
            "175 0.29629725217819214\n",
            "176 0.2964744567871094\n",
            "177 0.29695284366607666\n",
            "178 0.29784688353538513\n",
            "179 0.29938530921936035\n",
            "180 0.30146297812461853\n",
            "181 0.30394798517227173\n",
            "182 0.30605778098106384\n",
            "183 0.3070339560508728\n",
            "184 0.3062570095062256\n",
            "185 0.30335697531700134\n",
            "186 0.2993704378604889\n",
            "187 0.294740229845047\n",
            "188 0.2914544343948364\n",
            "189 0.2900567948818207\n",
            "190 0.28996118903160095\n",
            "191 0.29069027304649353\n",
            "192 0.29226943850517273\n",
            "193 0.29423949122428894\n",
            "194 0.29579854011535645\n",
            "195 0.29678523540496826\n",
            "196 0.2964964210987091\n",
            "197 0.2945602536201477\n",
            "198 0.2917526662349701\n",
            "199 0.2888210117816925\n",
            "200 0.28623366355895996\n",
            "201 0.28503450751304626\n",
            "202 0.28458160161972046\n",
            "203 0.2847919166088104\n",
            "204 0.28598830103874207\n",
            "205 0.28784647583961487\n",
            "206 0.2897391617298126\n",
            "207 0.29206979274749756\n",
            "208 0.293765664100647\n",
            "209 0.2939075231552124\n",
            "210 0.2917163670063019\n",
            "211 0.28816401958465576\n",
            "212 0.2845692038536072\n",
            "213 0.2817475497722626\n",
            "214 0.27991151809692383\n",
            "215 0.27904650568962097\n",
            "216 0.2787817418575287\n",
            "217 0.27896592020988464\n",
            "218 0.2796477973461151\n",
            "219 0.2808972895145416\n",
            "220 0.28236114978790283\n",
            "221 0.28355708718299866\n",
            "222 0.2844861149787903\n",
            "223 0.28492671251296997\n",
            "224 0.28431761264801025\n",
            "225 0.2830673158168793\n",
            "226 0.28068187832832336\n",
            "227 0.2780764102935791\n",
            "228 0.2761482298374176\n",
            "229 0.2744077742099762\n",
            "230 0.27300330996513367\n",
            "231 0.2725104093551636\n",
            "232 0.2724224030971527\n",
            "233 0.2722511291503906\n",
            "234 0.27233225107192993\n",
            "235 0.2724379301071167\n",
            "236 0.2725459337234497\n",
            "237 0.27287447452545166\n",
            "238 0.2732994258403778\n",
            "239 0.273737370967865\n",
            "240 0.2739695608615875\n",
            "241 0.27415528893470764\n",
            "242 0.2739922106266022\n",
            "243 0.27290821075439453\n",
            "244 0.2716214060783386\n",
            "245 0.2702499032020569\n",
            "246 0.2691727876663208\n",
            "247 0.26791930198669434\n",
            "248 0.2666011452674866\n",
            "249 0.26555532217025757\n",
            "250 0.2649298906326294\n",
            "251 0.26420360803604126\n",
            "252 0.26357147097587585\n",
            "253 0.2631721496582031\n",
            "254 0.2626747488975525\n",
            "255 0.262195885181427\n",
            "256 0.26175442337989807\n",
            "257 0.26127034425735474\n",
            "258 0.2609598636627197\n",
            "259 0.26054760813713074\n",
            "260 0.26011061668395996\n",
            "261 0.2597154378890991\n",
            "262 0.259535551071167\n",
            "263 0.25936242938041687\n",
            "264 0.2592114508152008\n",
            "265 0.2596677839756012\n",
            "266 0.2606925666332245\n",
            "267 0.26265624165534973\n",
            "268 0.26652127504348755\n",
            "269 0.27182528376579285\n",
            "270 0.2785181999206543\n",
            "271 0.28552430868148804\n",
            "272 0.28989145159721375\n",
            "273 0.2883380353450775\n",
            "274 0.2801440358161926\n",
            "275 0.26879262924194336\n",
            "276 0.2586524188518524\n",
            "277 0.25387269258499146\n",
            "278 0.2551113963127136\n",
            "279 0.25998812913894653\n",
            "280 0.26612523198127747\n",
            "281 0.2700626254081726\n",
            "282 0.26924145221710205\n",
            "283 0.2653040587902069\n",
            "284 0.2595960199832916\n",
            "285 0.253837913274765\n",
            "286 0.25046059489250183\n",
            "287 0.2503235340118408\n",
            "288 0.2521649897098541\n",
            "289 0.25463956594467163\n",
            "290 0.25677382946014404\n",
            "291 0.25719544291496277\n",
            "292 0.2557210326194763\n",
            "293 0.2534381151199341\n",
            "294 0.2505905032157898\n",
            "295 0.24809704720973969\n",
            "296 0.24654492735862732\n",
            "297 0.24612726271152496\n",
            "298 0.24648699164390564\n",
            "299 0.24732887744903564\n",
            "300 0.24834254384040833\n",
            "301 0.24903589487075806\n",
            "302 0.2494162917137146\n",
            "303 0.24968603253364563\n",
            "304 0.24890530109405518\n",
            "305 0.2469661831855774\n",
            "306 0.2450646013021469\n",
            "307 0.24348558485507965\n",
            "308 0.2421945035457611\n",
            "309 0.24180030822753906\n",
            "310 0.24185292422771454\n",
            "311 0.24213907122612\n",
            "312 0.2426885962486267\n",
            "313 0.2434726357460022\n",
            "314 0.24417699873447418\n",
            "315 0.24481672048568726\n",
            "316 0.24549317359924316\n",
            "317 0.24537821114063263\n",
            "318 0.2444930076599121\n",
            "319 0.24328497052192688\n",
            "320 0.24203422665596008\n",
            "321 0.24042558670043945\n",
            "322 0.23899459838867188\n",
            "323 0.2377316951751709\n",
            "324 0.23694908618927002\n",
            "325 0.2361450493335724\n",
            "326 0.23575450479984283\n",
            "327 0.23564600944519043\n",
            "328 0.2356269210577011\n",
            "329 0.23578491806983948\n",
            "330 0.23634429275989532\n",
            "331 0.23719120025634766\n",
            "332 0.23800384998321533\n",
            "333 0.23890241980552673\n",
            "334 0.23994052410125732\n",
            "335 0.2414988875389099\n",
            "336 0.24240347743034363\n",
            "337 0.24191759526729584\n",
            "338 0.2404266893863678\n",
            "339 0.23819829523563385\n",
            "340 0.23556426167488098\n",
            "341 0.23330916464328766\n",
            "342 0.23163963854312897\n",
            "343 0.23044519126415253\n",
            "344 0.22984203696250916\n",
            "345 0.22958378493785858\n",
            "346 0.22922950983047485\n",
            "347 0.229342520236969\n",
            "348 0.23012904822826385\n",
            "349 0.23094011843204498\n",
            "350 0.23223456740379333\n",
            "351 0.23405355215072632\n",
            "352 0.236194908618927\n",
            "353 0.23832082748413086\n",
            "354 0.23898497223854065\n",
            "355 0.23850460350513458\n",
            "356 0.23739320039749146\n",
            "357 0.2351142168045044\n",
            "358 0.23220808804035187\n",
            "359 0.22928516566753387\n",
            "360 0.22671376168727875\n",
            "361 0.22510889172554016\n",
            "362 0.22412963211536407\n",
            "363 0.22357285022735596\n",
            "364 0.22325152158737183\n",
            "365 0.22343477606773376\n",
            "366 0.22400173544883728\n",
            "367 0.22474808990955353\n",
            "368 0.22644856572151184\n",
            "369 0.2291163057088852\n",
            "370 0.2320554405450821\n",
            "371 0.23441271483898163\n",
            "372 0.23595371842384338\n",
            "373 0.23539885878562927\n",
            "374 0.23306353390216827\n",
            "375 0.22915378212928772\n",
            "376 0.22534608840942383\n",
            "377 0.22185835242271423\n",
            "378 0.21947035193443298\n",
            "379 0.21844078600406647\n",
            "380 0.21834586560726166\n",
            "381 0.2187349945306778\n",
            "382 0.21976618468761444\n",
            "383 0.22188028693199158\n",
            "384 0.22462742030620575\n",
            "385 0.2273670881986618\n",
            "386 0.22944064438343048\n",
            "387 0.2301904261112213\n",
            "388 0.22842612862586975\n",
            "389 0.22548213601112366\n",
            "390 0.2218683511018753\n",
            "391 0.2184707522392273\n",
            "392 0.21595746278762817\n",
            "393 0.2145908772945404\n",
            "394 0.2139681726694107\n",
            "395 0.2136967033147812\n",
            "396 0.21383194625377655\n",
            "397 0.21429406106472015\n",
            "398 0.21497774124145508\n",
            "399 0.21614259481430054\n",
            "400 0.21749982237815857\n",
            "401 0.21893376111984253\n",
            "402 0.22023718059062958\n",
            "403 0.22112631797790527\n",
            "404 0.22087860107421875\n",
            "405 0.21990081667900085\n",
            "406 0.21839363873004913\n",
            "407 0.21588020026683807\n",
            "408 0.21354255080223083\n",
            "409 0.21151036024093628\n",
            "410 0.21004226803779602\n",
            "411 0.20935723185539246\n",
            "412 0.20896103978157043\n",
            "413 0.20873501896858215\n",
            "414 0.20913660526275635\n",
            "415 0.2095915675163269\n",
            "416 0.21034961938858032\n",
            "417 0.2110590636730194\n",
            "418 0.21175947785377502\n",
            "419 0.21217775344848633\n",
            "420 0.21256814897060394\n",
            "421 0.21352240443229675\n",
            "422 0.21416588127613068\n",
            "423 0.214047372341156\n",
            "424 0.21318672597408295\n",
            "425 0.21171802282333374\n",
            "426 0.20986513793468475\n",
            "427 0.20794445276260376\n",
            "428 0.20647507905960083\n",
            "429 0.20529213547706604\n",
            "430 0.20413613319396973\n",
            "431 0.20342284440994263\n",
            "432 0.2030503749847412\n",
            "433 0.2027023434638977\n",
            "434 0.2022082507610321\n",
            "435 0.20190399885177612\n",
            "436 0.20164230465888977\n",
            "437 0.20134776830673218\n",
            "438 0.2010812759399414\n",
            "439 0.2008213847875595\n",
            "440 0.20063742995262146\n",
            "441 0.20052409172058105\n",
            "442 0.20054244995117188\n",
            "443 0.20100398361682892\n",
            "444 0.20233353972434998\n",
            "445 0.20495246350765228\n",
            "446 0.2092287391424179\n",
            "447 0.21477019786834717\n",
            "448 0.22086696326732635\n",
            "449 0.2259812355041504\n",
            "450 0.2279888093471527\n",
            "451 0.22595557570457458\n",
            "452 0.2202177345752716\n",
            "453 0.2111915946006775\n",
            "454 0.20280900597572327\n",
            "455 0.19768378138542175\n",
            "456 0.19661906361579895\n",
            "457 0.19904407858848572\n",
            "458 0.2039671540260315\n",
            "459 0.20997130870819092\n",
            "460 0.2144542783498764\n",
            "461 0.2156825065612793\n",
            "462 0.21323317289352417\n",
            "463 0.2077142596244812\n",
            "464 0.20117738842964172\n",
            "465 0.1958485245704651\n",
            "466 0.19367870688438416\n",
            "467 0.1948154866695404\n",
            "468 0.19785380363464355\n",
            "469 0.20152714848518372\n",
            "470 0.20446553826332092\n",
            "471 0.20536106824874878\n",
            "472 0.20378805696964264\n",
            "473 0.2001996636390686\n",
            "474 0.19611425697803497\n",
            "475 0.19290700554847717\n",
            "476 0.1911029815673828\n",
            "477 0.19081319868564606\n",
            "478 0.19171962141990662\n",
            "479 0.1931769847869873\n",
            "480 0.19480575621128082\n",
            "481 0.19640928506851196\n",
            "482 0.19743655622005463\n",
            "483 0.19742849469184875\n",
            "484 0.19600357115268707\n",
            "485 0.1934603601694107\n",
            "486 0.1909514218568802\n",
            "487 0.18905411660671234\n",
            "488 0.18790972232818604\n",
            "489 0.18762296438217163\n",
            "490 0.18785211443901062\n",
            "491 0.18837496638298035\n",
            "492 0.18898731470108032\n",
            "493 0.18979127705097198\n",
            "494 0.19078576564788818\n",
            "495 0.1919686198234558\n",
            "496 0.19266961514949799\n",
            "497 0.19293005764484406\n",
            "498 0.19233231246471405\n",
            "499 0.19110722839832306\n"
          ]
        }
      ],
      "source": [
        "losses1 = []\n",
        "losses1_test = []\n",
        "\n",
        "for t in range(500):                # 500 iterations\n",
        "\n",
        "    # Forward pass: compute prediction on training set\n",
        "    y_pred = model1(X_train)\n",
        "\n",
        "    # Compute loss\n",
        "    loss = criterion(y_pred, y_train)\n",
        "    print(t, loss.item())\n",
        "    losses1.append(loss.item())\n",
        "    if torch.isnan(loss):\n",
        "        break\n",
        "\n",
        "    # Compute gradient\n",
        "    optimizer.zero_grad()\n",
        "    loss.backward()\n",
        "\n",
        "    # Update\n",
        "    optimizer.step()\n",
        "\n",
        "    # Compute loss on test set\n",
        "    losses1_test.append(criterion(model1(X_test), y_test).item())"
      ]
    },
    {
      "cell_type": "code",
      "execution_count": 50,
      "id": "-OYcTnB2Q8ke",
      "metadata": {
        "id": "-OYcTnB2Q8ke"
      },
      "outputs": [
        {
          "data": {
            "image/png": "[encoded data removed]",
            "text/plain": [
              "<Figure size 600x400 with 1 Axes>"
            ]
          },
          "metadata": {},
          "output_type": "display_data"
        }
      ],
      "source": [
        "# Plot training and test loss\n",
        "plt.figure(figsize=(6, 4))\n",
        "plt.plot(losses1, label=\"Training loss\")\n",
        "plt.plot(losses1_test, label=\"Test loss\")\n",
        "plt.title('Evolution of training and test loss - 500 neurons')\n",
        "plt.ylim(top= 40, bottom=0.0)\n",
        "plt.legend()\n",
        "plt.show()"
      ]
    }
  ],
  "metadata": {
    "colab": {
      "collapsed_sections": [
        "7763984b-c9d6-43b0-ba06-fd749431aa32"
      ],
      "provenance": []
    },
    "kernelspec": {
      "display_name": "Python 3 (ipykernel)",
      "language": "python",
      "name": "python3"
    },
    "language_info": {
      "codemirror_mode": {
        "name": "ipython",
        "version": 3
      },
      "file_extension": ".py",
      "mimetype": "text/x-python",
      "name": "python",
      "nbconvert_exporter": "python",
      "pygments_lexer": "ipython3",
      "version": "3.10.0"
    }
  },
  "nbformat": 4,
  "nbformat_minor": 5
}
